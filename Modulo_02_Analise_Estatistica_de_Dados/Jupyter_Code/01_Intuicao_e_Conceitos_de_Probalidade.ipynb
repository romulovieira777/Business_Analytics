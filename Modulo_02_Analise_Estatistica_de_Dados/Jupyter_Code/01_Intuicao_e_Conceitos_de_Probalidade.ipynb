{
 "cells": [
  {
   "cell_type": "code",
   "execution_count": 1,
   "id": "initial_id",
   "metadata": {
    "collapsed": true,
    "ExecuteTime": {
     "end_time": "2024-03-26T12:58:15.256699Z",
     "start_time": "2024-03-26T12:58:14.640346Z"
    }
   },
   "outputs": [
    {
     "name": "stdout",
     "output_type": "stream",
     "text": [
      "shape dos dados: (91, 17)\n"
     ]
    },
    {
     "data": {
      "text/plain": "  id_cliente sucesso  idade   ocupacao estado_civil  educacao_formal  \\\n0   DNXO0711     nao     45  industria       casado   medio_completo   \n1   DNXO0712     nao     46         ti       casado  ensino_superior   \n2   DNXO0713     nao     47  industria       casado  ensino_superior   \n3   DNXO0714     nao     48  industria       casado  ensino_superior   \n4   DNXO0715     nao     49  industria       casado  ensino_superior   \n5   DNXO0716     nao     50  industria       casado  ensino_superior   \n6   DNXO0717     nao     51  industria       casado  ensino_superior   \n7   DNXO0718     nao     52  industria       casado  ensino_superior   \n8   DNXO0719     nao     53  industria       casado  ensino_superior   \n9   DNXO0720     nao     54  industria       casado  ensino_superior   \n\n  produto_credito produto_fin_imob npl_90 tipo_contato mes_contato  \\\n0             nao              sim     nd        email         jun   \n1             nao              sim    nao     whatsapp         ago   \n2             nao              sim    nao     whatsapp         ago   \n3             nao              sim    nao     whatsapp         ago   \n4             nao              sim    nao     whatsapp         ago   \n5             nao              sim    nao     whatsapp         ago   \n6             nao              sim    nao     whatsapp         ago   \n7             nao              sim    nao     whatsapp         ago   \n8             nao              sim    nao     whatsapp         ago   \n9             nao              sim    nao     whatsapp         ago   \n\n  dia_semana_contato  num_contatos  dias_ult_contato  num_prev_conato  \\\n0                sex             3               999                0   \n1                qua             1               999                0   \n2                qua             1               999                0   \n3                qua             1               999                0   \n4                qua             1               999                0   \n5                qua             1               999                0   \n6                qua             1               999                0   \n7                qua             1               999                0   \n8                qua             1               999                0   \n9                qua             1               999                0   \n\n  sucesso_prev     saldo  \n0   nao_aplica  13000.42  \n1   nao_aplica  13000.43  \n2   nao_aplica  13000.44  \n3   nao_aplica  13000.45  \n4   nao_aplica  13000.46  \n5   nao_aplica  13000.47  \n6   nao_aplica  13000.48  \n7   nao_aplica  13000.49  \n8   nao_aplica  13000.50  \n9   nao_aplica  13000.51  ",
      "text/html": "<div>\n<style scoped>\n    .dataframe tbody tr th:only-of-type {\n        vertical-align: middle;\n    }\n\n    .dataframe tbody tr th {\n        vertical-align: top;\n    }\n\n    .dataframe thead th {\n        text-align: right;\n    }\n</style>\n<table border=\"1\" class=\"dataframe\">\n  <thead>\n    <tr style=\"text-align: right;\">\n      <th></th>\n      <th>id_cliente</th>\n      <th>sucesso</th>\n      <th>idade</th>\n      <th>ocupacao</th>\n      <th>estado_civil</th>\n      <th>educacao_formal</th>\n      <th>produto_credito</th>\n      <th>produto_fin_imob</th>\n      <th>npl_90</th>\n      <th>tipo_contato</th>\n      <th>mes_contato</th>\n      <th>dia_semana_contato</th>\n      <th>num_contatos</th>\n      <th>dias_ult_contato</th>\n      <th>num_prev_conato</th>\n      <th>sucesso_prev</th>\n      <th>saldo</th>\n    </tr>\n  </thead>\n  <tbody>\n    <tr>\n      <th>0</th>\n      <td>DNXO0711</td>\n      <td>nao</td>\n      <td>45</td>\n      <td>industria</td>\n      <td>casado</td>\n      <td>medio_completo</td>\n      <td>nao</td>\n      <td>sim</td>\n      <td>nd</td>\n      <td>email</td>\n      <td>jun</td>\n      <td>sex</td>\n      <td>3</td>\n      <td>999</td>\n      <td>0</td>\n      <td>nao_aplica</td>\n      <td>13000.42</td>\n    </tr>\n    <tr>\n      <th>1</th>\n      <td>DNXO0712</td>\n      <td>nao</td>\n      <td>46</td>\n      <td>ti</td>\n      <td>casado</td>\n      <td>ensino_superior</td>\n      <td>nao</td>\n      <td>sim</td>\n      <td>nao</td>\n      <td>whatsapp</td>\n      <td>ago</td>\n      <td>qua</td>\n      <td>1</td>\n      <td>999</td>\n      <td>0</td>\n      <td>nao_aplica</td>\n      <td>13000.43</td>\n    </tr>\n    <tr>\n      <th>2</th>\n      <td>DNXO0713</td>\n      <td>nao</td>\n      <td>47</td>\n      <td>industria</td>\n      <td>casado</td>\n      <td>ensino_superior</td>\n      <td>nao</td>\n      <td>sim</td>\n      <td>nao</td>\n      <td>whatsapp</td>\n      <td>ago</td>\n      <td>qua</td>\n      <td>1</td>\n      <td>999</td>\n      <td>0</td>\n      <td>nao_aplica</td>\n      <td>13000.44</td>\n    </tr>\n    <tr>\n      <th>3</th>\n      <td>DNXO0714</td>\n      <td>nao</td>\n      <td>48</td>\n      <td>industria</td>\n      <td>casado</td>\n      <td>ensino_superior</td>\n      <td>nao</td>\n      <td>sim</td>\n      <td>nao</td>\n      <td>whatsapp</td>\n      <td>ago</td>\n      <td>qua</td>\n      <td>1</td>\n      <td>999</td>\n      <td>0</td>\n      <td>nao_aplica</td>\n      <td>13000.45</td>\n    </tr>\n    <tr>\n      <th>4</th>\n      <td>DNXO0715</td>\n      <td>nao</td>\n      <td>49</td>\n      <td>industria</td>\n      <td>casado</td>\n      <td>ensino_superior</td>\n      <td>nao</td>\n      <td>sim</td>\n      <td>nao</td>\n      <td>whatsapp</td>\n      <td>ago</td>\n      <td>qua</td>\n      <td>1</td>\n      <td>999</td>\n      <td>0</td>\n      <td>nao_aplica</td>\n      <td>13000.46</td>\n    </tr>\n    <tr>\n      <th>5</th>\n      <td>DNXO0716</td>\n      <td>nao</td>\n      <td>50</td>\n      <td>industria</td>\n      <td>casado</td>\n      <td>ensino_superior</td>\n      <td>nao</td>\n      <td>sim</td>\n      <td>nao</td>\n      <td>whatsapp</td>\n      <td>ago</td>\n      <td>qua</td>\n      <td>1</td>\n      <td>999</td>\n      <td>0</td>\n      <td>nao_aplica</td>\n      <td>13000.47</td>\n    </tr>\n    <tr>\n      <th>6</th>\n      <td>DNXO0717</td>\n      <td>nao</td>\n      <td>51</td>\n      <td>industria</td>\n      <td>casado</td>\n      <td>ensino_superior</td>\n      <td>nao</td>\n      <td>sim</td>\n      <td>nao</td>\n      <td>whatsapp</td>\n      <td>ago</td>\n      <td>qua</td>\n      <td>1</td>\n      <td>999</td>\n      <td>0</td>\n      <td>nao_aplica</td>\n      <td>13000.48</td>\n    </tr>\n    <tr>\n      <th>7</th>\n      <td>DNXO0718</td>\n      <td>nao</td>\n      <td>52</td>\n      <td>industria</td>\n      <td>casado</td>\n      <td>ensino_superior</td>\n      <td>nao</td>\n      <td>sim</td>\n      <td>nao</td>\n      <td>whatsapp</td>\n      <td>ago</td>\n      <td>qua</td>\n      <td>1</td>\n      <td>999</td>\n      <td>0</td>\n      <td>nao_aplica</td>\n      <td>13000.49</td>\n    </tr>\n    <tr>\n      <th>8</th>\n      <td>DNXO0719</td>\n      <td>nao</td>\n      <td>53</td>\n      <td>industria</td>\n      <td>casado</td>\n      <td>ensino_superior</td>\n      <td>nao</td>\n      <td>sim</td>\n      <td>nao</td>\n      <td>whatsapp</td>\n      <td>ago</td>\n      <td>qua</td>\n      <td>1</td>\n      <td>999</td>\n      <td>0</td>\n      <td>nao_aplica</td>\n      <td>13000.50</td>\n    </tr>\n    <tr>\n      <th>9</th>\n      <td>DNXO0720</td>\n      <td>nao</td>\n      <td>54</td>\n      <td>industria</td>\n      <td>casado</td>\n      <td>ensino_superior</td>\n      <td>nao</td>\n      <td>sim</td>\n      <td>nao</td>\n      <td>whatsapp</td>\n      <td>ago</td>\n      <td>qua</td>\n      <td>1</td>\n      <td>999</td>\n      <td>0</td>\n      <td>nao_aplica</td>\n      <td>13000.51</td>\n    </tr>\n  </tbody>\n</table>\n</div>"
     },
     "execution_count": 1,
     "metadata": {},
     "output_type": "execute_result"
    }
   ],
   "source": [
    "import pandas as pd\n",
    "\n",
    "\n",
    "dados = pd.read_csv('../Database/marketing_data.csv')\n",
    "\n",
    "print(f\"shape dos dados: {dados.shape}\")\n",
    "\n",
    "dados.head(10)"
   ]
  },
  {
   "cell_type": "markdown",
   "source": [
    "## Frequência relativa (ou proporção) como estimativa de uma probalidade"
   ],
   "metadata": {
    "collapsed": false
   },
   "id": "5d532c641a96ce42"
  },
  {
   "cell_type": "code",
   "outputs": [
    {
     "name": "stdout",
     "output_type": "stream",
     "text": [
      "Proporção de sucessos: 0.00.\n"
     ]
    }
   ],
   "source": [
    "num_total = len(dados)  # Número total de linhas\n",
    "num_sucesso = len(dados[dados['sucesso'] == 'sim'])  # Número de linhas dado o filtro\n",
    "\n",
    "print(f'Proporção de sucessos: {num_sucesso / num_total:.2f}.')"
   ],
   "metadata": {
    "collapsed": false,
    "ExecuteTime": {
     "end_time": "2024-03-26T12:58:18.246013Z",
     "start_time": "2024-03-26T12:58:18.238325Z"
    }
   },
   "id": "830dcc1e60aba88c",
   "execution_count": 2
  },
  {
   "cell_type": "code",
   "outputs": [
    {
     "name": "stdout",
     "output_type": "stream",
     "text": [
      "Proporção de sucessos com (contato via whatsapp): 0.00.\n"
     ]
    }
   ],
   "source": [
    "num_total_zap = len(dados[(dados['tipo_contato'] == 'whatsapp')])  # Número total de linhas\n",
    "num_sucesso_zap = len(dados[(dados['sucesso'] == 'sim') & (dados['tipo_contato'] == 'whatsapp')])  # Número de linhas dado o filtro\n",
    "\n",
    "print(f'Proporção de sucessos com (contato via whatsapp): {num_sucesso_zap / num_total_zap:.2f}.')"
   ],
   "metadata": {
    "collapsed": false,
    "ExecuteTime": {
     "end_time": "2024-03-26T12:58:19.669774Z",
     "start_time": "2024-03-26T12:58:19.660589Z"
    }
   },
   "id": "df2f06a2a9e48f9",
   "execution_count": 3
  },
  {
   "cell_type": "code",
   "outputs": [
    {
     "name": "stdout",
     "output_type": "stream",
     "text": [
      "Proporção de sucessos com (contato via email): 0.00.\n"
     ]
    }
   ],
   "source": [
    "num_total_email = len(dados[(dados['tipo_contato'] == 'email')])  # Número total de linhas\n",
    "num_sucesso_email = len(dados[(dados['sucesso'] == 'sim') & (dados['tipo_contato'] == 'email')])  # Número de linhas dado o filtro\n",
    "\n",
    "print(f'Proporção de sucessos com (contato via email): {num_sucesso_email / num_total_email:.2f}.')"
   ],
   "metadata": {
    "collapsed": false,
    "ExecuteTime": {
     "end_time": "2024-03-26T12:58:20.859844Z",
     "start_time": "2024-03-26T12:58:20.853970Z"
    }
   },
   "id": "5bef9e6aa48bd038",
   "execution_count": 4
  },
  {
   "cell_type": "code",
   "outputs": [
    {
     "name": "stdout",
     "output_type": "stream",
     "text": [
      "Proporção de sucessos com (contato via email): 0.00.\n"
     ]
    }
   ],
   "source": [
    "num_total_email = len(dados[(dados['sucesso_prev'] == 'sucesso')])  # Número total de linhas\n",
    "num_sucesso_email = len(dados[(dados['sucesso'] == 'sim') & (dados['sucesso_prev'] == 'sucesso')])  # Número de linhas dado o filtro\n",
    "\n",
    "print(f'Proporção de sucessos com (contato via email): {num_sucesso_email / num_total_email:.2f}.')"
   ],
   "metadata": {
    "collapsed": false,
    "ExecuteTime": {
     "end_time": "2024-03-26T12:58:22.415997Z",
     "start_time": "2024-03-26T12:58:22.407887Z"
    }
   },
   "id": "a1c0a213352ad322",
   "execution_count": 5
  }
 ],
 "metadata": {
  "kernelspec": {
   "display_name": "Python 3",
   "language": "python",
   "name": "python3"
  },
  "language_info": {
   "codemirror_mode": {
    "name": "ipython",
    "version": 2
   },
   "file_extension": ".py",
   "mimetype": "text/x-python",
   "name": "python",
   "nbconvert_exporter": "python",
   "pygments_lexer": "ipython2",
   "version": "2.7.6"
  }
 },
 "nbformat": 4,
 "nbformat_minor": 5
}

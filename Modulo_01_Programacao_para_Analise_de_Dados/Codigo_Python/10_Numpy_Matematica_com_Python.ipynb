{
 "cells": [
  {
   "cell_type": "markdown",
   "source": [
    "# Numpy\n",
    "\n",
    "Numpy é um pacote amplamente conhecido em Python para ciência de dados. Este pacote facilita a manipulação e os cálculos com vetores e matrizes. Seu elemento estrutural mais importante é o np.array que funciona como um veetor onde se armezena os valores."
   ],
   "metadata": {
    "collapsed": false
   },
   "id": "7f24a098b002e09e"
  },
  {
   "cell_type": "markdown",
   "source": [
    "## Usando o pacote Numpy"
   ],
   "metadata": {
    "collapsed": false
   },
   "id": "d2a400fa29dafaa3"
  },
  {
   "cell_type": "code",
   "outputs": [],
   "source": [
    "import numpy as np"
   ],
   "metadata": {
    "collapsed": false,
    "ExecuteTime": {
     "end_time": "2024-03-15T14:16:51.313694Z",
     "start_time": "2024-03-15T14:16:50.774942Z"
    }
   },
   "id": "f866f235b9cc6b18",
   "execution_count": 1
  },
  {
   "cell_type": "markdown",
   "source": [
    "Para criar um np.array, basta chamar a função np.array() e passar uma lista como parâmetro."
   ],
   "metadata": {
    "collapsed": false
   },
   "id": "2ae7bf943d755426"
  },
  {
   "cell_type": "code",
   "outputs": [
    {
     "data": {
      "text/plain": "array([1, 2, 3])"
     },
     "execution_count": 2,
     "metadata": {},
     "output_type": "execute_result"
    }
   ],
   "source": [
    "lista1 = [1, 2, 3]\n",
    "\n",
    "np_array1 = np.array(lista1)\n",
    "np_array1"
   ],
   "metadata": {
    "collapsed": false,
    "ExecuteTime": {
     "end_time": "2024-03-15T14:16:51.324271Z",
     "start_time": "2024-03-15T14:16:51.315946Z"
    }
   },
   "id": "76e3233d95290eb1",
   "execution_count": 2
  },
  {
   "cell_type": "markdown",
   "source": [
    "Numpy também aceita uma lista de strings como parâmetro e cria o np.array. Entretanto, neste caso não é possível usar as funções matemáticas do pacote."
   ],
   "metadata": {
    "collapsed": false
   },
   "id": "5d878535cc4de2d0"
  },
  {
   "cell_type": "code",
   "outputs": [
    {
     "data": {
      "text/plain": "array(['a', 'b', 'c'], dtype='<U1')"
     },
     "execution_count": 3,
     "metadata": {},
     "output_type": "execute_result"
    }
   ],
   "source": [
    "lista2 = ['a', 'b', 'c']\n",
    "\n",
    "np_array2 = np.array(lista2)\n",
    "np_array2"
   ],
   "metadata": {
    "collapsed": false,
    "ExecuteTime": {
     "end_time": "2024-03-15T14:16:51.341819Z",
     "start_time": "2024-03-15T14:16:51.327630Z"
    }
   },
   "id": "6eb3652e6da552de",
   "execution_count": 3
  },
  {
   "cell_type": "markdown",
   "source": [
    "Numpy possui algumas funções matemáticas já implementadas que deixam seu uso mais simples"
   ],
   "metadata": {
    "collapsed": false
   },
   "id": "e515e789759265bb"
  },
  {
   "cell_type": "code",
   "outputs": [
    {
     "data": {
      "text/plain": "6"
     },
     "execution_count": 4,
     "metadata": {},
     "output_type": "execute_result"
    }
   ],
   "source": [
    "np_array1.sum()"
   ],
   "metadata": {
    "collapsed": false,
    "ExecuteTime": {
     "end_time": "2024-03-15T14:16:51.353033Z",
     "start_time": "2024-03-15T14:16:51.344467Z"
    }
   },
   "id": "6153c546b904816f",
   "execution_count": 4
  },
  {
   "cell_type": "markdown",
   "source": [
    "Como inidicado anteriormente, não é possível aplicar as funções aos np.arrays com strings."
   ],
   "metadata": {
    "collapsed": false
   },
   "id": "5c96bd1098afb55"
  },
  {
   "cell_type": "code",
   "outputs": [
    {
     "ename": "UFuncTypeError",
     "evalue": "ufunc 'add' did not contain a loop with signature matching types (dtype('<U1'), dtype('<U1')) -> None",
     "output_type": "error",
     "traceback": [
      "\u001B[1;31m---------------------------------------------------------------------------\u001B[0m",
      "\u001B[1;31mUFuncTypeError\u001B[0m                            Traceback (most recent call last)",
      "Cell \u001B[1;32mIn[5], line 1\u001B[0m\n\u001B[1;32m----> 1\u001B[0m \u001B[43mnp_array2\u001B[49m\u001B[38;5;241;43m.\u001B[39;49m\u001B[43msum\u001B[49m\u001B[43m(\u001B[49m\u001B[43m)\u001B[49m\n",
      "File \u001B[1;32m~\\AppData\\Local\\Programs\\Python\\Python312\\Lib\\site-packages\\numpy\\core\\_methods.py:49\u001B[0m, in \u001B[0;36m_sum\u001B[1;34m(a, axis, dtype, out, keepdims, initial, where)\u001B[0m\n\u001B[0;32m     47\u001B[0m \u001B[38;5;28;01mdef\u001B[39;00m \u001B[38;5;21m_sum\u001B[39m(a, axis\u001B[38;5;241m=\u001B[39m\u001B[38;5;28;01mNone\u001B[39;00m, dtype\u001B[38;5;241m=\u001B[39m\u001B[38;5;28;01mNone\u001B[39;00m, out\u001B[38;5;241m=\u001B[39m\u001B[38;5;28;01mNone\u001B[39;00m, keepdims\u001B[38;5;241m=\u001B[39m\u001B[38;5;28;01mFalse\u001B[39;00m,\n\u001B[0;32m     48\u001B[0m          initial\u001B[38;5;241m=\u001B[39m_NoValue, where\u001B[38;5;241m=\u001B[39m\u001B[38;5;28;01mTrue\u001B[39;00m):\n\u001B[1;32m---> 49\u001B[0m     \u001B[38;5;28;01mreturn\u001B[39;00m \u001B[43mumr_sum\u001B[49m\u001B[43m(\u001B[49m\u001B[43ma\u001B[49m\u001B[43m,\u001B[49m\u001B[43m \u001B[49m\u001B[43maxis\u001B[49m\u001B[43m,\u001B[49m\u001B[43m \u001B[49m\u001B[43mdtype\u001B[49m\u001B[43m,\u001B[49m\u001B[43m \u001B[49m\u001B[43mout\u001B[49m\u001B[43m,\u001B[49m\u001B[43m \u001B[49m\u001B[43mkeepdims\u001B[49m\u001B[43m,\u001B[49m\u001B[43m \u001B[49m\u001B[43minitial\u001B[49m\u001B[43m,\u001B[49m\u001B[43m \u001B[49m\u001B[43mwhere\u001B[49m\u001B[43m)\u001B[49m\n",
      "\u001B[1;31mUFuncTypeError\u001B[0m: ufunc 'add' did not contain a loop with signature matching types (dtype('<U1'), dtype('<U1')) -> None"
     ]
    }
   ],
   "source": [
    "np_array2.sum()"
   ],
   "metadata": {
    "collapsed": false,
    "ExecuteTime": {
     "end_time": "2024-03-15T14:16:51.713329Z",
     "start_time": "2024-03-15T14:16:51.355277Z"
    }
   },
   "id": "762d727fec0930a5",
   "execution_count": 5
  },
  {
   "cell_type": "code",
   "outputs": [
    {
     "data": {
      "text/plain": "2.0"
     },
     "execution_count": 6,
     "metadata": {},
     "output_type": "execute_result"
    }
   ],
   "source": [
    "np_array1.mean()"
   ],
   "metadata": {
    "collapsed": false,
    "ExecuteTime": {
     "end_time": "2024-03-15T14:16:56.961831Z",
     "start_time": "2024-03-15T14:16:56.956084Z"
    }
   },
   "id": "ca6f2d1a84dd5991",
   "execution_count": 6
  },
  {
   "cell_type": "code",
   "outputs": [
    {
     "data": {
      "text/plain": "3"
     },
     "execution_count": 7,
     "metadata": {},
     "output_type": "execute_result"
    }
   ],
   "source": [
    "np_array1.max()"
   ],
   "metadata": {
    "collapsed": false,
    "ExecuteTime": {
     "end_time": "2024-03-15T14:16:57.307157Z",
     "start_time": "2024-03-15T14:16:57.300314Z"
    }
   },
   "id": "e934997f35455079",
   "execution_count": 7
  },
  {
   "cell_type": "code",
   "outputs": [
    {
     "data": {
      "text/plain": "1"
     },
     "execution_count": 8,
     "metadata": {},
     "output_type": "execute_result"
    }
   ],
   "source": [
    "np_array1.min()"
   ],
   "metadata": {
    "collapsed": false,
    "ExecuteTime": {
     "end_time": "2024-03-15T14:16:57.647621Z",
     "start_time": "2024-03-15T14:16:57.641664Z"
    }
   },
   "id": "adc07a33eff1a33f",
   "execution_count": 8
  },
  {
   "cell_type": "code",
   "outputs": [
    {
     "data": {
      "text/plain": "0.816496580927726"
     },
     "execution_count": 9,
     "metadata": {},
     "output_type": "execute_result"
    }
   ],
   "source": [
    "np_array1.std()"
   ],
   "metadata": {
    "collapsed": false,
    "ExecuteTime": {
     "end_time": "2024-03-15T14:16:58.181012Z",
     "start_time": "2024-03-15T14:16:58.173766Z"
    }
   },
   "id": "2532add45da9dea2",
   "execution_count": 9
  },
  {
   "cell_type": "markdown",
   "source": [
    "Os np.arrays também podem aceitar os operadores aritméticos (+, -, *, /).\n",
    "\n",
    "É possível realizar as operações com escalares (números) ou vetores (np.arrays)."
   ],
   "metadata": {
    "collapsed": false
   },
   "id": "30592e7062cb1dcd"
  },
  {
   "cell_type": "code",
   "outputs": [
    {
     "name": "stdout",
     "output_type": "stream",
     "text": [
      "530 ns ± 220 ns per loop (mean ± std. dev. of 7 runs, 1,000,000 loops each)\n"
     ]
    }
   ],
   "source": [
    "%%timeit\n",
    "my_list = [1, 2, 3]\n",
    "\n",
    "for i in range(3):\n",
    "    my_list[i] += 1"
   ],
   "metadata": {
    "collapsed": false,
    "ExecuteTime": {
     "end_time": "2024-03-15T14:17:05.819719Z",
     "start_time": "2024-03-15T14:17:01.350090Z"
    }
   },
   "id": "8d82a79411146e84",
   "execution_count": 10
  },
  {
   "cell_type": "code",
   "outputs": [
    {
     "name": "stdout",
     "output_type": "stream",
     "text": [
      "1.77 µs ± 724 ns per loop (mean ± std. dev. of 7 runs, 1,000,000 loops each)\n"
     ]
    }
   ],
   "source": [
    "%%timeit\n",
    "my_arr = np.array([1, 2, 3])\n",
    "\n",
    "for i in range(3):\n",
    "    my_arr[i] += 1"
   ],
   "metadata": {
    "collapsed": false,
    "ExecuteTime": {
     "end_time": "2024-03-15T14:17:19.709498Z",
     "start_time": "2024-03-15T14:17:05.821521Z"
    }
   },
   "id": "b448d504e3bd6d6f",
   "execution_count": 11
  },
  {
   "cell_type": "code",
   "outputs": [
    {
     "data": {
      "text/plain": "array([2, 3, 4])"
     },
     "execution_count": 12,
     "metadata": {},
     "output_type": "execute_result"
    }
   ],
   "source": [
    "np_array1 + 1"
   ],
   "metadata": {
    "collapsed": false,
    "ExecuteTime": {
     "end_time": "2024-03-15T14:17:19.717325Z",
     "start_time": "2024-03-15T14:17:19.710631Z"
    }
   },
   "id": "89a8381e63236b0a",
   "execution_count": 12
  },
  {
   "cell_type": "code",
   "outputs": [
    {
     "data": {
      "text/plain": "array([-1,  0,  1])"
     },
     "execution_count": 13,
     "metadata": {},
     "output_type": "execute_result"
    }
   ],
   "source": [
    "np_array1 - 2"
   ],
   "metadata": {
    "collapsed": false,
    "ExecuteTime": {
     "end_time": "2024-03-15T14:17:19.730747Z",
     "start_time": "2024-03-15T14:17:19.718492Z"
    }
   },
   "id": "1161d57291f28923",
   "execution_count": 13
  },
  {
   "cell_type": "code",
   "outputs": [
    {
     "data": {
      "text/plain": "array([2, 4, 6])"
     },
     "execution_count": 14,
     "metadata": {},
     "output_type": "execute_result"
    }
   ],
   "source": [
    "np_array1 * 2"
   ],
   "metadata": {
    "collapsed": false,
    "ExecuteTime": {
     "end_time": "2024-03-15T14:17:19.740204Z",
     "start_time": "2024-03-15T14:17:19.731976Z"
    }
   },
   "id": "337ea55097675f18",
   "execution_count": 14
  },
  {
   "cell_type": "code",
   "outputs": [
    {
     "data": {
      "text/plain": "array([0.5, 1. , 1.5])"
     },
     "execution_count": 15,
     "metadata": {},
     "output_type": "execute_result"
    }
   ],
   "source": [
    "np_array1 / 2"
   ],
   "metadata": {
    "collapsed": false,
    "ExecuteTime": {
     "end_time": "2024-03-15T14:17:19.751015Z",
     "start_time": "2024-03-15T14:17:19.741972Z"
    }
   },
   "id": "634f93d202af737f",
   "execution_count": 15
  },
  {
   "cell_type": "markdown",
   "source": [
    "É importante ter em conta que para as operações funcionarem, os dois np.arrays devem ter o mesmo número de elementos e formato de dados. O Atributo ``shape`` pode ser utilizado para verificar o formato."
   ],
   "metadata": {
    "collapsed": false
   },
   "id": "56ac13315807bb79"
  },
  {
   "cell_type": "code",
   "outputs": [
    {
     "data": {
      "text/plain": "array([1, 1, 1])"
     },
     "execution_count": 16,
     "metadata": {},
     "output_type": "execute_result"
    }
   ],
   "source": [
    "# a função np.ones_like cria um novo np.array com o mesmo formato do np.array passado como parâmetro, com o valor 1 em todas as posições\n",
    "np_array2 = np.ones_like(np_array1)\n",
    "np_array2"
   ],
   "metadata": {
    "collapsed": false,
    "ExecuteTime": {
     "end_time": "2024-03-15T14:17:19.762253Z",
     "start_time": "2024-03-15T14:17:19.752506Z"
    }
   },
   "id": "849bf7640ebb19b3",
   "execution_count": 16
  },
  {
   "cell_type": "code",
   "outputs": [
    {
     "data": {
      "text/plain": "(3,)"
     },
     "execution_count": 17,
     "metadata": {},
     "output_type": "execute_result"
    }
   ],
   "source": [
    "np_array1.shape"
   ],
   "metadata": {
    "collapsed": false,
    "ExecuteTime": {
     "end_time": "2024-03-15T14:17:19.777656Z",
     "start_time": "2024-03-15T14:17:19.763336Z"
    }
   },
   "id": "54b697dbe18907f",
   "execution_count": 17
  },
  {
   "cell_type": "code",
   "outputs": [
    {
     "data": {
      "text/plain": "(3,)"
     },
     "execution_count": 18,
     "metadata": {},
     "output_type": "execute_result"
    }
   ],
   "source": [
    "np_array2.shape"
   ],
   "metadata": {
    "collapsed": false,
    "ExecuteTime": {
     "end_time": "2024-03-15T14:17:19.787760Z",
     "start_time": "2024-03-15T14:17:19.779868Z"
    }
   },
   "id": "a7e74410afd804c8",
   "execution_count": 18
  },
  {
   "cell_type": "code",
   "outputs": [
    {
     "data": {
      "text/plain": "True"
     },
     "execution_count": 19,
     "metadata": {},
     "output_type": "execute_result"
    }
   ],
   "source": [
    "np_array1.shape == np_array2.shape"
   ],
   "metadata": {
    "collapsed": false,
    "ExecuteTime": {
     "end_time": "2024-03-15T14:17:19.802753Z",
     "start_time": "2024-03-15T14:17:19.789863Z"
    }
   },
   "id": "9ef268b577ff6da0",
   "execution_count": 19
  },
  {
   "cell_type": "code",
   "outputs": [
    {
     "data": {
      "text/plain": "array([2, 3, 4])"
     },
     "execution_count": 20,
     "metadata": {},
     "output_type": "execute_result"
    }
   ],
   "source": [
    "np_array1 + np_array2"
   ],
   "metadata": {
    "collapsed": false,
    "ExecuteTime": {
     "end_time": "2024-03-15T14:17:19.812867Z",
     "start_time": "2024-03-15T14:17:19.803806Z"
    }
   },
   "id": "b8c44443d0c4ec4a",
   "execution_count": 20
  },
  {
   "cell_type": "code",
   "outputs": [
    {
     "data": {
      "text/plain": "array([4, 6, 8])"
     },
     "execution_count": 21,
     "metadata": {},
     "output_type": "execute_result"
    }
   ],
   "source": [
    "np_array1 + np.array([3, 4, 5])"
   ],
   "metadata": {
    "collapsed": false,
    "ExecuteTime": {
     "end_time": "2024-03-15T14:17:19.823080Z",
     "start_time": "2024-03-15T14:17:19.814063Z"
    }
   },
   "id": "3bbf1dfd1015314e",
   "execution_count": 21
  },
  {
   "cell_type": "code",
   "outputs": [
    {
     "data": {
      "text/plain": "array([-2, -2, -2])"
     },
     "execution_count": 22,
     "metadata": {},
     "output_type": "execute_result"
    }
   ],
   "source": [
    "np_array1 - np.array([3, 4, 5])"
   ],
   "metadata": {
    "collapsed": false,
    "ExecuteTime": {
     "end_time": "2024-03-15T14:17:19.832967Z",
     "start_time": "2024-03-15T14:17:19.825473Z"
    }
   },
   "id": "e8c49b65eb529aab",
   "execution_count": 22
  },
  {
   "cell_type": "code",
   "outputs": [
    {
     "data": {
      "text/plain": "array([ 3,  8, 15])"
     },
     "execution_count": 23,
     "metadata": {},
     "output_type": "execute_result"
    }
   ],
   "source": [
    "np_array1 * np.array([3, 4, 5])"
   ],
   "metadata": {
    "collapsed": false,
    "ExecuteTime": {
     "end_time": "2024-03-15T14:17:19.850042Z",
     "start_time": "2024-03-15T14:17:19.832967Z"
    }
   },
   "id": "acd31230142e238",
   "execution_count": 23
  },
  {
   "cell_type": "code",
   "outputs": [
    {
     "data": {
      "text/plain": "array([0.33333333, 0.5       , 0.6       ])"
     },
     "execution_count": 24,
     "metadata": {},
     "output_type": "execute_result"
    }
   ],
   "source": [
    "np_array1 / np.array([3, 4, 5])"
   ],
   "metadata": {
    "collapsed": false,
    "ExecuteTime": {
     "end_time": "2024-03-15T14:17:19.861030Z",
     "start_time": "2024-03-15T14:17:19.851308Z"
    }
   },
   "id": "da68c71993cf0dec",
   "execution_count": 24
  }
 ],
 "metadata": {
  "kernelspec": {
   "display_name": "Python 3",
   "language": "python",
   "name": "python3"
  },
  "language_info": {
   "codemirror_mode": {
    "name": "ipython",
    "version": 2
   },
   "file_extension": ".py",
   "mimetype": "text/x-python",
   "name": "python",
   "nbconvert_exporter": "python",
   "pygments_lexer": "ipython2",
   "version": "2.7.6"
  }
 },
 "nbformat": 4,
 "nbformat_minor": 5
}

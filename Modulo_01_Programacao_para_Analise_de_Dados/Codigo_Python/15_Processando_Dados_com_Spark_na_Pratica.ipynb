{
 "cells": [
  {
   "cell_type": "markdown",
   "metadata": {
    "application/vnd.databricks.v1+cell": {
     "cellMetadata": {
      "byteLimit": 2048000,
      "rowLimit": 10000
     },
     "inputWidgets": {},
     "nuid": "d873ce04-d0f6-4581-9ba3-91c144ca6fce",
     "showTitle": false,
     "title": "**Stack - Data Engineering**  Neste vídeo veremos sobre:   - Conhecendo "
    }
   },
   "source": [
    "**Stack - Data Engineering**\n",
    "\n",
    "Neste vídeo veremos sobre:\n",
    "  - Conhecendo um mnotebook no databricks\n",
    "  - PySpark Dataframe\n",
    "  - Lendo um dataset\n",
    "  - Checando os datatypes de algumas colunas de um dataframe pyspark\n",
    "  - Selecionando colunas e índices\n",
    "  - Visualizando estatísticas descritivas de dados de dataframes\n",
    "  - Adicionando colunas em Dataframes\n",
    "  - Removendo colunas em Dataframes\n",
    "  - Renomeando colunas em Dataframes\n",
    "  - Trabalhando com missing values"
   ]
  },
  {
   "cell_type": "code",
   "execution_count": 0,
   "metadata": {
    "application/vnd.databricks.v1+cell": {
     "cellMetadata": {
      "byteLimit": 2048000,
      "rowLimit": 10000
     },
     "inputWidgets": {},
     "nuid": "70bf8f46-de3e-4eab-941c-8cc3c2420900",
     "showTitle": false,
     "title": ""
    }
   },
   "outputs": [
    {
     "output_type": "stream",
     "name": "stdout",
     "text": [
      "Olá Mundo\n"
     ]
    }
   ],
   "source": [
    "print(\"Olá Mundo\")"
   ]
  },
  {
   "cell_type": "code",
   "execution_count": 0,
   "metadata": {
    "application/vnd.databricks.v1+cell": {
     "cellMetadata": {
      "byteLimit": 2048000,
      "rowLimit": 10000
     },
     "inputWidgets": {},
     "nuid": "60cb9fea-21f6-4750-94a0-4850098598b2",
     "showTitle": false,
     "title": ""
    }
   },
   "outputs": [
    {
     "output_type": "display_data",
     "data": {
      "text/html": [
       "<style scoped>\n",
       "  .table-result-container {\n",
       "    max-height: 300px;\n",
       "    overflow: auto;\n",
       "  }\n",
       "  table, th, td {\n",
       "    border: 1px solid black;\n",
       "    border-collapse: collapse;\n",
       "  }\n",
       "  th, td {\n",
       "    padding: 5px;\n",
       "  }\n",
       "  th {\n",
       "    text-align: left;\n",
       "  }\n",
       "</style><div class='table-result-container'><table class='table-result'><thead style='background-color: white'><tr><th>path</th><th>name</th><th>size</th><th>modificationTime</th></tr></thead><tbody><tr><td>dbfs:/databricks-datasets/COVID/</td><td>COVID/</td><td>0</td><td>0</td></tr><tr><td>dbfs:/databricks-datasets/README.md</td><td>README.md</td><td>976</td><td>1532468253000</td></tr><tr><td>dbfs:/databricks-datasets/Rdatasets/</td><td>Rdatasets/</td><td>0</td><td>0</td></tr><tr><td>dbfs:/databricks-datasets/SPARK_README.md</td><td>SPARK_README.md</td><td>3359</td><td>1455043490000</td></tr><tr><td>dbfs:/databricks-datasets/adult/</td><td>adult/</td><td>0</td><td>0</td></tr><tr><td>dbfs:/databricks-datasets/airlines/</td><td>airlines/</td><td>0</td><td>0</td></tr><tr><td>dbfs:/databricks-datasets/amazon/</td><td>amazon/</td><td>0</td><td>0</td></tr><tr><td>dbfs:/databricks-datasets/asa/</td><td>asa/</td><td>0</td><td>0</td></tr><tr><td>dbfs:/databricks-datasets/atlas_higgs/</td><td>atlas_higgs/</td><td>0</td><td>0</td></tr><tr><td>dbfs:/databricks-datasets/bikeSharing/</td><td>bikeSharing/</td><td>0</td><td>0</td></tr><tr><td>dbfs:/databricks-datasets/cctvVideos/</td><td>cctvVideos/</td><td>0</td><td>0</td></tr><tr><td>dbfs:/databricks-datasets/credit-card-fraud/</td><td>credit-card-fraud/</td><td>0</td><td>0</td></tr><tr><td>dbfs:/databricks-datasets/cs100/</td><td>cs100/</td><td>0</td><td>0</td></tr><tr><td>dbfs:/databricks-datasets/cs110x/</td><td>cs110x/</td><td>0</td><td>0</td></tr><tr><td>dbfs:/databricks-datasets/cs190/</td><td>cs190/</td><td>0</td><td>0</td></tr><tr><td>dbfs:/databricks-datasets/data.gov/</td><td>data.gov/</td><td>0</td><td>0</td></tr><tr><td>dbfs:/databricks-datasets/definitive-guide/</td><td>definitive-guide/</td><td>0</td><td>0</td></tr><tr><td>dbfs:/databricks-datasets/delta-sharing/</td><td>delta-sharing/</td><td>0</td><td>0</td></tr><tr><td>dbfs:/databricks-datasets/flights/</td><td>flights/</td><td>0</td><td>0</td></tr><tr><td>dbfs:/databricks-datasets/flower_photos/</td><td>flower_photos/</td><td>0</td><td>0</td></tr><tr><td>dbfs:/databricks-datasets/flowers/</td><td>flowers/</td><td>0</td><td>0</td></tr><tr><td>dbfs:/databricks-datasets/genomics/</td><td>genomics/</td><td>0</td><td>0</td></tr><tr><td>dbfs:/databricks-datasets/hail/</td><td>hail/</td><td>0</td><td>0</td></tr><tr><td>dbfs:/databricks-datasets/identifying-campaign-effectiveness/</td><td>identifying-campaign-effectiveness/</td><td>0</td><td>0</td></tr><tr><td>dbfs:/databricks-datasets/iot/</td><td>iot/</td><td>0</td><td>0</td></tr><tr><td>dbfs:/databricks-datasets/iot-stream/</td><td>iot-stream/</td><td>0</td><td>0</td></tr><tr><td>dbfs:/databricks-datasets/learning-spark/</td><td>learning-spark/</td><td>0</td><td>0</td></tr><tr><td>dbfs:/databricks-datasets/learning-spark-v2/</td><td>learning-spark-v2/</td><td>0</td><td>0</td></tr><tr><td>dbfs:/databricks-datasets/lending-club-loan-stats/</td><td>lending-club-loan-stats/</td><td>0</td><td>0</td></tr><tr><td>dbfs:/databricks-datasets/med-images/</td><td>med-images/</td><td>0</td><td>0</td></tr><tr><td>dbfs:/databricks-datasets/media/</td><td>media/</td><td>0</td><td>0</td></tr><tr><td>dbfs:/databricks-datasets/mnist-digits/</td><td>mnist-digits/</td><td>0</td><td>0</td></tr><tr><td>dbfs:/databricks-datasets/news20.binary/</td><td>news20.binary/</td><td>0</td><td>0</td></tr><tr><td>dbfs:/databricks-datasets/nyctaxi/</td><td>nyctaxi/</td><td>0</td><td>0</td></tr><tr><td>dbfs:/databricks-datasets/nyctaxi-with-zipcodes/</td><td>nyctaxi-with-zipcodes/</td><td>0</td><td>0</td></tr><tr><td>dbfs:/databricks-datasets/online_retail/</td><td>online_retail/</td><td>0</td><td>0</td></tr><tr><td>dbfs:/databricks-datasets/overlap-join/</td><td>overlap-join/</td><td>0</td><td>0</td></tr><tr><td>dbfs:/databricks-datasets/power-plant/</td><td>power-plant/</td><td>0</td><td>0</td></tr><tr><td>dbfs:/databricks-datasets/retail-org/</td><td>retail-org/</td><td>0</td><td>0</td></tr><tr><td>dbfs:/databricks-datasets/rwe/</td><td>rwe/</td><td>0</td><td>0</td></tr><tr><td>dbfs:/databricks-datasets/sai-summit-2019-sf/</td><td>sai-summit-2019-sf/</td><td>0</td><td>0</td></tr><tr><td>dbfs:/databricks-datasets/sample_logs/</td><td>sample_logs/</td><td>0</td><td>0</td></tr><tr><td>dbfs:/databricks-datasets/samples/</td><td>samples/</td><td>0</td><td>0</td></tr><tr><td>dbfs:/databricks-datasets/sfo_customer_survey/</td><td>sfo_customer_survey/</td><td>0</td><td>0</td></tr><tr><td>dbfs:/databricks-datasets/sms_spam_collection/</td><td>sms_spam_collection/</td><td>0</td><td>0</td></tr><tr><td>dbfs:/databricks-datasets/songs/</td><td>songs/</td><td>0</td><td>0</td></tr><tr><td>dbfs:/databricks-datasets/structured-streaming/</td><td>structured-streaming/</td><td>0</td><td>0</td></tr><tr><td>dbfs:/databricks-datasets/timeseries/</td><td>timeseries/</td><td>0</td><td>0</td></tr><tr><td>dbfs:/databricks-datasets/tpch/</td><td>tpch/</td><td>0</td><td>0</td></tr><tr><td>dbfs:/databricks-datasets/travel_recommendations_realtime/</td><td>travel_recommendations_realtime/</td><td>0</td><td>0</td></tr><tr><td>dbfs:/databricks-datasets/warmup/</td><td>warmup/</td><td>0</td><td>0</td></tr><tr><td>dbfs:/databricks-datasets/weather/</td><td>weather/</td><td>0</td><td>0</td></tr><tr><td>dbfs:/databricks-datasets/wiki/</td><td>wiki/</td><td>0</td><td>0</td></tr><tr><td>dbfs:/databricks-datasets/wikipedia-datasets/</td><td>wikipedia-datasets/</td><td>0</td><td>0</td></tr><tr><td>dbfs:/databricks-datasets/wine-quality/</td><td>wine-quality/</td><td>0</td><td>0</td></tr></tbody></table></div>"
      ]
     },
     "metadata": {
      "application/vnd.databricks.v1+output": {
       "addedWidgets": {},
       "aggData": [],
       "aggError": "",
       "aggOverflow": false,
       "aggSchema": [],
       "aggSeriesLimitReached": false,
       "aggType": "",
       "arguments": {},
       "columnCustomDisplayInfos": {},
       "data": [
        [
         "dbfs:/databricks-datasets/COVID/",
         "COVID/",
         0,
         0
        ],
        [
         "dbfs:/databricks-datasets/README.md",
         "README.md",
         976,
         1532468253000
        ],
        [
         "dbfs:/databricks-datasets/Rdatasets/",
         "Rdatasets/",
         0,
         0
        ],
        [
         "dbfs:/databricks-datasets/SPARK_README.md",
         "SPARK_README.md",
         3359,
         1455043490000
        ],
        [
         "dbfs:/databricks-datasets/adult/",
         "adult/",
         0,
         0
        ],
        [
         "dbfs:/databricks-datasets/airlines/",
         "airlines/",
         0,
         0
        ],
        [
         "dbfs:/databricks-datasets/amazon/",
         "amazon/",
         0,
         0
        ],
        [
         "dbfs:/databricks-datasets/asa/",
         "asa/",
         0,
         0
        ],
        [
         "dbfs:/databricks-datasets/atlas_higgs/",
         "atlas_higgs/",
         0,
         0
        ],
        [
         "dbfs:/databricks-datasets/bikeSharing/",
         "bikeSharing/",
         0,
         0
        ],
        [
         "dbfs:/databricks-datasets/cctvVideos/",
         "cctvVideos/",
         0,
         0
        ],
        [
         "dbfs:/databricks-datasets/credit-card-fraud/",
         "credit-card-fraud/",
         0,
         0
        ],
        [
         "dbfs:/databricks-datasets/cs100/",
         "cs100/",
         0,
         0
        ],
        [
         "dbfs:/databricks-datasets/cs110x/",
         "cs110x/",
         0,
         0
        ],
        [
         "dbfs:/databricks-datasets/cs190/",
         "cs190/",
         0,
         0
        ],
        [
         "dbfs:/databricks-datasets/data.gov/",
         "data.gov/",
         0,
         0
        ],
        [
         "dbfs:/databricks-datasets/definitive-guide/",
         "definitive-guide/",
         0,
         0
        ],
        [
         "dbfs:/databricks-datasets/delta-sharing/",
         "delta-sharing/",
         0,
         0
        ],
        [
         "dbfs:/databricks-datasets/flights/",
         "flights/",
         0,
         0
        ],
        [
         "dbfs:/databricks-datasets/flower_photos/",
         "flower_photos/",
         0,
         0
        ],
        [
         "dbfs:/databricks-datasets/flowers/",
         "flowers/",
         0,
         0
        ],
        [
         "dbfs:/databricks-datasets/genomics/",
         "genomics/",
         0,
         0
        ],
        [
         "dbfs:/databricks-datasets/hail/",
         "hail/",
         0,
         0
        ],
        [
         "dbfs:/databricks-datasets/identifying-campaign-effectiveness/",
         "identifying-campaign-effectiveness/",
         0,
         0
        ],
        [
         "dbfs:/databricks-datasets/iot/",
         "iot/",
         0,
         0
        ],
        [
         "dbfs:/databricks-datasets/iot-stream/",
         "iot-stream/",
         0,
         0
        ],
        [
         "dbfs:/databricks-datasets/learning-spark/",
         "learning-spark/",
         0,
         0
        ],
        [
         "dbfs:/databricks-datasets/learning-spark-v2/",
         "learning-spark-v2/",
         0,
         0
        ],
        [
         "dbfs:/databricks-datasets/lending-club-loan-stats/",
         "lending-club-loan-stats/",
         0,
         0
        ],
        [
         "dbfs:/databricks-datasets/med-images/",
         "med-images/",
         0,
         0
        ],
        [
         "dbfs:/databricks-datasets/media/",
         "media/",
         0,
         0
        ],
        [
         "dbfs:/databricks-datasets/mnist-digits/",
         "mnist-digits/",
         0,
         0
        ],
        [
         "dbfs:/databricks-datasets/news20.binary/",
         "news20.binary/",
         0,
         0
        ],
        [
         "dbfs:/databricks-datasets/nyctaxi/",
         "nyctaxi/",
         0,
         0
        ],
        [
         "dbfs:/databricks-datasets/nyctaxi-with-zipcodes/",
         "nyctaxi-with-zipcodes/",
         0,
         0
        ],
        [
         "dbfs:/databricks-datasets/online_retail/",
         "online_retail/",
         0,
         0
        ],
        [
         "dbfs:/databricks-datasets/overlap-join/",
         "overlap-join/",
         0,
         0
        ],
        [
         "dbfs:/databricks-datasets/power-plant/",
         "power-plant/",
         0,
         0
        ],
        [
         "dbfs:/databricks-datasets/retail-org/",
         "retail-org/",
         0,
         0
        ],
        [
         "dbfs:/databricks-datasets/rwe/",
         "rwe/",
         0,
         0
        ],
        [
         "dbfs:/databricks-datasets/sai-summit-2019-sf/",
         "sai-summit-2019-sf/",
         0,
         0
        ],
        [
         "dbfs:/databricks-datasets/sample_logs/",
         "sample_logs/",
         0,
         0
        ],
        [
         "dbfs:/databricks-datasets/samples/",
         "samples/",
         0,
         0
        ],
        [
         "dbfs:/databricks-datasets/sfo_customer_survey/",
         "sfo_customer_survey/",
         0,
         0
        ],
        [
         "dbfs:/databricks-datasets/sms_spam_collection/",
         "sms_spam_collection/",
         0,
         0
        ],
        [
         "dbfs:/databricks-datasets/songs/",
         "songs/",
         0,
         0
        ],
        [
         "dbfs:/databricks-datasets/structured-streaming/",
         "structured-streaming/",
         0,
         0
        ],
        [
         "dbfs:/databricks-datasets/timeseries/",
         "timeseries/",
         0,
         0
        ],
        [
         "dbfs:/databricks-datasets/tpch/",
         "tpch/",
         0,
         0
        ],
        [
         "dbfs:/databricks-datasets/travel_recommendations_realtime/",
         "travel_recommendations_realtime/",
         0,
         0
        ],
        [
         "dbfs:/databricks-datasets/warmup/",
         "warmup/",
         0,
         0
        ],
        [
         "dbfs:/databricks-datasets/weather/",
         "weather/",
         0,
         0
        ],
        [
         "dbfs:/databricks-datasets/wiki/",
         "wiki/",
         0,
         0
        ],
        [
         "dbfs:/databricks-datasets/wikipedia-datasets/",
         "wikipedia-datasets/",
         0,
         0
        ],
        [
         "dbfs:/databricks-datasets/wine-quality/",
         "wine-quality/",
         0,
         0
        ]
       ],
       "datasetInfos": [],
       "dbfsResultPath": null,
       "isJsonSchema": true,
       "metadata": {},
       "overflow": false,
       "plotOptions": {
        "customPlotOptions": {},
        "displayType": "table",
        "pivotAggregation": null,
        "pivotColumns": null,
        "xColumns": null,
        "yColumns": null
       },
       "removedWidgets": [],
       "schema": [
        {
         "metadata": "{}",
         "name": "path",
         "type": "\"string\""
        },
        {
         "metadata": "{}",
         "name": "name",
         "type": "\"string\""
        },
        {
         "metadata": "{}",
         "name": "size",
         "type": "\"long\""
        },
        {
         "metadata": "{}",
         "name": "modificationTime",
         "type": "\"long\""
        }
       ],
       "type": "table"
      }
     }
    }
   ],
   "source": [
    "# visualizando datasets de exemplos da databricks\n",
    "display(dbutils.fs.ls(\"/databricks-datasets\"))"
   ]
  },
  {
   "cell_type": "code",
   "execution_count": 0,
   "metadata": {
    "application/vnd.databricks.v1+cell": {
     "cellMetadata": {
      "byteLimit": 2048000,
      "rowLimit": 10000
     },
     "inputWidgets": {},
     "nuid": "31b93a44-c929-49a7-ab8c-d0d69debfe79",
     "showTitle": true,
     "title": "Análise de Dados Stack"
    }
   },
   "outputs": [],
   "source": [
    "# lendo o arquivo de dados\n",
    "arquivo = \"dbfs:/databricks-datasets/flights/\""
   ]
  },
  {
   "cell_type": "code",
   "execution_count": 0,
   "metadata": {
    "application/vnd.databricks.v1+cell": {
     "cellMetadata": {
      "byteLimit": 2048000,
      "rowLimit": 10000
     },
     "inputWidgets": {},
     "nuid": "b5fad078-1a55-433e-9da3-10c11dbe54ca",
     "showTitle": false,
     "title": ""
    }
   },
   "outputs": [],
   "source": [
    "# lendo o arquivo de dados\n",
    "# inferSchema = True\n",
    "# header = True\n",
    "\n",
    "df = spark \\\n",
    ".read.format(\"csv\")\\\n",
    ".option(\"inferSchema\", \"True\")\\\n",
    ".option(\"header\", \"True\")\\\n",
    ".csv(arquivo)"
   ]
  },
  {
   "cell_type": "code",
   "execution_count": 0,
   "metadata": {
    "application/vnd.databricks.v1+cell": {
     "cellMetadata": {
      "byteLimit": 2048000,
      "rowLimit": 10000
     },
     "inputWidgets": {},
     "nuid": "77c40487-2cb3-4075-a2b3-be1294ceff53",
     "showTitle": false,
     "title": ""
    }
   },
   "outputs": [
    {
     "output_type": "stream",
     "name": "stdout",
     "text": [
      "root\n |-- date: string (nullable = true)\n |-- delay: string (nullable = true)\n |-- distance: string (nullable = true)\n |-- origin: string (nullable = true)\n |-- destination: string (nullable = true)\n\n"
     ]
    }
   ],
   "source": [
    "# imprime os datatypes das colunas do dataframe\n",
    "df.printSchema()"
   ]
  },
  {
   "cell_type": "code",
   "execution_count": 0,
   "metadata": {
    "application/vnd.databricks.v1+cell": {
     "cellMetadata": {
      "byteLimit": 2048000,
      "rowLimit": 10000
     },
     "inputWidgets": {},
     "nuid": "2a1e1d21-c046-4105-b89b-f39b84739f34",
     "showTitle": false,
     "title": ""
    }
   },
   "outputs": [
    {
     "output_type": "execute_result",
     "data": {
      "text/plain": [
       "pyspark.sql.dataframe.DataFrame"
      ]
     },
     "execution_count": 6,
     "metadata": {}
    }
   ],
   "source": [
    "# imprime o tipo da variável df\n",
    "type(df)"
   ]
  },
  {
   "cell_type": "code",
   "execution_count": 0,
   "metadata": {
    "application/vnd.databricks.v1+cell": {
     "cellMetadata": {
      "byteLimit": 2048000,
      "rowLimit": 10000
     },
     "inputWidgets": {},
     "nuid": "c4f8d538-4b39-4247-b3c4-a1c4847c3d89",
     "showTitle": false,
     "title": ""
    }
   },
   "outputs": [
    {
     "output_type": "execute_result",
     "data": {
      "text/plain": [
       "[Row(date='01011245', delay='6', distance='602', origin='ABE', destination='ATL'),\n",
       " Row(date='01020600', delay='-8', distance='369', origin='ABE', destination='DTW'),\n",
       " Row(date='01021245', delay='-2', distance='602', origin='ABE', destination='ATL'),\n",
       " Row(date='01020605', delay='-4', distance='602', origin='ABE', destination='ATL'),\n",
       " Row(date='01031245', delay='-4', distance='602', origin='ABE', destination='ATL')]"
      ]
     },
     "execution_count": 7,
     "metadata": {}
    }
   ],
   "source": [
    "# retorna as primeiras 5 linhas do dataframe em formarto de array.\n",
    "df.take(5)"
   ]
  },
  {
   "cell_type": "code",
   "execution_count": 0,
   "metadata": {
    "application/vnd.databricks.v1+cell": {
     "cellMetadata": {
      "byteLimit": 2048000,
      "rowLimit": 10000
     },
     "inputWidgets": {},
     "nuid": "d5a6937f-1678-4815-b539-f76475c12f38",
     "showTitle": false,
     "title": ""
    }
   },
   "outputs": [
    {
     "output_type": "stream",
     "name": "stdout",
     "text": [
      "+--------+-----+--------+------+-----------+\n|    date|delay|distance|origin|destination|\n+--------+-----+--------+------+-----------+\n|01011245|    6|     602|   ABE|        ATL|\n|01020600|   -8|     369|   ABE|        DTW|\n|01021245|   -2|     602|   ABE|        ATL|\n+--------+-----+--------+------+-----------+\nonly showing top 3 rows\n\n"
     ]
    }
   ],
   "source": [
    "# usando o comando display\n",
    "display(df.show(3))"
   ]
  },
  {
   "cell_type": "code",
   "execution_count": 0,
   "metadata": {
    "application/vnd.databricks.v1+cell": {
     "cellMetadata": {
      "byteLimit": 2048000,
      "rowLimit": 10000
     },
     "inputWidgets": {},
     "nuid": "b7130b9a-73f1-4f27-abe0-a7b9bf6edc0f",
     "showTitle": false,
     "title": ""
    }
   },
   "outputs": [
    {
     "output_type": "execute_result",
     "data": {
      "text/plain": [
       "1392106"
      ]
     },
     "execution_count": 9,
     "metadata": {}
    }
   ],
   "source": [
    "# imprime a quantidade de linhas no dataframe\n",
    "df.count()"
   ]
  },
  {
   "cell_type": "code",
   "execution_count": 0,
   "metadata": {
    "application/vnd.databricks.v1+cell": {
     "cellMetadata": {
      "byteLimit": 2048000,
      "rowLimit": 10000
     },
     "inputWidgets": {},
     "nuid": "e9f63054-a686-49bd-931e-81712bf288b6",
     "showTitle": false,
     "title": ""
    }
   },
   "outputs": [],
   "source": [
    "# lendo o arquivo previamente com a opção inferSchema desligada\n",
    "df = spark \\\n",
    "  .read\\\n",
    "  .option(\"inferSchema\", \"False\")\\\n",
    "  .option(\"header\", \"True\")\\\n",
    "  .csv(arquivo)"
   ]
  },
  {
   "cell_type": "markdown",
   "metadata": {
    "application/vnd.databricks.v1+cell": {
     "cellMetadata": {
      "byteLimit": 2048000,
      "rowLimit": 10000
     },
     "inputWidgets": {},
     "nuid": "1909a247-d0f9-4bed-849b-0896601746cd",
     "showTitle": false,
     "title": ""
    }
   },
   "source": [
    "# Consultando dados do dataframe"
   ]
  },
  {
   "cell_type": "code",
   "execution_count": 0,
   "metadata": {
    "application/vnd.databricks.v1+cell": {
     "cellMetadata": {
      "byteLimit": 2048000,
      "rowLimit": 10000
     },
     "inputWidgets": {},
     "nuid": "c9e4ad48-4d47-480b-b59a-3c4de7787f5d",
     "showTitle": false,
     "title": ""
    }
   },
   "outputs": [
    {
     "output_type": "execute_result",
     "data": {
      "text/plain": [
       "[Row(max(delay)='995')]"
      ]
     },
     "execution_count": 11,
     "metadata": {}
    }
   ],
   "source": [
    "from pyspark.sql.functions import max\n",
    "\n",
    "df.select(max(\"delay\")).take(1)"
   ]
  },
  {
   "cell_type": "code",
   "execution_count": 0,
   "metadata": {
    "application/vnd.databricks.v1+cell": {
     "cellMetadata": {
      "byteLimit": 2048000,
      "rowLimit": 10000
     },
     "inputWidgets": {},
     "nuid": "cdb219b4-3f48-47b2-b59d-6492b10e8bad",
     "showTitle": false,
     "title": ""
    }
   },
   "outputs": [
    {
     "output_type": "stream",
     "name": "stdout",
     "text": [
      "+--------+-----+--------+------+-----------+\n|    date|delay|distance|origin|destination|\n+--------+-----+--------+------+-----------+\n|01020600|   -8|     369|   ABE|        DTW|\n|01021245|   -2|     602|   ABE|        ATL|\n+--------+-----+--------+------+-----------+\nonly showing top 2 rows\n\n"
     ]
    }
   ],
   "source": [
    "# filtrando linhas de um dataframe usando o filter\n",
    "df.filter(\"delay < 2\").show(2)"
   ]
  },
  {
   "cell_type": "code",
   "execution_count": 0,
   "metadata": {
    "application/vnd.databricks.v1+cell": {
     "cellMetadata": {
      "byteLimit": 2048000,
      "rowLimit": 10000
     },
     "inputWidgets": {},
     "nuid": "b0d97e95-84e9-4d09-bf52-44df186d20e8",
     "showTitle": false,
     "title": ""
    }
   },
   "outputs": [
    {
     "output_type": "stream",
     "name": "stdout",
     "text": [
      "+--------+-----+--------+------+-----------+\n|    date|delay|distance|origin|destination|\n+--------+-----+--------+------+-----------+\n|01020600|   -8|     369|   ABE|        DTW|\n|01021245|   -2|     602|   ABE|        ATL|\n+--------+-----+--------+------+-----------+\nonly showing top 2 rows\n\n"
     ]
    }
   ],
   "source": [
    "# usando where (um alias para o método filter)\n",
    "df.where(\"delay < 2\").show(2)"
   ]
  },
  {
   "cell_type": "code",
   "execution_count": 0,
   "metadata": {
    "application/vnd.databricks.v1+cell": {
     "cellMetadata": {
      "byteLimit": 2048000,
      "rowLimit": 10000
     },
     "inputWidgets": {},
     "nuid": "c78720f5-c460-4bc0-b12a-a434dc20013d",
     "showTitle": false,
     "title": ""
    }
   },
   "outputs": [
    {
     "output_type": "stream",
     "name": "stdout",
     "text": [
      "+--------------------+-----+--------+------+-----------+\n|                date|delay|distance|origin|destination|\n+--------------------+-----+--------+------+-----------+\n|Abbotsford\\tBC\\tC...| NULL|    NULL|  NULL|       NULL|\n|Aberdeen\\tSD\\tUSA...| NULL|    NULL|  NULL|       NULL|\n|Abilene\\tTX\\tUSA\\...| NULL|    NULL|  NULL|       NULL|\n| Akron\\tOH\\tUSA\\tCAK| NULL|    NULL|  NULL|       NULL|\n|Alamosa\\tCO\\tUSA\\...| NULL|    NULL|  NULL|       NULL|\n+--------------------+-----+--------+------+-----------+\nonly showing top 5 rows\n\n"
     ]
    }
   ],
   "source": [
    "# ordena o dataframe pela coluna delay\n",
    "df.sort(\"delay\").show(5)"
   ]
  },
  {
   "cell_type": "code",
   "execution_count": 0,
   "metadata": {
    "application/vnd.databricks.v1+cell": {
     "cellMetadata": {
      "byteLimit": 2048000,
      "rowLimit": 10000
     },
     "inputWidgets": {},
     "nuid": "99f17b38-ef7a-4723-9a01-3143b8055dff",
     "showTitle": false,
     "title": ""
    }
   },
   "outputs": [
    {
     "output_type": "stream",
     "name": "stdout",
     "text": [
      "+--------------------+-----+--------+------+-----------+\n|                date|delay|distance|origin|destination|\n+--------------------+-----+--------+------+-----------+\n|Abbotsford\\tBC\\tC...| NULL|    NULL|  NULL|       NULL|\n|Aberdeen\\tSD\\tUSA...| NULL|    NULL|  NULL|       NULL|\n|Abilene\\tTX\\tUSA\\...| NULL|    NULL|  NULL|       NULL|\n| Akron\\tOH\\tUSA\\tCAK| NULL|    NULL|  NULL|       NULL|\n|Alamosa\\tCO\\tUSA\\...| NULL|    NULL|  NULL|       NULL|\n|Albany\\tGA\\tUSA\\tABY| NULL|    NULL|  NULL|       NULL|\n|Albany\\tNY\\tUSA\\tALB| NULL|    NULL|  NULL|       NULL|\n|Albuquerque\\tNM\\t...| NULL|    NULL|  NULL|       NULL|\n|Alexandria\\tLA\\tU...| NULL|    NULL|  NULL|       NULL|\n|Allentown\\tPA\\tUS...| NULL|    NULL|  NULL|       NULL|\n+--------------------+-----+--------+------+-----------+\nonly showing top 10 rows\n\n"
     ]
    }
   ],
   "source": [
    "from pyspark.sql.functions import desc, asc, expr\n",
    "\n",
    "# ordenando por ordem crescente\n",
    "df.orderBy(expr(\"delay desc\")).show(10)"
   ]
  },
  {
   "cell_type": "code",
   "execution_count": 0,
   "metadata": {
    "application/vnd.databricks.v1+cell": {
     "cellMetadata": {
      "byteLimit": 2048000,
      "rowLimit": 10000
     },
     "inputWidgets": {},
     "nuid": "2a892bc6-194f-4635-ac75-1a3a56324896",
     "showTitle": false,
     "title": ""
    }
   },
   "outputs": [
    {
     "output_type": "stream",
     "name": "stdout",
     "text": [
      "+-------+--------------------+--------------------+--------------------+-------+-----------+\n|summary|                date|               delay|            distance| origin|destination|\n+-------+--------------------+--------------------+--------------------+-------+-----------+\n|  count|             1392106|             1391580|             1391579|1391578|    1391578|\n|   mean|   2180446.584000322|  12.079802928761449|   690.5508264718184|   NULL|       NULL|\n| stddev|   838031.1536741031|   38.80773374985648|    513.662815366331|   NULL|       NULL|\n|    min|\"Cap-aux-Meules, ...| airline and rout...| dataset can be f...|    ABE|        ABE|\n|    max|  Yuma\\tAZ\\tUSA\\tYUM|                 995|                 999|    YUM|        YUM|\n+-------+--------------------+--------------------+--------------------+-------+-----------+\n\n"
     ]
    }
   ],
   "source": [
    "# visualizando estatísticas descritivas\n",
    "df.describe().show()"
   ]
  },
  {
   "cell_type": "code",
   "execution_count": 0,
   "metadata": {
    "application/vnd.databricks.v1+cell": {
     "cellMetadata": {
      "byteLimit": 2048000,
      "rowLimit": 10000
     },
     "inputWidgets": {},
     "nuid": "52c50421-89d8-43ec-81ea-0013c98605d4",
     "showTitle": false,
     "title": ""
    }
   },
   "outputs": [
    {
     "output_type": "stream",
     "name": "stdout",
     "text": [
      "Row(date='01011245', delay='6', distance='602', origin='ABE', destination='ATL')\n01011245 66\nRow(date='01020600', delay='-8', distance='369', origin='ABE', destination='DTW')\n01020600 -8-8\nRow(date='01021245', delay='-2', distance='602', origin='ABE', destination='ATL')\n01021245 -2-2\nRow(date='01020605', delay='-4', distance='602', origin='ABE', destination='ATL')\n01020605 -4-4\nRow(date='01031245', delay='-4', distance='602', origin='ABE', destination='ATL')\n01031245 -4-4\nRow(date='01030605', delay='0', distance='602', origin='ABE', destination='ATL')\n01030605 00\nRow(date='01041243', delay='10', distance='602', origin='ABE', destination='ATL')\n01041243 1010\nRow(date='01040605', delay='28', distance='602', origin='ABE', destination='ATL')\n01040605 2828\nRow(date='01051245', delay='88', distance='602', origin='ABE', destination='ATL')\n01051245 8888\nRow(date='01050605', delay='9', distance='602', origin='ABE', destination='ATL')\n01050605 99\nRow(date='01061215', delay='-6', distance='602', origin='ABE', destination='ATL')\n01061215 -6-6\nRow(date='01061725', delay='69', distance='602', origin='ABE', destination='ATL')\n01061725 6969\nRow(date='01061230', delay='0', distance='369', origin='ABE', destination='DTW')\n01061230 00\nRow(date='01060625', delay='-3', distance='602', origin='ABE', destination='ATL')\n01060625 -3-3\nRow(date='01070600', delay='0', distance='369', origin='ABE', destination='DTW')\n01070600 00\nRow(date='01071725', delay='0', distance='602', origin='ABE', destination='ATL')\n01071725 00\nRow(date='01071230', delay='0', distance='369', origin='ABE', destination='DTW')\n01071230 00\nRow(date='01070625', delay='0', distance='602', origin='ABE', destination='ATL')\n01070625 00\nRow(date='01071219', delay='0', distance='569', origin='ABE', destination='ORD')\n01071219 00\nRow(date='01080600', delay='0', distance='369', origin='ABE', destination='DTW')\n01080600 00\nRow(date='01081230', delay='33', distance='369', origin='ABE', destination='DTW')\n01081230 3333\nRow(date='01080625', delay='1', distance='602', origin='ABE', destination='ATL')\n01080625 11\nRow(date='01080607', delay='5', distance='569', origin='ABE', destination='ORD')\n01080607 55\nRow(date='01081219', delay='54', distance='569', origin='ABE', destination='ORD')\n01081219 5454\nRow(date='01091215', delay='43', distance='602', origin='ABE', destination='ATL')\n01091215 4343\nRow(date='01090600', delay='151', distance='369', origin='ABE', destination='DTW')\n01090600 151151\nRow(date='01091725', delay='0', distance='602', origin='ABE', destination='ATL')\n01091725 00\nRow(date='01091230', delay='-4', distance='369', origin='ABE', destination='DTW')\n01091230 -4-4\nRow(date='01090625', delay='8', distance='602', origin='ABE', destination='ATL')\n01090625 88\nRow(date='01091219', delay='83', distance='569', origin='ABE', destination='ORD')\n01091219 8383\nRow(date='01101215', delay='-5', distance='602', origin='ABE', destination='ATL')\n01101215 -5-5\nRow(date='01100600', delay='-5', distance='369', origin='ABE', destination='DTW')\n01100600 -5-5\nRow(date='01101725', delay='7', distance='602', origin='ABE', destination='ATL')\n01101725 77\nRow(date='01101230', delay='-8', distance='369', origin='ABE', destination='DTW')\n01101230 -8-8\nRow(date='01100625', delay='52', distance='602', origin='ABE', destination='ATL')\n01100625 5252\nRow(date='01101219', delay='0', distance='569', origin='ABE', destination='ORD')\n01101219 00\nRow(date='01111215', delay='127', distance='602', origin='ABE', destination='ATL')\n01111215 127127\nRow(date='01110600', delay='-9', distance='369', origin='ABE', destination='DTW')\n01110600 -9-9\nRow(date='01110625', delay='-4', distance='602', origin='ABE', destination='ATL')\n01110625 -4-4\nRow(date='01121215', delay='-5', distance='602', origin='ABE', destination='ATL')\n01121215 -5-5\nRow(date='01121725', delay='-1', distance='602', origin='ABE', destination='ATL')\n01121725 -1-1\nRow(date='01131215', delay='14', distance='602', origin='ABE', destination='ATL')\n01131215 1414\nRow(date='01130600', delay='-7', distance='369', origin='ABE', destination='DTW')\n01130600 -7-7\nRow(date='01131725', delay='-6', distance='602', origin='ABE', destination='ATL')\n01131725 -6-6\nRow(date='01131230', delay='-13', distance='369', origin='ABE', destination='DTW')\n01131230 -13-13\nRow(date='01130625', delay='29', distance='602', origin='ABE', destination='ATL')\n01130625 2929\nRow(date='01131219', delay='-8', distance='569', origin='ABE', destination='ORD')\n01131219 -8-8\nRow(date='01140600', delay='-9', distance='369', origin='ABE', destination='DTW')\n01140600 -9-9\nRow(date='01141725', delay='-9', distance='602', origin='ABE', destination='ATL')\n01141725 -9-9\nRow(date='01141230', delay='-8', distance='369', origin='ABE', destination='DTW')\n01141230 -8-8\nRow(date='01140625', delay='-5', distance='602', origin='ABE', destination='ATL')\n01140625 -5-5\nRow(date='01141219', delay='-10', distance='569', origin='ABE', destination='ORD')\n01141219 -10-10\nRow(date='01150600', delay='0', distance='369', origin='ABE', destination='DTW')\n01150600 00\nRow(date='01151725', delay='-6', distance='602', origin='ABE', destination='ATL')\n01151725 -6-6\nRow(date='01151230', delay='0', distance='369', origin='ABE', destination='DTW')\n01151230 00\nRow(date='01150625', delay='0', distance='602', origin='ABE', destination='ATL')\n01150625 00\nRow(date='01150607', delay='0', distance='569', origin='ABE', destination='ORD')\n01150607 00\nRow(date='01151219', delay='0', distance='569', origin='ABE', destination='ORD')\n01151219 00\nRow(date='01161215', delay='-10', distance='602', origin='ABE', destination='ATL')\n01161215 -10-10\nRow(date='01160600', delay='-1', distance='369', origin='ABE', destination='DTW')\n01160600 -1-1\nRow(date='01161725', delay='-6', distance='602', origin='ABE', destination='ATL')\n01161725 -6-6\nRow(date='01161230', delay='-7', distance='369', origin='ABE', destination='DTW')\n01161230 -7-7\nRow(date='01160625', delay='-4', distance='602', origin='ABE', destination='ATL')\n01160625 -4-4\nRow(date='01161219', delay='68', distance='569', origin='ABE', destination='ORD')\n01161219 6868\nRow(date='01171215', delay='-8', distance='602', origin='ABE', destination='ATL')\n01171215 -8-8\nRow(date='01170600', delay='-5', distance='369', origin='ABE', destination='DTW')\n01170600 -5-5\nRow(date='01171725', delay='5', distance='602', origin='ABE', destination='ATL')\n01171725 55\nRow(date='01171230', delay='-10', distance='369', origin='ABE', destination='DTW')\n01171230 -10-10\nRow(date='01170625', delay='-6', distance='602', origin='ABE', destination='ATL')\n01170625 -6-6\nRow(date='01171219', delay='-10', distance='569', origin='ABE', destination='ORD')\n01171219 -10-10\nRow(date='01181215', delay='-12', distance='602', origin='ABE', destination='ATL')\n01181215 -12-12\nRow(date='01180600', delay='-13', distance='369', origin='ABE', destination='DTW')\n01180600 -13-13\nRow(date='01180625', delay='0', distance='602', origin='ABE', destination='ATL')\n01180625 00\nRow(date='01191215', delay='-16', distance='602', origin='ABE', destination='ATL')\n01191215 -16-16\nRow(date='01191725', delay='-5', distance='602', origin='ABE', destination='ATL')\n01191725 -5-5\nRow(date='01201215', delay='-8', distance='602', origin='ABE', destination='ATL')\n01201215 -8-8\nRow(date='01201725', delay='-5', distance='602', origin='ABE', destination='ATL')\n01201725 -5-5\nRow(date='01201230', delay='-11', distance='369', origin='ABE', destination='DTW')\n01201230 -11-11\nRow(date='01200625', delay='-7', distance='602', origin='ABE', destination='ATL')\n01200625 -7-7\nRow(date='01201219', delay='-6', distance='569', origin='ABE', destination='ORD')\n01201219 -6-6\nRow(date='01210600', delay='89', distance='369', origin='ABE', destination='DTW')\n01210600 8989\nRow(date='01211725', delay='0', distance='602', origin='ABE', destination='ATL')\n01211725 00\nRow(date='01211230', delay='44', distance='369', origin='ABE', destination='DTW')\n01211230 4444\nRow(date='01210625', delay='-6', distance='602', origin='ABE', destination='ATL')\n01210625 -6-6\nRow(date='01211219', delay='9', distance='569', origin='ABE', destination='ORD')\n01211219 99\nRow(date='01220600', delay='80', distance='369', origin='ABE', destination='DTW')\n01220600 8080\nRow(date='01221230', delay='-5', distance='369', origin='ABE', destination='DTW')\n01221230 -5-5\nRow(date='01220625', delay='333', distance='602', origin='ABE', destination='ATL')\n01220625 333333\nRow(date='01220607', delay='219', distance='569', origin='ABE', destination='ORD')\n01220607 219219\nRow(date='01221219', delay='15', distance='569', origin='ABE', destination='ORD')\n01221219 1515\nRow(date='01231215', delay='-12', distance='602', origin='ABE', destination='ATL')\n01231215 -12-12\nRow(date='01230600', delay='-3', distance='369', origin='ABE', destination='DTW')\n01230600 -3-3\nRow(date='01231725', delay='180', distance='602', origin='ABE', destination='ATL')\n01231725 180180\nRow(date='01231230', delay='-5', distance='369', origin='ABE', destination='DTW')\n01231230 -5-5\nRow(date='01230625', delay='-8', distance='602', origin='ABE', destination='ATL')\n01230625 -8-8\nRow(date='01231219', delay='-13', distance='569', origin='ABE', destination='ORD')\n01231219 -13-13\nRow(date='01241215', delay='-11', distance='602', origin='ABE', destination='ATL')\n01241215 -11-11\nRow(date='01240600', delay='-3', distance='369', origin='ABE', destination='DTW')\n01240600 -3-3\nRow(date='01241725', delay='2', distance='602', origin='ABE', destination='ATL')\n01241725 22\nRow(date='01241230', delay='-5', distance='369', origin='ABE', destination='DTW')\n01241230 -5-5\nRow(date='01240625', delay='-3', distance='602', origin='ABE', destination='ATL')\n01240625 -3-3\nRow(date='01241219', delay='0', distance='569', origin='ABE', destination='ORD')\n01241219 00\nRow(date='01251215', delay='2', distance='602', origin='ABE', destination='ATL')\n01251215 22\nRow(date='01250600', delay='-4', distance='369', origin='ABE', destination='DTW')\n01250600 -4-4\nRow(date='01250625', delay='-4', distance='602', origin='ABE', destination='ATL')\n01250625 -4-4\nRow(date='01261215', delay='1', distance='602', origin='ABE', destination='ATL')\n01261215 11\nRow(date='01261725', delay='7', distance='602', origin='ABE', destination='ATL')\n01261725 77\nRow(date='01271215', delay='-4', distance='602', origin='ABE', destination='ATL')\n01271215 -4-4\nRow(date='01270600', delay='-9', distance='369', origin='ABE', destination='DTW')\n01270600 -9-9\nRow(date='01271725', delay='-8', distance='602', origin='ABE', destination='ATL')\n01271725 -8-8\nRow(date='01271230', delay='-7', distance='369', origin='ABE', destination='DTW')\n01271230 -7-7\nRow(date='01270625', delay='-1', distance='602', origin='ABE', destination='ATL')\n01270625 -1-1\nRow(date='01271219', delay='0', distance='569', origin='ABE', destination='ORD')\n01271219 00\nRow(date='01280600', delay='-6', distance='369', origin='ABE', destination='DTW')\n01280600 -6-6\nRow(date='01281725', delay='-3', distance='602', origin='ABE', destination='ATL')\n01281725 -3-3\nRow(date='01281230', delay='-8', distance='369', origin='ABE', destination='DTW')\n01281230 -8-8\nRow(date='01280625', delay='-4', distance='602', origin='ABE', destination='ATL')\n01280625 -4-4\nRow(date='01281219', delay='0', distance='569', origin='ABE', destination='ORD')\n01281219 00\nRow(date='01290600', delay='0', distance='369', origin='ABE', destination='DTW')\n01290600 00\nRow(date='01291230', delay='0', distance='369', origin='ABE', destination='DTW')\n01291230 00\nRow(date='01290625', delay='4', distance='602', origin='ABE', destination='ATL')\n01290625 44\nRow(date='01290607', delay='92', distance='569', origin='ABE', destination='ORD')\n01290607 9292\nRow(date='01291219', delay='-10', distance='569', origin='ABE', destination='ORD')\n01291219 -10-10\nRow(date='01301215', delay='0', distance='602', origin='ABE', destination='ATL')\n01301215 00\nRow(date='01300600', delay='-1', distance='369', origin='ABE', destination='DTW')\n01300600 -1-1\nRow(date='01301725', delay='10', distance='602', origin='ABE', destination='ATL')\n01301725 1010\nRow(date='01301230', delay='0', distance='369', origin='ABE', destination='DTW')\n01301230 00\nRow(date='01300625', delay='0', distance='602', origin='ABE', destination='ATL')\n01300625 00\nRow(date='01301219', delay='-11', distance='569', origin='ABE', destination='ORD')\n01301219 -11-11\nRow(date='01311215', delay='1', distance='602', origin='ABE', destination='ATL')\n01311215 11\nRow(date='01310600', delay='-4', distance='369', origin='ABE', destination='DTW')\n01310600 -4-4\nRow(date='01311725', delay='25', distance='602', origin='ABE', destination='ATL')\n01311725 2525\nRow(date='01311230', delay='-4', distance='369', origin='ABE', destination='DTW')\n01311230 -4-4\nRow(date='01310625', delay='-5', distance='602', origin='ABE', destination='ATL')\n01310625 -5-5\nRow(date='01311219', delay='24', distance='569', origin='ABE', destination='ORD')\n01311219 2424\nRow(date='01011400', delay='26', distance='137', origin='ABI', destination='DFW')\n01011400 2626\nRow(date='01011525', delay='-11', distance='137', origin='ABI', destination='DFW')\n01011525 -11-11\nRow(date='01021400', delay='-5', distance='137', origin='ABI', destination='DFW')\n01021400 -5-5\nRow(date='01021525', delay='47', distance='137', origin='ABI', destination='DFW')\n01021525 4747\nRow(date='01031400', delay='-12', distance='137', origin='ABI', destination='DFW')\n01031400 -12-12\nRow(date='01031525', delay='40', distance='137', origin='ABI', destination='DFW')\n01031525 4040\nRow(date='01041400', delay='-12', distance='137', origin='ABI', destination='DFW')\n01041400 -12-12\nRow(date='01041525', delay='3', distance='137', origin='ABI', destination='DFW')\n01041525 33\nRow(date='01051400', delay='-5', distance='137', origin='ABI', destination='DFW')\n01051400 -5-5\nRow(date='01051525', delay='-5', distance='137', origin='ABI', destination='DFW')\n01051525 -5-5\nRow(date='01061400', delay='2', distance='137', origin='ABI', destination='DFW')\n01061400 22\nRow(date='01061525', delay='22', distance='137', origin='ABI', destination='DFW')\n01061525 2222\nRow(date='01071400', delay='-12', distance='137', origin='ABI', destination='DFW')\n01071400 -12-12\nRow(date='01071525', delay='-15', distance='137', origin='ABI', destination='DFW')\n01071525 -15-15\nRow(date='01081525', delay='21', distance='137', origin='ABI', destination='DFW')\n01081525 2121\nRow(date='01091525', delay='-8', distance='137', origin='ABI', destination='DFW')\n01091525 -8-8\nRow(date='01101525', delay='4', distance='137', origin='ABI', destination='DFW')\n01101525 44\nRow(date='01111525', delay='-23', distance='137', origin='ABI', destination='DFW')\n01111525 -23-23\nRow(date='01121525', delay='-9', distance='137', origin='ABI', destination='DFW')\n01121525 -9-9\nRow(date='01131525', delay='-12', distance='137', origin='ABI', destination='DFW')\n01131525 -12-12\nRow(date='01141525', delay='-5', distance='137', origin='ABI', destination='DFW')\n01141525 -5-5\nRow(date='01151525', delay='-17', distance='137', origin='ABI', destination='DFW')\n01151525 -17-17\nRow(date='01161525', delay='2', distance='137', origin='ABI', destination='DFW')\n01161525 22\nRow(date='01171525', delay='-9', distance='137', origin='ABI', destination='DFW')\n01171525 -9-9\nRow(date='01181525', delay='-5', distance='137', origin='ABI', destination='DFW')\n01181525 -5-5\nRow(date='01191525', delay='-3', distance='137', origin='ABI', destination='DFW')\n01191525 -3-3\nRow(date='01201525', delay='-6', distance='137', origin='ABI', destination='DFW')\n01201525 -6-6\nRow(date='01211525', delay='-17', distance='137', origin='ABI', destination='DFW')\n01211525 -17-17\nRow(date='01221525', delay='40', distance='137', origin='ABI', destination='DFW')\n01221525 4040\nRow(date='01231525', delay='-12', distance='137', origin='ABI', destination='DFW')\n01231525 -12-12\nRow(date='01241525', delay='21', distance='137', origin='ABI', destination='DFW')\n01241525 2121\nRow(date='01251525', delay='-6', distance='137', origin='ABI', destination='DFW')\n01251525 -6-6\nRow(date='01261525', delay='-12', distance='137', origin='ABI', destination='DFW')\n01261525 -12-12\nRow(date='01271525', delay='-13', distance='137', origin='ABI', destination='DFW')\n01271525 -13-13\nRow(date='01281525', delay='-10', distance='137', origin='ABI', destination='DFW')\n01281525 -10-10\nRow(date='01291525', delay='146', distance='137', origin='ABI', destination='DFW')\n01291525 146146\nRow(date='01301525', delay='-13', distance='137', origin='ABI', destination='DFW')\n01301525 -13-13\nRow(date='01311525', delay='6', distance='137', origin='ABI', destination='DFW')\n01311525 66\nRow(date='01010925', delay='-9', distance='137', origin='ABI', destination='DFW')\n01010925 -9-9\nRow(date='01011730', delay='72', distance='137', origin='ABI', destination='DFW')\n01011730 7272\nRow(date='01010700', delay='-5', distance='137', origin='ABI', destination='DFW')\n01010700 -5-5\nRow(date='01011155', delay='-6', distance='137', origin='ABI', destination='DFW')\n01011155 -6-6\nRow(date='01010810', delay='62', distance='137', origin='ABI', destination='DFW')\n01010810 6262\nRow(date='01020550', delay='-7', distance='137', origin='ABI', destination='DFW')\n01020550 -7-7\nRow(date='01020925', delay='7', distance='137', origin='ABI', destination='DFW')\n01020925 77\nRow(date='01021730', delay='27', distance='137', origin='ABI', destination='DFW')\n01021730 2727\nRow(date='01020700', delay='150', distance='137', origin='ABI', destination='DFW')\n01020700 150150\nRow(date='01021155', delay='0', distance='137', origin='ABI', destination='DFW')\n01021155 00\nRow(date='01020810', delay='1', distance='137', origin='ABI', destination='DFW')\n01020810 11\nRow(date='01030550', delay='51', distance='137', origin='ABI', destination='DFW')\n01030550 5151\nRow(date='01030925', delay='-7', distance='137', origin='ABI', destination='DFW')\n01030925 -7-7\nRow(date='01031730', delay='-18', distance='137', origin='ABI', destination='DFW')\n01031730 -18-18\nRow(date='01030700', delay='2', distance='137', origin='ABI', destination='DFW')\n01030700 22\nRow(date='01031155', delay='48', distance='137', origin='ABI', destination='DFW')\n01031155 4848\nRow(date='01030810', delay='-3', distance='137', origin='ABI', destination='DFW')\n01030810 -3-3\nRow(date='01040925', delay='-7', distance='137', origin='ABI', destination='DFW')\n01040925 -7-7\nRow(date='01041730', delay='135', distance='137', origin='ABI', destination='DFW')\n01041730 135135\nRow(date='01040700', delay='-3', distance='137', origin='ABI', destination='DFW')\n01040700 -3-3\nRow(date='01041155', delay='-2', distance='137', origin='ABI', destination='DFW')\n01041155 -2-2\nRow(date='01040810', delay='-12', distance='137', origin='ABI', destination='DFW')\n01040810 -12-12\nRow(date='01050550', delay='-8', distance='137', origin='ABI', destination='DFW')\n01050550 -8-8\nRow(date='01050925', delay='-10', distance='137', origin='ABI', destination='DFW')\n01050925 -10-10\nRow(date='01051730', delay='-2', distance='137', origin='ABI', destination='DFW')\n01051730 -2-2\nRow(date='01050700', delay='-6', distance='137', origin='ABI', destination='DFW')\n01050700 -6-6\nRow(date='01051155', delay='-2', distance='137', origin='ABI', destination='DFW')\n01051155 -2-2\nRow(date='01050810', delay='-12', distance='137', origin='ABI', destination='DFW')\n01050810 -12-12\nRow(date='01060550', delay='-8', distance='137', origin='ABI', destination='DFW')\n01060550 -8-8\nRow(date='01060925', delay='0', distance='137', origin='ABI', destination='DFW')\n01060925 00\nRow(date='01061730', delay='-7', distance='137', origin='ABI', destination='DFW')\n01061730 -7-7\nRow(date='01060700', delay='-3', distance='137', origin='ABI', destination='DFW')\n01060700 -3-3\nRow(date='01061155', delay='-4', distance='137', origin='ABI', destination='DFW')\n01061155 -4-4\nRow(date='01060810', delay='-8', distance='137', origin='ABI', destination='DFW')\n01060810 -8-8\nRow(date='01070550', delay='-3', distance='137', origin='ABI', destination='DFW')\n01070550 -3-3\nRow(date='01070925', delay='62', distance='137', origin='ABI', destination='DFW')\n01070925 6262\nRow(date='01071730', delay='0', distance='137', origin='ABI', destination='DFW')\n01071730 00\nRow(date='01070700', delay='4', distance='137', origin='ABI', destination='DFW')\n01070700 44\nRow(date='01071155', delay='10', distance='137', origin='ABI', destination='DFW')\n01071155 1010\nRow(date='01070810', delay='-10', distance='137', origin='ABI', destination='DFW')\n01070810 -10-10\nRow(date='01080550', delay='-9', distance='137', origin='ABI', destination='DFW')\n01080550 -9-9\nRow(date='01080925', delay='-11', distance='137', origin='ABI', destination='DFW')\n01080925 -11-11\nRow(date='01081730', delay='7', distance='137', origin='ABI', destination='DFW')\n01081730 77\nRow(date='01080700', delay='-8', distance='137', origin='ABI', destination='DFW')\n01080700 -8-8\nRow(date='01081155', delay='-11', distance='137', origin='ABI', destination='DFW')\n01081155 -11-11\nRow(date='01080810', delay='-13', distance='137', origin='ABI', destination='DFW')\n01080810 -13-13\nRow(date='01081400', delay='10', distance='137', origin='ABI', destination='DFW')\n01081400 1010\nRow(date='01090550', delay='395', distance='137', origin='ABI', destination='DFW')\n01090550 395395\nRow(date='01090925', delay='0', distance='137', origin='ABI', destination='DFW')\n01090925 00\nRow(date='01091730', delay='38', distance='137', origin='ABI', destination='DFW')\n01091730 3838\nRow(date='01090700', delay='6', distance='137', origin='ABI', destination='DFW')\n01090700 66\nRow(date='01091155', delay='21', distance='137', origin='ABI', destination='DFW')\n01091155 2121\nRow(date='01090810', delay='16', distance='137', origin='ABI', destination='DFW')\n01090810 1616\nRow(date='01091400', delay='-6', distance='137', origin='ABI', destination='DFW')\n01091400 -6-6\nRow(date='01100550', delay='-4', distance='137', origin='ABI', destination='DFW')\n01100550 -4-4\nRow(date='01100925', delay='34', distance='137', origin='ABI', destination='DFW')\n01100925 3434\nRow(date='01101730', delay='-2', distance='137', origin='ABI', destination='DFW')\n01101730 -2-2\nRow(date='01100700', delay='129', distance='137', origin='ABI', destination='DFW')\n01100700 129129\nRow(date='01101155', delay='-1', distance='137', origin='ABI', destination='DFW')\n01101155 -1-1\nRow(date='01100810', delay='-11', distance='137', origin='ABI', destination='DFW')\n01100810 -11-11\nRow(date='01101400', delay='30', distance='137', origin='ABI', destination='DFW')\n01101400 3030\nRow(date='01110905', delay='-8', distance='137', origin='ABI', destination='DFW')\n01110905 -8-8\nRow(date='01111730', delay='-14', distance='137', origin='ABI', destination='DFW')\n01111730 -14-14\nRow(date='01110700', delay='-5', distance='137', origin='ABI', destination='DFW')\n01110700 -5-5\nRow(date='01111155', delay='16', distance='137', origin='ABI', destination='DFW')\n01111155 1616\nRow(date='01110810', delay='-6', distance='137', origin='ABI', destination='DFW')\n01110810 -6-6\nRow(date='01111400', delay='39', distance='137', origin='ABI', destination='DFW')\n01111400 3939\nRow(date='01120550', delay='-12', distance='137', origin='ABI', destination='DFW')\n01120550 -12-12\nRow(date='01120925', delay='-5', distance='137', origin='ABI', destination='DFW')\n01120925 -5-5\nRow(date='01121730', delay='-9', distance='137', origin='ABI', destination='DFW')\n01121730 -9-9\nRow(date='01120700', delay='35', distance='137', origin='ABI', destination='DFW')\n01120700 3535\nRow(date='01121155', delay='158', distance='137', origin='ABI', destination='DFW')\n01121155 158158\nRow(date='01120810', delay='-9', distance='137', origin='ABI', destination='DFW')\n01120810 -9-9\nRow(date='01121400', delay='-9', distance='137', origin='ABI', destination='DFW')\n01121400 -9-9\nRow(date='01130550', delay='-5', distance='137', origin='ABI', destination='DFW')\n01130550 -5-5\nRow(date='01130925', delay='-7', distance='137', origin='ABI', destination='DFW')\n01130925 -7-7\nRow(date='01131730', delay='-9', distance='137', origin='ABI', destination='DFW')\n01131730 -9-9\nRow(date='01130700', delay='-9', distance='137', origin='ABI', destination='DFW')\n01130700 -9-9\nRow(date='01131155', delay='-10', distance='137', origin='ABI', destination='DFW')\n01131155 -10-10\nRow(date='01130810', delay='-7', distance='137', origin='ABI', destination='DFW')\n01130810 -7-7\nRow(date='01131400', delay='-1', distance='137', origin='ABI', destination='DFW')\n01131400 -1-1\nRow(date='01140550', delay='0', distance='137', origin='ABI', destination='DFW')\n01140550 00\nRow(date='01140925', delay='4', distance='137', origin='ABI', destination='DFW')\n01140925 44\nRow(date='01141730', delay='-13', distance='137', origin='ABI', destination='DFW')\n01141730 -13-13\nRow(date='01140700', delay='49', distance='137', origin='ABI', destination='DFW')\n01140700 4949\nRow(date='01141155', delay='-10', distance='137', origin='ABI', destination='DFW')\n01141155 -10-10\nRow(date='01140810', delay='-8', distance='137', origin='ABI', destination='DFW')\n01140810 -8-8\nRow(date='01141400', delay='-17', distance='137',\n\n*** WARNING: max output size exceeded, skipping output. ***\n\n'YUM', destination='LAX')\n03010600 55\nRow(date='03011530', delay='-6', distance='206', origin='YUM', destination='LAX')\n03011530 -6-6\nRow(date='03020941', delay='-10', distance='139', origin='YUM', destination='PHX')\n03020941 -10-10\nRow(date='03021255', delay='-5', distance='139', origin='YUM', destination='PHX')\n03021255 -5-5\nRow(date='03021859', delay='-10', distance='139', origin='YUM', destination='PHX')\n03021859 -10-10\nRow(date='03021605', delay='0', distance='139', origin='YUM', destination='PHX')\n03021605 00\nRow(date='03021130', delay='9', distance='139', origin='YUM', destination='PHX')\n03021130 99\nRow(date='03020800', delay='-5', distance='139', origin='YUM', destination='PHX')\n03020800 -5-5\nRow(date='03021950', delay='17', distance='206', origin='YUM', destination='LAX')\n03021950 1717\nRow(date='03020600', delay='-5', distance='206', origin='YUM', destination='LAX')\n03020600 -5-5\nRow(date='03021530', delay='97', distance='206', origin='YUM', destination='LAX')\n03021530 9797\nRow(date='03030941', delay='3', distance='139', origin='YUM', destination='PHX')\n03030941 33\nRow(date='03031255', delay='-7', distance='139', origin='YUM', destination='PHX')\n03031255 -7-7\nRow(date='03031130', delay='-3', distance='139', origin='YUM', destination='PHX')\n03031130 -3-3\nRow(date='03031859', delay='6', distance='139', origin='YUM', destination='PHX')\n03031859 66\nRow(date='03031605', delay='6', distance='139', origin='YUM', destination='PHX')\n03031605 66\nRow(date='03030800', delay='-14', distance='139', origin='YUM', destination='PHX')\n03030800 -14-14\nRow(date='03031950', delay='0', distance='206', origin='YUM', destination='LAX')\n03031950 00\nRow(date='03030600', delay='-2', distance='206', origin='YUM', destination='LAX')\n03030600 -2-2\nRow(date='03031530', delay='-10', distance='206', origin='YUM', destination='LAX')\n03031530 -10-10\nRow(date='03040941', delay='-4', distance='139', origin='YUM', destination='PHX')\n03040941 -4-4\nRow(date='03041255', delay='-8', distance='139', origin='YUM', destination='PHX')\n03041255 -8-8\nRow(date='03041130', delay='-9', distance='139', origin='YUM', destination='PHX')\n03041130 -9-9\nRow(date='03041859', delay='-1', distance='139', origin='YUM', destination='PHX')\n03041859 -1-1\nRow(date='03041605', delay='-11', distance='139', origin='YUM', destination='PHX')\n03041605 -11-11\nRow(date='03040800', delay='-8', distance='139', origin='YUM', destination='PHX')\n03040800 -8-8\nRow(date='03041918', delay='-11', distance='206', origin='YUM', destination='LAX')\n03041918 -11-11\nRow(date='03040600', delay='-2', distance='206', origin='YUM', destination='LAX')\n03040600 -2-2\nRow(date='03041530', delay='-4', distance='206', origin='YUM', destination='LAX')\n03041530 -4-4\nRow(date='03050941', delay='1', distance='139', origin='YUM', destination='PHX')\n03050941 11\nRow(date='03051255', delay='-9', distance='139', origin='YUM', destination='PHX')\n03051255 -9-9\nRow(date='03051130', delay='-4', distance='139', origin='YUM', destination='PHX')\n03051130 -4-4\nRow(date='03051859', delay='-10', distance='139', origin='YUM', destination='PHX')\n03051859 -10-10\nRow(date='03051605', delay='-2', distance='139', origin='YUM', destination='PHX')\n03051605 -2-2\nRow(date='03050800', delay='-8', distance='139', origin='YUM', destination='PHX')\n03050800 -8-8\nRow(date='03051918', delay='11', distance='206', origin='YUM', destination='LAX')\n03051918 1111\nRow(date='03050600', delay='-3', distance='206', origin='YUM', destination='LAX')\n03050600 -3-3\nRow(date='03051530', delay='-8', distance='206', origin='YUM', destination='LAX')\n03051530 -8-8\nRow(date='03060941', delay='-1', distance='139', origin='YUM', destination='PHX')\n03060941 -1-1\nRow(date='03061255', delay='-8', distance='139', origin='YUM', destination='PHX')\n03061255 -8-8\nRow(date='03061130', delay='-5', distance='139', origin='YUM', destination='PHX')\n03061130 -5-5\nRow(date='03061900', delay='-10', distance='139', origin='YUM', destination='PHX')\n03061900 -10-10\nRow(date='03060724', delay='-2', distance='139', origin='YUM', destination='PHX')\n03060724 -2-2\nRow(date='03061605', delay='-6', distance='139', origin='YUM', destination='PHX')\n03061605 -6-6\nRow(date='03061946', delay='-3', distance='206', origin='YUM', destination='LAX')\n03061946 -3-3\nRow(date='03060600', delay='-7', distance='206', origin='YUM', destination='LAX')\n03060600 -7-7\nRow(date='03061532', delay='2', distance='206', origin='YUM', destination='LAX')\n03061532 22\nRow(date='03070941', delay='-8', distance='139', origin='YUM', destination='PHX')\n03070941 -8-8\nRow(date='03071255', delay='-13', distance='139', origin='YUM', destination='PHX')\n03071255 -13-13\nRow(date='03071130', delay='-12', distance='139', origin='YUM', destination='PHX')\n03071130 -12-12\nRow(date='03071900', delay='1', distance='139', origin='YUM', destination='PHX')\n03071900 11\nRow(date='03070724', delay='-7', distance='139', origin='YUM', destination='PHX')\n03070724 -7-7\nRow(date='03071605', delay='-5', distance='139', origin='YUM', destination='PHX')\n03071605 -5-5\nRow(date='03071946', delay='3', distance='206', origin='YUM', destination='LAX')\n03071946 33\nRow(date='03070600', delay='0', distance='206', origin='YUM', destination='LAX')\n03070600 00\nRow(date='03071532', delay='-5', distance='206', origin='YUM', destination='LAX')\n03071532 -5-5\nRow(date='03080941', delay='36', distance='139', origin='YUM', destination='PHX')\n03080941 3636\nRow(date='03081255', delay='-7', distance='139', origin='YUM', destination='PHX')\n03081255 -7-7\nRow(date='03081130', delay='-4', distance='139', origin='YUM', destination='PHX')\n03081130 -4-4\nRow(date='03080724', delay='-7', distance='139', origin='YUM', destination='PHX')\n03080724 -7-7\nRow(date='03080600', delay='-6', distance='206', origin='YUM', destination='LAX')\n03080600 -6-6\nRow(date='03081532', delay='4', distance='206', origin='YUM', destination='LAX')\n03081532 44\nRow(date='03090841', delay='-5', distance='139', origin='YUM', destination='PHX')\n03090841 -5-5\nRow(date='03091155', delay='-4', distance='139', origin='YUM', destination='PHX')\n03091155 -4-4\nRow(date='03091800', delay='-14', distance='139', origin='YUM', destination='PHX')\n03091800 -14-14\nRow(date='03090623', delay='-3', distance='139', origin='YUM', destination='PHX')\n03090623 -3-3\nRow(date='03091505', delay='-4', distance='139', origin='YUM', destination='PHX')\n03091505 -4-4\nRow(date='03091030', delay='-7', distance='139', origin='YUM', destination='PHX')\n03091030 -7-7\nRow(date='03091846', delay='-5', distance='206', origin='YUM', destination='LAX')\n03091846 -5-5\nRow(date='03090500', delay='-4', distance='206', origin='YUM', destination='LAX')\n03090500 -4-4\nRow(date='03091432', delay='47', distance='206', origin='YUM', destination='LAX')\n03091432 4747\nRow(date='03100841', delay='-9', distance='139', origin='YUM', destination='PHX')\n03100841 -9-9\nRow(date='03101155', delay='-4', distance='139', origin='YUM', destination='PHX')\n03101155 -4-4\nRow(date='03101030', delay='-7', distance='139', origin='YUM', destination='PHX')\n03101030 -7-7\nRow(date='03101800', delay='-11', distance='139', origin='YUM', destination='PHX')\n03101800 -11-11\nRow(date='03100623', delay='-5', distance='139', origin='YUM', destination='PHX')\n03100623 -5-5\nRow(date='03101505', delay='-16', distance='139', origin='YUM', destination='PHX')\n03101505 -16-16\nRow(date='03101846', delay='-9', distance='206', origin='YUM', destination='LAX')\n03101846 -9-9\nRow(date='03100500', delay='-4', distance='206', origin='YUM', destination='LAX')\n03100500 -4-4\nRow(date='03101432', delay='1', distance='206', origin='YUM', destination='LAX')\n03101432 11\nRow(date='03110841', delay='-5', distance='139', origin='YUM', destination='PHX')\n03110841 -5-5\nRow(date='03111155', delay='-8', distance='139', origin='YUM', destination='PHX')\n03111155 -8-8\nRow(date='03111030', delay='-2', distance='139', origin='YUM', destination='PHX')\n03111030 -2-2\nRow(date='03111800', delay='-2', distance='139', origin='YUM', destination='PHX')\n03111800 -2-2\nRow(date='03110623', delay='2', distance='139', origin='YUM', destination='PHX')\n03110623 22\nRow(date='03111505', delay='6', distance='139', origin='YUM', destination='PHX')\n03111505 66\nRow(date='03111846', delay='-6', distance='206', origin='YUM', destination='LAX')\n03111846 -6-6\nRow(date='03110500', delay='3', distance='206', origin='YUM', destination='LAX')\n03110500 33\nRow(date='03111432', delay='6', distance='206', origin='YUM', destination='LAX')\n03111432 66\nRow(date='03120841', delay='-3', distance='139', origin='YUM', destination='PHX')\n03120841 -3-3\nRow(date='03121155', delay='-10', distance='139', origin='YUM', destination='PHX')\n03121155 -10-10\nRow(date='03121030', delay='-3', distance='139', origin='YUM', destination='PHX')\n03121030 -3-3\nRow(date='03121800', delay='-10', distance='139', origin='YUM', destination='PHX')\n03121800 -10-10\nRow(date='03120623', delay='-4', distance='139', origin='YUM', destination='PHX')\n03120623 -4-4\nRow(date='03121505', delay='32', distance='139', origin='YUM', destination='PHX')\n03121505 3232\nRow(date='03121846', delay='-10', distance='206', origin='YUM', destination='LAX')\n03121846 -10-10\nRow(date='03120500', delay='-5', distance='206', origin='YUM', destination='LAX')\n03120500 -5-5\nRow(date='03121432', delay='-8', distance='206', origin='YUM', destination='LAX')\n03121432 -8-8\nRow(date='03130841', delay='-2', distance='139', origin='YUM', destination='PHX')\n03130841 -2-2\nRow(date='03131155', delay='-11', distance='139', origin='YUM', destination='PHX')\n03131155 -11-11\nRow(date='03131030', delay='-6', distance='139', origin='YUM', destination='PHX')\n03131030 -6-6\nRow(date='03131800', delay='-13', distance='139', origin='YUM', destination='PHX')\n03131800 -13-13\nRow(date='03130623', delay='3', distance='139', origin='YUM', destination='PHX')\n03130623 33\nRow(date='03131505', delay='2', distance='139', origin='YUM', destination='PHX')\n03131505 22\nRow(date='03131846', delay='9', distance='206', origin='YUM', destination='LAX')\n03131846 99\nRow(date='03130500', delay='-8', distance='206', origin='YUM', destination='LAX')\n03130500 -8-8\nRow(date='03131432', delay='8', distance='206', origin='YUM', destination='LAX')\n03131432 88\nRow(date='03140841', delay='1', distance='139', origin='YUM', destination='PHX')\n03140841 11\nRow(date='03141155', delay='-19', distance='139', origin='YUM', destination='PHX')\n03141155 -19-19\nRow(date='03141030', delay='-13', distance='139', origin='YUM', destination='PHX')\n03141030 -13-13\nRow(date='03141800', delay='-1', distance='139', origin='YUM', destination='PHX')\n03141800 -1-1\nRow(date='03140623', delay='-2', distance='139', origin='YUM', destination='PHX')\n03140623 -2-2\nRow(date='03141505', delay='3', distance='139', origin='YUM', destination='PHX')\n03141505 33\nRow(date='03141846', delay='52', distance='206', origin='YUM', destination='LAX')\n03141846 5252\nRow(date='03140500', delay='10', distance='206', origin='YUM', destination='LAX')\n03140500 1010\nRow(date='03141432', delay='-3', distance='206', origin='YUM', destination='LAX')\n03141432 -3-3\nRow(date='03150841', delay='-8', distance='139', origin='YUM', destination='PHX')\n03150841 -8-8\nRow(date='03151155', delay='-7', distance='139', origin='YUM', destination='PHX')\n03151155 -7-7\nRow(date='03151030', delay='-5', distance='139', origin='YUM', destination='PHX')\n03151030 -5-5\nRow(date='03150623', delay='-10', distance='139', origin='YUM', destination='PHX')\n03150623 -10-10\nRow(date='03150500', delay='-2', distance='206', origin='YUM', destination='LAX')\n03150500 -2-2\nRow(date='03151432', delay='-8', distance='206', origin='YUM', destination='LAX')\n03151432 -8-8\nRow(date='03160841', delay='-10', distance='139', origin='YUM', destination='PHX')\n03160841 -10-10\nRow(date='03161155', delay='-10', distance='139', origin='YUM', destination='PHX')\n03161155 -10-10\nRow(date='03161800', delay='-8', distance='139', origin='YUM', destination='PHX')\n03161800 -8-8\nRow(date='03160623', delay='-5', distance='139', origin='YUM', destination='PHX')\n03160623 -5-5\nRow(date='03161505', delay='44', distance='139', origin='YUM', destination='PHX')\n03161505 4444\nRow(date='03161030', delay='-9', distance='139', origin='YUM', destination='PHX')\n03161030 -9-9\nRow(date='03161846', delay='-6', distance='206', origin='YUM', destination='LAX')\n03161846 -6-6\nRow(date='03160500', delay='-5', distance='206', origin='YUM', destination='LAX')\n03160500 -5-5\nRow(date='03161432', delay='-6', distance='206', origin='YUM', destination='LAX')\n03161432 -6-6\nRow(date='03170841', delay='-7', distance='139', origin='YUM', destination='PHX')\n03170841 -7-7\nRow(date='03171155', delay='-9', distance='139', origin='YUM', destination='PHX')\n03171155 -9-9\nRow(date='03171030', delay='-1', distance='139', origin='YUM', destination='PHX')\n03171030 -1-1\nRow(date='03171800', delay='-4', distance='139', origin='YUM', destination='PHX')\n03171800 -4-4\nRow(date='03170623', delay='-5', distance='139', origin='YUM', destination='PHX')\n03170623 -5-5\nRow(date='03171505', delay='-10', distance='139', origin='YUM', destination='PHX')\n03171505 -10-10\nRow(date='03171846', delay='2', distance='206', origin='YUM', destination='LAX')\n03171846 22\nRow(date='03170500', delay='-1', distance='206', origin='YUM', destination='LAX')\n03170500 -1-1\nRow(date='03171432', delay='-8', distance='206', origin='YUM', destination='LAX')\n03171432 -8-8\nRow(date='03180841', delay='0', distance='139', origin='YUM', destination='PHX')\n03180841 00\nRow(date='03181155', delay='-8', distance='139', origin='YUM', destination='PHX')\n03181155 -8-8\nRow(date='03181030', delay='-9', distance='139', origin='YUM', destination='PHX')\n03181030 -9-9\nRow(date='03181800', delay='-9', distance='139', origin='YUM', destination='PHX')\n03181800 -9-9\nRow(date='03180623', delay='1', distance='139', origin='YUM', destination='PHX')\n03180623 11\nRow(date='03181505', delay='-11', distance='139', origin='YUM', destination='PHX')\n03181505 -11-11\nRow(date='03181846', delay='-1', distance='206', origin='YUM', destination='LAX')\n03181846 -1-1\nRow(date='03180500', delay='154', distance='206', origin='YUM', destination='LAX')\n03180500 154154\nRow(date='03181432', delay='6', distance='206', origin='YUM', destination='LAX')\n03181432 66\nRow(date='03190841', delay='-3', distance='139', origin='YUM', destination='PHX')\n03190841 -3-3\nRow(date='03191155', delay='-6', distance='139', origin='YUM', destination='PHX')\n03191155 -6-6\nRow(date='03191030', delay='1', distance='139', origin='YUM', destination='PHX')\n03191030 11\nRow(date='03191800', delay='-13', distance='139', origin='YUM', destination='PHX')\n03191800 -13-13\nRow(date='03190623', delay='-5', distance='139', origin='YUM', destination='PHX')\n03190623 -5-5\nRow(date='03191505', delay='0', distance='139', origin='YUM', destination='PHX')\n03191505 00\nRow(date='03191846', delay='63', distance='206', origin='YUM', destination='LAX')\n03191846 6363\nRow(date='03190500', delay='33', distance='206', origin='YUM', destination='LAX')\n03190500 3333\nRow(date='03191432', delay='37', distance='206', origin='YUM', destination='LAX')\n03191432 3737\nRow(date='03200841', delay='0', distance='139', origin='YUM', destination='PHX')\n03200841 00\nRow(date='03201155', delay='-12', distance='139', origin='YUM', destination='PHX')\n03201155 -12-12\nRow(date='03201030', delay='-11', distance='139', origin='YUM', destination='PHX')\n03201030 -11-11\nRow(date='03201800', delay='-8', distance='139', origin='YUM', destination='PHX')\n03201800 -8-8\nRow(date='03200623', delay='2', distance='139', origin='YUM', destination='PHX')\n03200623 22\nRow(date='03201505', delay='-6', distance='139', origin='YUM', destination='PHX')\n03201505 -6-6\nRow(date='03201846', delay='0', distance='206', origin='YUM', destination='LAX')\n03201846 00\nRow(date='03200500', delay='-6', distance='206', origin='YUM', destination='LAX')\n03200500 -6-6\nRow(date='03201432', delay='0', distance='206', origin='YUM', destination='LAX')\n03201432 00\nRow(date='03210841', delay='-4', distance='139', origin='YUM', destination='PHX')\n03210841 -4-4\nRow(date='03211155', delay='-14', distance='139', origin='YUM', destination='PHX')\n03211155 -14-14\nRow(date='03211030', delay='-10', distance='139', origin='YUM', destination='PHX')\n03211030 -10-10\nRow(date='03211800', delay='-10', distance='139', origin='YUM', destination='PHX')\n03211800 -10-10\nRow(date='03210623', delay='-8', distance='139', origin='YUM', destination='PHX')\n03210623 -8-8\nRow(date='03211505', delay='-2', distance='139', origin='YUM', destination='PHX')\n03211505 -2-2\nRow(date='03211846', delay='11', distance='206', origin='YUM', destination='LAX')\n03211846 1111\nRow(date='03210500', delay='-2', distance='206', origin='YUM', destination='LAX')\n03210500 -2-2\nRow(date='03211432', delay='34', distance='206', origin='YUM', destination='LAX')\n03211432 3434\nRow(date='03220841', delay='-8', distance='139', origin='YUM', destination='PHX')\n03220841 -8-8\nRow(date='03221155', delay='-10', distance='139', origin='YUM', destination='PHX')\n03221155 -10-10\nRow(date='03221030', delay='-6', distance='139', origin='YUM', destination='PHX')\n03221030 -6-6\nRow(date='03220623', delay='-5', distance='139', origin='YUM', destination='PHX')\n03220623 -5-5\nRow(date='03220500', delay='-2', distance='206', origin='YUM', destination='LAX')\n03220500 -2-2\nRow(date='03221432', delay='15', distance='206', origin='YUM', destination='LAX')\n03221432 1515\nRow(date='03230841', delay='-8', distance='139', origin='YUM', destination='PHX')\n03230841 -8-8\nRow(date='03231155', delay='-10', distance='139', origin='YUM', destination='PHX')\n03231155 -10-10\nRow(date='03231800', delay='-7', distance='139', origin='YUM', destination='PHX')\n03231800 -7-7\nRow(date='03230623', delay='-6', distance='139', origin='YUM', destination='PHX')\n03230623 -6-6\nRow(date='03231505', delay='-5', distance='139', origin='YUM', destination='PHX')\n03231505 -5-5\nRow(date='03231030', delay='-12', distance='139', origin='YUM', destination='PHX')\n03231030 -12-12\nRow(date='03231846', delay='-5', distance='206', origin='YUM', destination='LAX')\n03231846 -5-5\nRow(date='03230500', delay='-2', distance='206', origin='YUM', destination='LAX')\n03230500 -2-2\nRow(date='03231432', delay='-4', distance='206', origin='YUM', destination='LAX')\n03231432 -4-4\nRow(date='03240841', delay='-8', distance='139', origin='YUM', destination='PHX')\n03240841 -8-8\nRow(date='03241155', delay='-9', distance='139', origin='YUM', destination='PHX')\n03241155 -9-9\nRow(date='03241030', delay='-6', distance='139', origin='YUM', destination='PHX')\n03241030 -6-6\nRow(date='03241800', delay='-9', distance='139', origin='YUM', destination='PHX')\n03241800 -9-9\nRow(date='03240623', delay='-6', distance='139', origin='YUM', destination='PHX')\n03240623 -6-6\nRow(date='03241505', delay='-1', distance='139', origin='YUM', destination='PHX')\n03241505 -1-1\nRow(date='03241846', delay='3', distance='206', origin='YUM', destination='LAX')\n03241846 33\nRow(date='03240500', delay='-3', distance='206', origin='YUM', destination='LAX')\n03240500 -3-3\nRow(date='03241432', delay='3', distance='206', origin='YUM', destination='LAX')\n03241432 33\nRow(date='03250841', delay='0', distance='139', origin='YUM', destination='PHX')\n03250841 00\nRow(date='03251155', delay='-9', distance='139', origin='YUM', destination='PHX')\n03251155 -9-9\nRow(date='03251030', delay='0', distance='139', origin='YUM', destination='PHX')\n03251030 00\nRow(date='03251800', delay='-4', distance='139', origin='YUM', destination='PHX')\n03251800 -4-4\nRow(date='03250623', delay='-7', distance='139', origin='YUM', destination='PHX')\n03250623 -7-7\nRow(date='03251505', delay='-7', distance='139', origin='YUM', destination='PHX')\n03251505 -7-7\nRow(date='03251846', delay='7', distance='206', origin='YUM', destination='LAX')\n03251846 77\nRow(date='03250500', delay='1', distance='206', origin='YUM', destination='LAX')\n03250500 11\nRow(date='03251432', delay='43', distance='206', origin='YUM', destination='LAX')\n03251432 4343\nRow(date='03260841', delay='-1', distance='139', origin='YUM', destination='PHX')\n03260841 -1-1\nRow(date='03261155', delay='-13', distance='139', origin='YUM', destination='PHX')\n03261155 -13-13\nRow(date='03261030', delay='-9', distance='139', origin='YUM', destination='PHX')\n03261030 -9-9\nRow(date='03261800', delay='39', distance='139', origin='YUM', destination='PHX')\n03261800 3939\nRow(date='03260623', delay='-7', distance='139', origin='YUM', destination='PHX')\n03260623 -7-7\nRow(date='03261505', delay='-6', distance='139', origin='YUM', destination='PHX')\n03261505 -6-6\nRow(date='03261846', delay='-1', distance='206', origin='YUM', destination='LAX')\n03261846 -1-1\nRow(date='03260500', delay='0', distance='206', origin='YUM', destination='LAX')\n03260500 00\nRow(date='03261432', delay='0', distance='206', origin='YUM', destination='LAX')\n03261432 00\nRow(date='03270841', delay='-3', distance='139', origin='YUM', destination='PHX')\n03270841 -3-3\nRow(date='03271155', delay='-8', distance='139', origin='YUM', destination='PHX')\n03271155 -8-8\nRow(date='03271030', delay='-4', distance='139', origin='YUM', destination='PHX')\n03271030 -4-4\nRow(date='03271800', delay='0', distance='139', origin='YUM', destination='PHX')\n03271800 00\nRow(date='03270623', delay='-4', distance='139', origin='YUM', destination='PHX')\n03270623 -4-4\nRow(date='03271505', delay='3', distance='139', origin='YUM', destination='PHX')\n03271505 33\nRow(date='03271846', delay='-2', distance='206', origin='YUM', destination='LAX')\n03271846 -2-2\nRow(date='03270500', delay='0', distance='206', origin='YUM', destination='LAX')\n03270500 00\nRow(date='03271432', delay='11', distance='206', origin='YUM', destination='LAX')\n03271432 1111\nRow(date='03280841', delay='-9', distance='139', origin='YUM', destination='PHX')\n03280841 -9-9\nRow(date='03281155', delay='-16', distance='139', origin='YUM', destination='PHX')\n03281155 -16-16\nRow(date='03281030', delay='-10', distance='139', origin='YUM', destination='PHX')\n03281030 -10-10\nRow(date='03281800', delay='-6', distance='139', origin='YUM', destination='PHX')\n03281800 -6-6\nRow(date='03280623', delay='-12', distance='139', origin='YUM', destination='PHX')\n03280623 -12-12\nRow(date='03281505', delay='475', distance='139', origin='YUM', destination='PHX')\n03281505 475475\nRow(date='03281846', delay='2', distance='206', origin='YUM', destination='LAX')\n03281846 22\nRow(date='03280500', delay='-9', distance='206', origin='YUM', destination='LAX')\n03280500 -9-9\nRow(date='03281432', delay='-10', distance='206', origin='YUM', destination='LAX')\n03281432 -10-10\nRow(date='03290841', delay='-10', distance='139', origin='YUM', destination='PHX')\n03290841 -10-10\nRow(date='03291155', delay='-3', distance='139', origin='YUM', destination='PHX')\n03291155 -3-3\nRow(date='03291030', delay='285', distance='139', origin='YUM', destination='PHX')\n03291030 285285\nRow(date='03290623', delay='-4', distance='139', origin='YUM', destination='PHX')\n03290623 -4-4\nRow(date='03290500', delay='-1', distance='206', origin='YUM', destination='LAX')\n03290500 -1-1\nRow(date='03291432', delay='-2', distance='206', origin='YUM', destination='LAX')\n03291432 -2-2\nRow(date='03300841', delay='-10', distance='139', origin='YUM', destination='PHX')\n03300841 -10-10\nRow(date='03301155', delay='-10', distance='139', origin='YUM', destination='PHX')\n03301155 -10-10\nRow(date='03301800', delay='-11', distance='139', origin='YUM', destination='PHX')\n03301800 -11-11\nRow(date='03300623', delay='-6', distance='139', origin='YUM', destination='PHX')\n03300623 -6-6\nRow(date='03301505', delay='-13', distance='139', origin='YUM', destination='PHX')\n03301505 -13-13\nRow(date='03301030', delay='-2', distance='139', origin='YUM', destination='PHX')\n03301030 -2-2\nRow(date='03301846', delay='9', distance='206', origin='YUM', destination='LAX')\n03301846 99\nRow(date='03300500', delay='-5', distance='206', origin='YUM', destination='LAX')\n03300500 -5-5\nRow(date='03301432', delay='-4', distance='206', origin='YUM', destination='LAX')\n03301432 -4-4\nRow(date='03310841', delay='-5', distance='139', origin='YUM', destination='PHX')\n03310841 -5-5\nRow(date='03311155', delay='-6', distance='139', origin='YUM', destination='PHX')\n03311155 -6-6\nRow(date='03311030', delay='-7', distance='139', origin='YUM', destination='PHX')\n03311030 -7-7\nRow(date='03311800', delay='-8', distance='139', origin='YUM', destination='PHX')\n03311800 -8-8\nRow(date='03310623', delay='-10', distance='139', origin='YUM', destination='PHX')\n03310623 -10-10\nRow(date='03311505', delay='-4', distance='139', origin='YUM', destination='PHX')\n03311505 -4-4\nRow(date='03311846', delay='0', distance='206', origin='YUM', destination='LAX')\n03311846 00\nRow(date='03310500', delay='-7', distance='206', origin='YUM', destination='LAX')\n03310500 -7-7\nRow(date='03311432', delay='6', distance='206', origin='YUM', destination='LAX')\n03311432 66\nRow(date='Abbotsford\\tBC\\tCanada\\tYXX', delay=None, distance=None, origin=None, destination=None)\n"
     ]
    },
    {
     "output_type": "display_data",
     "data": {
      "text/plain": [
       "\u001B[0;31m---------------------------------------------------------------------------\u001B[0m\n",
       "\u001B[0;31mTypeError\u001B[0m                                 Traceback (most recent call last)\n",
       "File \u001B[0;32m<command-1970076144345517>, line 4\u001B[0m\n",
       "\u001B[1;32m      2\u001B[0m \u001B[38;5;28;01mfor\u001B[39;00m i \u001B[38;5;129;01min\u001B[39;00m df\u001B[38;5;241m.\u001B[39mcollect():\n",
       "\u001B[1;32m      3\u001B[0m   \u001B[38;5;28mprint\u001B[39m(i)\n",
       "\u001B[0;32m----> 4\u001B[0m   \u001B[38;5;28mprint\u001B[39m(i[\u001B[38;5;241m0\u001B[39m], \u001B[43mi\u001B[49m\u001B[43m[\u001B[49m\u001B[38;5;241;43m1\u001B[39;49m\u001B[43m]\u001B[49m\u001B[43m \u001B[49m\u001B[38;5;241;43m*\u001B[39;49m\u001B[43m \u001B[49m\u001B[38;5;241;43m2\u001B[39;49m)\n",
       "\n",
       "\u001B[0;31mTypeError\u001B[0m: unsupported operand type(s) for *: 'NoneType' and 'int'"
      ]
     },
     "metadata": {
      "application/vnd.databricks.v1+output": {
       "addedWidgets": {},
       "arguments": {},
       "datasetInfos": [],
       "jupyterProps": {
        "ename": "TypeError",
        "evalue": "unsupported operand type(s) for *: 'NoneType' and 'int'"
       },
       "metadata": {
        "errorSummary": "<span class='ansi-red-fg'>TypeError</span>: unsupported operand type(s) for *: 'NoneType' and 'int'"
       },
       "removedWidgets": [],
       "sqlProps": null,
       "stackFrames": [
        "\u001B[0;31m---------------------------------------------------------------------------\u001B[0m",
        "\u001B[0;31mTypeError\u001B[0m                                 Traceback (most recent call last)",
        "File \u001B[0;32m<command-1970076144345517>, line 4\u001B[0m\n\u001B[1;32m      2\u001B[0m \u001B[38;5;28;01mfor\u001B[39;00m i \u001B[38;5;129;01min\u001B[39;00m df\u001B[38;5;241m.\u001B[39mcollect():\n\u001B[1;32m      3\u001B[0m   \u001B[38;5;28mprint\u001B[39m(i)\n\u001B[0;32m----> 4\u001B[0m   \u001B[38;5;28mprint\u001B[39m(i[\u001B[38;5;241m0\u001B[39m], \u001B[43mi\u001B[49m\u001B[43m[\u001B[49m\u001B[38;5;241;43m1\u001B[39;49m\u001B[43m]\u001B[49m\u001B[43m \u001B[49m\u001B[38;5;241;43m*\u001B[39;49m\u001B[43m \u001B[49m\u001B[38;5;241;43m2\u001B[39;49m)\n",
        "\u001B[0;31mTypeError\u001B[0m: unsupported operand type(s) for *: 'NoneType' and 'int'"
       ],
       "type": "baseError"
      }
     }
    }
   ],
   "source": [
    "# iterando sobre todas as linhas do dataframe\n",
    "for i in df.collect():\n",
    "  print(i)\n",
    "  print(i[0], i[1] * 2)"
   ]
  },
  {
   "cell_type": "code",
   "execution_count": 0,
   "metadata": {
    "application/vnd.databricks.v1+cell": {
     "cellMetadata": {
      "byteLimit": 2048000,
      "rowLimit": 10000
     },
     "inputWidgets": {},
     "nuid": "ae5daef7-e903-4050-9ec7-56092300aab9",
     "showTitle": false,
     "title": ""
    }
   },
   "outputs": [
    {
     "output_type": "stream",
     "name": "stdout",
     "text": [
      "+--------+-----+--------+------+-----------+-----------+\n|    date|delay|distance|origin|destination|Nova Coluna|\n+--------+-----+--------+------+-----------+-----------+\n|01011245|    6|     602|   ABE|        ATL|        8.0|\n|01020600|   -8|     369|   ABE|        DTW|       -6.0|\n|01021245|   -2|     602|   ABE|        ATL|        0.0|\n|01020605|   -4|     602|   ABE|        ATL|       -2.0|\n|01031245|   -4|     602|   ABE|        ATL|       -2.0|\n|01030605|    0|     602|   ABE|        ATL|        2.0|\n|01041243|   10|     602|   ABE|        ATL|       12.0|\n|01040605|   28|     602|   ABE|        ATL|       30.0|\n|01051245|   88|     602|   ABE|        ATL|       90.0|\n|01050605|    9|     602|   ABE|        ATL|       11.0|\n+--------+-----+--------+------+-----------+-----------+\nonly showing top 10 rows\n\n"
     ]
    }
   ],
   "source": [
    "# adicionando uma coluna ao dataframe\n",
    "df = df.withColumn(\"Nova Coluna\", df[\"delay\"] + 2)\n",
    "df.show(10)"
   ]
  },
  {
   "cell_type": "code",
   "execution_count": 0,
   "metadata": {
    "application/vnd.databricks.v1+cell": {
     "cellMetadata": {
      "byteLimit": 2048000,
      "rowLimit": 10000
     },
     "inputWidgets": {},
     "nuid": "1f7ab671-bc0b-4fa2-b5a5-41fdbe56482b",
     "showTitle": false,
     "title": ""
    }
   },
   "outputs": [
    {
     "output_type": "stream",
     "name": "stdout",
     "text": [
      "+--------+-----+--------+------+-----------+----------+\n|    date|delay|distance|origin|destination|New Column|\n+--------+-----+--------+------+-----------+----------+\n|01011245|    6|     602|   ABE|        ATL|       8.0|\n|01020600|   -8|     369|   ABE|        DTW|      -6.0|\n|01021245|   -2|     602|   ABE|        ATL|       0.0|\n|01020605|   -4|     602|   ABE|        ATL|      -2.0|\n|01031245|   -4|     602|   ABE|        ATL|      -2.0|\n|01030605|    0|     602|   ABE|        ATL|       2.0|\n|01041243|   10|     602|   ABE|        ATL|      12.0|\n|01040605|   28|     602|   ABE|        ATL|      30.0|\n|01051245|   88|     602|   ABE|        ATL|      90.0|\n|01050605|    9|     602|   ABE|        ATL|      11.0|\n|01061215|   -6|     602|   ABE|        ATL|      -4.0|\n|01061725|   69|     602|   ABE|        ATL|      71.0|\n|01061230|    0|     369|   ABE|        DTW|       2.0|\n|01060625|   -3|     602|   ABE|        ATL|      -1.0|\n|01070600|    0|     369|   ABE|        DTW|       2.0|\n|01071725|    0|     602|   ABE|        ATL|       2.0|\n|01071230|    0|     369|   ABE|        DTW|       2.0|\n|01070625|    0|     602|   ABE|        ATL|       2.0|\n|01071219|    0|     569|   ABE|        ORD|       2.0|\n|01080600|    0|     369|   ABE|        DTW|       2.0|\n+--------+-----+--------+------+-----------+----------+\nonly showing top 20 rows\n\n"
     ]
    }
   ],
   "source": [
    "# renomeando uma coluna no dataframe\n",
    "df.withColumnRenamed(\"Nova Coluna\", \"New Column\").show()"
   ]
  },
  {
   "cell_type": "code",
   "execution_count": 0,
   "metadata": {
    "application/vnd.databricks.v1+cell": {
     "cellMetadata": {
      "byteLimit": 2048000,
      "rowLimit": 10000
     },
     "inputWidgets": {},
     "nuid": "59489447-66ff-45e6-a287-6ad72a906f14",
     "showTitle": false,
     "title": ""
    }
   },
   "outputs": [
    {
     "output_type": "stream",
     "name": "stdout",
     "text": [
      "+--------+-----+--------+------+-----------+\n|    date|delay|distance|origin|destination|\n+--------+-----+--------+------+-----------+\n|01011245|    6|     602|   ABE|        ATL|\n|01020600|   -8|     369|   ABE|        DTW|\n|01021245|   -2|     602|   ABE|        ATL|\n|01020605|   -4|     602|   ABE|        ATL|\n|01031245|   -4|     602|   ABE|        ATL|\n|01030605|    0|     602|   ABE|        ATL|\n|01041243|   10|     602|   ABE|        ATL|\n|01040605|   28|     602|   ABE|        ATL|\n|01051245|   88|     602|   ABE|        ATL|\n|01050605|    9|     602|   ABE|        ATL|\n+--------+-----+--------+------+-----------+\nonly showing top 10 rows\n\n"
     ]
    }
   ],
   "source": [
    "# Removendo uma coluna\n",
    "df = df.drop(\"Nova Coluna\")\n",
    "df.show(10)"
   ]
  },
  {
   "cell_type": "markdown",
   "metadata": {
    "application/vnd.databricks.v1+cell": {
     "cellMetadata": {
      "byteLimit": 2048000,
      "rowLimit": 10000
     },
     "inputWidgets": {},
     "nuid": "ed8ff07f-524c-444c-b44c-93190ac19890",
     "showTitle": false,
     "title": ""
    }
   },
   "source": [
    "# Trabalhando com Missing Values"
   ]
  },
  {
   "cell_type": "code",
   "execution_count": 0,
   "metadata": {
    "application/vnd.databricks.v1+cell": {
     "cellMetadata": {
      "byteLimit": 2048000,
      "rowLimit": 10000
     },
     "inputWidgets": {},
     "nuid": "74830785-538a-4917-b017-2b409b5567fb",
     "showTitle": false,
     "title": ""
    }
   },
   "outputs": [
    {
     "output_type": "stream",
     "name": "stdout",
     "text": [
      "+--------------------+-----+--------+------+-----------+\n|                date|delay|distance|origin|destination|\n+--------------------+-----+--------+------+-----------+\n|Abbotsford\\tBC\\tC...| NULL|    NULL|  NULL|       NULL|\n|Aberdeen\\tSD\\tUSA...| NULL|    NULL|  NULL|       NULL|\n|Abilene\\tTX\\tUSA\\...| NULL|    NULL|  NULL|       NULL|\n| Akron\\tOH\\tUSA\\tCAK| NULL|    NULL|  NULL|       NULL|\n|Alamosa\\tCO\\tUSA\\...| NULL|    NULL|  NULL|       NULL|\n|Albany\\tGA\\tUSA\\tABY| NULL|    NULL|  NULL|       NULL|\n|Albany\\tNY\\tUSA\\tALB| NULL|    NULL|  NULL|       NULL|\n|Albuquerque\\tNM\\t...| NULL|    NULL|  NULL|       NULL|\n|Alexandria\\tLA\\tU...| NULL|    NULL|  NULL|       NULL|\n|Allentown\\tPA\\tUS...| NULL|    NULL|  NULL|       NULL|\n+--------------------+-----+--------+------+-----------+\nonly showing top 10 rows\n\n"
     ]
    }
   ],
   "source": [
    "# filtrando os valores missing\n",
    "df.filter(df.delay.isNull()).show(10)"
   ]
  },
  {
   "cell_type": "markdown",
   "metadata": {
    "application/vnd.databricks.v1+cell": {
     "cellMetadata": {
      "byteLimit": 2048000,
      "rowLimit": 10000
     },
     "inputWidgets": {},
     "nuid": "1550ddc8-7b7b-4b6a-b490-2c2e8d3d1600",
     "showTitle": false,
     "title": ""
    }
   },
   "source": [
    "# Preenchendo dados Missing"
   ]
  },
  {
   "cell_type": "code",
   "execution_count": 0,
   "metadata": {
    "application/vnd.databricks.v1+cell": {
     "cellMetadata": {
      "byteLimit": 2048000,
      "rowLimit": 10000
     },
     "inputWidgets": {},
     "nuid": "7074db3b-2174-4db7-abd6-61b8385eac68",
     "showTitle": false,
     "title": ""
    }
   },
   "outputs": [
    {
     "output_type": "stream",
     "name": "stdout",
     "text": [
      "+--------+-----+--------+------+-----------+\n|    date|delay|distance|origin|destination|\n+--------+-----+--------+------+-----------+\n|01011245|    6|     602|   ABE|        ATL|\n|01020600|   -8|     369|   ABE|        DTW|\n|01021245|   -2|     602|   ABE|        ATL|\n|01020605|   -4|     602|   ABE|        ATL|\n|01031245|   -4|     602|   ABE|        ATL|\n|01030605|    0|     602|   ABE|        ATL|\n|01041243|   10|     602|   ABE|        ATL|\n|01040605|   28|     602|   ABE|        ATL|\n|01051245|   88|     602|   ABE|        ATL|\n|01050605|    9|     602|   ABE|        ATL|\n|01061215|   -6|     602|   ABE|        ATL|\n|01061725|   69|     602|   ABE|        ATL|\n|01061230|    0|     369|   ABE|        DTW|\n|01060625|   -3|     602|   ABE|        ATL|\n|01070600|    0|     369|   ABE|        DTW|\n|01071725|    0|     602|   ABE|        ATL|\n|01071230|    0|     369|   ABE|        DTW|\n|01070625|    0|     602|   ABE|        ATL|\n|01071219|    0|     569|   ABE|        ORD|\n|01080600|    0|     369|   ABE|        DTW|\n+--------+-----+--------+------+-----------+\nonly showing top 20 rows\n\n"
     ]
    }
   ],
   "source": [
    "# preenche os dados missing com o valor 0\n",
    "df.na.fill(value=0).show()"
   ]
  },
  {
   "cell_type": "code",
   "execution_count": 0,
   "metadata": {
    "application/vnd.databricks.v1+cell": {
     "cellMetadata": {
      "byteLimit": 2048000,
      "rowLimit": 10000
     },
     "inputWidgets": {},
     "nuid": "f4655f85-396d-4ac9-ae01-7e1201670bad",
     "showTitle": false,
     "title": ""
    }
   },
   "outputs": [
    {
     "output_type": "stream",
     "name": "stdout",
     "text": [
      "+--------+-----+--------+------+-----------+\n|    date|delay|distance|origin|destination|\n+--------+-----+--------+------+-----------+\n|01011245|    6|     602|   ABE|        ATL|\n|01020600|   -8|     369|   ABE|        DTW|\n|01021245|   -2|     602|   ABE|        ATL|\n|01020605|   -4|     602|   ABE|        ATL|\n|01031245|   -4|     602|   ABE|        ATL|\n|01030605|    0|     602|   ABE|        ATL|\n|01041243|   10|     602|   ABE|        ATL|\n|01040605|   28|     602|   ABE|        ATL|\n|01051245|   88|     602|   ABE|        ATL|\n|01050605|    9|     602|   ABE|        ATL|\n|01061215|   -6|     602|   ABE|        ATL|\n|01061725|   69|     602|   ABE|        ATL|\n|01061230|    0|     369|   ABE|        DTW|\n|01060625|   -3|     602|   ABE|        ATL|\n|01070600|    0|     369|   ABE|        DTW|\n|01071725|    0|     602|   ABE|        ATL|\n|01071230|    0|     369|   ABE|        DTW|\n|01070625|    0|     602|   ABE|        ATL|\n|01071219|    0|     569|   ABE|        ORD|\n|01080600|    0|     369|   ABE|        DTW|\n+--------+-----+--------+------+-----------+\nonly showing top 20 rows\n\n"
     ]
    }
   ],
   "source": [
    "# preenche valores missing com valor 0 apenas da coluna delay\n",
    "df.na.fill(value=0, subset=[\"delay\"]).show()"
   ]
  },
  {
   "cell_type": "code",
   "execution_count": 0,
   "metadata": {
    "application/vnd.databricks.v1+cell": {
     "cellMetadata": {
      "byteLimit": 2048000,
      "rowLimit": 10000
     },
     "inputWidgets": {},
     "nuid": "5e7d5583-746b-4a50-8268-17b6d7b9d9d4",
     "showTitle": false,
     "title": ""
    }
   },
   "outputs": [
    {
     "output_type": "stream",
     "name": "stdout",
     "text": [
      "+--------+-----+--------+------+-----------+\n|    date|delay|distance|origin|destination|\n+--------+-----+--------+------+-----------+\n|01011245|    6|     602|   ABE|        ATL|\n|01020600|   -8|     369|   ABE|        DTW|\n|01021245|   -2|     602|   ABE|        ATL|\n|01020605|   -4|     602|   ABE|        ATL|\n|01031245|   -4|     602|   ABE|        ATL|\n|01030605|    0|     602|   ABE|        ATL|\n|01041243|   10|     602|   ABE|        ATL|\n|01040605|   28|     602|   ABE|        ATL|\n|01051245|   88|     602|   ABE|        ATL|\n|01050605|    9|     602|   ABE|        ATL|\n|01061215|   -6|     602|   ABE|        ATL|\n|01061725|   69|     602|   ABE|        ATL|\n|01061230|    0|     369|   ABE|        DTW|\n|01060625|   -3|     602|   ABE|        ATL|\n|01070600|    0|     369|   ABE|        DTW|\n|01071725|    0|     602|   ABE|        ATL|\n|01071230|    0|     369|   ABE|        DTW|\n|01070625|    0|     602|   ABE|        ATL|\n|01071219|    0|     569|   ABE|        ORD|\n|01080600|    0|     369|   ABE|        DTW|\n+--------+-----+--------+------+-----------+\nonly showing top 20 rows\n\n"
     ]
    }
   ],
   "source": [
    "# preenche os dados com valores de string vazia\n",
    "df.na.fill(\"\").show()"
   ]
  },
  {
   "cell_type": "code",
   "execution_count": 0,
   "metadata": {
    "application/vnd.databricks.v1+cell": {
     "cellMetadata": {
      "byteLimit": 2048000,
      "rowLimit": 10000
     },
     "inputWidgets": {},
     "nuid": "bd6bd5e3-7d04-4c40-88ea-5e80d9807275",
     "showTitle": false,
     "title": ""
    }
   },
   "outputs": [
    {
     "output_type": "stream",
     "name": "stdout",
     "text": [
      "+--------+-----+--------+------+-----------+\n|    date|delay|distance|origin|destination|\n+--------+-----+--------+------+-----------+\n|01011245|    6|     602|   ABE|        ATL|\n|01020600|   -8|     369|   ABE|        DTW|\n|01021245|   -2|     602|   ABE|        ATL|\n|01020605|   -4|     602|   ABE|        ATL|\n|01031245|   -4|     602|   ABE|        ATL|\n|01030605|    0|     602|   ABE|        ATL|\n|01041243|   10|     602|   ABE|        ATL|\n|01040605|   28|     602|   ABE|        ATL|\n|01051245|   88|     602|   ABE|        ATL|\n|01050605|    9|     602|   ABE|        ATL|\n|01061215|   -6|     602|   ABE|        ATL|\n|01061725|   69|     602|   ABE|        ATL|\n|01061230|    0|     369|   ABE|        DTW|\n|01060625|   -3|     602|   ABE|        ATL|\n|01070600|    0|     369|   ABE|        DTW|\n|01071725|    0|     602|   ABE|        ATL|\n|01071230|    0|     369|   ABE|        DTW|\n|01070625|    0|     602|   ABE|        ATL|\n|01071219|    0|     569|   ABE|        ORD|\n|01080600|    0|     369|   ABE|        DTW|\n+--------+-----+--------+------+-----------+\nonly showing top 20 rows\n\n"
     ]
    }
   ],
   "source": [
    "# remove qualquer linha nula de qualquer coluna\n",
    "df.na.drop().show()"
   ]
  }
 ],
 "metadata": {
  "application/vnd.databricks.v1+notebook": {
   "dashboards": [],
   "language": "python",
   "notebookMetadata": {
    "pythonIndentUnit": 2
   },
   "notebookName": "15_Processando_Dados_com_Spark_na_Pratica",
   "widgets": {}
  }
 },
 "nbformat": 4,
 "nbformat_minor": 0
}

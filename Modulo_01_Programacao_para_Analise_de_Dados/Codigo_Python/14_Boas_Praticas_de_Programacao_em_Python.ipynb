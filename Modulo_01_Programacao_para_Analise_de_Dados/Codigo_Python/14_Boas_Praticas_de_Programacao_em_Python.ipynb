{
 "cells": [
  {
   "cell_type": "markdown",
   "source": [
    "# Boas Práticas de Programação - Python\n",
    "\n",
    "## Tópicos\n",
    "\n",
    "   - Quando usar e quando não usar o comando for\n",
    "   - Comentários\n",
    "   - f-strings\n",
    "   - Compreensão de listas"
   ],
   "metadata": {
    "collapsed": false
   },
   "id": "5fb4fe1381c1a524"
  },
  {
   "cell_type": "code",
   "execution_count": 1,
   "id": "initial_id",
   "metadata": {
    "collapsed": true,
    "ExecuteTime": {
     "end_time": "2024-03-22T21:08:07.482855Z",
     "start_time": "2024-03-22T21:08:05.333414Z"
    }
   },
   "outputs": [],
   "source": [
    "import datetime\n",
    "\n",
    "import matplotlib.pyplot as plt\n",
    "import pandas as pd\n",
    "\n",
    "from sklearn.cluster import KMeans"
   ]
  },
  {
   "cell_type": "code",
   "outputs": [
    {
     "data": {
      "text/plain": "    cpf  data_vencimento  data_pagamento  valor_fatura  idade\n0     0         20220328        20220427        1000.0     30\n1     1         20220328        20220426        1000.0     30\n2     2         20220328        20220428        1000.0     30\n3     3         20220328        20220429        1000.0     30\n4     4         20220328        20220430        1000.0     30\n5     5         20220328        20220501        1000.0     30\n6     6         20220328        20220502        1000.0     30\n7     7         20220328        20220503        1000.0     30\n8     8         20220328        20220504        1000.0     31\n9     9         20220328        20220505        1050.0     31\n10   10         20220328        20220506        1050.0     31\n11   11         20220328        20220507        1050.0     32\n12   12         20220328        20220508        1050.0     32\n13   13         20220328        20220509        1050.0     33\n14   14         20220328        20220510        1051.0     33\n15   15         20220328        20220511        1052.0     34\n16   16         20220328        20220512        1053.0     35\n17   17         20220328        20220513        1054.0     36\n18   18         20220328        20220514        1055.0     37\n19   19         20220328        20220515        1056.0     38\n20   20         20220328        20220516        1057.0     39\n21   21         20220328        20220517        1058.0     40\n22   22         20220328        20220518        1059.0     41\n23   23         20220328        20220519        1060.0     42\n24   24         20220328        20220520        1061.0     43\n25   25         20220328        20220521        1062.0     44\n26   26         20220328        20220522        1063.0     45\n27   27         20220328        20220523        1064.0     46\n28   28         20220328        20220524        1065.0     47\n29   29         20220328        20220525        1066.0     48\n30   30         20220328        20220526        1067.0     49",
      "text/html": "<div>\n<style scoped>\n    .dataframe tbody tr th:only-of-type {\n        vertical-align: middle;\n    }\n\n    .dataframe tbody tr th {\n        vertical-align: top;\n    }\n\n    .dataframe thead th {\n        text-align: right;\n    }\n</style>\n<table border=\"1\" class=\"dataframe\">\n  <thead>\n    <tr style=\"text-align: right;\">\n      <th></th>\n      <th>cpf</th>\n      <th>data_vencimento</th>\n      <th>data_pagamento</th>\n      <th>valor_fatura</th>\n      <th>idade</th>\n    </tr>\n  </thead>\n  <tbody>\n    <tr>\n      <th>0</th>\n      <td>0</td>\n      <td>20220328</td>\n      <td>20220427</td>\n      <td>1000.0</td>\n      <td>30</td>\n    </tr>\n    <tr>\n      <th>1</th>\n      <td>1</td>\n      <td>20220328</td>\n      <td>20220426</td>\n      <td>1000.0</td>\n      <td>30</td>\n    </tr>\n    <tr>\n      <th>2</th>\n      <td>2</td>\n      <td>20220328</td>\n      <td>20220428</td>\n      <td>1000.0</td>\n      <td>30</td>\n    </tr>\n    <tr>\n      <th>3</th>\n      <td>3</td>\n      <td>20220328</td>\n      <td>20220429</td>\n      <td>1000.0</td>\n      <td>30</td>\n    </tr>\n    <tr>\n      <th>4</th>\n      <td>4</td>\n      <td>20220328</td>\n      <td>20220430</td>\n      <td>1000.0</td>\n      <td>30</td>\n    </tr>\n    <tr>\n      <th>5</th>\n      <td>5</td>\n      <td>20220328</td>\n      <td>20220501</td>\n      <td>1000.0</td>\n      <td>30</td>\n    </tr>\n    <tr>\n      <th>6</th>\n      <td>6</td>\n      <td>20220328</td>\n      <td>20220502</td>\n      <td>1000.0</td>\n      <td>30</td>\n    </tr>\n    <tr>\n      <th>7</th>\n      <td>7</td>\n      <td>20220328</td>\n      <td>20220503</td>\n      <td>1000.0</td>\n      <td>30</td>\n    </tr>\n    <tr>\n      <th>8</th>\n      <td>8</td>\n      <td>20220328</td>\n      <td>20220504</td>\n      <td>1000.0</td>\n      <td>31</td>\n    </tr>\n    <tr>\n      <th>9</th>\n      <td>9</td>\n      <td>20220328</td>\n      <td>20220505</td>\n      <td>1050.0</td>\n      <td>31</td>\n    </tr>\n    <tr>\n      <th>10</th>\n      <td>10</td>\n      <td>20220328</td>\n      <td>20220506</td>\n      <td>1050.0</td>\n      <td>31</td>\n    </tr>\n    <tr>\n      <th>11</th>\n      <td>11</td>\n      <td>20220328</td>\n      <td>20220507</td>\n      <td>1050.0</td>\n      <td>32</td>\n    </tr>\n    <tr>\n      <th>12</th>\n      <td>12</td>\n      <td>20220328</td>\n      <td>20220508</td>\n      <td>1050.0</td>\n      <td>32</td>\n    </tr>\n    <tr>\n      <th>13</th>\n      <td>13</td>\n      <td>20220328</td>\n      <td>20220509</td>\n      <td>1050.0</td>\n      <td>33</td>\n    </tr>\n    <tr>\n      <th>14</th>\n      <td>14</td>\n      <td>20220328</td>\n      <td>20220510</td>\n      <td>1051.0</td>\n      <td>33</td>\n    </tr>\n    <tr>\n      <th>15</th>\n      <td>15</td>\n      <td>20220328</td>\n      <td>20220511</td>\n      <td>1052.0</td>\n      <td>34</td>\n    </tr>\n    <tr>\n      <th>16</th>\n      <td>16</td>\n      <td>20220328</td>\n      <td>20220512</td>\n      <td>1053.0</td>\n      <td>35</td>\n    </tr>\n    <tr>\n      <th>17</th>\n      <td>17</td>\n      <td>20220328</td>\n      <td>20220513</td>\n      <td>1054.0</td>\n      <td>36</td>\n    </tr>\n    <tr>\n      <th>18</th>\n      <td>18</td>\n      <td>20220328</td>\n      <td>20220514</td>\n      <td>1055.0</td>\n      <td>37</td>\n    </tr>\n    <tr>\n      <th>19</th>\n      <td>19</td>\n      <td>20220328</td>\n      <td>20220515</td>\n      <td>1056.0</td>\n      <td>38</td>\n    </tr>\n    <tr>\n      <th>20</th>\n      <td>20</td>\n      <td>20220328</td>\n      <td>20220516</td>\n      <td>1057.0</td>\n      <td>39</td>\n    </tr>\n    <tr>\n      <th>21</th>\n      <td>21</td>\n      <td>20220328</td>\n      <td>20220517</td>\n      <td>1058.0</td>\n      <td>40</td>\n    </tr>\n    <tr>\n      <th>22</th>\n      <td>22</td>\n      <td>20220328</td>\n      <td>20220518</td>\n      <td>1059.0</td>\n      <td>41</td>\n    </tr>\n    <tr>\n      <th>23</th>\n      <td>23</td>\n      <td>20220328</td>\n      <td>20220519</td>\n      <td>1060.0</td>\n      <td>42</td>\n    </tr>\n    <tr>\n      <th>24</th>\n      <td>24</td>\n      <td>20220328</td>\n      <td>20220520</td>\n      <td>1061.0</td>\n      <td>43</td>\n    </tr>\n    <tr>\n      <th>25</th>\n      <td>25</td>\n      <td>20220328</td>\n      <td>20220521</td>\n      <td>1062.0</td>\n      <td>44</td>\n    </tr>\n    <tr>\n      <th>26</th>\n      <td>26</td>\n      <td>20220328</td>\n      <td>20220522</td>\n      <td>1063.0</td>\n      <td>45</td>\n    </tr>\n    <tr>\n      <th>27</th>\n      <td>27</td>\n      <td>20220328</td>\n      <td>20220523</td>\n      <td>1064.0</td>\n      <td>46</td>\n    </tr>\n    <tr>\n      <th>28</th>\n      <td>28</td>\n      <td>20220328</td>\n      <td>20220524</td>\n      <td>1065.0</td>\n      <td>47</td>\n    </tr>\n    <tr>\n      <th>29</th>\n      <td>29</td>\n      <td>20220328</td>\n      <td>20220525</td>\n      <td>1066.0</td>\n      <td>48</td>\n    </tr>\n    <tr>\n      <th>30</th>\n      <td>30</td>\n      <td>20220328</td>\n      <td>20220526</td>\n      <td>1067.0</td>\n      <td>49</td>\n    </tr>\n  </tbody>\n</table>\n</div>"
     },
     "execution_count": 2,
     "metadata": {},
     "output_type": "execute_result"
    }
   ],
   "source": [
    "df = pd.read_csv('../Database/pagamentos.csv')\n",
    "df"
   ],
   "metadata": {
    "collapsed": false,
    "ExecuteTime": {
     "end_time": "2024-03-22T21:08:08.227382Z",
     "start_time": "2024-03-22T21:08:08.210413Z"
    }
   },
   "id": "b1ede4a3d0ff5e97",
   "execution_count": 2
  },
  {
   "cell_type": "markdown",
   "source": [
    "# Quando **usar** e quando **evitar** o comando ``for``\n",
    "\n",
    "Problema: identificar pessoas que fizeram pagamento com > 5 dias de atraso."
   ],
   "metadata": {
    "collapsed": false
   },
   "id": "449eafcd92a88187"
  },
  {
   "cell_type": "code",
   "outputs": [
    {
     "data": {
      "text/plain": "   cpf  data_vencimento  data_pagamento  valor_fatura  idade\n0    0         20220328        20220427        1000.0     30\n1    1         20220328        20220426        1000.0     30\n2    2         20220328        20220428        1000.0     30\n3    3         20220328        20220429        1000.0     30\n4    4         20220328        20220430        1000.0     30",
      "text/html": "<div>\n<style scoped>\n    .dataframe tbody tr th:only-of-type {\n        vertical-align: middle;\n    }\n\n    .dataframe tbody tr th {\n        vertical-align: top;\n    }\n\n    .dataframe thead th {\n        text-align: right;\n    }\n</style>\n<table border=\"1\" class=\"dataframe\">\n  <thead>\n    <tr style=\"text-align: right;\">\n      <th></th>\n      <th>cpf</th>\n      <th>data_vencimento</th>\n      <th>data_pagamento</th>\n      <th>valor_fatura</th>\n      <th>idade</th>\n    </tr>\n  </thead>\n  <tbody>\n    <tr>\n      <th>0</th>\n      <td>0</td>\n      <td>20220328</td>\n      <td>20220427</td>\n      <td>1000.0</td>\n      <td>30</td>\n    </tr>\n    <tr>\n      <th>1</th>\n      <td>1</td>\n      <td>20220328</td>\n      <td>20220426</td>\n      <td>1000.0</td>\n      <td>30</td>\n    </tr>\n    <tr>\n      <th>2</th>\n      <td>2</td>\n      <td>20220328</td>\n      <td>20220428</td>\n      <td>1000.0</td>\n      <td>30</td>\n    </tr>\n    <tr>\n      <th>3</th>\n      <td>3</td>\n      <td>20220328</td>\n      <td>20220429</td>\n      <td>1000.0</td>\n      <td>30</td>\n    </tr>\n    <tr>\n      <th>4</th>\n      <td>4</td>\n      <td>20220328</td>\n      <td>20220430</td>\n      <td>1000.0</td>\n      <td>30</td>\n    </tr>\n  </tbody>\n</table>\n</div>"
     },
     "execution_count": 3,
     "metadata": {},
     "output_type": "execute_result"
    }
   ],
   "source": [
    "df.head()"
   ],
   "metadata": {
    "collapsed": false,
    "ExecuteTime": {
     "end_time": "2024-03-22T21:08:10.120731Z",
     "start_time": "2024-03-22T21:08:10.111711Z"
    }
   },
   "id": "5e372e624943879",
   "execution_count": 3
  },
  {
   "cell_type": "code",
   "outputs": [
    {
     "data": {
      "text/plain": "0"
     },
     "execution_count": 4,
     "metadata": {},
     "output_type": "execute_result"
    }
   ],
   "source": [
    "data_vencimento = 20220328\n",
    "data_pagamento = 20220324\n",
    "\n",
    "dt_vencimento = datetime.datetime.strptime(str(data_vencimento), '%Y%m%d')\n",
    "dt_pagamento = datetime.datetime.strptime(str(data_pagamento), '%Y%m%d')\n",
    "\n",
    "if (dt_pagamento - dt_vencimento).days > 5:\n",
    "    vencido_mais_5_dias = 1\n",
    "else:\n",
    "    vencido_mais_5_dias = 0\n",
    "\n",
    "vencido_mais_5_dias"
   ],
   "metadata": {
    "collapsed": false,
    "ExecuteTime": {
     "end_time": "2024-03-22T21:08:10.947255Z",
     "start_time": "2024-03-22T21:08:10.940436Z"
    }
   },
   "id": "9053eca68a6efc47",
   "execution_count": 4
  },
  {
   "cell_type": "markdown",
   "source": [
    "## Solução 01: usando ``for``"
   ],
   "metadata": {
    "collapsed": false
   },
   "id": "dee5a212f20b75e3"
  },
  {
   "cell_type": "code",
   "outputs": [],
   "source": [
    "vencido_mais_5_dias = []\n",
    "\n",
    "for i, row in df.iterrows():\n",
    "    data_vencimento = str(row['data_vencimento'])\n",
    "    data_pagamento = str(row['data_pagamento'])\n",
    "\n",
    "    # Remover parte decimal (se houver)\n",
    "    data_vencimento = data_vencimento.split('.')[0]\n",
    "    data_pagamento = data_pagamento.split('.')[0]\n",
    "\n",
    "    # Verificar se a data está no formato esperado\n",
    "    if len(data_vencimento) == 8 and len(data_pagamento) == 8:\n",
    "        dt_vencimento = datetime.datetime.strptime(data_vencimento, '%Y%m%d')\n",
    "        dt_pagamento = datetime.datetime.strptime(data_pagamento, '%Y%m%d')\n",
    "\n",
    "        if (dt_pagamento - dt_vencimento).days > 5:\n",
    "            vencido_mais_5_dias.append(1)\n",
    "        else:\n",
    "            vencido_mais_5_dias.append(0)\n",
    "    else:\n",
    "        vencido_mais_5_dias.append(0)  # ou outra ação apropriada para lidar com datas mal formatadas\n"
   ],
   "metadata": {
    "collapsed": false,
    "ExecuteTime": {
     "end_time": "2024-03-22T21:08:12.538970Z",
     "start_time": "2024-03-22T21:08:12.529232Z"
    }
   },
   "id": "be5e0b5077e5460c",
   "execution_count": 5
  },
  {
   "cell_type": "code",
   "outputs": [
    {
     "data": {
      "text/plain": "[1,\n 1,\n 1,\n 1,\n 1,\n 1,\n 1,\n 1,\n 1,\n 1,\n 1,\n 1,\n 1,\n 1,\n 1,\n 1,\n 1,\n 1,\n 1,\n 1,\n 1,\n 1,\n 1,\n 1,\n 1,\n 1,\n 1,\n 1,\n 1,\n 1,\n 1]"
     },
     "execution_count": 6,
     "metadata": {},
     "output_type": "execute_result"
    }
   ],
   "source": [
    "vencido_mais_5_dias"
   ],
   "metadata": {
    "collapsed": false,
    "ExecuteTime": {
     "end_time": "2024-03-22T21:08:13.341716Z",
     "start_time": "2024-03-22T21:08:13.336598Z"
    }
   },
   "id": "f8f5534df3af1acb",
   "execution_count": 6
  },
  {
   "cell_type": "code",
   "outputs": [
    {
     "data": {
      "text/plain": "[1, 1, 1, 1, 1]"
     },
     "execution_count": 7,
     "metadata": {},
     "output_type": "execute_result"
    }
   ],
   "source": [
    "vencido_mais_5_dias[:5]"
   ],
   "metadata": {
    "collapsed": false,
    "ExecuteTime": {
     "end_time": "2024-03-22T21:08:14.130963Z",
     "start_time": "2024-03-22T21:08:14.124571Z"
    }
   },
   "id": "c5fa93637948e198",
   "execution_count": 7
  },
  {
   "cell_type": "code",
   "outputs": [
    {
     "data": {
      "text/plain": "   cpf  data_vencimento  data_pagamento  valor_fatura  idade\n0    0         20220328        20220427        1000.0     30\n1    1         20220328        20220426        1000.0     30\n2    2         20220328        20220428        1000.0     30\n3    3         20220328        20220429        1000.0     30\n4    4         20220328        20220430        1000.0     30",
      "text/html": "<div>\n<style scoped>\n    .dataframe tbody tr th:only-of-type {\n        vertical-align: middle;\n    }\n\n    .dataframe tbody tr th {\n        vertical-align: top;\n    }\n\n    .dataframe thead th {\n        text-align: right;\n    }\n</style>\n<table border=\"1\" class=\"dataframe\">\n  <thead>\n    <tr style=\"text-align: right;\">\n      <th></th>\n      <th>cpf</th>\n      <th>data_vencimento</th>\n      <th>data_pagamento</th>\n      <th>valor_fatura</th>\n      <th>idade</th>\n    </tr>\n  </thead>\n  <tbody>\n    <tr>\n      <th>0</th>\n      <td>0</td>\n      <td>20220328</td>\n      <td>20220427</td>\n      <td>1000.0</td>\n      <td>30</td>\n    </tr>\n    <tr>\n      <th>1</th>\n      <td>1</td>\n      <td>20220328</td>\n      <td>20220426</td>\n      <td>1000.0</td>\n      <td>30</td>\n    </tr>\n    <tr>\n      <th>2</th>\n      <td>2</td>\n      <td>20220328</td>\n      <td>20220428</td>\n      <td>1000.0</td>\n      <td>30</td>\n    </tr>\n    <tr>\n      <th>3</th>\n      <td>3</td>\n      <td>20220328</td>\n      <td>20220429</td>\n      <td>1000.0</td>\n      <td>30</td>\n    </tr>\n    <tr>\n      <th>4</th>\n      <td>4</td>\n      <td>20220328</td>\n      <td>20220430</td>\n      <td>1000.0</td>\n      <td>30</td>\n    </tr>\n  </tbody>\n</table>\n</div>"
     },
     "execution_count": 8,
     "metadata": {},
     "output_type": "execute_result"
    }
   ],
   "source": [
    "df.head()"
   ],
   "metadata": {
    "collapsed": false,
    "ExecuteTime": {
     "end_time": "2024-03-22T21:08:15.082205Z",
     "start_time": "2024-03-22T21:08:15.072925Z"
    }
   },
   "id": "a977a28866de09a3",
   "execution_count": 8
  },
  {
   "cell_type": "code",
   "outputs": [],
   "source": [
    "df['vencido_mais_5_dias'] = vencido_mais_5_dias"
   ],
   "metadata": {
    "collapsed": false,
    "ExecuteTime": {
     "end_time": "2024-03-22T21:08:15.727905Z",
     "start_time": "2024-03-22T21:08:15.723226Z"
    }
   },
   "id": "e24e3dad305f6150",
   "execution_count": 9
  },
  {
   "cell_type": "code",
   "outputs": [
    {
     "data": {
      "text/plain": "   cpf  data_vencimento  data_pagamento  valor_fatura  idade  \\\n0    0         20220328        20220427        1000.0     30   \n1    1         20220328        20220426        1000.0     30   \n2    2         20220328        20220428        1000.0     30   \n3    3         20220328        20220429        1000.0     30   \n4    4         20220328        20220430        1000.0     30   \n\n   vencido_mais_5_dias  \n0                    1  \n1                    1  \n2                    1  \n3                    1  \n4                    1  ",
      "text/html": "<div>\n<style scoped>\n    .dataframe tbody tr th:only-of-type {\n        vertical-align: middle;\n    }\n\n    .dataframe tbody tr th {\n        vertical-align: top;\n    }\n\n    .dataframe thead th {\n        text-align: right;\n    }\n</style>\n<table border=\"1\" class=\"dataframe\">\n  <thead>\n    <tr style=\"text-align: right;\">\n      <th></th>\n      <th>cpf</th>\n      <th>data_vencimento</th>\n      <th>data_pagamento</th>\n      <th>valor_fatura</th>\n      <th>idade</th>\n      <th>vencido_mais_5_dias</th>\n    </tr>\n  </thead>\n  <tbody>\n    <tr>\n      <th>0</th>\n      <td>0</td>\n      <td>20220328</td>\n      <td>20220427</td>\n      <td>1000.0</td>\n      <td>30</td>\n      <td>1</td>\n    </tr>\n    <tr>\n      <th>1</th>\n      <td>1</td>\n      <td>20220328</td>\n      <td>20220426</td>\n      <td>1000.0</td>\n      <td>30</td>\n      <td>1</td>\n    </tr>\n    <tr>\n      <th>2</th>\n      <td>2</td>\n      <td>20220328</td>\n      <td>20220428</td>\n      <td>1000.0</td>\n      <td>30</td>\n      <td>1</td>\n    </tr>\n    <tr>\n      <th>3</th>\n      <td>3</td>\n      <td>20220328</td>\n      <td>20220429</td>\n      <td>1000.0</td>\n      <td>30</td>\n      <td>1</td>\n    </tr>\n    <tr>\n      <th>4</th>\n      <td>4</td>\n      <td>20220328</td>\n      <td>20220430</td>\n      <td>1000.0</td>\n      <td>30</td>\n      <td>1</td>\n    </tr>\n  </tbody>\n</table>\n</div>"
     },
     "execution_count": 10,
     "metadata": {},
     "output_type": "execute_result"
    }
   ],
   "source": [
    "df.head()"
   ],
   "metadata": {
    "collapsed": false,
    "ExecuteTime": {
     "end_time": "2024-03-22T21:08:16.643363Z",
     "start_time": "2024-03-22T21:08:16.632762Z"
    }
   },
   "id": "961b7c903c7427a3",
   "execution_count": 10
  },
  {
   "cell_type": "code",
   "outputs": [
    {
     "name": "stdout",
     "output_type": "stream",
     "text": [
      "1.78 ms ± 60.9 µs per loop (mean ± std. dev. of 7 runs, 1,000 loops each)\n"
     ]
    }
   ],
   "source": [
    "%%timeit\n",
    "vencido_mais_5_dias = []\n",
    "\n",
    "for i, row in df.iterrows():\n",
    "    data_vencimento = str(row['data_vencimento'])\n",
    "    data_pagamento = str(row['data_pagamento'])\n",
    "\n",
    "    # Remover parte decimal (se houver)\n",
    "    data_vencimento = data_vencimento.split('.')[0]\n",
    "    data_pagamento = data_pagamento.split('.')[0]\n",
    "\n",
    "    # Verificar se a data está no formato esperado\n",
    "    if len(data_vencimento) == 8 and len(data_pagamento) == 8:\n",
    "        dt_vencimento = datetime.datetime.strptime(data_vencimento, '%Y%m%d')\n",
    "        dt_pagamento = datetime.datetime.strptime(data_pagamento, '%Y%m%d')\n",
    "\n",
    "        if (dt_pagamento - dt_vencimento).days > 5:\n",
    "            vencido_mais_5_dias.append(1)\n",
    "        else:\n",
    "            vencido_mais_5_dias.append(0)\n",
    "    else:\n",
    "        vencido_mais_5_dias.append(0)  # ou outra ação apropriada para lidar com datas mal formatadas"
   ],
   "metadata": {
    "collapsed": false,
    "ExecuteTime": {
     "end_time": "2024-03-22T21:08:32.056105Z",
     "start_time": "2024-03-22T21:08:17.546351Z"
    }
   },
   "id": "65f99acf0cb726be",
   "execution_count": 11
  },
  {
   "cell_type": "markdown",
   "source": [
    "## Solução 02: usando ``df.apply``"
   ],
   "metadata": {
    "collapsed": false
   },
   "id": "2269b554c3b148a0"
  },
  {
   "cell_type": "code",
   "outputs": [],
   "source": [
    "df = pd.read_csv('../Database/pagamentos.csv')"
   ],
   "metadata": {
    "collapsed": false,
    "ExecuteTime": {
     "end_time": "2024-03-22T21:08:34.576997Z",
     "start_time": "2024-03-22T21:08:34.569724Z"
    }
   },
   "id": "1175f0f81c7dc101",
   "execution_count": 12
  },
  {
   "cell_type": "code",
   "outputs": [],
   "source": [
    "def calcula_vencido_mais_5_dias(row):\n",
    "    vencido_mais_5_dias = []\n",
    "    \n",
    "    data_vencimento = str(row['data_vencimento'])\n",
    "    data_pagamento = str(row['data_pagamento'])\n",
    "    \n",
    "    # Remover parte decimal (se houver)\n",
    "    data_vencimento = data_vencimento.split('.')[0]\n",
    "    data_pagamento = data_pagamento.split('.')[0]\n",
    "    \n",
    "    dt_vencimento = datetime.datetime.strptime(str(data_vencimento), '%Y%m%d')\n",
    "    dt_pagamento = datetime.datetime.strptime(str(data_pagamento), '%Y%m%d')\n",
    "    \n",
    "    if (dt_pagamento - dt_vencimento).days > 5:\n",
    "        return 1\n",
    "    else:\n",
    "        return 0"
   ],
   "metadata": {
    "collapsed": false,
    "ExecuteTime": {
     "end_time": "2024-03-22T21:08:35.668755Z",
     "start_time": "2024-03-22T21:08:35.664274Z"
    }
   },
   "id": "a1434fbcfd147ba0",
   "execution_count": 13
  },
  {
   "cell_type": "code",
   "outputs": [
    {
     "data": {
      "text/plain": "0     1\n1     1\n2     1\n3     1\n4     1\n5     1\n6     1\n7     1\n8     1\n9     1\n10    1\n11    1\n12    1\n13    1\n14    1\n15    1\n16    1\n17    1\n18    1\n19    1\n20    1\n21    1\n22    1\n23    1\n24    1\n25    1\n26    1\n27    1\n28    1\n29    1\n30    1\ndtype: int64"
     },
     "execution_count": 14,
     "metadata": {},
     "output_type": "execute_result"
    }
   ],
   "source": [
    "df.apply(calcula_vencido_mais_5_dias, axis=1)"
   ],
   "metadata": {
    "collapsed": false,
    "ExecuteTime": {
     "end_time": "2024-03-22T21:08:36.607686Z",
     "start_time": "2024-03-22T21:08:36.598898Z"
    }
   },
   "id": "c980779f27b22319",
   "execution_count": 14
  },
  {
   "cell_type": "code",
   "outputs": [],
   "source": [
    "df['vencido_mais_5_dias'] = df.apply(calcula_vencido_mais_5_dias, axis=1)"
   ],
   "metadata": {
    "collapsed": false,
    "ExecuteTime": {
     "end_time": "2024-03-22T21:08:37.531746Z",
     "start_time": "2024-03-22T21:08:37.521997Z"
    }
   },
   "id": "adc9f2b8a86f66a6",
   "execution_count": 15
  },
  {
   "cell_type": "code",
   "outputs": [
    {
     "data": {
      "text/plain": "   cpf  data_vencimento  data_pagamento  valor_fatura  idade  \\\n0    0         20220328        20220427        1000.0     30   \n1    1         20220328        20220426        1000.0     30   \n2    2         20220328        20220428        1000.0     30   \n3    3         20220328        20220429        1000.0     30   \n4    4         20220328        20220430        1000.0     30   \n\n   vencido_mais_5_dias  \n0                    1  \n1                    1  \n2                    1  \n3                    1  \n4                    1  ",
      "text/html": "<div>\n<style scoped>\n    .dataframe tbody tr th:only-of-type {\n        vertical-align: middle;\n    }\n\n    .dataframe tbody tr th {\n        vertical-align: top;\n    }\n\n    .dataframe thead th {\n        text-align: right;\n    }\n</style>\n<table border=\"1\" class=\"dataframe\">\n  <thead>\n    <tr style=\"text-align: right;\">\n      <th></th>\n      <th>cpf</th>\n      <th>data_vencimento</th>\n      <th>data_pagamento</th>\n      <th>valor_fatura</th>\n      <th>idade</th>\n      <th>vencido_mais_5_dias</th>\n    </tr>\n  </thead>\n  <tbody>\n    <tr>\n      <th>0</th>\n      <td>0</td>\n      <td>20220328</td>\n      <td>20220427</td>\n      <td>1000.0</td>\n      <td>30</td>\n      <td>1</td>\n    </tr>\n    <tr>\n      <th>1</th>\n      <td>1</td>\n      <td>20220328</td>\n      <td>20220426</td>\n      <td>1000.0</td>\n      <td>30</td>\n      <td>1</td>\n    </tr>\n    <tr>\n      <th>2</th>\n      <td>2</td>\n      <td>20220328</td>\n      <td>20220428</td>\n      <td>1000.0</td>\n      <td>30</td>\n      <td>1</td>\n    </tr>\n    <tr>\n      <th>3</th>\n      <td>3</td>\n      <td>20220328</td>\n      <td>20220429</td>\n      <td>1000.0</td>\n      <td>30</td>\n      <td>1</td>\n    </tr>\n    <tr>\n      <th>4</th>\n      <td>4</td>\n      <td>20220328</td>\n      <td>20220430</td>\n      <td>1000.0</td>\n      <td>30</td>\n      <td>1</td>\n    </tr>\n  </tbody>\n</table>\n</div>"
     },
     "execution_count": 16,
     "metadata": {},
     "output_type": "execute_result"
    }
   ],
   "source": [
    "df.head()"
   ],
   "metadata": {
    "collapsed": false,
    "ExecuteTime": {
     "end_time": "2024-03-22T21:08:38.393402Z",
     "start_time": "2024-03-22T21:08:38.383224Z"
    }
   },
   "id": "f3327813b2ce8ff3",
   "execution_count": 16
  },
  {
   "cell_type": "code",
   "outputs": [
    {
     "name": "stdout",
     "output_type": "stream",
     "text": [
      "1.54 ms ± 652 µs per loop (mean ± std. dev. of 7 runs, 100 loops each)\n"
     ]
    }
   ],
   "source": [
    "%%timeit\n",
    "df.apply(calcula_vencido_mais_5_dias, axis=1)"
   ],
   "metadata": {
    "collapsed": false,
    "ExecuteTime": {
     "end_time": "2024-03-22T21:08:40.643312Z",
     "start_time": "2024-03-22T21:08:39.248230Z"
    }
   },
   "id": "2e4b76484b39e059",
   "execution_count": 17
  },
  {
   "cell_type": "markdown",
   "source": [
    "## Solução 03: usando operações vetorais"
   ],
   "metadata": {
    "collapsed": false
   },
   "id": "d0d2a7189beb1300"
  },
  {
   "cell_type": "code",
   "outputs": [],
   "source": [
    "df = pd.read_csv('../Database/pagamentos.csv')"
   ],
   "metadata": {
    "collapsed": false,
    "ExecuteTime": {
     "end_time": "2024-03-22T21:08:41.992162Z",
     "start_time": "2024-03-22T21:08:41.984832Z"
    }
   },
   "id": "4c3015bf607edc92",
   "execution_count": 18
  },
  {
   "cell_type": "code",
   "outputs": [
    {
     "data": {
      "text/plain": "0     20220328\n1     20220328\n2     20220328\n3     20220328\n4     20220328\n5     20220328\n6     20220328\n7     20220328\n8     20220328\n9     20220328\n10    20220328\n11    20220328\n12    20220328\n13    20220328\n14    20220328\n15    20220328\n16    20220328\n17    20220328\n18    20220328\n19    20220328\n20    20220328\n21    20220328\n22    20220328\n23    20220328\n24    20220328\n25    20220328\n26    20220328\n27    20220328\n28    20220328\n29    20220328\n30    20220328\nName: data_vencimento, dtype: int64"
     },
     "execution_count": 19,
     "metadata": {},
     "output_type": "execute_result"
    }
   ],
   "source": [
    "df['data_vencimento']"
   ],
   "metadata": {
    "collapsed": false,
    "ExecuteTime": {
     "end_time": "2024-03-22T21:08:43.547881Z",
     "start_time": "2024-03-22T21:08:43.539667Z"
    }
   },
   "id": "f016ae6ec69a3f92",
   "execution_count": 19
  },
  {
   "cell_type": "code",
   "outputs": [
    {
     "data": {
      "text/plain": "0    2022-03-28\n1    2022-03-28\n2    2022-03-28\n3    2022-03-28\n4    2022-03-28\n5    2022-03-28\n6    2022-03-28\n7    2022-03-28\n8    2022-03-28\n9    2022-03-28\n10   2022-03-28\n11   2022-03-28\n12   2022-03-28\n13   2022-03-28\n14   2022-03-28\n15   2022-03-28\n16   2022-03-28\n17   2022-03-28\n18   2022-03-28\n19   2022-03-28\n20   2022-03-28\n21   2022-03-28\n22   2022-03-28\n23   2022-03-28\n24   2022-03-28\n25   2022-03-28\n26   2022-03-28\n27   2022-03-28\n28   2022-03-28\n29   2022-03-28\n30   2022-03-28\nName: data_vencimento, dtype: datetime64[ns]"
     },
     "execution_count": 20,
     "metadata": {},
     "output_type": "execute_result"
    }
   ],
   "source": [
    "pd.to_datetime(df['data_vencimento'], format='%Y%m%d')"
   ],
   "metadata": {
    "collapsed": false,
    "ExecuteTime": {
     "end_time": "2024-03-22T21:08:44.467611Z",
     "start_time": "2024-03-22T21:08:44.459131Z"
    }
   },
   "id": "d5dd1b067e50c59a",
   "execution_count": 20
  },
  {
   "cell_type": "code",
   "outputs": [
    {
     "data": {
      "text/plain": "0    30 days\n1    29 days\n2    31 days\n3    32 days\n4    33 days\n5    34 days\n6    35 days\n7    36 days\n8    37 days\n9    38 days\n10   39 days\n11   40 days\n12   41 days\n13   42 days\n14   43 days\n15   44 days\n16   45 days\n17   46 days\n18   47 days\n19   48 days\n20   49 days\n21   50 days\n22   51 days\n23   52 days\n24   53 days\n25   54 days\n26   55 days\n27   56 days\n28   57 days\n29   58 days\n30   59 days\ndtype: timedelta64[ns]"
     },
     "execution_count": 21,
     "metadata": {},
     "output_type": "execute_result"
    }
   ],
   "source": [
    "dt_vencimento = pd.to_datetime(df['data_vencimento'], format='%Y%m%d')\n",
    "dt_pagamento = pd.to_datetime(df['data_pagamento'], format='%Y%m%d')\n",
    "\n",
    "dt_pagamento - dt_vencimento"
   ],
   "metadata": {
    "collapsed": false,
    "ExecuteTime": {
     "end_time": "2024-03-22T21:08:45.441592Z",
     "start_time": "2024-03-22T21:08:45.433248Z"
    }
   },
   "id": "d23dc6b01a70211e",
   "execution_count": 21
  },
  {
   "cell_type": "code",
   "outputs": [
    {
     "data": {
      "text/plain": "0     30\n1     29\n2     31\n3     32\n4     33\n5     34\n6     35\n7     36\n8     37\n9     38\n10    39\n11    40\n12    41\n13    42\n14    43\n15    44\n16    45\n17    46\n18    47\n19    48\n20    49\n21    50\n22    51\n23    52\n24    53\n25    54\n26    55\n27    56\n28    57\n29    58\n30    59\ndtype: int64"
     },
     "execution_count": 22,
     "metadata": {},
     "output_type": "execute_result"
    }
   ],
   "source": [
    "(dt_pagamento - dt_vencimento).dt.days"
   ],
   "metadata": {
    "collapsed": false,
    "ExecuteTime": {
     "end_time": "2024-03-22T21:08:46.519976Z",
     "start_time": "2024-03-22T21:08:46.511314Z"
    }
   },
   "id": "406fffb9bebfd71",
   "execution_count": 22
  },
  {
   "cell_type": "code",
   "outputs": [
    {
     "data": {
      "text/plain": "0     1\n1     1\n2     1\n3     1\n4     1\n5     1\n6     1\n7     1\n8     1\n9     1\n10    1\n11    1\n12    1\n13    1\n14    1\n15    1\n16    1\n17    1\n18    1\n19    1\n20    1\n21    1\n22    1\n23    1\n24    1\n25    1\n26    1\n27    1\n28    1\n29    1\n30    1\ndtype: int32"
     },
     "execution_count": 23,
     "metadata": {},
     "output_type": "execute_result"
    }
   ],
   "source": [
    "dias_vencido = (dt_pagamento - dt_vencimento).dt.days\n",
    "(dias_vencido > 5).astype(int)"
   ],
   "metadata": {
    "collapsed": false,
    "ExecuteTime": {
     "end_time": "2024-03-22T21:08:54.018267Z",
     "start_time": "2024-03-22T21:08:54.009323Z"
    }
   },
   "id": "2ae0725a1804c171",
   "execution_count": 23
  },
  {
   "cell_type": "code",
   "outputs": [],
   "source": [
    "vencido_mais_5_dias = (dias_vencido > 5).astype(int)"
   ],
   "metadata": {
    "collapsed": false,
    "ExecuteTime": {
     "end_time": "2024-03-22T21:08:54.964568Z",
     "start_time": "2024-03-22T21:08:54.959033Z"
    }
   },
   "id": "207e46a8dd0b7c42",
   "execution_count": 24
  },
  {
   "cell_type": "code",
   "outputs": [],
   "source": [
    "df['vencido_mais_5_dias'] = vencido_mais_5_dias"
   ],
   "metadata": {
    "collapsed": false,
    "ExecuteTime": {
     "end_time": "2024-03-22T21:08:55.897675Z",
     "start_time": "2024-03-22T21:08:55.893046Z"
    }
   },
   "id": "176307fd525b7940",
   "execution_count": 25
  },
  {
   "cell_type": "code",
   "outputs": [
    {
     "data": {
      "text/plain": "   cpf  data_vencimento  data_pagamento  valor_fatura  idade  \\\n0    0         20220328        20220427        1000.0     30   \n1    1         20220328        20220426        1000.0     30   \n2    2         20220328        20220428        1000.0     30   \n3    3         20220328        20220429        1000.0     30   \n4    4         20220328        20220430        1000.0     30   \n\n   vencido_mais_5_dias  \n0                    1  \n1                    1  \n2                    1  \n3                    1  \n4                    1  ",
      "text/html": "<div>\n<style scoped>\n    .dataframe tbody tr th:only-of-type {\n        vertical-align: middle;\n    }\n\n    .dataframe tbody tr th {\n        vertical-align: top;\n    }\n\n    .dataframe thead th {\n        text-align: right;\n    }\n</style>\n<table border=\"1\" class=\"dataframe\">\n  <thead>\n    <tr style=\"text-align: right;\">\n      <th></th>\n      <th>cpf</th>\n      <th>data_vencimento</th>\n      <th>data_pagamento</th>\n      <th>valor_fatura</th>\n      <th>idade</th>\n      <th>vencido_mais_5_dias</th>\n    </tr>\n  </thead>\n  <tbody>\n    <tr>\n      <th>0</th>\n      <td>0</td>\n      <td>20220328</td>\n      <td>20220427</td>\n      <td>1000.0</td>\n      <td>30</td>\n      <td>1</td>\n    </tr>\n    <tr>\n      <th>1</th>\n      <td>1</td>\n      <td>20220328</td>\n      <td>20220426</td>\n      <td>1000.0</td>\n      <td>30</td>\n      <td>1</td>\n    </tr>\n    <tr>\n      <th>2</th>\n      <td>2</td>\n      <td>20220328</td>\n      <td>20220428</td>\n      <td>1000.0</td>\n      <td>30</td>\n      <td>1</td>\n    </tr>\n    <tr>\n      <th>3</th>\n      <td>3</td>\n      <td>20220328</td>\n      <td>20220429</td>\n      <td>1000.0</td>\n      <td>30</td>\n      <td>1</td>\n    </tr>\n    <tr>\n      <th>4</th>\n      <td>4</td>\n      <td>20220328</td>\n      <td>20220430</td>\n      <td>1000.0</td>\n      <td>30</td>\n      <td>1</td>\n    </tr>\n  </tbody>\n</table>\n</div>"
     },
     "execution_count": 26,
     "metadata": {},
     "output_type": "execute_result"
    }
   ],
   "source": [
    "df.head()"
   ],
   "metadata": {
    "collapsed": false,
    "ExecuteTime": {
     "end_time": "2024-03-22T21:08:56.732492Z",
     "start_time": "2024-03-22T21:08:56.715053Z"
    }
   },
   "id": "74ccb3d2bdc4214",
   "execution_count": 26
  },
  {
   "cell_type": "code",
   "outputs": [
    {
     "name": "stdout",
     "output_type": "stream",
     "text": [
      "840 µs ± 137 µs per loop (mean ± std. dev. of 7 runs, 1,000 loops each)\n"
     ]
    }
   ],
   "source": [
    "%%timeit\n",
    "dt_vencimento = pd.to_datetime(df['data_vencimento'], format='%Y%m%d')\n",
    "dt_pagamento = pd.to_datetime(df['data_pagamento'], format='%Y%m%d')\n",
    "\n",
    "dias_vencido = (dt_pagamento - dt_vencimento).dt.days\n",
    "(dias_vencido > 5).astype(int)"
   ],
   "metadata": {
    "collapsed": false,
    "ExecuteTime": {
     "end_time": "2024-03-22T21:09:04.828368Z",
     "start_time": "2024-03-22T21:08:57.830849Z"
    }
   },
   "id": "6dfbb756fd2d78af",
   "execution_count": 27
  },
  {
   "cell_type": "markdown",
   "source": [
    "## Repetindo testes com grande volume de dados\n",
    "\n",
    "## Solução 01: usando ``for``"
   ],
   "metadata": {
    "collapsed": false
   },
   "id": "66c3f99cfae72b1"
  },
  {
   "cell_type": "code",
   "outputs": [],
   "source": [
    "df = pd.read_csv('../Database/pagamentos.csv')\n",
    "df = pd.concat([df] * 1000)"
   ],
   "metadata": {
    "collapsed": false,
    "ExecuteTime": {
     "end_time": "2024-03-22T21:09:07.055959Z",
     "start_time": "2024-03-22T21:09:06.706366Z"
    }
   },
   "id": "679b024cbcd2f123",
   "execution_count": 28
  },
  {
   "cell_type": "code",
   "outputs": [
    {
     "data": {
      "text/plain": "    cpf  data_vencimento  data_pagamento  valor_fatura  idade\n0     0         20220328        20220427        1000.0     30\n1     1         20220328        20220426        1000.0     30\n2     2         20220328        20220428        1000.0     30\n3     3         20220328        20220429        1000.0     30\n4     4         20220328        20220430        1000.0     30\n..  ...              ...             ...           ...    ...\n26   26         20220328        20220522        1063.0     45\n27   27         20220328        20220523        1064.0     46\n28   28         20220328        20220524        1065.0     47\n29   29         20220328        20220525        1066.0     48\n30   30         20220328        20220526        1067.0     49\n\n[31000 rows x 5 columns]",
      "text/html": "<div>\n<style scoped>\n    .dataframe tbody tr th:only-of-type {\n        vertical-align: middle;\n    }\n\n    .dataframe tbody tr th {\n        vertical-align: top;\n    }\n\n    .dataframe thead th {\n        text-align: right;\n    }\n</style>\n<table border=\"1\" class=\"dataframe\">\n  <thead>\n    <tr style=\"text-align: right;\">\n      <th></th>\n      <th>cpf</th>\n      <th>data_vencimento</th>\n      <th>data_pagamento</th>\n      <th>valor_fatura</th>\n      <th>idade</th>\n    </tr>\n  </thead>\n  <tbody>\n    <tr>\n      <th>0</th>\n      <td>0</td>\n      <td>20220328</td>\n      <td>20220427</td>\n      <td>1000.0</td>\n      <td>30</td>\n    </tr>\n    <tr>\n      <th>1</th>\n      <td>1</td>\n      <td>20220328</td>\n      <td>20220426</td>\n      <td>1000.0</td>\n      <td>30</td>\n    </tr>\n    <tr>\n      <th>2</th>\n      <td>2</td>\n      <td>20220328</td>\n      <td>20220428</td>\n      <td>1000.0</td>\n      <td>30</td>\n    </tr>\n    <tr>\n      <th>3</th>\n      <td>3</td>\n      <td>20220328</td>\n      <td>20220429</td>\n      <td>1000.0</td>\n      <td>30</td>\n    </tr>\n    <tr>\n      <th>4</th>\n      <td>4</td>\n      <td>20220328</td>\n      <td>20220430</td>\n      <td>1000.0</td>\n      <td>30</td>\n    </tr>\n    <tr>\n      <th>...</th>\n      <td>...</td>\n      <td>...</td>\n      <td>...</td>\n      <td>...</td>\n      <td>...</td>\n    </tr>\n    <tr>\n      <th>26</th>\n      <td>26</td>\n      <td>20220328</td>\n      <td>20220522</td>\n      <td>1063.0</td>\n      <td>45</td>\n    </tr>\n    <tr>\n      <th>27</th>\n      <td>27</td>\n      <td>20220328</td>\n      <td>20220523</td>\n      <td>1064.0</td>\n      <td>46</td>\n    </tr>\n    <tr>\n      <th>28</th>\n      <td>28</td>\n      <td>20220328</td>\n      <td>20220524</td>\n      <td>1065.0</td>\n      <td>47</td>\n    </tr>\n    <tr>\n      <th>29</th>\n      <td>29</td>\n      <td>20220328</td>\n      <td>20220525</td>\n      <td>1066.0</td>\n      <td>48</td>\n    </tr>\n    <tr>\n      <th>30</th>\n      <td>30</td>\n      <td>20220328</td>\n      <td>20220526</td>\n      <td>1067.0</td>\n      <td>49</td>\n    </tr>\n  </tbody>\n</table>\n<p>31000 rows × 5 columns</p>\n</div>"
     },
     "execution_count": 29,
     "metadata": {},
     "output_type": "execute_result"
    }
   ],
   "source": [
    "df"
   ],
   "metadata": {
    "collapsed": false,
    "ExecuteTime": {
     "end_time": "2024-03-22T21:09:09.963014Z",
     "start_time": "2024-03-22T21:09:09.952990Z"
    }
   },
   "id": "ed450fab9dc1ad6b",
   "execution_count": 29
  },
  {
   "cell_type": "code",
   "outputs": [
    {
     "name": "stdout",
     "output_type": "stream",
     "text": [
      "CPU times: total: 859 ms\n",
      "Wall time: 2.38 s\n"
     ]
    }
   ],
   "source": [
    "%%time\n",
    "vencido_mais_5_dias = []\n",
    "\n",
    "for i, row in df.iterrows():\n",
    "    data_vencimento = str(row['data_vencimento'])\n",
    "    data_pagamento = str(row['data_pagamento'])\n",
    "\n",
    "    # Remover parte decimal (se houver)\n",
    "    data_vencimento = data_vencimento.split('.')[0]\n",
    "    data_pagamento = data_pagamento.split('.')[0]\n",
    "\n",
    "    # Verificar se a data está no formato esperado\n",
    "    if len(data_vencimento) == 8 and len(data_pagamento) == 8:\n",
    "        dt_vencimento = datetime.datetime.strptime(data_vencimento, '%Y%m%d')\n",
    "        dt_pagamento = datetime.datetime.strptime(data_pagamento, '%Y%m%d')\n",
    "\n",
    "        if (dt_pagamento - dt_vencimento).days > 5:\n",
    "            vencido_mais_5_dias.append(1)\n",
    "        else:\n",
    "            vencido_mais_5_dias.append(0)\n",
    "    else:\n",
    "        vencido_mais_5_dias.append(0)  # ou outra ação apropriada para lidar com datas mal formatadas"
   ],
   "metadata": {
    "collapsed": false,
    "ExecuteTime": {
     "end_time": "2024-03-22T21:09:13.679182Z",
     "start_time": "2024-03-22T21:09:11.290230Z"
    }
   },
   "id": "303b783fe91f4716",
   "execution_count": 30
  },
  {
   "cell_type": "markdown",
   "source": [
    "## Solução 02: usando ``df.apply``"
   ],
   "metadata": {
    "collapsed": false
   },
   "id": "e6bfa0c45400e1f7"
  },
  {
   "cell_type": "code",
   "outputs": [],
   "source": [
    "df = pd.read_csv('../Database/pagamentos.csv')\n",
    "df = pd.concat([df] * 1000)"
   ],
   "metadata": {
    "collapsed": false,
    "ExecuteTime": {
     "end_time": "2024-03-22T21:09:13.719698Z",
     "start_time": "2024-03-22T21:09:13.681360Z"
    }
   },
   "id": "a36a5623191b95af",
   "execution_count": 31
  },
  {
   "cell_type": "code",
   "outputs": [
    {
     "name": "stdout",
     "output_type": "stream",
     "text": [
      "CPU times: total: 609 ms\n",
      "Wall time: 1.09 s\n"
     ]
    },
    {
     "data": {
      "text/plain": "0     1\n1     1\n2     1\n3     1\n4     1\n     ..\n26    1\n27    1\n28    1\n29    1\n30    1\nLength: 31000, dtype: int64"
     },
     "execution_count": 32,
     "metadata": {},
     "output_type": "execute_result"
    }
   ],
   "source": [
    "%%time\n",
    "df.apply(calcula_vencido_mais_5_dias, axis=1)"
   ],
   "metadata": {
    "collapsed": false,
    "ExecuteTime": {
     "end_time": "2024-03-22T21:09:15.843575Z",
     "start_time": "2024-03-22T21:09:14.749237Z"
    }
   },
   "id": "449ed41af7007d03",
   "execution_count": 32
  },
  {
   "cell_type": "markdown",
   "source": [
    "## Solução 03: usando operações vetorais"
   ],
   "metadata": {
    "collapsed": false
   },
   "id": "c6e3c0fb88e9e5b"
  },
  {
   "cell_type": "code",
   "outputs": [],
   "source": [
    "df = pd.read_csv('../Database/pagamentos.csv')\n",
    "df = pd.concat([df] * 1000)"
   ],
   "metadata": {
    "collapsed": false,
    "ExecuteTime": {
     "end_time": "2024-03-22T21:09:18.034724Z",
     "start_time": "2024-03-22T21:09:17.997096Z"
    }
   },
   "id": "4c41cdbfd5426ce1",
   "execution_count": 33
  },
  {
   "cell_type": "code",
   "outputs": [
    {
     "name": "stdout",
     "output_type": "stream",
     "text": [
      "CPU times: total: 0 ns\n",
      "Wall time: 4.38 ms\n"
     ]
    },
    {
     "data": {
      "text/plain": "0     1\n1     1\n2     1\n3     1\n4     1\n     ..\n26    1\n27    1\n28    1\n29    1\n30    1\nLength: 31000, dtype: int32"
     },
     "execution_count": 34,
     "metadata": {},
     "output_type": "execute_result"
    }
   ],
   "source": [
    "%%time\n",
    "dt_vencimento = pd.to_datetime(df['data_vencimento'], format='%Y%m%d')\n",
    "dt_pagamento = pd.to_datetime(df['data_pagamento'], format='%Y%m%d')\n",
    "\n",
    "dias_vencido = (dt_pagamento - dt_vencimento).dt.days\n",
    "(dias_vencido > 5).astype(int)"
   ],
   "metadata": {
    "collapsed": false,
    "ExecuteTime": {
     "end_time": "2024-03-22T21:09:19.173077Z",
     "start_time": "2024-03-22T21:09:19.161529Z"
    }
   },
   "id": "3540c9e02939ffeb",
   "execution_count": 34
  },
  {
   "cell_type": "markdown",
   "source": [
    "## Quando usar ``for``?"
   ],
   "metadata": {
    "collapsed": false
   },
   "id": "2747bb08e8ed12bf"
  },
  {
   "cell_type": "code",
   "outputs": [],
   "source": [
    "df = pd.read_csv('../Database/pagamentos.csv')"
   ],
   "metadata": {
    "collapsed": false,
    "ExecuteTime": {
     "end_time": "2024-03-22T21:09:21.206530Z",
     "start_time": "2024-03-22T21:09:21.200001Z"
    }
   },
   "id": "85f2a57af88e05d1",
   "execution_count": 35
  },
  {
   "cell_type": "code",
   "outputs": [],
   "source": [
    "n_clusters = 4\n",
    "kmeans = KMeans(n_clusters=n_clusters, n_init='auto')\n",
    "\n",
    "df['cluster'] = kmeans.fit_predict(df[['valor_fatura', 'idade']])"
   ],
   "metadata": {
    "collapsed": false,
    "ExecuteTime": {
     "end_time": "2024-03-22T21:09:22.427318Z",
     "start_time": "2024-03-22T21:09:21.910081Z"
    }
   },
   "id": "d967897eb3d249d6",
   "execution_count": 36
  },
  {
   "cell_type": "code",
   "outputs": [
    {
     "data": {
      "text/plain": "   cpf  data_vencimento  data_pagamento  valor_fatura  idade  cluster\n0    0         20220328        20220427        1000.0     30        1\n1    1         20220328        20220426        1000.0     30        1\n2    2         20220328        20220428        1000.0     30        1\n3    3         20220328        20220429        1000.0     30        1\n4    4         20220328        20220430        1000.0     30        1",
      "text/html": "<div>\n<style scoped>\n    .dataframe tbody tr th:only-of-type {\n        vertical-align: middle;\n    }\n\n    .dataframe tbody tr th {\n        vertical-align: top;\n    }\n\n    .dataframe thead th {\n        text-align: right;\n    }\n</style>\n<table border=\"1\" class=\"dataframe\">\n  <thead>\n    <tr style=\"text-align: right;\">\n      <th></th>\n      <th>cpf</th>\n      <th>data_vencimento</th>\n      <th>data_pagamento</th>\n      <th>valor_fatura</th>\n      <th>idade</th>\n      <th>cluster</th>\n    </tr>\n  </thead>\n  <tbody>\n    <tr>\n      <th>0</th>\n      <td>0</td>\n      <td>20220328</td>\n      <td>20220427</td>\n      <td>1000.0</td>\n      <td>30</td>\n      <td>1</td>\n    </tr>\n    <tr>\n      <th>1</th>\n      <td>1</td>\n      <td>20220328</td>\n      <td>20220426</td>\n      <td>1000.0</td>\n      <td>30</td>\n      <td>1</td>\n    </tr>\n    <tr>\n      <th>2</th>\n      <td>2</td>\n      <td>20220328</td>\n      <td>20220428</td>\n      <td>1000.0</td>\n      <td>30</td>\n      <td>1</td>\n    </tr>\n    <tr>\n      <th>3</th>\n      <td>3</td>\n      <td>20220328</td>\n      <td>20220429</td>\n      <td>1000.0</td>\n      <td>30</td>\n      <td>1</td>\n    </tr>\n    <tr>\n      <th>4</th>\n      <td>4</td>\n      <td>20220328</td>\n      <td>20220430</td>\n      <td>1000.0</td>\n      <td>30</td>\n      <td>1</td>\n    </tr>\n  </tbody>\n</table>\n</div>"
     },
     "execution_count": 37,
     "metadata": {},
     "output_type": "execute_result"
    }
   ],
   "source": [
    "df.head()"
   ],
   "metadata": {
    "collapsed": false,
    "ExecuteTime": {
     "end_time": "2024-03-22T21:09:23.318161Z",
     "start_time": "2024-03-22T21:09:23.307125Z"
    }
   },
   "id": "b030f9a165ab004d",
   "execution_count": 37
  },
  {
   "cell_type": "code",
   "outputs": [
    {
     "data": {
      "text/plain": "<Figure size 640x480 with 1 Axes>",
      "image/png": "[encoded data removed]"
     },
     "metadata": {},
     "output_type": "display_data"
    }
   ],
   "source": [
    "plt.scatter(df.loc[df['cluster'] == 0, 'idade'], df.loc[df['cluster'] == 0, 'valor_fatura'], label='Cluster 0')\n",
    "plt.scatter(df.loc[df['cluster'] == 1, 'idade'], df.loc[df['cluster'] == 1, 'valor_fatura'], label='Cluster 1')\n",
    "plt.scatter(df.loc[df['cluster'] == 2, 'idade'], df.loc[df['cluster'] == 2, 'valor_fatura'], label='Cluster 2')\n",
    "plt.scatter(df.loc[df['cluster'] == 3, 'idade'], df.loc[df['cluster'] == 3, 'valor_fatura'], label='Cluster 3')\n",
    "\n",
    "plt.legend(loc='upper right');"
   ],
   "metadata": {
    "collapsed": false,
    "ExecuteTime": {
     "end_time": "2024-03-22T21:09:24.660692Z",
     "start_time": "2024-03-22T21:09:24.311382Z"
    }
   },
   "id": "7c31be4761c11422",
   "execution_count": 38
  },
  {
   "cell_type": "code",
   "outputs": [
    {
     "data": {
      "text/plain": "<Figure size 640x480 with 1 Axes>",
      "image/png": "[encoded data removed]"
     },
     "metadata": {},
     "output_type": "display_data"
    }
   ],
   "source": [
    "for cluster in range(n_clusters):\n",
    "    plt.scatter(df.loc[df['cluster'] == cluster, 'idade'], df.loc[df['cluster'] == cluster, 'valor_fatura'], label=f'Cluster {cluster}')\n",
    "\n",
    "plt.legend(loc='upper right');"
   ],
   "metadata": {
    "collapsed": false,
    "ExecuteTime": {
     "end_time": "2024-03-22T21:09:26.307168Z",
     "start_time": "2024-03-22T21:09:25.672557Z"
    }
   },
   "id": "b98f460a21acc5cc",
   "execution_count": 39
  },
  {
   "cell_type": "markdown",
   "source": [
    "## Comentários"
   ],
   "metadata": {
    "collapsed": false
   },
   "id": "63671f58bd370b46"
  },
  {
   "cell_type": "code",
   "outputs": [],
   "source": [
    "df = pd.read_csv('../Database/pagamentos.csv')"
   ],
   "metadata": {
    "collapsed": false,
    "ExecuteTime": {
     "end_time": "2024-03-22T21:09:27.981928Z",
     "start_time": "2024-03-22T21:09:27.975241Z"
    }
   },
   "id": "c2b956436f4180dc",
   "execution_count": 40
  },
  {
   "cell_type": "code",
   "outputs": [
    {
     "data": {
      "text/plain": "   cpf  data_vencimento  data_pagamento  valor_fatura  idade\n0    0         20220328        20220427        1000.0     30\n1    1         20220328        20220426        1000.0     30\n2    2         20220328        20220428        1000.0     30\n3    3         20220328        20220429        1000.0     30\n4    4         20220328        20220430        1000.0     30",
      "text/html": "<div>\n<style scoped>\n    .dataframe tbody tr th:only-of-type {\n        vertical-align: middle;\n    }\n\n    .dataframe tbody tr th {\n        vertical-align: top;\n    }\n\n    .dataframe thead th {\n        text-align: right;\n    }\n</style>\n<table border=\"1\" class=\"dataframe\">\n  <thead>\n    <tr style=\"text-align: right;\">\n      <th></th>\n      <th>cpf</th>\n      <th>data_vencimento</th>\n      <th>data_pagamento</th>\n      <th>valor_fatura</th>\n      <th>idade</th>\n    </tr>\n  </thead>\n  <tbody>\n    <tr>\n      <th>0</th>\n      <td>0</td>\n      <td>20220328</td>\n      <td>20220427</td>\n      <td>1000.0</td>\n      <td>30</td>\n    </tr>\n    <tr>\n      <th>1</th>\n      <td>1</td>\n      <td>20220328</td>\n      <td>20220426</td>\n      <td>1000.0</td>\n      <td>30</td>\n    </tr>\n    <tr>\n      <th>2</th>\n      <td>2</td>\n      <td>20220328</td>\n      <td>20220428</td>\n      <td>1000.0</td>\n      <td>30</td>\n    </tr>\n    <tr>\n      <th>3</th>\n      <td>3</td>\n      <td>20220328</td>\n      <td>20220429</td>\n      <td>1000.0</td>\n      <td>30</td>\n    </tr>\n    <tr>\n      <th>4</th>\n      <td>4</td>\n      <td>20220328</td>\n      <td>20220430</td>\n      <td>1000.0</td>\n      <td>30</td>\n    </tr>\n  </tbody>\n</table>\n</div>"
     },
     "execution_count": 41,
     "metadata": {},
     "output_type": "execute_result"
    }
   ],
   "source": [
    "df.head()"
   ],
   "metadata": {
    "collapsed": false,
    "ExecuteTime": {
     "end_time": "2024-03-22T21:09:28.778310Z",
     "start_time": "2024-03-22T21:09:28.768976Z"
    }
   },
   "id": "cea01754a14b7061",
   "execution_count": 41
  },
  {
   "cell_type": "code",
   "outputs": [],
   "source": [
    "df['anomes_vecimento'] = (df['data_vencimento'] / 100).astype(int)\n",
    "df['anomes_pagamento'] = (df['data_pagamento'] / 100).astype(int)\n",
    "\n",
    "df_filtrado = df.loc[df['anomes_vecimento'] >= 202202]"
   ],
   "metadata": {
    "collapsed": false,
    "ExecuteTime": {
     "end_time": "2024-03-22T21:09:29.683764Z",
     "start_time": "2024-03-22T21:09:29.672805Z"
    }
   },
   "id": "9caea513c3f483f8",
   "execution_count": 42
  },
  {
   "cell_type": "code",
   "outputs": [],
   "source": [
    "# gera anomes_vencimento retirando os dias da coluna data_vencimento\n",
    "df['anomes_vecimento'] = (df['data_vencimento'] / 100).astype(int)\n",
    "\n",
    "# gera anomes_pagamento retirando os dias da coluna data_pagamento\n",
    "df['anomes_pagamento'] = (df['data_pagamento'] / 100).astype(int)\n",
    "\n",
    "# filtra o dataframe para pegar apenas datas a partir do mês 202202 (fevereiro de 2022)\n",
    "df_filtrado = df.loc[df['anomes_vecimento'] >= 202202]"
   ],
   "metadata": {
    "collapsed": false,
    "ExecuteTime": {
     "end_time": "2024-03-22T21:09:31.433059Z",
     "start_time": "2024-03-22T21:09:31.426818Z"
    }
   },
   "id": "81e166fe6947351c",
   "execution_count": 43
  },
  {
   "cell_type": "code",
   "outputs": [
    {
     "data": {
      "text/plain": "    cpf  data_vencimento  data_pagamento  valor_fatura  idade  \\\n0     0         20220328        20220427        1000.0     30   \n1     1         20220328        20220426        1000.0     30   \n2     2         20220328        20220428        1000.0     30   \n3     3         20220328        20220429        1000.0     30   \n4     4         20220328        20220430        1000.0     30   \n5     5         20220328        20220501        1000.0     30   \n6     6         20220328        20220502        1000.0     30   \n7     7         20220328        20220503        1000.0     30   \n8     8         20220328        20220504        1000.0     31   \n9     9         20220328        20220505        1050.0     31   \n10   10         20220328        20220506        1050.0     31   \n11   11         20220328        20220507        1050.0     32   \n12   12         20220328        20220508        1050.0     32   \n13   13         20220328        20220509        1050.0     33   \n14   14         20220328        20220510        1051.0     33   \n15   15         20220328        20220511        1052.0     34   \n16   16         20220328        20220512        1053.0     35   \n17   17         20220328        20220513        1054.0     36   \n18   18         20220328        20220514        1055.0     37   \n19   19         20220328        20220515        1056.0     38   \n20   20         20220328        20220516        1057.0     39   \n21   21         20220328        20220517        1058.0     40   \n22   22         20220328        20220518        1059.0     41   \n23   23         20220328        20220519        1060.0     42   \n24   24         20220328        20220520        1061.0     43   \n25   25         20220328        20220521        1062.0     44   \n26   26         20220328        20220522        1063.0     45   \n27   27         20220328        20220523        1064.0     46   \n28   28         20220328        20220524        1065.0     47   \n29   29         20220328        20220525        1066.0     48   \n30   30         20220328        20220526        1067.0     49   \n\n    anomes_vecimento  anomes_pagamento  \n0             202203            202204  \n1             202203            202204  \n2             202203            202204  \n3             202203            202204  \n4             202203            202204  \n5             202203            202205  \n6             202203            202205  \n7             202203            202205  \n8             202203            202205  \n9             202203            202205  \n10            202203            202205  \n11            202203            202205  \n12            202203            202205  \n13            202203            202205  \n14            202203            202205  \n15            202203            202205  \n16            202203            202205  \n17            202203            202205  \n18            202203            202205  \n19            202203            202205  \n20            202203            202205  \n21            202203            202205  \n22            202203            202205  \n23            202203            202205  \n24            202203            202205  \n25            202203            202205  \n26            202203            202205  \n27            202203            202205  \n28            202203            202205  \n29            202203            202205  \n30            202203            202205  ",
      "text/html": "<div>\n<style scoped>\n    .dataframe tbody tr th:only-of-type {\n        vertical-align: middle;\n    }\n\n    .dataframe tbody tr th {\n        vertical-align: top;\n    }\n\n    .dataframe thead th {\n        text-align: right;\n    }\n</style>\n<table border=\"1\" class=\"dataframe\">\n  <thead>\n    <tr style=\"text-align: right;\">\n      <th></th>\n      <th>cpf</th>\n      <th>data_vencimento</th>\n      <th>data_pagamento</th>\n      <th>valor_fatura</th>\n      <th>idade</th>\n      <th>anomes_vecimento</th>\n      <th>anomes_pagamento</th>\n    </tr>\n  </thead>\n  <tbody>\n    <tr>\n      <th>0</th>\n      <td>0</td>\n      <td>20220328</td>\n      <td>20220427</td>\n      <td>1000.0</td>\n      <td>30</td>\n      <td>202203</td>\n      <td>202204</td>\n    </tr>\n    <tr>\n      <th>1</th>\n      <td>1</td>\n      <td>20220328</td>\n      <td>20220426</td>\n      <td>1000.0</td>\n      <td>30</td>\n      <td>202203</td>\n      <td>202204</td>\n    </tr>\n    <tr>\n      <th>2</th>\n      <td>2</td>\n      <td>20220328</td>\n      <td>20220428</td>\n      <td>1000.0</td>\n      <td>30</td>\n      <td>202203</td>\n      <td>202204</td>\n    </tr>\n    <tr>\n      <th>3</th>\n      <td>3</td>\n      <td>20220328</td>\n      <td>20220429</td>\n      <td>1000.0</td>\n      <td>30</td>\n      <td>202203</td>\n      <td>202204</td>\n    </tr>\n    <tr>\n      <th>4</th>\n      <td>4</td>\n      <td>20220328</td>\n      <td>20220430</td>\n      <td>1000.0</td>\n      <td>30</td>\n      <td>202203</td>\n      <td>202204</td>\n    </tr>\n    <tr>\n      <th>5</th>\n      <td>5</td>\n      <td>20220328</td>\n      <td>20220501</td>\n      <td>1000.0</td>\n      <td>30</td>\n      <td>202203</td>\n      <td>202205</td>\n    </tr>\n    <tr>\n      <th>6</th>\n      <td>6</td>\n      <td>20220328</td>\n      <td>20220502</td>\n      <td>1000.0</td>\n      <td>30</td>\n      <td>202203</td>\n      <td>202205</td>\n    </tr>\n    <tr>\n      <th>7</th>\n      <td>7</td>\n      <td>20220328</td>\n      <td>20220503</td>\n      <td>1000.0</td>\n      <td>30</td>\n      <td>202203</td>\n      <td>202205</td>\n    </tr>\n    <tr>\n      <th>8</th>\n      <td>8</td>\n      <td>20220328</td>\n      <td>20220504</td>\n      <td>1000.0</td>\n      <td>31</td>\n      <td>202203</td>\n      <td>202205</td>\n    </tr>\n    <tr>\n      <th>9</th>\n      <td>9</td>\n      <td>20220328</td>\n      <td>20220505</td>\n      <td>1050.0</td>\n      <td>31</td>\n      <td>202203</td>\n      <td>202205</td>\n    </tr>\n    <tr>\n      <th>10</th>\n      <td>10</td>\n      <td>20220328</td>\n      <td>20220506</td>\n      <td>1050.0</td>\n      <td>31</td>\n      <td>202203</td>\n      <td>202205</td>\n    </tr>\n    <tr>\n      <th>11</th>\n      <td>11</td>\n      <td>20220328</td>\n      <td>20220507</td>\n      <td>1050.0</td>\n      <td>32</td>\n      <td>202203</td>\n      <td>202205</td>\n    </tr>\n    <tr>\n      <th>12</th>\n      <td>12</td>\n      <td>20220328</td>\n      <td>20220508</td>\n      <td>1050.0</td>\n      <td>32</td>\n      <td>202203</td>\n      <td>202205</td>\n    </tr>\n    <tr>\n      <th>13</th>\n      <td>13</td>\n      <td>20220328</td>\n      <td>20220509</td>\n      <td>1050.0</td>\n      <td>33</td>\n      <td>202203</td>\n      <td>202205</td>\n    </tr>\n    <tr>\n      <th>14</th>\n      <td>14</td>\n      <td>20220328</td>\n      <td>20220510</td>\n      <td>1051.0</td>\n      <td>33</td>\n      <td>202203</td>\n      <td>202205</td>\n    </tr>\n    <tr>\n      <th>15</th>\n      <td>15</td>\n      <td>20220328</td>\n      <td>20220511</td>\n      <td>1052.0</td>\n      <td>34</td>\n      <td>202203</td>\n      <td>202205</td>\n    </tr>\n    <tr>\n      <th>16</th>\n      <td>16</td>\n      <td>20220328</td>\n      <td>20220512</td>\n      <td>1053.0</td>\n      <td>35</td>\n      <td>202203</td>\n      <td>202205</td>\n    </tr>\n    <tr>\n      <th>17</th>\n      <td>17</td>\n      <td>20220328</td>\n      <td>20220513</td>\n      <td>1054.0</td>\n      <td>36</td>\n      <td>202203</td>\n      <td>202205</td>\n    </tr>\n    <tr>\n      <th>18</th>\n      <td>18</td>\n      <td>20220328</td>\n      <td>20220514</td>\n      <td>1055.0</td>\n      <td>37</td>\n      <td>202203</td>\n      <td>202205</td>\n    </tr>\n    <tr>\n      <th>19</th>\n      <td>19</td>\n      <td>20220328</td>\n      <td>20220515</td>\n      <td>1056.0</td>\n      <td>38</td>\n      <td>202203</td>\n      <td>202205</td>\n    </tr>\n    <tr>\n      <th>20</th>\n      <td>20</td>\n      <td>20220328</td>\n      <td>20220516</td>\n      <td>1057.0</td>\n      <td>39</td>\n      <td>202203</td>\n      <td>202205</td>\n    </tr>\n    <tr>\n      <th>21</th>\n      <td>21</td>\n      <td>20220328</td>\n      <td>20220517</td>\n      <td>1058.0</td>\n      <td>40</td>\n      <td>202203</td>\n      <td>202205</td>\n    </tr>\n    <tr>\n      <th>22</th>\n      <td>22</td>\n      <td>20220328</td>\n      <td>20220518</td>\n      <td>1059.0</td>\n      <td>41</td>\n      <td>202203</td>\n      <td>202205</td>\n    </tr>\n    <tr>\n      <th>23</th>\n      <td>23</td>\n      <td>20220328</td>\n      <td>20220519</td>\n      <td>1060.0</td>\n      <td>42</td>\n      <td>202203</td>\n      <td>202205</td>\n    </tr>\n    <tr>\n      <th>24</th>\n      <td>24</td>\n      <td>20220328</td>\n      <td>20220520</td>\n      <td>1061.0</td>\n      <td>43</td>\n      <td>202203</td>\n      <td>202205</td>\n    </tr>\n    <tr>\n      <th>25</th>\n      <td>25</td>\n      <td>20220328</td>\n      <td>20220521</td>\n      <td>1062.0</td>\n      <td>44</td>\n      <td>202203</td>\n      <td>202205</td>\n    </tr>\n    <tr>\n      <th>26</th>\n      <td>26</td>\n      <td>20220328</td>\n      <td>20220522</td>\n      <td>1063.0</td>\n      <td>45</td>\n      <td>202203</td>\n      <td>202205</td>\n    </tr>\n    <tr>\n      <th>27</th>\n      <td>27</td>\n      <td>20220328</td>\n      <td>20220523</td>\n      <td>1064.0</td>\n      <td>46</td>\n      <td>202203</td>\n      <td>202205</td>\n    </tr>\n    <tr>\n      <th>28</th>\n      <td>28</td>\n      <td>20220328</td>\n      <td>20220524</td>\n      <td>1065.0</td>\n      <td>47</td>\n      <td>202203</td>\n      <td>202205</td>\n    </tr>\n    <tr>\n      <th>29</th>\n      <td>29</td>\n      <td>20220328</td>\n      <td>20220525</td>\n      <td>1066.0</td>\n      <td>48</td>\n      <td>202203</td>\n      <td>202205</td>\n    </tr>\n    <tr>\n      <th>30</th>\n      <td>30</td>\n      <td>20220328</td>\n      <td>20220526</td>\n      <td>1067.0</td>\n      <td>49</td>\n      <td>202203</td>\n      <td>202205</td>\n    </tr>\n  </tbody>\n</table>\n</div>"
     },
     "execution_count": 44,
     "metadata": {},
     "output_type": "execute_result"
    }
   ],
   "source": [
    "df_filtrado"
   ],
   "metadata": {
    "collapsed": false,
    "ExecuteTime": {
     "end_time": "2024-03-22T21:09:32.791837Z",
     "start_time": "2024-03-22T21:09:32.779883Z"
    }
   },
   "id": "fbe99f5319166cf4",
   "execution_count": 44
  },
  {
   "cell_type": "code",
   "outputs": [],
   "source": [
    "df['anomes_vecimento'] = (df['data_vencimento'] / 100).astype(int)\n",
    "df['anomes_pagamento'] = (df['data_pagamento'] / 100).astype(int)\n",
    "\n",
    "# os dados anteriores a fevereiro de 2022 não são confiáveis devido a erros de processamento\n",
    "df_filtrado = df.loc[df['anomes_vecimento'] >= 202202]"
   ],
   "metadata": {
    "collapsed": false,
    "ExecuteTime": {
     "end_time": "2024-03-22T21:09:37.850276Z",
     "start_time": "2024-03-22T21:09:37.844524Z"
    }
   },
   "id": "b32c54d6d0f6695c",
   "execution_count": 45
  },
  {
   "cell_type": "markdown",
   "source": [
    "## f-strings"
   ],
   "metadata": {
    "collapsed": false
   },
   "id": "8d32fb51cfa11887"
  },
  {
   "cell_type": "code",
   "outputs": [],
   "source": [
    "modelo = 'lightgbm'\n",
    "safra = 202212"
   ],
   "metadata": {
    "collapsed": false,
    "ExecuteTime": {
     "end_time": "2024-03-22T21:09:39.517779Z",
     "start_time": "2024-03-22T21:09:39.513598Z"
    }
   },
   "id": "56ada99c345406b5",
   "execution_count": 46
  },
  {
   "cell_type": "markdown",
   "source": [
    "## Usando ``+``"
   ],
   "metadata": {
    "collapsed": false
   },
   "id": "a27c5bc11d2470d5"
  },
  {
   "cell_type": "code",
   "outputs": [
    {
     "data": {
      "text/plain": "'resultados/resultado_202212_lightgbm.txt'"
     },
     "execution_count": 47,
     "metadata": {},
     "output_type": "execute_result"
    }
   ],
   "source": [
    "caminho_resultados = 'resultados/resultado_' + str(safra) + '_' + modelo + '.txt'\n",
    "caminho_resultados"
   ],
   "metadata": {
    "collapsed": false,
    "ExecuteTime": {
     "end_time": "2024-03-22T21:21:10.591749Z",
     "start_time": "2024-03-22T21:21:10.586862Z"
    }
   },
   "id": "cc273bcddc2d9dcf",
   "execution_count": 47
  },
  {
   "cell_type": "markdown",
   "source": [
    "## Usando ``%``"
   ],
   "metadata": {
    "collapsed": false
   },
   "id": "fc749641824ff1be"
  },
  {
   "cell_type": "code",
   "outputs": [
    {
     "data": {
      "text/plain": "'resultados/resultado_202212-lightgbm.txt'"
     },
     "execution_count": 48,
     "metadata": {},
     "output_type": "execute_result"
    }
   ],
   "source": [
    "caminho_resultados = 'resultados/resultado_%d-%s.txt' % (safra, modelo)\n",
    "caminho_resultados"
   ],
   "metadata": {
    "collapsed": false,
    "ExecuteTime": {
     "end_time": "2024-03-22T21:21:32.381835Z",
     "start_time": "2024-03-22T21:21:32.375522Z"
    }
   },
   "id": "e6f4cc83904a764",
   "execution_count": 48
  },
  {
   "cell_type": "markdown",
   "source": [
    "## Usando ``.format``"
   ],
   "metadata": {
    "collapsed": false
   },
   "id": "6a8e1dc6d081aad2"
  },
  {
   "cell_type": "code",
   "outputs": [
    {
     "data": {
      "text/plain": "'resultados/resultado_202212-lightgbm.txt'"
     },
     "execution_count": 49,
     "metadata": {},
     "output_type": "execute_result"
    }
   ],
   "source": [
    "caminho_resultados = 'resultados/resultado_{}-{}.txt'.format(safra, modelo)\n",
    "caminho_resultados"
   ],
   "metadata": {
    "collapsed": false,
    "ExecuteTime": {
     "end_time": "2024-03-22T21:22:13.324012Z",
     "start_time": "2024-03-22T21:22:13.318389Z"
    }
   },
   "id": "b782c67d5f536a1",
   "execution_count": 49
  },
  {
   "cell_type": "code",
   "outputs": [
    {
     "data": {
      "text/plain": "'resultados/resultado_202212-lightgbm.txt'"
     },
     "execution_count": 50,
     "metadata": {},
     "output_type": "execute_result"
    }
   ],
   "source": [
    "caminho_resultados = 'resultados/resultado_{safra}-{modelo}.txt'.format(safra=safra, modelo=modelo)\n",
    "caminho_resultados"
   ],
   "metadata": {
    "collapsed": false,
    "ExecuteTime": {
     "end_time": "2024-03-22T21:22:28.029435Z",
     "start_time": "2024-03-22T21:22:28.022426Z"
    }
   },
   "id": "56375f5c40f559d3",
   "execution_count": 50
  },
  {
   "cell_type": "markdown",
   "source": [
    "## Usando ``f-strings``"
   ],
   "metadata": {
    "collapsed": false
   },
   "id": "bbd26d1e2215a2c5"
  },
  {
   "cell_type": "code",
   "outputs": [
    {
     "data": {
      "text/plain": "'resultados/resultado_202212_lightgbm.txt'"
     },
     "execution_count": 51,
     "metadata": {},
     "output_type": "execute_result"
    }
   ],
   "source": [
    "caminho_resultados = f'resultados/resultado_{safra}_{modelo}.txt'\n",
    "caminho_resultados"
   ],
   "metadata": {
    "collapsed": false,
    "ExecuteTime": {
     "end_time": "2024-03-22T21:23:08.611999Z",
     "start_time": "2024-03-22T21:23:08.606083Z"
    }
   },
   "id": "b5ce6f60ed79b52e",
   "execution_count": 51
  },
  {
   "cell_type": "markdown",
   "source": [
    "## Compreensão de listas\n",
    "\n",
    "Problema: gerar nomes de arquivo csv para cada safra."
   ],
   "metadata": {
    "collapsed": false
   },
   "id": "d58308a38df0ea36"
  },
  {
   "cell_type": "code",
   "outputs": [],
   "source": [
    "safras = [202201, 202202, 202203, 202204, 202205, 202206]"
   ],
   "metadata": {
    "collapsed": false,
    "ExecuteTime": {
     "end_time": "2024-03-22T21:25:20.850265Z",
     "start_time": "2024-03-22T21:25:20.846412Z"
    }
   },
   "id": "88410b859a5ac8b1",
   "execution_count": 52
  },
  {
   "cell_type": "code",
   "outputs": [],
   "source": [
    "lista_arquivos = [] # 01: criação da lista\n",
    "\n",
    "for safra in safras:    # 02: iteração\n",
    "    nome_arquivo = f'arquivo_{safra}.csv'   # 03: criando o elemento da lista\n",
    "    lista_arquivos.append(nome_arquivo) # 04: adicionando o elemento à lista"
   ],
   "metadata": {
    "collapsed": false,
    "ExecuteTime": {
     "end_time": "2024-03-22T21:27:30.319215Z",
     "start_time": "2024-03-22T21:27:30.313206Z"
    }
   },
   "id": "d2e0e1d67662bc25",
   "execution_count": 53
  },
  {
   "cell_type": "code",
   "outputs": [
    {
     "data": {
      "text/plain": "['arquivo_202201.csv',\n 'arquivo_202202.csv',\n 'arquivo_202203.csv',\n 'arquivo_202204.csv',\n 'arquivo_202205.csv',\n 'arquivo_202206.csv']"
     },
     "execution_count": 54,
     "metadata": {},
     "output_type": "execute_result"
    }
   ],
   "source": [
    "lista_arquivos"
   ],
   "metadata": {
    "collapsed": false,
    "ExecuteTime": {
     "end_time": "2024-03-22T21:27:33.637839Z",
     "start_time": "2024-03-22T21:27:33.630962Z"
    }
   },
   "id": "39167aa754474844",
   "execution_count": 54
  },
  {
   "cell_type": "code",
   "outputs": [],
   "source": [
    "lista_arquivos = [f'arquivo_{safra}.csv' for safra in safras]"
   ],
   "metadata": {
    "collapsed": false,
    "ExecuteTime": {
     "end_time": "2024-03-22T21:27:52.806014Z",
     "start_time": "2024-03-22T21:27:52.801229Z"
    }
   },
   "id": "8b1198ffe4cce53",
   "execution_count": 55
  },
  {
   "cell_type": "code",
   "outputs": [
    {
     "data": {
      "text/plain": "['arquivo_202201.csv',\n 'arquivo_202202.csv',\n 'arquivo_202203.csv',\n 'arquivo_202204.csv',\n 'arquivo_202205.csv',\n 'arquivo_202206.csv']"
     },
     "execution_count": 56,
     "metadata": {},
     "output_type": "execute_result"
    }
   ],
   "source": [
    "lista_arquivos"
   ],
   "metadata": {
    "collapsed": false,
    "ExecuteTime": {
     "end_time": "2024-03-22T21:27:59.487335Z",
     "start_time": "2024-03-22T21:27:59.481153Z"
    }
   },
   "id": "ec34c2e4d31dd098",
   "execution_count": 56
  },
  {
   "cell_type": "markdown",
   "source": [
    "## Problema: gerar nomes de arquivo csv para cada mês **ímpar**"
   ],
   "metadata": {
    "collapsed": false
   },
   "id": "8af684f1bf72d88d"
  },
  {
   "cell_type": "code",
   "outputs": [],
   "source": [
    "lista_arquivos = [] # 01: criação da lista\n",
    "\n",
    "for safra in safras:    # 02: iteração\n",
    "    if safra % 2 == 1:  # 03: condição\n",
    "        nome_arquivo = f'arquivo_{safra}.csv'   # 04: criando o elemento da lista\n",
    "        lista_arquivos.append(nome_arquivo) # 05: adicionando o elemento à lista"
   ],
   "metadata": {
    "collapsed": false,
    "ExecuteTime": {
     "end_time": "2024-03-22T21:29:40.460009Z",
     "start_time": "2024-03-22T21:29:40.454020Z"
    }
   },
   "id": "f1a5d879f6f5c95e",
   "execution_count": 57
  },
  {
   "cell_type": "code",
   "outputs": [
    {
     "data": {
      "text/plain": "['arquivo_202201.csv', 'arquivo_202203.csv', 'arquivo_202205.csv']"
     },
     "execution_count": 58,
     "metadata": {},
     "output_type": "execute_result"
    }
   ],
   "source": [
    "lista_arquivos"
   ],
   "metadata": {
    "collapsed": false,
    "ExecuteTime": {
     "end_time": "2024-03-22T21:29:44.608641Z",
     "start_time": "2024-03-22T21:29:44.601842Z"
    }
   },
   "id": "bbad59eff61aa0dc",
   "execution_count": 58
  },
  {
   "cell_type": "code",
   "outputs": [],
   "source": [
    "lista_arquivos = [f'arquivo_{safra}.csv' for safra in safras if safra % 2 == 1]"
   ],
   "metadata": {
    "collapsed": false,
    "ExecuteTime": {
     "end_time": "2024-03-22T21:46:07.227833Z",
     "start_time": "2024-03-22T21:46:07.223357Z"
    }
   },
   "id": "d525fe380f3de1db",
   "execution_count": 59
  },
  {
   "cell_type": "code",
   "outputs": [
    {
     "data": {
      "text/plain": "['arquivo_202201.csv', 'arquivo_202203.csv', 'arquivo_202205.csv']"
     },
     "execution_count": 60,
     "metadata": {},
     "output_type": "execute_result"
    }
   ],
   "source": [
    "lista_arquivos"
   ],
   "metadata": {
    "collapsed": false,
    "ExecuteTime": {
     "end_time": "2024-03-22T21:46:15.671795Z",
     "start_time": "2024-03-22T21:46:15.664595Z"
    }
   },
   "id": "b86c97947294bfe3",
   "execution_count": 60
  },
  {
   "cell_type": "markdown",
   "source": [
    "## Problema: gerar safras no formato '%Y%m' para cada mês **ímpar** entre 2020 e 2022"
   ],
   "metadata": {
    "collapsed": false
   },
   "id": "87fc47c5afd5b132"
  },
  {
   "cell_type": "code",
   "outputs": [],
   "source": [
    "lista_arquivos = []\n",
    "\n",
    "for ano in [2020, 2021, 2022]:\n",
    "    for mes in range(1, 13):\n",
    "        if mes % 2 == 1:\n",
    "            nome_arquivo = f'{ano}{mes}.csv'\n",
    "            lista_arquivos.append(lista_arquivos)"
   ],
   "metadata": {
    "collapsed": false,
    "ExecuteTime": {
     "end_time": "2024-03-22T21:48:14.563453Z",
     "start_time": "2024-03-22T21:48:14.557060Z"
    }
   },
   "id": "a5e53d33902cf137",
   "execution_count": 61
  },
  {
   "cell_type": "code",
   "outputs": [
    {
     "data": {
      "text/plain": "[[...],\n [...],\n [...],\n [...],\n [...],\n [...],\n [...],\n [...],\n [...],\n [...],\n [...],\n [...],\n [...],\n [...],\n [...],\n [...],\n [...],\n [...]]"
     },
     "execution_count": 62,
     "metadata": {},
     "output_type": "execute_result"
    }
   ],
   "source": [
    "lista_arquivos"
   ],
   "metadata": {
    "collapsed": false,
    "ExecuteTime": {
     "end_time": "2024-03-22T21:48:23.491031Z",
     "start_time": "2024-03-22T21:48:23.484177Z"
    }
   },
   "id": "966ab1b9c8f80d52",
   "execution_count": 62
  },
  {
   "cell_type": "code",
   "outputs": [],
   "source": [
    "lista_arquivos = []\n",
    "\n",
    "for ano in [2020, 2021, 2022]:\n",
    "    for mes in range(1, 13):\n",
    "        if mes % 2 == 1:\n",
    "            nome_arquivo = f'{ano}{mes:02d}.csv'\n",
    "            lista_arquivos.append(nome_arquivo)"
   ],
   "metadata": {
    "collapsed": false,
    "ExecuteTime": {
     "end_time": "2024-03-22T21:48:50.634370Z",
     "start_time": "2024-03-22T21:48:50.629430Z"
    }
   },
   "id": "26f107de1d11230f",
   "execution_count": 63
  },
  {
   "cell_type": "code",
   "outputs": [
    {
     "data": {
      "text/plain": "['202001.csv',\n '202003.csv',\n '202005.csv',\n '202007.csv',\n '202009.csv',\n '202011.csv',\n '202101.csv',\n '202103.csv',\n '202105.csv',\n '202107.csv',\n '202109.csv',\n '202111.csv',\n '202201.csv',\n '202203.csv',\n '202205.csv',\n '202207.csv',\n '202209.csv',\n '202211.csv']"
     },
     "execution_count": 64,
     "metadata": {},
     "output_type": "execute_result"
    }
   ],
   "source": [
    "lista_arquivos"
   ],
   "metadata": {
    "collapsed": false,
    "ExecuteTime": {
     "end_time": "2024-03-22T21:48:52.853674Z",
     "start_time": "2024-03-22T21:48:52.846339Z"
    }
   },
   "id": "84684bf8e264337a",
   "execution_count": 64
  },
  {
   "cell_type": "code",
   "outputs": [],
   "source": [
    "lista_arquivos = [f'{ano}{mes:02d}.csv' for ano in [2020, 2021, 2022] for mes in range(1, 13) if mes % 2 == 1]"
   ],
   "metadata": {
    "collapsed": false,
    "ExecuteTime": {
     "end_time": "2024-03-22T21:49:36.571828Z",
     "start_time": "2024-03-22T21:49:36.566815Z"
    }
   },
   "id": "bb49944559a0a971",
   "execution_count": 65
  },
  {
   "cell_type": "code",
   "outputs": [
    {
     "data": {
      "text/plain": "['202001.csv',\n '202003.csv',\n '202005.csv',\n '202007.csv',\n '202009.csv',\n '202011.csv',\n '202101.csv',\n '202103.csv',\n '202105.csv',\n '202107.csv',\n '202109.csv',\n '202111.csv',\n '202201.csv',\n '202203.csv',\n '202205.csv',\n '202207.csv',\n '202209.csv',\n '202211.csv']"
     },
     "execution_count": 66,
     "metadata": {},
     "output_type": "execute_result"
    }
   ],
   "source": [
    "lista_arquivos"
   ],
   "metadata": {
    "collapsed": false,
    "ExecuteTime": {
     "end_time": "2024-03-22T21:49:40.789623Z",
     "start_time": "2024-03-22T21:49:40.782691Z"
    }
   },
   "id": "a5ddb473fbfd2b56",
   "execution_count": 66
  }
 ],
 "metadata": {
  "kernelspec": {
   "display_name": "Python 3",
   "language": "python",
   "name": "python3"
  },
  "language_info": {
   "codemirror_mode": {
    "name": "ipython",
    "version": 2
   },
   "file_extension": ".py",
   "mimetype": "text/x-python",
   "name": "python",
   "nbconvert_exporter": "python",
   "pygments_lexer": "ipython2",
   "version": "2.7.6"
  }
 },
 "nbformat": 4,
 "nbformat_minor": 5
}

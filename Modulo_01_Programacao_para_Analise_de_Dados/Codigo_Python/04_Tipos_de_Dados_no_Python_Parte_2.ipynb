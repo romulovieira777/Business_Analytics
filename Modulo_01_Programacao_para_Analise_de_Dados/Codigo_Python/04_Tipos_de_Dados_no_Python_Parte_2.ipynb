{
 "cells": [
  {
   "cell_type": "markdown",
   "source": [
    "# Strings são listas\n",
    "\n",
    "Strings em python, como em muitas linguagens, são listas de bytes representando caracteres. Entretanto, Python não possui o tipo \"carcater\". Um caracter é apenas uma String com comprimento 1. Colchetes podem ser utilizados para acessar cada um dos elementos de uma String."
   ],
   "metadata": {
    "collapsed": false
   },
   "id": "180a82e1002b2cc2"
  },
  {
   "cell_type": "code",
   "execution_count": 3,
   "id": "initial_id",
   "metadata": {
    "collapsed": true,
    "ExecuteTime": {
     "end_time": "2024-03-11T15:41:56.691058Z",
     "start_time": "2024-03-11T15:41:56.686407Z"
    }
   },
   "outputs": [
    {
     "name": "stdout",
     "output_type": "stream",
     "text": [
      "H\n"
     ]
    }
   ],
   "source": [
    "a = \"Hello, World!\"\n",
    "print(a[0])"
   ]
  },
  {
   "cell_type": "code",
   "outputs": [
    {
     "data": {
      "text/plain": "'l'"
     },
     "execution_count": 4,
     "metadata": {},
     "output_type": "execute_result"
    }
   ],
   "source": [
    "a[3]"
   ],
   "metadata": {
    "collapsed": false,
    "ExecuteTime": {
     "end_time": "2024-03-11T15:41:57.539665Z",
     "start_time": "2024-03-11T15:41:57.533094Z"
    }
   },
   "id": "7a084bb7018d46ed",
   "execution_count": 4
  },
  {
   "cell_type": "code",
   "outputs": [
    {
     "data": {
      "text/plain": "str"
     },
     "execution_count": 5,
     "metadata": {},
     "output_type": "execute_result"
    }
   ],
   "source": [
    "type(a[3])"
   ],
   "metadata": {
    "collapsed": false,
    "ExecuteTime": {
     "end_time": "2024-03-11T15:41:58.273856Z",
     "start_time": "2024-03-11T15:41:58.267167Z"
    }
   },
   "id": "5c8dec4e3c3b8857",
   "execution_count": 5
  },
  {
   "cell_type": "markdown",
   "source": [
    "Outra coisa que podemos fazer com strings é o chamado slicing. Podemos definir um indice inicial e um indice final, separados por dois pontos, para acessar uma parte da string."
   ],
   "metadata": {
    "collapsed": false
   },
   "id": "1f4ed1144ac0073f"
  },
  {
   "cell_type": "code",
   "outputs": [
    {
     "name": "stdout",
     "output_type": "stream",
     "text": [
      "llo\n"
     ]
    }
   ],
   "source": [
    "b = \"Hello, World!\"\n",
    "print(b[2:5])"
   ],
   "metadata": {
    "collapsed": false,
    "ExecuteTime": {
     "end_time": "2024-03-11T15:41:59.162411Z",
     "start_time": "2024-03-11T15:41:59.158095Z"
    }
   },
   "id": "5beb9c15028c3427",
   "execution_count": 6
  },
  {
   "cell_type": "code",
   "outputs": [
    {
     "name": "stdout",
     "output_type": "stream",
     "text": [
      ", W\n"
     ]
    }
   ],
   "source": [
    "print(b[5:8])"
   ],
   "metadata": {
    "collapsed": false,
    "ExecuteTime": {
     "end_time": "2024-03-11T15:41:59.468140Z",
     "start_time": "2024-03-11T15:41:59.461896Z"
    }
   },
   "id": "7916cbb76b514bb1",
   "execution_count": 7
  },
  {
   "cell_type": "code",
   "outputs": [
    {
     "name": "stdout",
     "output_type": "stream",
     "text": [
      "Hello\n",
      "Hello\n"
     ]
    }
   ],
   "source": [
    "# Pegando a string do começo até a quinta posição, exclusivo.\n",
    "print(b[0:5])\n",
    "print(b[:5])    # sintaxe mais resumida!"
   ],
   "metadata": {
    "collapsed": false,
    "ExecuteTime": {
     "end_time": "2024-03-11T15:41:59.635182Z",
     "start_time": "2024-03-11T15:41:59.630208Z"
    }
   },
   "id": "c05533f6c611bc36",
   "execution_count": 8
  },
  {
   "cell_type": "code",
   "outputs": [
    {
     "name": "stdout",
     "output_type": "stream",
     "text": [
      ", World!\n",
      ", World!\n"
     ]
    }
   ],
   "source": [
    "# Pegando a string da quinta posição, inclusiva, até a última.\n",
    "print(b[5:14])\n",
    "print(b[5:])    # sintaxe mais resumida!"
   ],
   "metadata": {
    "collapsed": false,
    "ExecuteTime": {
     "end_time": "2024-03-11T15:41:59.805967Z",
     "start_time": "2024-03-11T15:41:59.801253Z"
    }
   },
   "id": "403049436bfeaa07",
   "execution_count": 9
  },
  {
   "cell_type": "code",
   "outputs": [
    {
     "name": "stdout",
     "output_type": "stream",
     "text": [
      "Hello, World!\n",
      "Hello, World!\n"
     ]
    }
   ],
   "source": [
    "# Pegando a string completa\n",
    "print(b[:])   # sintaxe não muito útil, mas funciona!\n",
    "print(b)      # sintaxe mais resumida!"
   ],
   "metadata": {
    "collapsed": false,
    "ExecuteTime": {
     "end_time": "2024-03-11T15:42:00.003543Z",
     "start_time": "2024-03-11T15:41:59.998800Z"
    }
   },
   "id": "b9e24f24febe4c2c",
   "execution_count": 10
  },
  {
   "cell_type": "code",
   "outputs": [],
   "source": [
    "hello = \"Hello, World!\""
   ],
   "metadata": {
    "collapsed": false,
    "ExecuteTime": {
     "end_time": "2024-03-11T15:42:00.135053Z",
     "start_time": "2024-03-11T15:42:00.131875Z"
    }
   },
   "id": "9dfa2bd90b6e154e",
   "execution_count": 11
  },
  {
   "cell_type": "code",
   "outputs": [
    {
     "ename": "TypeError",
     "evalue": "'str' object does not support item assignment",
     "output_type": "error",
     "traceback": [
      "\u001B[1;31m---------------------------------------------------------------------------\u001B[0m",
      "\u001B[1;31mTypeError\u001B[0m                                 Traceback (most recent call last)",
      "Cell \u001B[1;32mIn[12], line 2\u001B[0m\n\u001B[0;32m      1\u001B[0m \u001B[38;5;66;03m# Strings são imutáveis\u001B[39;00m\n\u001B[1;32m----> 2\u001B[0m \u001B[43mhello\u001B[49m\u001B[43m[\u001B[49m\u001B[38;5;241;43m0\u001B[39;49m\u001B[43m]\u001B[49m \u001B[38;5;241m=\u001B[39m \u001B[38;5;124m\"\u001B[39m\u001B[38;5;124mM\u001B[39m\u001B[38;5;124m\"\u001B[39m\n",
      "\u001B[1;31mTypeError\u001B[0m: 'str' object does not support item assignment"
     ]
    }
   ],
   "source": [
    "# Strings são imutáveis\n",
    "hello[0] = \"M\""
   ],
   "metadata": {
    "collapsed": false,
    "ExecuteTime": {
     "end_time": "2024-03-11T15:42:00.829457Z",
     "start_time": "2024-03-11T15:42:00.269436Z"
    }
   },
   "id": "578c061b0cd2184b",
   "execution_count": 12
  },
  {
   "cell_type": "code",
   "outputs": [],
   "source": [
    "# deve ser combinada em uma nova string\n",
    "hello[:7] + \"Mundo!\""
   ],
   "metadata": {
    "collapsed": false,
    "ExecuteTime": {
     "end_time": "2024-03-11T15:42:00.830467Z",
     "start_time": "2024-03-11T15:42:00.830467Z"
    }
   },
   "id": "369ffb7ddc81ce17",
   "execution_count": null
  },
  {
   "cell_type": "markdown",
   "source": [
    "Podemos começar o slicing também do final, utilizandso indices negativos."
   ],
   "metadata": {
    "collapsed": false
   },
   "id": "7287f821cb6ab39c"
  },
  {
   "cell_type": "code",
   "outputs": [],
   "source": [
    "b = \"Hello, World!\"\n",
    "print(b[-5:-2])"
   ],
   "metadata": {
    "collapsed": false,
    "ExecuteTime": {
     "start_time": "2024-03-11T15:42:00.831523Z"
    }
   },
   "id": "db7d0557eb152e98",
   "execution_count": null
  },
  {
   "cell_type": "code",
   "outputs": [
    {
     "data": {
      "text/plain": "'!'"
     },
     "execution_count": 13,
     "metadata": {},
     "output_type": "execute_result"
    }
   ],
   "source": [
    "b[-1]"
   ],
   "metadata": {
    "collapsed": false,
    "ExecuteTime": {
     "end_time": "2024-03-11T15:42:00.914314Z",
     "start_time": "2024-03-11T15:42:00.907868Z"
    }
   },
   "id": "22cb656a7b0bca60",
   "execution_count": 13
  },
  {
   "cell_type": "markdown",
   "source": [
    "# Comprimento de uma string\n",
    "\n",
    "Para saber o comprimento de uma string podemos utilizar a função ``len()``. (A função ``len()`` pode ser aplicada a todos os tipos de coleções, lembre-se disso, é importtante.)"
   ],
   "metadata": {
    "collapsed": false
   },
   "id": "310a4c870aed2db7"
  },
  {
   "cell_type": "code",
   "outputs": [
    {
     "data": {
      "text/plain": "13"
     },
     "execution_count": 14,
     "metadata": {},
     "output_type": "execute_result"
    }
   ],
   "source": [
    "a = \"Hello, World!\"\n",
    "len(a)"
   ],
   "metadata": {
    "collapsed": false,
    "ExecuteTime": {
     "end_time": "2024-03-11T15:42:01.221053Z",
     "start_time": "2024-03-11T15:42:01.216173Z"
    }
   },
   "id": "8d9f05e9ca51d25b",
   "execution_count": 14
  },
  {
   "cell_type": "markdown",
   "source": [
    "# Alguns métodos de strings\n",
    "\n",
    "Em Python existem funções pré-construídas para trabalharmos com Strings, como, por exemplo: ``strip()``, ``lower()``, ``upper()``, ``replace()``, ``split()`` etc."
   ],
   "metadata": {
    "collapsed": false
   },
   "id": "a174d907d8f74353"
  },
  {
   "cell_type": "code",
   "outputs": [],
   "source": [
    "nome1 = \"Categoria A\"\n",
    "nome2 = \"Categoria A \""
   ],
   "metadata": {
    "collapsed": false,
    "ExecuteTime": {
     "end_time": "2024-03-11T15:42:01.923184Z",
     "start_time": "2024-03-11T15:42:01.919867Z"
    }
   },
   "id": "14664cce810e3bc9",
   "execution_count": 15
  },
  {
   "cell_type": "code",
   "outputs": [
    {
     "data": {
      "text/plain": "False"
     },
     "execution_count": 16,
     "metadata": {},
     "output_type": "execute_result"
    }
   ],
   "source": [
    "nome1 == nome2"
   ],
   "metadata": {
    "collapsed": false,
    "ExecuteTime": {
     "end_time": "2024-03-11T15:42:02.073239Z",
     "start_time": "2024-03-11T15:42:02.068437Z"
    }
   },
   "id": "8acbed258446a005",
   "execution_count": 16
  },
  {
   "cell_type": "code",
   "outputs": [
    {
     "name": "stdout",
     "output_type": "stream",
     "text": [
      "Categoria A\n",
      "Categoria A \n"
     ]
    }
   ],
   "source": [
    "print(nome1)\n",
    "print(nome2)"
   ],
   "metadata": {
    "collapsed": false,
    "ExecuteTime": {
     "end_time": "2024-03-11T15:42:02.231306Z",
     "start_time": "2024-03-11T15:42:02.226842Z"
    }
   },
   "id": "cfe877fb68c2ac9a",
   "execution_count": 17
  },
  {
   "cell_type": "code",
   "outputs": [
    {
     "data": {
      "text/plain": "'Categoria A'"
     },
     "execution_count": 18,
     "metadata": {},
     "output_type": "execute_result"
    }
   ],
   "source": [
    "nome1.strip()"
   ],
   "metadata": {
    "collapsed": false,
    "ExecuteTime": {
     "end_time": "2024-03-11T15:42:02.410425Z",
     "start_time": "2024-03-11T15:42:02.404765Z"
    }
   },
   "id": "4bfbc6c7c6906f8d",
   "execution_count": 18
  },
  {
   "cell_type": "code",
   "outputs": [
    {
     "data": {
      "text/plain": "'Categoria A'"
     },
     "execution_count": 19,
     "metadata": {},
     "output_type": "execute_result"
    }
   ],
   "source": [
    "nome2.strip()"
   ],
   "metadata": {
    "collapsed": false,
    "ExecuteTime": {
     "end_time": "2024-03-11T15:42:02.569304Z",
     "start_time": "2024-03-11T15:42:02.563384Z"
    }
   },
   "id": "6f02b00a073aa1d5",
   "execution_count": 19
  },
  {
   "cell_type": "code",
   "outputs": [
    {
     "data": {
      "text/plain": "True"
     },
     "execution_count": 20,
     "metadata": {},
     "output_type": "execute_result"
    }
   ],
   "source": [
    "nome1.strip() == nome2.strip()"
   ],
   "metadata": {
    "collapsed": false,
    "ExecuteTime": {
     "end_time": "2024-03-11T15:42:02.694851Z",
     "start_time": "2024-03-11T15:42:02.689581Z"
    }
   },
   "id": "375a6cabb0926a4",
   "execution_count": 20
  },
  {
   "cell_type": "code",
   "outputs": [
    {
     "data": {
      "text/plain": "'ategoria A'"
     },
     "execution_count": 21,
     "metadata": {},
     "output_type": "execute_result"
    }
   ],
   "source": [
    "nome1.strip(\"C\")"
   ],
   "metadata": {
    "collapsed": false,
    "ExecuteTime": {
     "end_time": "2024-03-11T15:42:02.856901Z",
     "start_time": "2024-03-11T15:42:02.851059Z"
    }
   },
   "id": "4896a1192098d0dd",
   "execution_count": 21
  },
  {
   "cell_type": "code",
   "outputs": [
    {
     "data": {
      "text/plain": "['fulano.ciclano', 'provedor.com.br']"
     },
     "execution_count": 22,
     "metadata": {},
     "output_type": "execute_result"
    }
   ],
   "source": [
    "email = \"fulano.ciclano@provedor.com.br\"\n",
    "email.split(\"@\")"
   ],
   "metadata": {
    "collapsed": false,
    "ExecuteTime": {
     "end_time": "2024-03-11T15:42:03.041265Z",
     "start_time": "2024-03-11T15:42:03.035851Z"
    }
   },
   "id": "63142d575a67a6ab",
   "execution_count": 22
  },
  {
   "cell_type": "markdown",
   "source": [
    "As funções ``lower`` e ``upper`` permitem transformar a string em caixa baixa e caixa alta, respectivamente."
   ],
   "metadata": {
    "collapsed": false
   },
   "id": "9939b448db64082b"
  },
  {
   "cell_type": "code",
   "outputs": [
    {
     "ename": "ValueError",
     "evalue": "empty separator",
     "output_type": "error",
     "traceback": [
      "\u001B[1;31m---------------------------------------------------------------------------\u001B[0m",
      "\u001B[1;31mValueError\u001B[0m                                Traceback (most recent call last)",
      "Cell \u001B[1;32mIn[23], line 1\u001B[0m\n\u001B[1;32m----> 1\u001B[0m \u001B[43memail\u001B[49m\u001B[38;5;241;43m.\u001B[39;49m\u001B[43msplit\u001B[49m\u001B[43m(\u001B[49m\u001B[38;5;124;43m\"\u001B[39;49m\u001B[38;5;124;43m\"\u001B[39;49m\u001B[43m)\u001B[49m\n",
      "\u001B[1;31mValueError\u001B[0m: empty separator"
     ]
    }
   ],
   "source": [
    "email.split(\"\")"
   ],
   "metadata": {
    "collapsed": false,
    "ExecuteTime": {
     "end_time": "2024-03-11T15:42:03.676765Z",
     "start_time": "2024-03-11T15:42:03.658808Z"
    }
   },
   "id": "ca05c7aa1c8da501",
   "execution_count": 23
  },
  {
   "cell_type": "code",
   "outputs": [
    {
     "data": {
      "text/plain": "['fulano.ciclano@provedor.com.br']"
     },
     "execution_count": 24,
     "metadata": {},
     "output_type": "execute_result"
    }
   ],
   "source": [
    "email.split()"
   ],
   "metadata": {
    "collapsed": false,
    "ExecuteTime": {
     "end_time": "2024-03-11T15:42:03.817112Z",
     "start_time": "2024-03-11T15:42:03.812217Z"
    }
   },
   "id": "9ceb4d4a9f6c7021",
   "execution_count": 24
  },
  {
   "cell_type": "code",
   "outputs": [
    {
     "data": {
      "text/plain": "['fulano', 'ciclano@provedor', 'com', 'br']"
     },
     "execution_count": 25,
     "metadata": {},
     "output_type": "execute_result"
    }
   ],
   "source": [
    "email.split(\".\")"
   ],
   "metadata": {
    "collapsed": false,
    "ExecuteTime": {
     "end_time": "2024-03-11T15:42:03.982861Z",
     "start_time": "2024-03-11T15:42:03.977909Z"
    }
   },
   "id": "593d45a079972bf7",
   "execution_count": 25
  },
  {
   "cell_type": "code",
   "outputs": [
    {
     "data": {
      "text/plain": "'br'"
     },
     "execution_count": 26,
     "metadata": {},
     "output_type": "execute_result"
    }
   ],
   "source": [
    "email.split(\".\")[-1]"
   ],
   "metadata": {
    "collapsed": false,
    "ExecuteTime": {
     "end_time": "2024-03-11T15:42:04.149208Z",
     "start_time": "2024-03-11T15:42:04.143517Z"
    }
   },
   "id": "78e4baefac839f1b",
   "execution_count": 26
  },
  {
   "cell_type": "code",
   "outputs": [
    {
     "data": {
      "text/plain": "'hello, world!'"
     },
     "execution_count": 27,
     "metadata": {},
     "output_type": "execute_result"
    }
   ],
   "source": [
    "a = \"Hello, World!\"\n",
    "a.lower()"
   ],
   "metadata": {
    "collapsed": false,
    "ExecuteTime": {
     "end_time": "2024-03-11T15:42:04.344938Z",
     "start_time": "2024-03-11T15:42:04.339361Z"
    }
   },
   "id": "73c7bf6f25a04e2e",
   "execution_count": 27
  },
  {
   "cell_type": "code",
   "outputs": [
    {
     "data": {
      "text/plain": "'noçoes de python'"
     },
     "execution_count": 28,
     "metadata": {},
     "output_type": "execute_result"
    }
   ],
   "source": [
    "s = \"Noçoes de Python\"\n",
    "s.lower()"
   ],
   "metadata": {
    "collapsed": false,
    "ExecuteTime": {
     "end_time": "2024-03-11T15:42:04.747025Z",
     "start_time": "2024-03-11T15:42:04.740549Z"
    }
   },
   "id": "2171be0b8c20866",
   "execution_count": 28
  },
  {
   "cell_type": "code",
   "outputs": [
    {
     "data": {
      "text/plain": "'NOÇOES DE PYTHON'"
     },
     "execution_count": 29,
     "metadata": {},
     "output_type": "execute_result"
    }
   ],
   "source": [
    "s.upper()"
   ],
   "metadata": {
    "collapsed": false,
    "ExecuteTime": {
     "end_time": "2024-03-11T15:42:04.894164Z",
     "start_time": "2024-03-11T15:42:04.889477Z"
    }
   },
   "id": "aabf8ad2c1432f7",
   "execution_count": 29
  },
  {
   "cell_type": "markdown",
   "source": [
    "É possível substituir uma substring por outra substring com a função ``replace``, informando o padrão que desejamos substituir seguindo pela substring que será utilizada."
   ],
   "metadata": {
    "collapsed": false
   },
   "id": "330ae101707721f0"
  },
  {
   "cell_type": "code",
   "outputs": [
    {
     "name": "stdout",
     "output_type": "stream",
     "text": [
      "01134390890\n"
     ]
    }
   ],
   "source": [
    "s = \"(11)3439-0890\"\n",
    "# s.replace(\"-\", \"\").replace(\"(\", \"0\").replace(\")\", \"\")\n",
    "s = s.replace(\"-\", \"\")\n",
    "s = s.replace(\"(\", \"0\")\n",
    "s = s.replace(\")\", \"\")\n",
    "print(s)"
   ],
   "metadata": {
    "collapsed": false,
    "ExecuteTime": {
     "end_time": "2024-03-11T15:42:05.282714Z",
     "start_time": "2024-03-11T15:42:05.277618Z"
    }
   },
   "id": "dfc7cf2051a77a75",
   "execution_count": 30
  }
 ],
 "metadata": {
  "kernelspec": {
   "display_name": "Python 3",
   "language": "python",
   "name": "python3"
  },
  "language_info": {
   "codemirror_mode": {
    "name": "ipython",
    "version": 2
   },
   "file_extension": ".py",
   "mimetype": "text/x-python",
   "name": "python",
   "nbconvert_exporter": "python",
   "pygments_lexer": "ipython2",
   "version": "2.7.6"
  }
 },
 "nbformat": 4,
 "nbformat_minor": 5
}

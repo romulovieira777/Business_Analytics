{
 "cells": [
  {
   "cell_type": "markdown",
   "source": [
    "# Instalação de pacotes\n",
    "\n",
    "Na rede corporativa a instalação de pacotes Python deve considerar outros argumentos além do tradicional ``pip install``. O caminho do pip deve ser executado dentro do **Prompt de Comandos** do Windows (acesso: pressionar < Windows > + R -> digitar **cmd** -> Enter)\n",
    "\n",
    "No CMD digitar:\n",
    "\n",
    "   pip install --index-url sua_url --trusted-host seu_host --user nome_do_pacote\n",
    "\n",
    "ou\n",
    "\n",
    "   pip install --index-url --trusted-host seu_host nome_do_pacote"
   ],
   "metadata": {
    "collapsed": false
   },
   "id": "e983142a4f3e49e8"
  }
 ],
 "metadata": {
  "kernelspec": {
   "display_name": "Python 3",
   "language": "python",
   "name": "python3"
  },
  "language_info": {
   "codemirror_mode": {
    "name": "ipython",
    "version": 2
   },
   "file_extension": ".py",
   "mimetype": "text/x-python",
   "name": "python",
   "nbconvert_exporter": "python",
   "pygments_lexer": "ipython2",
   "version": "2.7.6"
  }
 },
 "nbformat": 4,
 "nbformat_minor": 5
}

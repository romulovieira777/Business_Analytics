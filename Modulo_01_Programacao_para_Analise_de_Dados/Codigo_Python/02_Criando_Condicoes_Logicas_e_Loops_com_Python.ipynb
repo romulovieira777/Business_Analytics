{
 "cells": [
  {
   "cell_type": "markdown",
   "source": [
    "## If, elif, else\n",
    "\n",
    "Então para que utilizamos os operadores lógicos e de comparação em Python? Bom, eles podem ser usados em vários contextos, normalmente em um loop ou em uma operação condicional.\n",
    "\n",
    "Para fazer uma operação condicional utilizamos a palavra chave ``if``:"
   ],
   "metadata": {
    "collapsed": false
   },
   "id": "5da28875ae4d0bac"
  },
  {
   "cell_type": "code",
   "outputs": [
    {
     "name": "stdout",
     "output_type": "stream",
     "text": [
      "b é maior que a\n"
     ]
    }
   ],
   "source": [
    "a = 33\n",
    "b = 200\n",
    "\n",
    "if b > a:\n",
    "  print(\"b é maior que a\")"
   ],
   "metadata": {
    "collapsed": false,
    "ExecuteTime": {
     "end_time": "2024-03-09T19:23:36.883447Z",
     "start_time": "2024-03-09T19:23:36.874911Z"
    }
   },
   "id": "b5f48f2351e46160",
   "execution_count": 1
  },
  {
   "cell_type": "markdown",
   "source": [
    "No exemplo acima utilizamos duas variáveis ``a`` e ``b``, que são avaliadas pela instrução ``if`` de forma a verificar se ``b`` é maior do que ``a``. Como ``a`` é 33 e ``b`` é 200, e nós sabemos que 200 é maior do que 33, imprimimos a mensagem \"b é maior que a\".\n",
    "\n",
    "Como dito anteriormente, identação (espaços no início ode cada linha) são utilizados no Python para definir o escopo do código. Outras linguagens de programação normalmente utilizam chaves para esse propósito.\n",
    "\n",
    "Se utilizamos o mesmo comando ``if`` sem a identação correta um erro acontece:"
   ],
   "metadata": {
    "collapsed": false
   },
   "id": "4567b29ee1bc875e"
  },
  {
   "cell_type": "code",
   "outputs": [
    {
     "ename": "IndentationError",
     "evalue": "expected an indented block after 'if' statement on line 4 (624618489.py, line 5)",
     "output_type": "error",
     "traceback": [
      "\u001B[1;36m  Cell \u001B[1;32mIn[2], line 5\u001B[1;36m\u001B[0m\n\u001B[1;33m    print(\"b é maior que a\")\u001B[0m\n\u001B[1;37m    ^\u001B[0m\n\u001B[1;31mIndentationError\u001B[0m\u001B[1;31m:\u001B[0m expected an indented block after 'if' statement on line 4\n"
     ]
    }
   ],
   "source": [
    "a = 33\n",
    "b = 200\n",
    "\n",
    "if b > a:\n",
    "print(\"b é maior que a\")"
   ],
   "metadata": {
    "collapsed": false,
    "ExecuteTime": {
     "end_time": "2024-03-09T19:23:36.913891Z",
     "start_time": "2024-03-09T19:23:36.907868Z"
    }
   },
   "id": "5c70df1c1a889b03",
   "execution_count": 2
  },
  {
   "cell_type": "markdown",
   "source": [
    "Quando precisamos tomar uma ação caso a condição testada seja falsa, utilizamos a palavra chave ``else``:"
   ],
   "metadata": {
    "collapsed": false
   },
   "id": "ddde38da93c98fb1"
  },
  {
   "cell_type": "code",
   "outputs": [
    {
     "name": "stdout",
     "output_type": "stream",
     "text": [
      "a é maior ou igual a b\n"
     ]
    }
   ],
   "source": [
    "a = 10\n",
    "b = 1\n",
    "\n",
    "if b > a:\n",
    "  print(\"b é maior que a\")\n",
    "else:\n",
    "  print(\"a é maior ou igual a b\")"
   ],
   "metadata": {
    "collapsed": false,
    "ExecuteTime": {
     "end_time": "2024-03-09T19:23:36.926433Z",
     "start_time": "2024-03-09T19:23:36.916362Z"
    }
   },
   "id": "6326d8716346aceb",
   "execution_count": 3
  },
  {
   "cell_type": "markdown",
   "source": [
    "Outro padrão comum é quando queremos testar outra condição, caso a primeira seja falsa. Nesse casio, é necessário acrescentar outro comando ``if``, dentro do bloco ``else``:"
   ],
   "metadata": {
    "collapsed": false
   },
   "id": "2cb9c428764920a1"
  },
  {
   "cell_type": "code",
   "outputs": [
    {
     "name": "stdout",
     "output_type": "stream",
     "text": [
      "a e b são iguais\n"
     ]
    }
   ],
   "source": [
    "a = 1\n",
    "b = 1\n",
    "\n",
    "if b > a:\n",
    "  print(\"b é maior que a\")\n",
    "else:\n",
    "  if a > b:\n",
    "    print(\"a é maior que b\")\n",
    "  else:\n",
    "    print(\"a e b são iguais\")"
   ],
   "metadata": {
    "collapsed": false,
    "ExecuteTime": {
     "end_time": "2024-03-09T19:23:36.935642Z",
     "start_time": "2024-03-09T19:23:36.928108Z"
    }
   },
   "id": "1c11004bbc1400a6",
   "execution_count": 4
  },
  {
   "cell_type": "markdown",
   "source": [
    "A fim de evitar ``if``s aninhados e aumentar a legibilidade do código, um comando ``else`` seguido de ``if`` pode ser resumido usando o comando ``elif``:"
   ],
   "metadata": {
    "collapsed": false
   },
   "id": "da6fed76082d169a"
  },
  {
   "cell_type": "code",
   "outputs": [
    {
     "name": "stdout",
     "output_type": "stream",
     "text": [
      "a e b são iguais\n"
     ]
    }
   ],
   "source": [
    "a = 1\n",
    "b = 1\n",
    "\n",
    "if b > a:\n",
    "  print(\"b é maior que a\")\n",
    "elif a > b: # elif é uma abreviação de \"else if\"\n",
    "  print(\"a é maior do que b\")\n",
    "else:\n",
    "  print(\"a e b são iguais\")"
   ],
   "metadata": {
    "collapsed": false,
    "ExecuteTime": {
     "end_time": "2024-03-09T19:23:36.953138Z",
     "start_time": "2024-03-09T19:23:36.937813Z"
    }
   },
   "id": "a5fd5028f5a6fc8",
   "execution_count": 5
  },
  {
   "cell_type": "markdown",
   "source": [
    "Qualquer operação que avalia uma expressão pode ser utilizada com o ``if``. Mas o conjunto de operadores que mais expande o poder dos operadores de comparação são os operadores lógicos: ``or`` e ``and``."
   ],
   "metadata": {
    "collapsed": false
   },
   "id": "c511f421c7215aa5"
  },
  {
   "cell_type": "code",
   "outputs": [
    {
     "name": "stdout",
     "output_type": "stream",
     "text": [
      "Ambas as condições são verdadeiras\n"
     ]
    }
   ],
   "source": [
    "# Utilizando 'and'. O if avalia a expressão como verdadeira se as duas condições forem verdadeiras. \n",
    "# No caso, se a for maior do que b e c for maior do que a.\n",
    "a = 200\n",
    "b = 33\n",
    "c = 500\n",
    "\n",
    "if a > b and c > a:\n",
    "  print(\"Ambas as condições são verdadeiras\")"
   ],
   "metadata": {
    "collapsed": false,
    "ExecuteTime": {
     "end_time": "2024-03-09T19:23:36.978610Z",
     "start_time": "2024-03-09T19:23:36.972485Z"
    }
   },
   "id": "bca64f824342758e",
   "execution_count": 6
  },
  {
   "cell_type": "code",
   "outputs": [
    {
     "name": "stdout",
     "output_type": "stream",
     "text": [
      "Ao menos uma das condições é verdadeira\n"
     ]
    }
   ],
   "source": [
    "# A palavra chaver 'or' avalia como verdadeira se uma expressão se ao menos uma das condições for verdadeira.\n",
    "# No caso, se a é maior do que b OU a é maior do que c.\n",
    "a = 200\n",
    "b = 33\n",
    "c = 500\n",
    "\n",
    "if a > b or a > c:\n",
    "  print(\"Ao menos uma das condições é verdadeira\")"
   ],
   "metadata": {
    "collapsed": false,
    "ExecuteTime": {
     "end_time": "2024-03-09T19:23:37.094718Z",
     "start_time": "2024-03-09T19:23:37.088532Z"
    }
   },
   "id": "148765646abe3ad9",
   "execution_count": 7
  },
  {
   "cell_type": "markdown",
   "source": [
    "## Ifs aninhados\n",
    "\n",
    "É toalmente termos ``if`` dentro de ``if``. Essa construção é chamda de ``if`` aninhado. "
   ],
   "metadata": {
    "collapsed": false
   },
   "id": "ebb745f75b8cbef5"
  },
  {
   "cell_type": "code",
   "outputs": [
    {
     "name": "stdout",
     "output_type": "stream",
     "text": [
      "Maior do que 10,\n",
      "e ainda maior do que 20!\n"
     ]
    }
   ],
   "source": [
    "x = 41\n",
    "\n",
    "if x > 10:\n",
    "  print(\"Maior do que 10,\")\n",
    "  if x > 20:\n",
    "    print(\"e ainda maior do que 20!\")\n",
    "  else:\n",
    "    print(\"mas não maior do que 20.\")"
   ],
   "metadata": {
    "collapsed": false,
    "ExecuteTime": {
     "end_time": "2024-03-09T19:23:37.127566Z",
     "start_time": "2024-03-09T19:23:37.120120Z"
    }
   },
   "id": "cb67ad73d5b7a7d1",
   "execution_count": 8
  },
  {
   "cell_type": "markdown",
   "source": [
    "# Python Loops: While\n",
    "\n",
    "O comando ``while`` executas um conjunto de instruções enquanto uma condição é verdadeira."
   ],
   "metadata": {
    "collapsed": false
   },
   "id": "3b1673480e6d9b82"
  },
  {
   "cell_type": "code",
   "outputs": [
    {
     "name": "stdout",
     "output_type": "stream",
     "text": [
      "1\n",
      "4\n"
     ]
    }
   ],
   "source": [
    "i = 1\n",
    "\n",
    "while i < 6:\n",
    "  print(i)\n",
    "  i += 3"
   ],
   "metadata": {
    "collapsed": false,
    "ExecuteTime": {
     "end_time": "2024-03-09T19:23:37.213997Z",
     "start_time": "2024-03-09T19:23:37.208466Z"
    }
   },
   "id": "d6f2e43ba0cc3318",
   "execution_count": 9
  },
  {
   "cell_type": "markdown",
   "source": [
    "Um ponto importante sobre o comando ``while`` é que não podemos, jamais, nunca, esquecer de incrementar o valor i, ou a nossa condição de parada (i = 6) nunca será atingida o comando irá continuar a rodar para sempre. (Sério, para toda a eternidade).\n",
    "\n",
    "Outro detalhe importante é que o valor de i (ou qualquer que seja o nome que demos para essa variável) deve ser definida antes de começarmos a executar o comando para que ela possa ser incrementada de forma correta.\n",
    "\n",
    "# Python Loops: For\n",
    "\n",
    "O loop ``for`` é utilizado para iterar sobre uma coleção, seja ela uma lista, um dicionário, ou qualquer outro tipo de sequência que seja iterável.\n",
    "\n",
    "O ``for`` em Python não funciona exatamente como o ``for`` em outras linguagens de programação, ao invés disso ele lembra mais um iterator encontrando em algumas linguagens orientadas a objetos.\n",
    "\n",
    "Utilizando o ``for`` é possível realizar um conjunto de instruções sequencialmente sobre cada um dos itens de uma coleção, exatamente como fizemos anteriormente no set:"
   ],
   "metadata": {
    "collapsed": false
   },
   "id": "b41992770292f858"
  },
  {
   "cell_type": "code",
   "outputs": [
    {
     "name": "stdout",
     "output_type": "stream",
     "text": [
      "pera\n",
      "banana\n",
      "maça\n"
     ]
    }
   ],
   "source": [
    "thisset = {\"maça\", \"banana\", \"pera\"}\n",
    "\n",
    "for x in thisset:\n",
    "  print(x)"
   ],
   "metadata": {
    "collapsed": false,
    "ExecuteTime": {
     "end_time": "2024-03-09T19:23:37.232867Z",
     "start_time": "2024-03-09T19:23:37.228316Z"
    }
   },
   "id": "e30516c395d51acd",
   "execution_count": 10
  },
  {
   "cell_type": "code",
   "outputs": [
    {
     "name": "stdout",
     "output_type": "stream",
     "text": [
      "maça\n",
      "banana\n"
     ]
    }
   ],
   "source": [
    "fruits = [\"maça\", \"banana\", \"pera\"]\n",
    "\n",
    "for x in fruits:\n",
    "  print(x)\n",
    "  if x == \"banana\":\n",
    "    break"
   ],
   "metadata": {
    "collapsed": false,
    "ExecuteTime": {
     "end_time": "2024-03-09T19:23:37.251131Z",
     "start_time": "2024-03-09T19:23:37.245627Z"
    }
   },
   "id": "f629e059cb56413b",
   "execution_count": 11
  },
  {
   "cell_type": "code",
   "outputs": [
    {
     "name": "stdout",
     "output_type": "stream",
     "text": [
      "maça\n",
      "pera\n"
     ]
    }
   ],
   "source": [
    "fruits = [\"maça\", \"banana\", \"pera\"]\n",
    "\n",
    "for x in fruits:\n",
    "  if x == \"banana\":\n",
    "    continue\n",
    "  print(x)"
   ],
   "metadata": {
    "collapsed": false,
    "ExecuteTime": {
     "end_time": "2024-03-09T19:23:37.311400Z",
     "start_time": "2024-03-09T19:23:37.304958Z"
    }
   },
   "id": "7b41babf38b42bf7",
   "execution_count": 12
  },
  {
   "cell_type": "code",
   "outputs": [
    {
     "name": "stdout",
     "output_type": "stream",
     "text": [
      "0 maça\n",
      "1 banana\n",
      "2 pera\n"
     ]
    }
   ],
   "source": [
    "fruits = [\"maça\", \"banana\", \"pera\"]\n",
    "\n",
    "for i, x in enumerate(fruits):\n",
    "  print(i, x)"
   ],
   "metadata": {
    "collapsed": false,
    "ExecuteTime": {
     "end_time": "2024-03-09T19:23:37.327408Z",
     "start_time": "2024-03-09T19:23:37.321557Z"
    }
   },
   "id": "3592ce848b33b16b",
   "execution_count": 13
  },
  {
   "cell_type": "markdown",
   "source": [
    "# ``Range()``\n",
    "\n",
    "Para percorrer uma parte do código uma quantidade específica de vezes ou quando não queremos iterar sobre todos os elementos de uma lista, mas apenas sobre uma parte, em posições pré-definidas, utilizamos a função ``range()``.\n",
    "\n",
    "``range()`` retorna uma sequência de números, começando do 0 por padrão, com um passo de 1 (por padrão) e que vai até um número n especificado. "
   ],
   "metadata": {
    "collapsed": false
   },
   "id": "dcb44527964f4a1"
  },
  {
   "cell_type": "code",
   "outputs": [
    {
     "data": {
      "text/plain": "[1, 3, 5]"
     },
     "execution_count": 14,
     "metadata": {},
     "output_type": "execute_result"
    }
   ],
   "source": [
    "# range(inicio, fim, passo)\n",
    "list(range(1, 6, 2))"
   ],
   "metadata": {
    "collapsed": false,
    "ExecuteTime": {
     "end_time": "2024-03-09T19:23:37.349195Z",
     "start_time": "2024-03-09T19:23:37.340478Z"
    }
   },
   "id": "6e6483169130fe46",
   "execution_count": 14
  },
  {
   "cell_type": "code",
   "outputs": [
    {
     "name": "stdout",
     "output_type": "stream",
     "text": [
      "maça\n",
      "banana\n",
      "pera\n"
     ]
    }
   ],
   "source": [
    "for x in range(3):\n",
    "  print(fruits[x])"
   ],
   "metadata": {
    "collapsed": false,
    "ExecuteTime": {
     "end_time": "2024-03-09T19:23:37.398473Z",
     "start_time": "2024-03-09T19:23:37.393496Z"
    }
   },
   "id": "8ec9fc372b50cd24",
   "execution_count": 15
  },
  {
   "cell_type": "markdown",
   "source": [
    "# For dentro de For\n",
    "\n",
    "Assim como com o ``if`` podemos utilizar vários comandos ``for`` aninhados:"
   ],
   "metadata": {
    "collapsed": false
   },
   "id": "2d9a397919fe1ad0"
  },
  {
   "cell_type": "code",
   "outputs": [
    {
     "name": "stdout",
     "output_type": "stream",
     "text": [
      "red apple\n",
      "red banana\n",
      "red cherry\n",
      "big apple\n",
      "big banana\n",
      "big cherry\n",
      "tasty apple\n",
      "tasty banana\n",
      "tasty cherry\n"
     ]
    }
   ],
   "source": [
    "adj = [\"red\", \"big\", \"tasty\"]\n",
    "fruits = [\"apple\", \"banana\", \"cherry\"]\n",
    "\n",
    "for x in adj:\n",
    "  for y in fruits:\n",
    "    print(x, y)"
   ],
   "metadata": {
    "collapsed": false,
    "ExecuteTime": {
     "end_time": "2024-03-09T19:23:37.461857Z",
     "start_time": "2024-03-09T19:23:37.454216Z"
    }
   },
   "id": "71a98006767793ac",
   "execution_count": 16
  },
  {
   "cell_type": "code",
   "outputs": [
    {
     "name": "stdout",
     "output_type": "stream",
     "text": [
      "red apple\n",
      "big banana\n",
      "tasty cherry\n"
     ]
    }
   ],
   "source": [
    "for x in range(3):\n",
    "  print(adj[x], fruits[x])"
   ],
   "metadata": {
    "collapsed": false,
    "ExecuteTime": {
     "end_time": "2024-03-09T19:23:37.533248Z",
     "start_time": "2024-03-09T19:23:37.528637Z"
    }
   },
   "id": "31c940a7f786ef2b",
   "execution_count": 17
  },
  {
   "cell_type": "code",
   "outputs": [
    {
     "name": "stdout",
     "output_type": "stream",
     "text": [
      "red apple\n",
      "big banana\n",
      "tasty cherry\n"
     ]
    }
   ],
   "source": [
    "for a, f in zip(adj, fruits): # CUIDADO: o zip não dá erro para listas de tamanhos diferentes\n",
    "  print(a, f)"
   ],
   "metadata": {
    "collapsed": false,
    "ExecuteTime": {
     "end_time": "2024-03-09T19:23:37.557605Z",
     "start_time": "2024-03-09T19:23:37.552059Z"
    }
   },
   "id": "9b2738b2256bbf5d",
   "execution_count": 18
  },
  {
   "cell_type": "markdown",
   "source": [
    "Mas embora seja possível utilizar ``for`` aninhados, quando estamos trabalhando com grandes conjuntos de dados, o uso desse tipo de estrutura é desencorajado. Existem outras técnicas que podem ser utilizadas, como operações matriciais. Essas técnicas estão disponíveis de forma simples em bibliotecas como Pandas e Numpy. Use o ``for`` aninhado apenas em coleções de dados pequenas ou quando uma estratégia matricial não puder ser implementada.\n",
    "\n",
    "# List Comprehensions\n",
    "\n",
    "List comprehensions são uma maneira concisa de criar listas (a mesma ideia pode ser aplicada a conjuntos e dicionários por exemplo).\n",
    "\n",
    "Uso:\n",
    "\n",
    "``[valor for valor in lista_valor if condição]``\n",
    "\n",
    "Imagine que é necessário criar uma lista com os números pares entre 0 e 999. Uma ideia seria criar uma lista vazia e percorrer os valores para completar a lista."
   ],
   "metadata": {
    "collapsed": false
   },
   "id": "62c7418a5de1d299"
  },
  {
   "cell_type": "code",
   "outputs": [
    {
     "data": {
      "text/plain": "[0,\n 2,\n 4,\n 6,\n 8,\n 10,\n 12,\n 14,\n 16,\n 18,\n 20,\n 22,\n 24,\n 26,\n 28,\n 30,\n 32,\n 34,\n 36,\n 38,\n 40,\n 42,\n 44,\n 46,\n 48,\n 50,\n 52,\n 54,\n 56,\n 58,\n 60,\n 62,\n 64,\n 66,\n 68,\n 70,\n 72,\n 74,\n 76,\n 78,\n 80,\n 82,\n 84,\n 86,\n 88,\n 90,\n 92,\n 94,\n 96,\n 98,\n 100,\n 102,\n 104,\n 106,\n 108,\n 110,\n 112,\n 114,\n 116,\n 118,\n 120,\n 122,\n 124,\n 126,\n 128,\n 130,\n 132,\n 134,\n 136,\n 138,\n 140,\n 142,\n 144,\n 146,\n 148,\n 150,\n 152,\n 154,\n 156,\n 158,\n 160,\n 162,\n 164,\n 166,\n 168,\n 170,\n 172,\n 174,\n 176,\n 178,\n 180,\n 182,\n 184,\n 186,\n 188,\n 190,\n 192,\n 194,\n 196,\n 198,\n 200,\n 202,\n 204,\n 206,\n 208,\n 210,\n 212,\n 214,\n 216,\n 218,\n 220,\n 222,\n 224,\n 226,\n 228,\n 230,\n 232,\n 234,\n 236,\n 238,\n 240,\n 242,\n 244,\n 246,\n 248,\n 250,\n 252,\n 254,\n 256,\n 258,\n 260,\n 262,\n 264,\n 266,\n 268,\n 270,\n 272,\n 274,\n 276,\n 278,\n 280,\n 282,\n 284,\n 286,\n 288,\n 290,\n 292,\n 294,\n 296,\n 298,\n 300,\n 302,\n 304,\n 306,\n 308,\n 310,\n 312,\n 314,\n 316,\n 318,\n 320,\n 322,\n 324,\n 326,\n 328,\n 330,\n 332,\n 334,\n 336,\n 338,\n 340,\n 342,\n 344,\n 346,\n 348,\n 350,\n 352,\n 354,\n 356,\n 358,\n 360,\n 362,\n 364,\n 366,\n 368,\n 370,\n 372,\n 374,\n 376,\n 378,\n 380,\n 382,\n 384,\n 386,\n 388,\n 390,\n 392,\n 394,\n 396,\n 398,\n 400,\n 402,\n 404,\n 406,\n 408,\n 410,\n 412,\n 414,\n 416,\n 418,\n 420,\n 422,\n 424,\n 426,\n 428,\n 430,\n 432,\n 434,\n 436,\n 438,\n 440,\n 442,\n 444,\n 446,\n 448,\n 450,\n 452,\n 454,\n 456,\n 458,\n 460,\n 462,\n 464,\n 466,\n 468,\n 470,\n 472,\n 474,\n 476,\n 478,\n 480,\n 482,\n 484,\n 486,\n 488,\n 490,\n 492,\n 494,\n 496,\n 498,\n 500,\n 502,\n 504,\n 506,\n 508,\n 510,\n 512,\n 514,\n 516,\n 518,\n 520,\n 522,\n 524,\n 526,\n 528,\n 530,\n 532,\n 534,\n 536,\n 538,\n 540,\n 542,\n 544,\n 546,\n 548,\n 550,\n 552,\n 554,\n 556,\n 558,\n 560,\n 562,\n 564,\n 566,\n 568,\n 570,\n 572,\n 574,\n 576,\n 578,\n 580,\n 582,\n 584,\n 586,\n 588,\n 590,\n 592,\n 594,\n 596,\n 598,\n 600,\n 602,\n 604,\n 606,\n 608,\n 610,\n 612,\n 614,\n 616,\n 618,\n 620,\n 622,\n 624,\n 626,\n 628,\n 630,\n 632,\n 634,\n 636,\n 638,\n 640,\n 642,\n 644,\n 646,\n 648,\n 650,\n 652,\n 654,\n 656,\n 658,\n 660,\n 662,\n 664,\n 666,\n 668,\n 670,\n 672,\n 674,\n 676,\n 678,\n 680,\n 682,\n 684,\n 686,\n 688,\n 690,\n 692,\n 694,\n 696,\n 698,\n 700,\n 702,\n 704,\n 706,\n 708,\n 710,\n 712,\n 714,\n 716,\n 718,\n 720,\n 722,\n 724,\n 726,\n 728,\n 730,\n 732,\n 734,\n 736,\n 738,\n 740,\n 742,\n 744,\n 746,\n 748,\n 750,\n 752,\n 754,\n 756,\n 758,\n 760,\n 762,\n 764,\n 766,\n 768,\n 770,\n 772,\n 774,\n 776,\n 778,\n 780,\n 782,\n 784,\n 786,\n 788,\n 790,\n 792,\n 794,\n 796,\n 798,\n 800,\n 802,\n 804,\n 806,\n 808,\n 810,\n 812,\n 814,\n 816,\n 818,\n 820,\n 822,\n 824,\n 826,\n 828,\n 830,\n 832,\n 834,\n 836,\n 838,\n 840,\n 842,\n 844,\n 846,\n 848,\n 850,\n 852,\n 854,\n 856,\n 858,\n 860,\n 862,\n 864,\n 866,\n 868,\n 870,\n 872,\n 874,\n 876,\n 878,\n 880,\n 882,\n 884,\n 886,\n 888,\n 890,\n 892,\n 894,\n 896,\n 898,\n 900,\n 902,\n 904,\n 906,\n 908,\n 910,\n 912,\n 914,\n 916,\n 918,\n 920,\n 922,\n 924,\n 926,\n 928,\n 930,\n 932,\n 934,\n 936,\n 938,\n 940,\n 942,\n 944,\n 946,\n 948,\n 950,\n 952,\n 954,\n 956,\n 958,\n 960,\n 962,\n 964,\n 966,\n 968,\n 970,\n 972,\n 974,\n 976,\n 978,\n 980,\n 982,\n 984,\n 986,\n 988,\n 990,\n 992,\n 994,\n 996,\n 998]"
     },
     "execution_count": 19,
     "metadata": {},
     "output_type": "execute_result"
    }
   ],
   "source": [
    "my_list = []\n",
    "\n",
    "for number in range(1000):\n",
    "  if number % 2 == 0:\n",
    "    my_list.append(number)\n",
    "\n",
    "my_list"
   ],
   "metadata": {
    "collapsed": false,
    "ExecuteTime": {
     "end_time": "2024-03-09T19:23:37.600799Z",
     "start_time": "2024-03-09T19:23:37.588811Z"
    }
   },
   "id": "25a3317b83116e23",
   "execution_count": 19
  },
  {
   "cell_type": "markdown",
   "source": [
    "Agora, a mesma lista, criada com list comprehension:"
   ],
   "metadata": {
    "collapsed": false
   },
   "id": "a68df44adf455b4"
  },
  {
   "cell_type": "code",
   "outputs": [
    {
     "data": {
      "text/plain": "[0,\n 2,\n 4,\n 6,\n 8,\n 10,\n 12,\n 14,\n 16,\n 18,\n 20,\n 22,\n 24,\n 26,\n 28,\n 30,\n 32,\n 34,\n 36,\n 38,\n 40,\n 42,\n 44,\n 46,\n 48,\n 50,\n 52,\n 54,\n 56,\n 58,\n 60,\n 62,\n 64,\n 66,\n 68,\n 70,\n 72,\n 74,\n 76,\n 78,\n 80,\n 82,\n 84,\n 86,\n 88,\n 90,\n 92,\n 94,\n 96,\n 98,\n 100,\n 102,\n 104,\n 106,\n 108,\n 110,\n 112,\n 114,\n 116,\n 118,\n 120,\n 122,\n 124,\n 126,\n 128,\n 130,\n 132,\n 134,\n 136,\n 138,\n 140,\n 142,\n 144,\n 146,\n 148,\n 150,\n 152,\n 154,\n 156,\n 158,\n 160,\n 162,\n 164,\n 166,\n 168,\n 170,\n 172,\n 174,\n 176,\n 178,\n 180,\n 182,\n 184,\n 186,\n 188,\n 190,\n 192,\n 194,\n 196,\n 198,\n 200,\n 202,\n 204,\n 206,\n 208,\n 210,\n 212,\n 214,\n 216,\n 218,\n 220,\n 222,\n 224,\n 226,\n 228,\n 230,\n 232,\n 234,\n 236,\n 238,\n 240,\n 242,\n 244,\n 246,\n 248,\n 250,\n 252,\n 254,\n 256,\n 258,\n 260,\n 262,\n 264,\n 266,\n 268,\n 270,\n 272,\n 274,\n 276,\n 278,\n 280,\n 282,\n 284,\n 286,\n 288,\n 290,\n 292,\n 294,\n 296,\n 298,\n 300,\n 302,\n 304,\n 306,\n 308,\n 310,\n 312,\n 314,\n 316,\n 318,\n 320,\n 322,\n 324,\n 326,\n 328,\n 330,\n 332,\n 334,\n 336,\n 338,\n 340,\n 342,\n 344,\n 346,\n 348,\n 350,\n 352,\n 354,\n 356,\n 358,\n 360,\n 362,\n 364,\n 366,\n 368,\n 370,\n 372,\n 374,\n 376,\n 378,\n 380,\n 382,\n 384,\n 386,\n 388,\n 390,\n 392,\n 394,\n 396,\n 398,\n 400,\n 402,\n 404,\n 406,\n 408,\n 410,\n 412,\n 414,\n 416,\n 418,\n 420,\n 422,\n 424,\n 426,\n 428,\n 430,\n 432,\n 434,\n 436,\n 438,\n 440,\n 442,\n 444,\n 446,\n 448,\n 450,\n 452,\n 454,\n 456,\n 458,\n 460,\n 462,\n 464,\n 466,\n 468,\n 470,\n 472,\n 474,\n 476,\n 478,\n 480,\n 482,\n 484,\n 486,\n 488,\n 490,\n 492,\n 494,\n 496,\n 498,\n 500,\n 502,\n 504,\n 506,\n 508,\n 510,\n 512,\n 514,\n 516,\n 518,\n 520,\n 522,\n 524,\n 526,\n 528,\n 530,\n 532,\n 534,\n 536,\n 538,\n 540,\n 542,\n 544,\n 546,\n 548,\n 550,\n 552,\n 554,\n 556,\n 558,\n 560,\n 562,\n 564,\n 566,\n 568,\n 570,\n 572,\n 574,\n 576,\n 578,\n 580,\n 582,\n 584,\n 586,\n 588,\n 590,\n 592,\n 594,\n 596,\n 598,\n 600,\n 602,\n 604,\n 606,\n 608,\n 610,\n 612,\n 614,\n 616,\n 618,\n 620,\n 622,\n 624,\n 626,\n 628,\n 630,\n 632,\n 634,\n 636,\n 638,\n 640,\n 642,\n 644,\n 646,\n 648,\n 650,\n 652,\n 654,\n 656,\n 658,\n 660,\n 662,\n 664,\n 666,\n 668,\n 670,\n 672,\n 674,\n 676,\n 678,\n 680,\n 682,\n 684,\n 686,\n 688,\n 690,\n 692,\n 694,\n 696,\n 698,\n 700,\n 702,\n 704,\n 706,\n 708,\n 710,\n 712,\n 714,\n 716,\n 718,\n 720,\n 722,\n 724,\n 726,\n 728,\n 730,\n 732,\n 734,\n 736,\n 738,\n 740,\n 742,\n 744,\n 746,\n 748,\n 750,\n 752,\n 754,\n 756,\n 758,\n 760,\n 762,\n 764,\n 766,\n 768,\n 770,\n 772,\n 774,\n 776,\n 778,\n 780,\n 782,\n 784,\n 786,\n 788,\n 790,\n 792,\n 794,\n 796,\n 798,\n 800,\n 802,\n 804,\n 806,\n 808,\n 810,\n 812,\n 814,\n 816,\n 818,\n 820,\n 822,\n 824,\n 826,\n 828,\n 830,\n 832,\n 834,\n 836,\n 838,\n 840,\n 842,\n 844,\n 846,\n 848,\n 850,\n 852,\n 854,\n 856,\n 858,\n 860,\n 862,\n 864,\n 866,\n 868,\n 870,\n 872,\n 874,\n 876,\n 878,\n 880,\n 882,\n 884,\n 886,\n 888,\n 890,\n 892,\n 894,\n 896,\n 898,\n 900,\n 902,\n 904,\n 906,\n 908,\n 910,\n 912,\n 914,\n 916,\n 918,\n 920,\n 922,\n 924,\n 926,\n 928,\n 930,\n 932,\n 934,\n 936,\n 938,\n 940,\n 942,\n 944,\n 946,\n 948,\n 950,\n 952,\n 954,\n 956,\n 958,\n 960,\n 962,\n 964,\n 966,\n 968,\n 970,\n 972,\n 974,\n 976,\n 978,\n 980,\n 982,\n 984,\n 986,\n 988,\n 990,\n 992,\n 994,\n 996,\n 998]"
     },
     "execution_count": 20,
     "metadata": {},
     "output_type": "execute_result"
    }
   ],
   "source": [
    "my_list = [number for number in range(0, 1000) if number % 2 == 0]\n",
    "my_list"
   ],
   "metadata": {
    "collapsed": false,
    "ExecuteTime": {
     "end_time": "2024-03-09T19:23:37.620296Z",
     "start_time": "2024-03-09T19:23:37.610408Z"
    }
   },
   "id": "7c9a3a5fb1959853",
   "execution_count": 20
  }
 ],
 "metadata": {
  "kernelspec": {
   "display_name": "Python 3",
   "language": "python",
   "name": "python3"
  },
  "language_info": {
   "codemirror_mode": {
    "name": "ipython",
    "version": 2
   },
   "file_extension": ".py",
   "mimetype": "text/x-python",
   "name": "python",
   "nbconvert_exporter": "python",
   "pygments_lexer": "ipython2",
   "version": "2.7.6"
  }
 },
 "nbformat": 4,
 "nbformat_minor": 5
}

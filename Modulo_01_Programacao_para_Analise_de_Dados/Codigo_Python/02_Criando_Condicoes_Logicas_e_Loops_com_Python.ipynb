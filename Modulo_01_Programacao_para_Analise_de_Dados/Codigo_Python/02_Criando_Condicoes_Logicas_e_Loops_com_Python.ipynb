{
 "cells": [
  {
   "cell_type": "markdown",
   "source": [
    "## If, elif, else\n",
    "\n",
    "Então para que utilizamos os operadores lógicos e de comparação em Python? Bom, eles podem ser usados em vários contextos, normalmente em um loop ou em uma operação condicional.\n",
    "\n",
    "Para fazer uma operação condicional utilizamos a palavra chave ``if``:"
   ],
   "metadata": {
    "collapsed": false
   },
   "id": "5da28875ae4d0bac"
  },
  {
   "cell_type": "code",
   "outputs": [
    {
     "name": "stdout",
     "output_type": "stream",
     "text": [
      "b é maior que a\n"
     ]
    }
   ],
   "source": [
    "a = 33\n",
    "b = 200\n",
    "\n",
    "if b > a:\n",
    "  print(\"b é maior que a\")"
   ],
   "metadata": {
    "collapsed": false,
    "ExecuteTime": {
     "end_time": "2024-03-08T14:30:38.817390Z",
     "start_time": "2024-03-08T14:30:38.809481Z"
    }
   },
   "id": "b5f48f2351e46160",
   "execution_count": 1
  },
  {
   "cell_type": "markdown",
   "source": [
    "No exemplo acima utilizamos duas variáveis ``a`` e ``b``, que são avaliadas pela instrução ``if`` de forma a verificar se ``b`` é maior do que ``a``. Como ``a`` é 33 e ``b`` é 200, e nós sabemos que 200 é maior do que 33, imprimimos a mensagem \"b é maior que a\".\n",
    "\n",
    "Como dito anteriormente, identação (espaços no início ode cada linha) são utilizados no Python para definir o escopo do código. Outras linguagens de programação normalmente utilizam chaves para esse propósito.\n",
    "\n",
    "Se utilizamos o mesmo comando ``if`` sem a identação correta um erro acontece:"
   ],
   "metadata": {
    "collapsed": false
   },
   "id": "4567b29ee1bc875e"
  },
  {
   "cell_type": "code",
   "outputs": [
    {
     "ename": "IndentationError",
     "evalue": "expected an indented block after 'if' statement on line 4 (624618489.py, line 5)",
     "output_type": "error",
     "traceback": [
      "\u001B[1;36m  Cell \u001B[1;32mIn[2], line 5\u001B[1;36m\u001B[0m\n\u001B[1;33m    print(\"b é maior que a\")\u001B[0m\n\u001B[1;37m    ^\u001B[0m\n\u001B[1;31mIndentationError\u001B[0m\u001B[1;31m:\u001B[0m expected an indented block after 'if' statement on line 4\n"
     ]
    }
   ],
   "source": [
    "a = 33\n",
    "b = 200\n",
    "\n",
    "if b > a:\n",
    "print(\"b é maior que a\")"
   ],
   "metadata": {
    "collapsed": false,
    "ExecuteTime": {
     "end_time": "2024-03-08T14:40:43.933666Z",
     "start_time": "2024-03-08T14:40:43.843075Z"
    }
   },
   "id": "5c70df1c1a889b03",
   "execution_count": 2
  },
  {
   "cell_type": "markdown",
   "source": [
    "Quando precisamos tomar uma ação caso a condição testada seja falsa, utilizamos a palavra chave ``else``:"
   ],
   "metadata": {
    "collapsed": false
   },
   "id": "ddde38da93c98fb1"
  },
  {
   "cell_type": "code",
   "outputs": [
    {
     "name": "stdout",
     "output_type": "stream",
     "text": [
      "a é maior ou igual a b\n"
     ]
    }
   ],
   "source": [
    "a = 10\n",
    "b = 1\n",
    "\n",
    "if b > a:\n",
    "  print(\"b é maior que a\")\n",
    "else:\n",
    "  print(\"a é maior ou igual a b\")"
   ],
   "metadata": {
    "collapsed": false,
    "ExecuteTime": {
     "end_time": "2024-03-08T20:32:56.628380Z",
     "start_time": "2024-03-08T20:32:56.621992Z"
    }
   },
   "id": "6326d8716346aceb",
   "execution_count": 3
  },
  {
   "cell_type": "markdown",
   "source": [
    "Outro padrão comum é quando queremos testar outra condição, caso a primeira seja falsa. Nesse casio, é necessário acrescentar outro comando ``if``, dentro do bloco ``else``:"
   ],
   "metadata": {
    "collapsed": false
   },
   "id": "2cb9c428764920a1"
  },
  {
   "cell_type": "code",
   "outputs": [
    {
     "name": "stdout",
     "output_type": "stream",
     "text": [
      "a e b são iguais\n"
     ]
    }
   ],
   "source": [
    "a = 1\n",
    "b = 1\n",
    "\n",
    "if b > a:\n",
    "  print(\"b é maior que a\")\n",
    "else:\n",
    "  if a > b:\n",
    "    print(\"a é maior que b\")\n",
    "  else:\n",
    "    print(\"a e b são iguais\")"
   ],
   "metadata": {
    "collapsed": false,
    "ExecuteTime": {
     "end_time": "2024-03-08T20:36:35.631307Z",
     "start_time": "2024-03-08T20:36:35.624116Z"
    }
   },
   "id": "1c11004bbc1400a6",
   "execution_count": 4
  },
  {
   "cell_type": "markdown",
   "source": [
    "A fim de evitar ``if``s aninhados e aumentar a legibilidade do código, um comando ``else`` seguido de ``if`` pode ser resumido usando o comando ``elif``:"
   ],
   "metadata": {
    "collapsed": false
   },
   "id": "da6fed76082d169a"
  },
  {
   "cell_type": "code",
   "outputs": [
    {
     "name": "stdout",
     "output_type": "stream",
     "text": [
      "a e b são iguais\n"
     ]
    }
   ],
   "source": [
    "a = 1\n",
    "b = 1\n",
    "\n",
    "if b > a:\n",
    "  print(\"b é maior que a\")\n",
    "elif a > b: # elif é uma abreviação de \"else if\"\n",
    "  print(\"a é maior do que b\")\n",
    "else:\n",
    "  print(\"a e b são iguais\")"
   ],
   "metadata": {
    "collapsed": false,
    "ExecuteTime": {
     "end_time": "2024-03-08T20:39:07.446776Z",
     "start_time": "2024-03-08T20:39:07.440575Z"
    }
   },
   "id": "a5fd5028f5a6fc8",
   "execution_count": 5
  },
  {
   "cell_type": "markdown",
   "source": [
    "Qualquer operação que avalia uma expressão pode ser utilizada com o ``if``. Mas o conjunto de operadores que mais expande o poder dos operadores de comparação são os operadores lógicos: ``or`` e ``and``."
   ],
   "metadata": {
    "collapsed": false
   },
   "id": "c511f421c7215aa5"
  },
  {
   "cell_type": "code",
   "outputs": [
    {
     "name": "stdout",
     "output_type": "stream",
     "text": [
      "Ambas as condições são verdadeiras\n"
     ]
    }
   ],
   "source": [
    "# Utilizando 'and'. O if avalia a expressão como verdadeira se as duas condições forem verdadeiras. \n",
    "# No caso, se a for maior do que b e c for maior do que a.\n",
    "a = 200\n",
    "b = 33\n",
    "c = 500\n",
    "\n",
    "if a > b and c > a:\n",
    "  print(\"Ambas as condições são verdadeiras\")"
   ],
   "metadata": {
    "collapsed": false,
    "ExecuteTime": {
     "end_time": "2024-03-08T20:42:57.409325Z",
     "start_time": "2024-03-08T20:42:57.402994Z"
    }
   },
   "id": "bca64f824342758e",
   "execution_count": 6
  },
  {
   "cell_type": "code",
   "outputs": [
    {
     "name": "stdout",
     "output_type": "stream",
     "text": [
      "Ao menos uma das condições é verdadeira\n"
     ]
    }
   ],
   "source": [
    "# A palavra chaver 'or' avalia como verdadeira se uma expressão se ao menos uma das condições for verdadeira.\n",
    "# No caso, se a é maior do que b OU a é maior do que c.\n",
    "a = 200\n",
    "b = 33\n",
    "c = 500\n",
    "\n",
    "if a > b or a > c:\n",
    "  print(\"Ao menos uma das condições é verdadeira\")"
   ],
   "metadata": {
    "collapsed": false,
    "ExecuteTime": {
     "end_time": "2024-03-08T20:45:07.650899Z",
     "start_time": "2024-03-08T20:45:07.645812Z"
    }
   },
   "id": "148765646abe3ad9",
   "execution_count": 7
  },
  {
   "cell_type": "markdown",
   "source": [
    "## Ifs aninhados\n",
    "\n",
    "É toalmente termos ``if`` dentro de ``if``. Essa construção é chamda de ``if`` aninhado. "
   ],
   "metadata": {
    "collapsed": false
   },
   "id": "ebb745f75b8cbef5"
  },
  {
   "cell_type": "code",
   "outputs": [
    {
     "name": "stdout",
     "output_type": "stream",
     "text": [
      "Maior do que 10,\n",
      "e ainda maior do que 20!\n"
     ]
    }
   ],
   "source": [
    "x = 41\n",
    "\n",
    "if x > 10:\n",
    "  print(\"Maior do que 10,\")\n",
    "  if x > 20:\n",
    "    print(\"e ainda maior do que 20!\")\n",
    "  else:\n",
    "    print(\"mas não maior do que 20.\")"
   ],
   "metadata": {
    "collapsed": false,
    "ExecuteTime": {
     "end_time": "2024-03-08T20:48:24.129387Z",
     "start_time": "2024-03-08T20:48:24.124695Z"
    }
   },
   "id": "cb67ad73d5b7a7d1",
   "execution_count": 8
  },
  {
   "cell_type": "markdown",
   "source": [
    "# Python Loops: While\n",
    "\n",
    "O comando ``while`` executas um conjunto de instruções enquanto uma condição é verdadeira."
   ],
   "metadata": {
    "collapsed": false
   },
   "id": "3b1673480e6d9b82"
  },
  {
   "cell_type": "code",
   "outputs": [
    {
     "name": "stdout",
     "output_type": "stream",
     "text": [
      "1\n",
      "4\n"
     ]
    }
   ],
   "source": [
    "i = 1\n",
    "\n",
    "while i < 6:\n",
    "  print(i)\n",
    "  i += 3"
   ],
   "metadata": {
    "collapsed": false,
    "ExecuteTime": {
     "end_time": "2024-03-08T20:52:19.838486Z",
     "start_time": "2024-03-08T20:52:19.832892Z"
    }
   },
   "id": "d6f2e43ba0cc3318",
   "execution_count": 11
  },
  {
   "cell_type": "markdown",
   "source": [
    "Um ponto importante sobre o comando ``while`` é que não podemos, jamais, nunca, esquecer de incrementar o valor i, ou a nossa condição de parada (i = 6) nunca será atingida o comando irá continuar a rodar para sempre. (Sério, para toda a eternidade).\n",
    "\n",
    "Outro detalhe importante é que o valor de i (ou qualquer que seja o nome que demos para essa variável) deve ser definida antes de começarmos a executar o comando para que ela possa ser incrementada de forma correta.\n",
    "\n",
    "# Python Loops: For\n",
    "\n",
    "O loop ``for`` é utilizado para iterar sobre uma coleção, seja ela uma lista, um dicionário, ou qualquer outro tipo de sequência que seja iterável.\n",
    "\n",
    "O ``for`` em Python não funciona exatamente como o ``for`` em outras linguagens de programação, ao invés disso ele lembra mais um iterator encontrando em algumas linguagens orientadas a objetos.\n",
    "\n",
    "Utilizando o ``for`` é possível realizar um conjunto de instruções sequencialmente sobre cada um dos itens de uma coleção, exatamente como fizemos anteriormente no set:"
   ],
   "metadata": {
    "collapsed": false
   },
   "id": "b41992770292f858"
  },
  {
   "cell_type": "code",
   "outputs": [
    {
     "name": "stdout",
     "output_type": "stream",
     "text": [
      "banana\n",
      "maça\n",
      "pera\n"
     ]
    }
   ],
   "source": [
    "thisset = {\"maça\", \"banana\", \"pera\"}\n",
    "\n",
    "for x in thisset:\n",
    "  print(x)"
   ],
   "metadata": {
    "collapsed": false,
    "ExecuteTime": {
     "end_time": "2024-03-08T21:00:42.212800Z",
     "start_time": "2024-03-08T21:00:42.207366Z"
    }
   },
   "id": "e30516c395d51acd",
   "execution_count": 12
  },
  {
   "cell_type": "code",
   "outputs": [
    {
     "name": "stdout",
     "output_type": "stream",
     "text": [
      "maça\n",
      "banana\n"
     ]
    }
   ],
   "source": [
    "fruits = [\"maça\", \"banana\", \"pera\"]\n",
    "\n",
    "for x in fruits:\n",
    "  print(x)\n",
    "  if x == \"banana\":\n",
    "    break"
   ],
   "metadata": {
    "collapsed": false,
    "ExecuteTime": {
     "end_time": "2024-03-08T21:02:27.591044Z",
     "start_time": "2024-03-08T21:02:27.586916Z"
    }
   },
   "id": "f629e059cb56413b",
   "execution_count": 13
  },
  {
   "cell_type": "code",
   "outputs": [
    {
     "name": "stdout",
     "output_type": "stream",
     "text": [
      "maça\n",
      "pera\n"
     ]
    }
   ],
   "source": [
    "fruits = [\"maça\", \"banana\", \"pera\"]\n",
    "\n",
    "for x in fruits:\n",
    "  if x == \"banana\":\n",
    "    continue\n",
    "  print(x)"
   ],
   "metadata": {
    "collapsed": false,
    "ExecuteTime": {
     "end_time": "2024-03-08T21:03:18.629338Z",
     "start_time": "2024-03-08T21:03:18.624350Z"
    }
   },
   "id": "7b41babf38b42bf7",
   "execution_count": 14
  },
  {
   "cell_type": "code",
   "outputs": [],
   "source": [],
   "metadata": {
    "collapsed": false
   },
   "id": "3592ce848b33b16b"
  }
 ],
 "metadata": {
  "kernelspec": {
   "display_name": "Python 3",
   "language": "python",
   "name": "python3"
  },
  "language_info": {
   "codemirror_mode": {
    "name": "ipython",
    "version": 2
   },
   "file_extension": ".py",
   "mimetype": "text/x-python",
   "name": "python",
   "nbconvert_exporter": "python",
   "pygments_lexer": "ipython2",
   "version": "2.7.6"
  }
 },
 "nbformat": 4,
 "nbformat_minor": 5
}

{
 "cells": [
  {
   "cell_type": "markdown",
   "source": [
    "# Importando pacotes\n",
    "\n",
    "É possível importar um pacote de 2 maneiras:\n",
    "\n",
    "``import [nome_pacote]``\n",
    "\n",
    "No primeiro modo, todo o pacote é importado. Para usar uma função é necessário usar ``nome_pacote.nome_função``.\n",
    "\n",
    "Adicionalmente, também é possível atribuir outro nome para os pacotes carregados. Em geral não é recomendado atribuir nomes ou siglas que não sejam conhecidas. Os usos mais comuns são:\n",
    "\n",
    "``import numpy as np``\n",
    "\n",
    "``import pandas as pd``\n",
    "\n",
    "Usando a palavra ``from`` nesta sintaxe, é possível importar uma ou mais funções específicas de um pacote (isto pode ser útil em casos de pacotes muito grandes que demoram muito para carregar)."
   ],
   "metadata": {
    "collapsed": false
   },
   "id": "4a79b4794b089b97"
  },
  {
   "cell_type": "markdown",
   "source": [
    "Importa o pacote math e calcula a raiz quadrada de 2"
   ],
   "metadata": {
    "collapsed": false
   },
   "id": "d02447274f6421ca"
  },
  {
   "cell_type": "code",
   "outputs": [
    {
     "data": {
      "text/plain": "1.4142135623730951"
     },
     "execution_count": 1,
     "metadata": {},
     "output_type": "execute_result"
    }
   ],
   "source": [
    "import math\n",
    "\n",
    "math.sqrt(2)"
   ],
   "metadata": {
    "collapsed": false,
    "ExecuteTime": {
     "end_time": "2024-03-12T14:23:22.024098Z",
     "start_time": "2024-03-12T14:23:22.008635Z"
    }
   },
   "id": "c58bdc9f0a89aa57",
   "execution_count": 1
  },
  {
   "cell_type": "code",
   "outputs": [
    {
     "data": {
      "text/plain": "1.4142135623730951"
     },
     "execution_count": 2,
     "metadata": {},
     "output_type": "execute_result"
    }
   ],
   "source": [
    "from math import sqrt\n",
    "\n",
    "sqrt(2)"
   ],
   "metadata": {
    "collapsed": false,
    "ExecuteTime": {
     "end_time": "2024-03-12T14:24:16.445017Z",
     "start_time": "2024-03-12T14:24:16.436614Z"
    }
   },
   "id": "dced459f1365b8f8",
   "execution_count": 2
  },
  {
   "cell_type": "markdown",
   "source": [
    "# Importando seu próprio pacote\n",
    "\n",
    "Se você tem algumas funções já criadas, você pode criar um arquivo .py com todas elas. Depois, é possível importar o arquivo com a sintaxe apresentada anteriormente.\n",
    "\n",
    "É possível usar ``from nome_arquivo import nome_função`` para importar apenas uma função específica o ``import nome_arquivo`` para importar todas as funções do arquivo.\n",
    "\n",
    "Este método funciona se o arquivo com as funções está na mesma pasta que o Jupyter Notebook ou .py que está sendo executado. Entretanto, se for necessário carregar um arquivo que está em outra pasta, é possível fazer a referência com o seguinte código:"
   ],
   "metadata": {
    "collapsed": false
   },
   "id": "5458b5f06ee78ccd"
  },
  {
   "cell_type": "code",
   "outputs": [],
   "source": [
    "import sys\n",
    "\n",
    "sys.path.append(\"caminho-até-a-pasta-do-meu-arquivo/\")"
   ],
   "metadata": {
    "collapsed": false
   },
   "id": "f7e2fa8b6c01e734"
  },
  {
   "cell_type": "markdown",
   "source": [
    "# Dates and Times"
   ],
   "metadata": {
    "collapsed": false
   },
   "id": "c67bdca4ee4d2de8"
  },
  {
   "cell_type": "code",
   "outputs": [],
   "source": [
    "import datetime as dt\n",
    "import time as tm"
   ],
   "metadata": {
    "collapsed": false,
    "ExecuteTime": {
     "end_time": "2024-03-12T14:30:47.924386Z",
     "start_time": "2024-03-12T14:30:47.919904Z"
    }
   },
   "id": "43a0b59ae0262dd5",
   "execution_count": 3
  },
  {
   "cell_type": "markdown",
   "source": [
    "A função ``time`` traz a quantidade de segundos desde 1 de janeiro de 1970."
   ],
   "metadata": {
    "collapsed": false
   },
   "id": "90bb42000aac9701"
  },
  {
   "cell_type": "code",
   "outputs": [
    {
     "data": {
      "text/plain": "1710253882.203878"
     },
     "execution_count": 4,
     "metadata": {},
     "output_type": "execute_result"
    }
   ],
   "source": [
    "tm.time()"
   ],
   "metadata": {
    "collapsed": false,
    "ExecuteTime": {
     "end_time": "2024-03-12T14:31:22.208390Z",
     "start_time": "2024-03-12T14:31:22.200444Z"
    }
   },
   "id": "cc67a7a3062fbf23",
   "execution_count": 4
  },
  {
   "cell_type": "markdown",
   "source": [
    "A função ``fromtimestamp`` converte o timestamp acima em um objeto do tipo ``datetime``."
   ],
   "metadata": {
    "collapsed": false
   },
   "id": "58f65fae53ea975f"
  },
  {
   "cell_type": "code",
   "outputs": [
    {
     "data": {
      "text/plain": "datetime.datetime(2024, 3, 12, 11, 32, 2, 147056)"
     },
     "execution_count": 5,
     "metadata": {},
     "output_type": "execute_result"
    }
   ],
   "source": [
    "dtnow = dt.datetime.fromtimestamp(tm.time())\n",
    "dtnow"
   ],
   "metadata": {
    "collapsed": false,
    "ExecuteTime": {
     "end_time": "2024-03-12T14:32:02.149798Z",
     "start_time": "2024-03-12T14:32:02.144658Z"
    }
   },
   "id": "3580fa380a553905",
   "execution_count": 5
  },
  {
   "cell_type": "markdown",
   "source": [
    "É possível visualizar cada uma das unidades guardadas no tipo datetime:"
   ],
   "metadata": {
    "collapsed": false
   },
   "id": "45631a8163d12585"
  },
  {
   "cell_type": "code",
   "outputs": [
    {
     "data": {
      "text/plain": "(2024, 3, 12, 11, 32, 2)"
     },
     "execution_count": 6,
     "metadata": {},
     "output_type": "execute_result"
    }
   ],
   "source": [
    "dtnow.year, dtnow.month, dtnow.day, dtnow.hour, dtnow.minute, dtnow.second"
   ],
   "metadata": {
    "collapsed": false,
    "ExecuteTime": {
     "end_time": "2024-03-12T14:33:14.791364Z",
     "start_time": "2024-03-12T14:33:14.783147Z"
    }
   },
   "id": "3a6ce4d282ce75b2",
   "execution_count": 6
  },
  {
   "cell_type": "markdown",
   "source": [
    "A função ``date.today`` traz a data atual do sistema."
   ],
   "metadata": {
    "collapsed": false
   },
   "id": "c4dac3f4bf5ae2b9"
  },
  {
   "cell_type": "code",
   "outputs": [],
   "source": [
    "today = dt.date.today()"
   ],
   "metadata": {
    "collapsed": false,
    "ExecuteTime": {
     "end_time": "2024-03-12T14:33:50.657992Z",
     "start_time": "2024-03-12T14:33:50.651106Z"
    }
   },
   "id": "c8e53e0d09aca376",
   "execution_count": 7
  },
  {
   "cell_type": "code",
   "outputs": [
    {
     "data": {
      "text/plain": "datetime.date(2024, 3, 12)"
     },
     "execution_count": 8,
     "metadata": {},
     "output_type": "execute_result"
    }
   ],
   "source": [
    "today"
   ],
   "metadata": {
    "collapsed": false,
    "ExecuteTime": {
     "end_time": "2024-03-12T14:34:18.160864Z",
     "start_time": "2024-03-12T14:34:18.152630Z"
    }
   },
   "id": "d4ea2022d07855cf",
   "execution_count": 8
  },
  {
   "cell_type": "markdown",
   "source": [
    "Com ``strftime`` é possível converter uma data em ``datetimw`` para string no formato que quiser."
   ],
   "metadata": {
    "collapsed": false
   },
   "id": "1c1d0a845e1323bb"
  },
  {
   "cell_type": "code",
   "outputs": [
    {
     "data": {
      "text/plain": "'2024-03-12, Mar'"
     },
     "execution_count": 9,
     "metadata": {},
     "output_type": "execute_result"
    }
   ],
   "source": [
    "today.strftime(\"%Y-%m-%d, %b\")"
   ],
   "metadata": {
    "collapsed": false,
    "ExecuteTime": {
     "end_time": "2024-03-12T14:35:55.563985Z",
     "start_time": "2024-03-12T14:35:55.556884Z"
    }
   },
   "id": "e3712bbd8595b1f3",
   "execution_count": 9
  },
  {
   "cell_type": "markdown",
   "source": [
    "A mesma ideia é aplicada a ``strptime``. Com esta função é possível converter uma data em string para ``datetime``."
   ],
   "metadata": {
    "collapsed": false
   },
   "id": "1a9cbc1cfaa92884"
  },
  {
   "cell_type": "code",
   "outputs": [
    {
     "data": {
      "text/plain": "datetime.datetime(2020, 1, 1, 0, 0)"
     },
     "execution_count": 10,
     "metadata": {},
     "output_type": "execute_result"
    }
   ],
   "source": [
    "dt.datetime.strptime(\"20200101\", \"%Y%m%d\")"
   ],
   "metadata": {
    "collapsed": false,
    "ExecuteTime": {
     "end_time": "2024-03-12T14:37:00.961939Z",
     "start_time": "2024-03-12T14:37:00.954100Z"
    }
   },
   "id": "b78d30758b0681f9",
   "execution_count": 10
  },
  {
   "cell_type": "markdown",
   "source": [
    "Para encontrar a codificação de todos os formatos possíveis para ``strptime`` e ``strftime``, é possível acessar a documentação do Python."
   ],
   "metadata": {
    "collapsed": false
   },
   "id": "16c7c30083de6987"
  },
  {
   "cell_type": "markdown",
   "source": [
    "``timedelta`` é um objeto usado como medida de diferença de dias entre duas datas."
   ],
   "metadata": {
    "collapsed": false
   },
   "id": "ab844e8fbb89da5a"
  },
  {
   "cell_type": "code",
   "outputs": [
    {
     "data": {
      "text/plain": "datetime.timedelta(days=100)"
     },
     "execution_count": 11,
     "metadata": {},
     "output_type": "execute_result"
    }
   ],
   "source": [
    "delta = dt.timedelta(days = 100)    # cria um timedelta de 100 dias\n",
    "delta"
   ],
   "metadata": {
    "collapsed": false,
    "ExecuteTime": {
     "end_time": "2024-03-12T14:40:03.992661Z",
     "start_time": "2024-03-12T14:40:03.983815Z"
    }
   },
   "id": "102b0d6b786ec3ff",
   "execution_count": 11
  },
  {
   "cell_type": "markdown",
   "source": [
    "É possível usar o ``delta`` criado para calcular novas datas e compará-las"
   ],
   "metadata": {
    "collapsed": false
   },
   "id": "bf69f0e728b83ef6"
  },
  {
   "cell_type": "code",
   "outputs": [
    {
     "data": {
      "text/plain": "datetime.date(2023, 12, 3)"
     },
     "execution_count": 12,
     "metadata": {},
     "output_type": "execute_result"
    }
   ],
   "source": [
    "today - delta   # a data mais 100 dias"
   ],
   "metadata": {
    "collapsed": false,
    "ExecuteTime": {
     "end_time": "2024-03-12T14:40:49.222701Z",
     "start_time": "2024-03-12T14:40:49.218097Z"
    }
   },
   "id": "1709fef359ff1fc7",
   "execution_count": 12
  },
  {
   "cell_type": "code",
   "outputs": [
    {
     "data": {
      "text/plain": "True"
     },
     "execution_count": 13,
     "metadata": {},
     "output_type": "execute_result"
    }
   ],
   "source": [
    "today > today - delta   # comparação de datas"
   ],
   "metadata": {
    "collapsed": false,
    "ExecuteTime": {
     "end_time": "2024-03-12T14:40:55.565341Z",
     "start_time": "2024-03-12T14:40:55.560028Z"
    }
   },
   "id": "eadb966977993db5",
   "execution_count": 13
  }
 ],
 "metadata": {
  "kernelspec": {
   "display_name": "Python 3",
   "language": "python",
   "name": "python3"
  },
  "language_info": {
   "codemirror_mode": {
    "name": "ipython",
    "version": 2
   },
   "file_extension": ".py",
   "mimetype": "text/x-python",
   "name": "python",
   "nbconvert_exporter": "python",
   "pygments_lexer": "ipython2",
   "version": "2.7.6"
  }
 },
 "nbformat": 4,
 "nbformat_minor": 5
}

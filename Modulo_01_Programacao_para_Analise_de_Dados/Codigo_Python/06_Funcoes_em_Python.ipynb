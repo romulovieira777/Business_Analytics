{
 "cells": [
  {
   "cell_type": "markdown",
   "source": [
    "# Funções\n",
    "\n",
    "## Usando funções\n",
    "\n",
    "Para usar ou chamar uma função é necessário escrever o nome da função, seguido dos parâmetros entre parênteses, separados por vírgulas."
   ],
   "metadata": {
    "collapsed": false
   },
   "id": "cbf85235b545a8f3"
  },
  {
   "cell_type": "code",
   "execution_count": 1,
   "id": "initial_id",
   "metadata": {
    "collapsed": true,
    "ExecuteTime": {
     "end_time": "2024-03-12T13:55:02.939098Z",
     "start_time": "2024-03-12T13:55:02.930607Z"
    }
   },
   "outputs": [
    {
     "name": "stdout",
     "output_type": "stream",
     "text": [
      "Olá, mundo!\n"
     ]
    }
   ],
   "source": [
    "print(\"Olá, mundo!\")\n",
    "\n",
    "# a função print não retorna nada. Ela só exibe o texto na tela."
   ]
  },
  {
   "cell_type": "code",
   "outputs": [
    {
     "data": {
      "text/plain": "str"
     },
     "execution_count": 2,
     "metadata": {},
     "output_type": "execute_result"
    }
   ],
   "source": [
    "tipo_dados = type(\"aaa\")\n",
    "tipo_dados"
   ],
   "metadata": {
    "collapsed": false,
    "ExecuteTime": {
     "end_time": "2024-03-12T13:55:02.950022Z",
     "start_time": "2024-03-12T13:55:02.941403Z"
    }
   },
   "id": "e4a788ea8dc01977",
   "execution_count": 2
  },
  {
   "cell_type": "code",
   "outputs": [
    {
     "data": {
      "text/plain": "3"
     },
     "execution_count": 3,
     "metadata": {},
     "output_type": "execute_result"
    }
   ],
   "source": [
    "tam_dados = len(\"aaa\")\n",
    "tam_dados"
   ],
   "metadata": {
    "collapsed": false,
    "ExecuteTime": {
     "end_time": "2024-03-12T13:55:02.958668Z",
     "start_time": "2024-03-12T13:55:02.950624Z"
    }
   },
   "id": "a16008b02bdc52b5",
   "execution_count": 3
  },
  {
   "cell_type": "code",
   "outputs": [
    {
     "data": {
      "text/plain": "3"
     },
     "execution_count": 4,
     "metadata": {},
     "output_type": "execute_result"
    }
   ],
   "source": [
    "numero_inteiro = int(3.67)\n",
    "numero_inteiro"
   ],
   "metadata": {
    "collapsed": false,
    "ExecuteTime": {
     "end_time": "2024-03-12T13:55:02.968321Z",
     "start_time": "2024-03-12T13:55:02.959766Z"
    }
   },
   "id": "d26e4bad75453604",
   "execution_count": 4
  },
  {
   "cell_type": "markdown",
   "source": [
    "# Definindo funções\n",
    "\n",
    "Para criar uma função em Python é necessário ter em conta 3 elementos:\n",
    "\n",
    "   * Nome da função\n",
    "   * Parâmetros da função\n",
    "   * Resultado ou retorno da função\n",
    "\n",
    "Com estes pontos definidos, é possível criar a função com a seguinte sintaxe:\n",
    "\n",
    "```\n",
    "def nome_da_funcao(parametro1, parametro2, parametro3):\n",
    "    # faz alguma coisa aqui\n",
    "    \n",
    "    return 1\n",
    "```"
   ],
   "metadata": {
    "collapsed": false
   },
   "id": "16811b5dc188d455"
  },
  {
   "cell_type": "code",
   "outputs": [],
   "source": [
    "def soma(parametro1, parametro2, parametro3):\n",
    "    total = parametro1 + parametro2 + parametro3\n",
    "    return total"
   ],
   "metadata": {
    "collapsed": false,
    "ExecuteTime": {
     "end_time": "2024-03-12T13:55:02.976904Z",
     "start_time": "2024-03-12T13:55:02.969945Z"
    }
   },
   "id": "1a8eb105175e7455",
   "execution_count": 5
  },
  {
   "cell_type": "code",
   "outputs": [
    {
     "data": {
      "text/plain": "6"
     },
     "execution_count": 6,
     "metadata": {},
     "output_type": "execute_result"
    }
   ],
   "source": [
    "soma(1, 2, 3)"
   ],
   "metadata": {
    "collapsed": false,
    "ExecuteTime": {
     "end_time": "2024-03-12T13:55:02.987821Z",
     "start_time": "2024-03-12T13:55:02.977926Z"
    }
   },
   "id": "2b7369bc6bf7b10f",
   "execution_count": 6
  },
  {
   "cell_type": "code",
   "outputs": [
    {
     "data": {
      "text/plain": "'123'"
     },
     "execution_count": 7,
     "metadata": {},
     "output_type": "execute_result"
    }
   ],
   "source": [
    "soma(\"1\", \"2\", \"3\")"
   ],
   "metadata": {
    "collapsed": false,
    "ExecuteTime": {
     "end_time": "2024-03-12T13:55:02.997679Z",
     "start_time": "2024-03-12T13:55:02.988996Z"
    }
   },
   "id": "aa3d2ee8fd5d0ca1",
   "execution_count": 7
  },
  {
   "cell_type": "markdown",
   "source": [
    "# Parâmetros opcionais\n",
    "\n",
    "Quando está criando uma função, é possível definir parâmetros opcionais, ou seja, que podem ou não ser passados na chamada. Para isso, basta atribuir um valor ao parâmetro na definição da função:"
   ],
   "metadata": {
    "collapsed": false
   },
   "id": "6dea41a756e345fd"
  },
  {
   "cell_type": "code",
   "outputs": [],
   "source": [
    "def soma(parametro1, parametro2, parametro3=0):\n",
    "    total = parametro1 + parametro2 + parametro3\n",
    "    return total"
   ],
   "metadata": {
    "collapsed": false,
    "ExecuteTime": {
     "end_time": "2024-03-12T13:55:03.018076Z",
     "start_time": "2024-03-12T13:55:03.013571Z"
    }
   },
   "id": "d8b6937573550f5f",
   "execution_count": 8
  },
  {
   "cell_type": "code",
   "outputs": [
    {
     "data": {
      "text/plain": "3"
     },
     "execution_count": 9,
     "metadata": {},
     "output_type": "execute_result"
    }
   ],
   "source": [
    "soma(1, 2)"
   ],
   "metadata": {
    "collapsed": false,
    "ExecuteTime": {
     "end_time": "2024-03-12T13:55:03.035782Z",
     "start_time": "2024-03-12T13:55:03.030385Z"
    }
   },
   "id": "25c8cf91618b4b3c",
   "execution_count": 9
  },
  {
   "cell_type": "code",
   "outputs": [
    {
     "data": {
      "text/plain": "6"
     },
     "execution_count": 10,
     "metadata": {},
     "output_type": "execute_result"
    }
   ],
   "source": [
    "soma(1, 2, 3)"
   ],
   "metadata": {
    "collapsed": false,
    "ExecuteTime": {
     "end_time": "2024-03-12T13:55:03.047228Z",
     "start_time": "2024-03-12T13:55:03.042025Z"
    }
   },
   "id": "76c5fc2d3bdc8027",
   "execution_count": 10
  },
  {
   "cell_type": "code",
   "outputs": [
    {
     "data": {
      "text/plain": "6"
     },
     "execution_count": 11,
     "metadata": {},
     "output_type": "execute_result"
    }
   ],
   "source": [
    "soma(1, 2, parametro3=3)"
   ],
   "metadata": {
    "collapsed": false,
    "ExecuteTime": {
     "end_time": "2024-03-12T13:55:03.113901Z",
     "start_time": "2024-03-12T13:55:03.109355Z"
    }
   },
   "id": "2ef12fce7c9434d4",
   "execution_count": 11
  },
  {
   "cell_type": "code",
   "outputs": [
    {
     "ename": "TypeError",
     "evalue": "soma() takes from 2 to 3 positional arguments but 4 were given",
     "output_type": "error",
     "traceback": [
      "\u001B[1;31m---------------------------------------------------------------------------\u001B[0m",
      "\u001B[1;31mTypeError\u001B[0m                                 Traceback (most recent call last)",
      "Cell \u001B[1;32mIn[12], line 1\u001B[0m\n\u001B[1;32m----> 1\u001B[0m \u001B[43msoma\u001B[49m\u001B[43m(\u001B[49m\u001B[38;5;241;43m1\u001B[39;49m\u001B[43m,\u001B[49m\u001B[43m \u001B[49m\u001B[38;5;241;43m2\u001B[39;49m\u001B[43m,\u001B[49m\u001B[43m \u001B[49m\u001B[38;5;241;43m3\u001B[39;49m\u001B[43m,\u001B[49m\u001B[43m \u001B[49m\u001B[38;5;241;43m4\u001B[39;49m\u001B[43m)\u001B[49m\n",
      "\u001B[1;31mTypeError\u001B[0m: soma() takes from 2 to 3 positional arguments but 4 were given"
     ]
    }
   ],
   "source": [
    "soma(1, 2, 3, 4)"
   ],
   "metadata": {
    "collapsed": false,
    "ExecuteTime": {
     "end_time": "2024-03-12T13:55:03.478317Z",
     "start_time": "2024-03-12T13:55:03.131957Z"
    }
   },
   "id": "96f154fab66f67c",
   "execution_count": 12
  },
  {
   "cell_type": "code",
   "outputs": [
    {
     "ename": "SyntaxError",
     "evalue": "parameter without a default follows parameter with a default (2842153119.py, line 1)",
     "output_type": "error",
     "traceback": [
      "\u001B[1;36m  Cell \u001B[1;32mIn[13], line 1\u001B[1;36m\u001B[0m\n\u001B[1;33m    def soma(parametro1, parametro2=0, parametro3):\u001B[0m\n\u001B[1;37m                                       ^\u001B[0m\n\u001B[1;31mSyntaxError\u001B[0m\u001B[1;31m:\u001B[0m parameter without a default follows parameter with a default\n"
     ]
    }
   ],
   "source": [
    "def soma(parametro1, parametro2=0, parametro3):\n",
    "    total = parametro1 + parametro2 + parametro3 \n",
    "    return total"
   ],
   "metadata": {
    "collapsed": false,
    "ExecuteTime": {
     "end_time": "2024-03-12T13:57:05.750239Z",
     "start_time": "2024-03-12T13:57:05.741760Z"
    }
   },
   "id": "97868cdf7832b378",
   "execution_count": 13
  }
 ],
 "metadata": {
  "kernelspec": {
   "display_name": "Python 3",
   "language": "python",
   "name": "python3"
  },
  "language_info": {
   "codemirror_mode": {
    "name": "ipython",
    "version": 2
   },
   "file_extension": ".py",
   "mimetype": "text/x-python",
   "name": "python",
   "nbconvert_exporter": "python",
   "pygments_lexer": "ipython2",
   "version": "2.7.6"
  }
 },
 "nbformat": 4,
 "nbformat_minor": 5
}

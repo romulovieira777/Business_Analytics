{
 "cells": [
  {
   "cell_type": "markdown",
   "source": [
    "# Tipos de Dados\n",
    "\n",
    "Em programação tipos de dados é um conceito muito importante. As variáveis podem armazenar vários tipos diferentes de dados. E tipos diferentes de dados podem fazer coisas diferentes.\n",
    "\n",
    "Python tem os seguintes tipos de dados:\n",
    "   * Texto: ``str``\n",
    "   * Números: ``int``, ``float``\n",
    "   * Sequências: ``list``, ``tuple``, ``range``\n",
    "   * Mapeamentos: ``dict``\n",
    "   * Conjuntos: ``set``, ``frozenset``\n",
    "   * Booleanos: ``bool``"
   ],
   "metadata": {
    "collapsed": false
   },
   "id": "de00ecc4552d03ca"
  },
  {
   "cell_type": "code",
   "outputs": [],
   "source": [
    "t = '1' # str\n",
    "x = 1 # int\n",
    "y = 1.0 # float"
   ],
   "metadata": {
    "collapsed": false,
    "ExecuteTime": {
     "end_time": "2024-03-09T19:32:01.065614Z",
     "start_time": "2024-03-09T19:32:01.059278Z"
    }
   },
   "id": "8063bb1ffd68978b",
   "execution_count": 1
  },
  {
   "cell_type": "code",
   "outputs": [],
   "source": [
    "lista = [0, 1, 2]\n",
    "tupla = (0, 1, 2)"
   ],
   "metadata": {
    "collapsed": false,
    "ExecuteTime": {
     "end_time": "2024-03-09T19:32:26.208345Z",
     "start_time": "2024-03-09T19:32:26.204196Z"
    }
   },
   "id": "511d81535fbf5209",
   "execution_count": 2
  },
  {
   "cell_type": "code",
   "outputs": [
    {
     "data": {
      "text/plain": "range(1, 5)"
     },
     "execution_count": 3,
     "metadata": {},
     "output_type": "execute_result"
    }
   ],
   "source": [
    "intervalo = range(1, 5)\n",
    "intervalo"
   ],
   "metadata": {
    "collapsed": false,
    "ExecuteTime": {
     "end_time": "2024-03-09T19:32:41.403414Z",
     "start_time": "2024-03-09T19:32:41.394061Z"
    }
   },
   "id": "30ed1084f94797",
   "execution_count": 3
  },
  {
   "cell_type": "code",
   "outputs": [
    {
     "name": "stdout",
     "output_type": "stream",
     "text": [
      "1\n",
      "2\n",
      "3\n",
      "4\n"
     ]
    }
   ],
   "source": [
    "for i in intervalo:\n",
    "    print(i)"
   ],
   "metadata": {
    "collapsed": false,
    "ExecuteTime": {
     "end_time": "2024-03-09T19:32:51.076072Z",
     "start_time": "2024-03-09T19:32:51.071852Z"
    }
   },
   "id": "29496bdd35f780fc",
   "execution_count": 4
  },
  {
   "cell_type": "code",
   "outputs": [],
   "source": [
    "de_para = {'chave': 'valor'}\n",
    "items = {'a': 1, 'b': 2, 'c': 3}"
   ],
   "metadata": {
    "collapsed": false,
    "ExecuteTime": {
     "end_time": "2024-03-09T19:33:33.680790Z",
     "start_time": "2024-03-09T19:33:33.674742Z"
    }
   },
   "id": "b93ace3b71c612e6",
   "execution_count": 5
  },
  {
   "cell_type": "code",
   "outputs": [
    {
     "data": {
      "text/plain": "{1, 2, 3}"
     },
     "execution_count": 6,
     "metadata": {},
     "output_type": "execute_result"
    }
   ],
   "source": [
    "conjunto = {1, 1, 2, 2, 3}\n",
    "conjunto"
   ],
   "metadata": {
    "collapsed": false,
    "ExecuteTime": {
     "end_time": "2024-03-09T19:33:51.475332Z",
     "start_time": "2024-03-09T19:33:51.468703Z"
    }
   },
   "id": "dd51615c026d1374",
   "execution_count": 6
  },
  {
   "cell_type": "code",
   "outputs": [
    {
     "name": "stdout",
     "output_type": "stream",
     "text": [
      " booleano é verdadeiro\n"
     ]
    }
   ],
   "source": [
    "booleano = True\n",
    "\n",
    "if booleano:\n",
    "    print(' booleano é verdadeiro')"
   ],
   "metadata": {
    "collapsed": false,
    "ExecuteTime": {
     "end_time": "2024-03-09T19:34:41.728096Z",
     "start_time": "2024-03-09T19:34:41.723551Z"
    }
   },
   "id": "2156d1a5f2d7b4ec",
   "execution_count": 7
  },
  {
   "cell_type": "code",
   "outputs": [
    {
     "name": "stdout",
     "output_type": "stream",
     "text": [
      "condição é verdadeira\n"
     ]
    }
   ],
   "source": [
    "condicao = (1 < 5)\n",
    "\n",
    "if condicao:\n",
    "    print('condição é verdadeira')"
   ],
   "metadata": {
    "collapsed": false,
    "ExecuteTime": {
     "end_time": "2024-03-09T19:36:00.479668Z",
     "start_time": "2024-03-09T19:36:00.471216Z"
    }
   },
   "id": "91a8ec67ec6f29e4",
   "execution_count": 8
  },
  {
   "cell_type": "markdown",
   "source": [
    "Para verificarmos qual é o tipo de dado de uma variável utilizamos a função ``type()``."
   ],
   "metadata": {
    "collapsed": false
   },
   "id": "57d72be5c37c36a1"
  },
  {
   "cell_type": "code",
   "outputs": [
    {
     "data": {
      "text/plain": "tuple"
     },
     "execution_count": 9,
     "metadata": {},
     "output_type": "execute_result"
    }
   ],
   "source": [
    "type(tupla)"
   ],
   "metadata": {
    "collapsed": false,
    "ExecuteTime": {
     "end_time": "2024-03-09T19:36:49.083364Z",
     "start_time": "2024-03-09T19:36:49.077176Z"
    }
   },
   "id": "362a4829d4cdf4fb",
   "execution_count": 9
  },
  {
   "cell_type": "code",
   "outputs": [
    {
     "data": {
      "text/plain": "range"
     },
     "execution_count": 10,
     "metadata": {},
     "output_type": "execute_result"
    }
   ],
   "source": [
    "type(intervalo)"
   ],
   "metadata": {
    "collapsed": false,
    "ExecuteTime": {
     "end_time": "2024-03-09T19:36:55.439086Z",
     "start_time": "2024-03-09T19:36:55.433034Z"
    }
   },
   "id": "54a6ea59d685f8fb",
   "execution_count": 10
  },
  {
   "cell_type": "code",
   "outputs": [
    {
     "data": {
      "text/plain": "dict"
     },
     "execution_count": 11,
     "metadata": {},
     "output_type": "execute_result"
    }
   ],
   "source": [
    "type(de_para)"
   ],
   "metadata": {
    "collapsed": false,
    "ExecuteTime": {
     "end_time": "2024-03-09T19:37:04.993707Z",
     "start_time": "2024-03-09T19:37:04.988332Z"
    }
   },
   "id": "c865bb8e7ac3269a",
   "execution_count": 11
  },
  {
   "cell_type": "code",
   "outputs": [
    {
     "data": {
      "text/plain": "bool"
     },
     "execution_count": 12,
     "metadata": {},
     "output_type": "execute_result"
    }
   ],
   "source": [
    "type(condicao)"
   ],
   "metadata": {
    "collapsed": false,
    "ExecuteTime": {
     "end_time": "2024-03-09T19:37:14.596422Z",
     "start_time": "2024-03-09T19:37:14.590718Z"
    }
   },
   "id": "4800d39062272b3a",
   "execution_count": 12
  },
  {
   "cell_type": "markdown",
   "source": [
    "# Números\n",
    "\n",
    "## Int\n",
    "\n",
    "Int é um tipo de variável que pode conter números inteiros, positivos ou negativos, sem decimais e de tamanho ilimitado:"
   ],
   "metadata": {
    "collapsed": false
   },
   "id": "60f13ea16ebf2e7a"
  },
  {
   "cell_type": "code",
   "outputs": [],
   "source": [
    "x = 1\n",
    "y = 430249286496308423452\n",
    "z = - 345432345"
   ],
   "metadata": {
    "collapsed": false,
    "ExecuteTime": {
     "end_time": "2024-03-09T19:39:40.194408Z",
     "start_time": "2024-03-09T19:39:40.189885Z"
    }
   },
   "id": "37c8d2b21adad923",
   "execution_count": 13
  },
  {
   "cell_type": "code",
   "outputs": [
    {
     "name": "stdout",
     "output_type": "stream",
     "text": [
      "<class 'int'>\n",
      "<class 'int'>\n",
      "<class 'int'>\n"
     ]
    }
   ],
   "source": [
    "print(type(x))\n",
    "print(type(y))\n",
    "print(type(z))"
   ],
   "metadata": {
    "collapsed": false,
    "ExecuteTime": {
     "end_time": "2024-03-09T19:39:50.417001Z",
     "start_time": "2024-03-09T19:39:50.411272Z"
    }
   },
   "id": "399a5dedb6395ee8",
   "execution_count": 14
  },
  {
   "cell_type": "markdown",
   "source": [
    "# Float\n",
    "\n",
    "Float é uma abreviação para \"floating point number\" ou número de ponto flutuante e representa um número, positivo ou negativo, que convém valores decimais:"
   ],
   "metadata": {
    "collapsed": false
   },
   "id": "aa813067e28ff87"
  },
  {
   "cell_type": "code",
   "outputs": [],
   "source": [
    "x = 1.10\n",
    "y = 1.0\n",
    "z = -34.5678"
   ],
   "metadata": {
    "collapsed": false,
    "ExecuteTime": {
     "end_time": "2024-03-09T19:41:10.736997Z",
     "start_time": "2024-03-09T19:41:10.732582Z"
    }
   },
   "id": "c35058879ed52552",
   "execution_count": 15
  },
  {
   "cell_type": "code",
   "outputs": [
    {
     "name": "stdout",
     "output_type": "stream",
     "text": [
      "<class 'float'>\n",
      "<class 'float'>\n",
      "<class 'float'>\n"
     ]
    }
   ],
   "source": [
    "print(type(x))\n",
    "print(type(y))\n",
    "print(type(z))"
   ],
   "metadata": {
    "collapsed": false,
    "ExecuteTime": {
     "end_time": "2024-03-09T19:41:15.217691Z",
     "start_time": "2024-03-09T19:41:15.212593Z"
    }
   },
   "id": "6d85f2f331cc9507",
   "execution_count": 16
  },
  {
   "cell_type": "markdown",
   "source": [
    "# Conversão de Tipo\n",
    "\n",
    "Em Python nos podemos converter um tipo de variável númerica para outro, por exemplo, podemos transformar um float em int ou vice-versa."
   ],
   "metadata": {
    "collapsed": false
   },
   "id": "f0de7a324d3931c0"
  },
  {
   "cell_type": "code",
   "outputs": [],
   "source": [
    "x = 1 # int\n",
    "y = 2.8 # float"
   ],
   "metadata": {
    "collapsed": false,
    "ExecuteTime": {
     "end_time": "2024-03-09T19:45:13.203256Z",
     "start_time": "2024-03-09T19:45:13.198641Z"
    }
   },
   "id": "23f07730a50aaabf",
   "execution_count": 17
  },
  {
   "cell_type": "code",
   "outputs": [],
   "source": [
    "# Conversão de inteiro para float\n",
    "a = float(x)\n",
    "\n",
    "# Conversão de float para inteiro\n",
    "b = int(y)"
   ],
   "metadata": {
    "collapsed": false,
    "ExecuteTime": {
     "end_time": "2024-03-09T19:45:35.341419Z",
     "start_time": "2024-03-09T19:45:35.336125Z"
    }
   },
   "id": "fbaa81c032257905",
   "execution_count": 18
  },
  {
   "cell_type": "code",
   "outputs": [
    {
     "name": "stdout",
     "output_type": "stream",
     "text": [
      "<class 'int'>\n",
      "<class 'float'>\n"
     ]
    }
   ],
   "source": [
    "print(type(x))\n",
    "print(type(y))"
   ],
   "metadata": {
    "collapsed": false,
    "ExecuteTime": {
     "end_time": "2024-03-09T19:46:02.332862Z",
     "start_time": "2024-03-09T19:46:02.328636Z"
    }
   },
   "id": "44bcbd7e163e91e6",
   "execution_count": 19
  },
  {
   "cell_type": "code",
   "outputs": [
    {
     "name": "stdout",
     "output_type": "stream",
     "text": [
      "<class 'float'>\n",
      "<class 'int'>\n"
     ]
    }
   ],
   "source": [
    "print(type(a))\n",
    "print(type(b))"
   ],
   "metadata": {
    "collapsed": false,
    "ExecuteTime": {
     "end_time": "2024-03-09T19:46:12.190945Z",
     "start_time": "2024-03-09T19:46:12.187113Z"
    }
   },
   "id": "8997cc922d8ddd8f",
   "execution_count": 20
  },
  {
   "cell_type": "markdown",
   "source": [
    "Os valores convertidos para float são truncados. Para arredondar, use a função ``round()``."
   ],
   "metadata": {
    "collapsed": false
   },
   "id": "6ea2883420ab3a30"
  },
  {
   "cell_type": "code",
   "outputs": [
    {
     "name": "stdout",
     "output_type": "stream",
     "text": [
      "1.0\n"
     ]
    }
   ],
   "source": [
    "print(a)"
   ],
   "metadata": {
    "collapsed": false,
    "ExecuteTime": {
     "end_time": "2024-03-09T19:46:54.054994Z",
     "start_time": "2024-03-09T19:46:54.050814Z"
    }
   },
   "id": "a00e7a19e5ad83bb",
   "execution_count": 21
  },
  {
   "cell_type": "code",
   "outputs": [
    {
     "name": "stdout",
     "output_type": "stream",
     "text": [
      "2\n"
     ]
    }
   ],
   "source": [
    "print(b)"
   ],
   "metadata": {
    "collapsed": false,
    "ExecuteTime": {
     "end_time": "2024-03-09T19:46:56.376722Z",
     "start_time": "2024-03-09T19:46:56.372936Z"
    }
   },
   "id": "2bf604165b24e8c2",
   "execution_count": 22
  },
  {
   "cell_type": "code",
   "outputs": [
    {
     "data": {
      "text/plain": "2"
     },
     "execution_count": 23,
     "metadata": {},
     "output_type": "execute_result"
    }
   ],
   "source": [
    "int(2.9)"
   ],
   "metadata": {
    "collapsed": false,
    "ExecuteTime": {
     "end_time": "2024-03-09T19:47:04.326451Z",
     "start_time": "2024-03-09T19:47:04.320689Z"
    }
   },
   "id": "ca7c0dc40512a636",
   "execution_count": 23
  },
  {
   "cell_type": "code",
   "outputs": [
    {
     "data": {
      "text/plain": "3"
     },
     "execution_count": 24,
     "metadata": {},
     "output_type": "execute_result"
    }
   ],
   "source": [
    "round(2.9)"
   ],
   "metadata": {
    "collapsed": false,
    "ExecuteTime": {
     "end_time": "2024-03-09T19:48:18.466954Z",
     "start_time": "2024-03-09T19:48:18.460746Z"
    }
   },
   "id": "fbe66a7926d401d3",
   "execution_count": 24
  },
  {
   "cell_type": "markdown",
   "source": [
    "# String\n",
    "\n",
    "Strings em Python são valores que ficam entre aspas simples ou duplas.\n",
    "\n",
    "'hello' é exatamente o mesmo que \"hello\".\n",
    "\n",
    "Podemos imprimir uma string utilizando a função ``print()``:"
   ],
   "metadata": {
    "collapsed": false
   },
   "id": "881c5b6f240e2178"
  },
  {
   "cell_type": "code",
   "outputs": [
    {
     "name": "stdout",
     "output_type": "stream",
     "text": [
      "Hello\n",
      "Hello\n"
     ]
    }
   ],
   "source": [
    "print('Hello')  # com aspas simples\n",
    "print(\"Hello\")  # com aspas duplas"
   ],
   "metadata": {
    "collapsed": false,
    "ExecuteTime": {
     "end_time": "2024-03-09T19:50:41.567866Z",
     "start_time": "2024-03-09T19:50:41.562212Z"
    }
   },
   "id": "a43bd3ff190495b3",
   "execution_count": 25
  },
  {
   "cell_type": "markdown",
   "source": [
    "Podemos também atribuir uma string para uma variável. Para isso escolhemos o nome da variável, colocamos um sinal de igual e em seguida escrevemos entre aspas o valor daquela string."
   ],
   "metadata": {
    "collapsed": false
   },
   "id": "5825cd547a467ec2"
  },
  {
   "cell_type": "code",
   "outputs": [],
   "source": [
    "a = \"Hello, World!\""
   ],
   "metadata": {
    "collapsed": false,
    "ExecuteTime": {
     "end_time": "2024-03-09T19:51:56.926275Z",
     "start_time": "2024-03-09T19:51:56.921842Z"
    }
   },
   "id": "17501ac449ca8401",
   "execution_count": 26
  },
  {
   "cell_type": "code",
   "outputs": [
    {
     "name": "stdout",
     "output_type": "stream",
     "text": [
      "Hello, World!\n"
     ]
    }
   ],
   "source": [
    "print(a)"
   ],
   "metadata": {
    "collapsed": false,
    "ExecuteTime": {
     "end_time": "2024-03-09T19:51:58.509189Z",
     "start_time": "2024-03-09T19:51:58.504734Z"
    }
   },
   "id": "dc4e7d833a3241ba",
   "execution_count": 27
  },
  {
   "cell_type": "code",
   "outputs": [
    {
     "ename": "SyntaxError",
     "evalue": "unterminated string literal (detected at line 2) (2467187882.py, line 2)",
     "output_type": "error",
     "traceback": [
      "\u001B[1;36m  Cell \u001B[1;32mIn[28], line 2\u001B[1;36m\u001B[0m\n\u001B[1;33m    b = \"Hello,\u001B[0m\n\u001B[1;37m        ^\u001B[0m\n\u001B[1;31mSyntaxError\u001B[0m\u001B[1;31m:\u001B[0m unterminated string literal (detected at line 2)\n"
     ]
    }
   ],
   "source": [
    "# Strings com quebras de linha não funcionam com aspas simples ou duplas.\n",
    "b = \"Hello,\n",
    "World!\""
   ],
   "metadata": {
    "collapsed": false,
    "ExecuteTime": {
     "end_time": "2024-03-09T19:55:10.776939Z",
     "start_time": "2024-03-09T19:55:10.771518Z"
    }
   },
   "id": "26d4d41ecc1adae8",
   "execution_count": 28
  },
  {
   "cell_type": "code",
   "outputs": [],
   "source": [
    "a = \"\"\"Lorem ipsum dolor sit amet,\n",
    "consectetur adipiscing elit,\n",
    "sed do eiusmod tempor incididunt\n",
    "ut labore et dolore magna aliqua.\"\"\""
   ],
   "metadata": {
    "collapsed": false,
    "ExecuteTime": {
     "end_time": "2024-03-09T19:55:21.226138Z",
     "start_time": "2024-03-09T19:55:21.222520Z"
    }
   },
   "id": "ba31a8f67d86767a",
   "execution_count": 29
  },
  {
   "cell_type": "code",
   "outputs": [
    {
     "name": "stdout",
     "output_type": "stream",
     "text": [
      "Lorem ipsum dolor sit amet,\n",
      "consectetur adipiscing elit,\n",
      "sed do eiusmod tempor incididunt\n",
      "ut labore et dolore magna aliqua.\n"
     ]
    }
   ],
   "source": [
    "print(a)"
   ],
   "metadata": {
    "collapsed": false,
    "ExecuteTime": {
     "end_time": "2024-03-09T19:55:23.961609Z",
     "start_time": "2024-03-09T19:55:23.955995Z"
    }
   },
   "id": "45df45dc79336f06",
   "execution_count": 30
  }
 ],
 "metadata": {
  "kernelspec": {
   "display_name": "Python 3",
   "language": "python",
   "name": "python3"
  },
  "language_info": {
   "codemirror_mode": {
    "name": "ipython",
    "version": 2
   },
   "file_extension": ".py",
   "mimetype": "text/x-python",
   "name": "python",
   "nbconvert_exporter": "python",
   "pygments_lexer": "ipython2",
   "version": "2.7.6"
  }
 },
 "nbformat": 4,
 "nbformat_minor": 5
}

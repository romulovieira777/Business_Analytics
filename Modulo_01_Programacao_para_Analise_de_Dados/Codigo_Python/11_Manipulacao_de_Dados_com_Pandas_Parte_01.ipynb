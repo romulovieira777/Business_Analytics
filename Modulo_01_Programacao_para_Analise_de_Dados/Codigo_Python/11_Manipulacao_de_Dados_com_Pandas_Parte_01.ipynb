{
 "cells": [
  {
   "cell_type": "markdown",
   "source": [
    "# Pandas\n",
    "\n",
    "Assim como Numpy, Pandas é um pacote muito famoso e utilizado para ciência de dados. Come ele, é possível trabalhar com tabelas de dados com grande facilidade."
   ],
   "metadata": {
    "collapsed": false
   },
   "id": "7fb4f4bf6f96866e"
  },
  {
   "cell_type": "markdown",
   "source": [
    "## Importando Pand"
   ],
   "metadata": {
    "collapsed": false
   },
   "id": "feb93463e4001088"
  },
  {
   "cell_type": "code",
   "execution_count": 124,
   "id": "initial_id",
   "metadata": {
    "collapsed": true,
    "ExecuteTime": {
     "end_time": "2024-03-15T15:37:01.252397Z",
     "start_time": "2024-03-15T15:37:01.247867Z"
    }
   },
   "outputs": [],
   "source": [
    "import pandas as pd"
   ]
  },
  {
   "cell_type": "markdown",
   "source": [
    "## Importando dados para o Pandas\n",
    "\n",
    "Um dos motivos da popularidade do Pandas é a facilidade de importar dados de arquivos para Dataframes.\n",
    "\n",
    "Pandas já possui implementações de leitores de dados em CSV, TXT, JSON, XML, SAS7BDAT, SQL, Excel entre outros.\n",
    "\n",
    "Vamos coeçar lendo os dados de população mundial por ano."
   ],
   "metadata": {
    "collapsed": false
   },
   "id": "2ff025b448920c15"
  },
  {
   "cell_type": "code",
   "outputs": [
    {
     "data": {
      "text/plain": "   Year   Total Population\n0  1960         3034970564\n1  1970         3684822701\n2  1980         4436590356\n3  1990         5282715991\n4  2000         6115974486\n5  2010         6924282937",
      "text/html": "<div>\n<style scoped>\n    .dataframe tbody tr th:only-of-type {\n        vertical-align: middle;\n    }\n\n    .dataframe tbody tr th {\n        vertical-align: top;\n    }\n\n    .dataframe thead th {\n        text-align: right;\n    }\n</style>\n<table border=\"1\" class=\"dataframe\">\n  <thead>\n    <tr style=\"text-align: right;\">\n      <th></th>\n      <th>Year</th>\n      <th>Total Population</th>\n    </tr>\n  </thead>\n  <tbody>\n    <tr>\n      <th>0</th>\n      <td>1960</td>\n      <td>3034970564</td>\n    </tr>\n    <tr>\n      <th>1</th>\n      <td>1970</td>\n      <td>3684822701</td>\n    </tr>\n    <tr>\n      <th>2</th>\n      <td>1980</td>\n      <td>4436590356</td>\n    </tr>\n    <tr>\n      <th>3</th>\n      <td>1990</td>\n      <td>5282715991</td>\n    </tr>\n    <tr>\n      <th>4</th>\n      <td>2000</td>\n      <td>6115974486</td>\n    </tr>\n    <tr>\n      <th>5</th>\n      <td>2010</td>\n      <td>6924282937</td>\n    </tr>\n  </tbody>\n</table>\n</div>"
     },
     "execution_count": 125,
     "metadata": {},
     "output_type": "execute_result"
    }
   ],
   "source": [
    "df_pop = pd.read_csv('../Database/world_population.csv')\n",
    "df_pop"
   ],
   "metadata": {
    "collapsed": false,
    "ExecuteTime": {
     "end_time": "2024-03-15T15:37:02.487058Z",
     "start_time": "2024-03-15T15:37:02.477511Z"
    }
   },
   "id": "37489a178aed7b5a",
   "execution_count": 125
  },
  {
   "cell_type": "markdown",
   "source": [
    "Como podemos ver, há 3 colunas no Dataframe. Entretanto, se abrimos o arquivo .csv vemos algo diferente:"
   ],
   "metadata": {
    "collapsed": false
   },
   "id": "cb8a22da22c9eb04"
  },
  {
   "cell_type": "code",
   "outputs": [
    {
     "name": "stdout",
     "output_type": "stream",
     "text": [
      "Year, Total Population\n",
      "1960, 3034970564\n",
      "1970, 3684822701\n",
      "1980, 4436590356\n",
      "1990, 5282715991\n",
      "2000, 6115974486\n",
      "2010, 6924282937\n"
     ]
    }
   ],
   "source": [
    "# neste código abrimos o arquivo de texto e fazemos o print de todas as linhas\n",
    "with open('../Database/world_population.csv', 'r') as file:\n",
    "    print(\"\".join(file.readlines()))"
   ],
   "metadata": {
    "collapsed": false,
    "ExecuteTime": {
     "end_time": "2024-03-15T15:37:03.996685Z",
     "start_time": "2024-03-15T15:37:03.991486Z"
    }
   },
   "id": "86abf360d3e34b8e",
   "execution_count": 126
  },
  {
   "cell_type": "markdown",
   "source": [
    "O que acontece é que o Pandas criou uma coluna a mais, sem nome, em negrito. Esta coluna é chamada de índice/index. Pandas cria a coluna de índice automaticamente quando importa os dados. Ao usar o parâmetro index_col, Pandas usa a coluna já existente nos dados especificada como índice do dataframe.\n",
    "\n",
    "Os índices são muito úteis para fazer agrupações, transformações ou fusões de dados.\n",
    "\n",
    "\n",
    "## Salvando um dataframe\n",
    "\n",
    "Da mesma forma que podemos importar ou carregar dados para o Pandas, podemos salvar os DataFrames em arquivos. Os formatos possíveis são os mesmos aceitos para carregar."
   ],
   "metadata": {
    "collapsed": false
   },
   "id": "9ab6b09d1995eb3b"
  },
  {
   "cell_type": "code",
   "outputs": [],
   "source": [
    "df_pop.to_csv(\"../database/df_pop.csv\")"
   ],
   "metadata": {
    "collapsed": false,
    "ExecuteTime": {
     "end_time": "2024-03-15T15:37:05.189295Z",
     "start_time": "2024-03-15T15:37:05.184100Z"
    }
   },
   "id": "9d0d3300ae0b78c9",
   "execution_count": 127
  },
  {
   "cell_type": "markdown",
   "source": [
    "## Acessando os dados\n",
    "\n",
    "Para acessar a uma coluna do dataframe, é possível utilizar os colchetes como exemplificado:\n",
    "\n",
    "nome_dataframe[nome_coluna]"
   ],
   "metadata": {
    "collapsed": false
   },
   "id": "fec94bc5b914a375"
  },
  {
   "cell_type": "code",
   "outputs": [
    {
     "data": {
      "text/plain": "0    1960\n1    1970\n2    1980\n3    1990\n4    2000\n5    2010\nName: Year, dtype: int64"
     },
     "execution_count": 128,
     "metadata": {},
     "output_type": "execute_result"
    }
   ],
   "source": [
    "df_pop[\"Year\"]"
   ],
   "metadata": {
    "collapsed": false,
    "ExecuteTime": {
     "end_time": "2024-03-15T15:37:06.952286Z",
     "start_time": "2024-03-15T15:37:06.943677Z"
    }
   },
   "id": "d1b2f2f8f5a8b85a",
   "execution_count": 128
  },
  {
   "cell_type": "markdown",
   "source": [
    "Ao selecionar uma coluna, Pandas retorna uma pd.Series. Neste objeto hhá 4 informações importantes:\n",
    "\n",
    "  - index: é o índice dos dados (os mesmos do dataframe)\n",
    "  - name: é o nome da série (o nome da coluna selecionada do dataframe)\n",
    "  - dtype: tipo de dados dos valores\n",
    "  - values: são os valores dos dados"
   ],
   "metadata": {
    "collapsed": false
   },
   "id": "9f6cdf9542867b52"
  },
  {
   "cell_type": "markdown",
   "source": [
    "## Acessar as duas ou mais colunas\n",
    "\n",
    "Também é possível acessar duas ou mais colunas que queira visualizar."
   ],
   "metadata": {
    "collapsed": false
   },
   "id": "43b746879af38fcc"
  },
  {
   "cell_type": "code",
   "outputs": [
    {
     "data": {
      "text/plain": "   Year  Total Population\n0  1960        3034970564\n1  1970        3684822701\n2  1980        4436590356\n3  1990        5282715991\n4  2000        6115974486\n5  2010        6924282937",
      "text/html": "<div>\n<style scoped>\n    .dataframe tbody tr th:only-of-type {\n        vertical-align: middle;\n    }\n\n    .dataframe tbody tr th {\n        vertical-align: top;\n    }\n\n    .dataframe thead th {\n        text-align: right;\n    }\n</style>\n<table border=\"1\" class=\"dataframe\">\n  <thead>\n    <tr style=\"text-align: right;\">\n      <th></th>\n      <th>Year</th>\n      <th>Total Population</th>\n    </tr>\n  </thead>\n  <tbody>\n    <tr>\n      <th>0</th>\n      <td>1960</td>\n      <td>3034970564</td>\n    </tr>\n    <tr>\n      <th>1</th>\n      <td>1970</td>\n      <td>3684822701</td>\n    </tr>\n    <tr>\n      <th>2</th>\n      <td>1980</td>\n      <td>4436590356</td>\n    </tr>\n    <tr>\n      <th>3</th>\n      <td>1990</td>\n      <td>5282715991</td>\n    </tr>\n    <tr>\n      <th>4</th>\n      <td>2000</td>\n      <td>6115974486</td>\n    </tr>\n    <tr>\n      <th>5</th>\n      <td>2010</td>\n      <td>6924282937</td>\n    </tr>\n  </tbody>\n</table>\n</div>"
     },
     "execution_count": 130,
     "metadata": {},
     "output_type": "execute_result"
    }
   ],
   "source": [
    "df_pop[[\"Year\", \"Total Population\"]]"
   ],
   "metadata": {
    "collapsed": false,
    "ExecuteTime": {
     "end_time": "2024-03-15T15:37:17.664374Z",
     "start_time": "2024-03-15T15:37:17.656106Z"
    }
   },
   "id": "34086e9e82b90bd5",
   "execution_count": 130
  },
  {
   "cell_type": "markdown",
   "source": [
    "Nesse caso há apenas duas colunas no dataframe, mas esta é a sintaxe. O resultado será um dataframe com as colunas selecionadas."
   ],
   "metadata": {
    "collapsed": false
   },
   "id": "dca7d5e984516a19"
  },
  {
   "cell_type": "markdown",
   "source": [
    "## Acessando um valor\n",
    "\n",
    "Para acessar um valor específico, basta usar .loc[index, coluna] ou .iloc[num_linha, num_coluna]:"
   ],
   "metadata": {
    "collapsed": false
   },
   "id": "2f67885117dd213b"
  },
  {
   "cell_type": "code",
   "outputs": [
    {
     "name": "stdout",
     "output_type": "stream",
     "text": [
      "   Year  Total Population\n",
      "0  1960        3034970564\n",
      "1  1970        3684822701\n",
      "2  1980        4436590356\n",
      "3  1990        5282715991\n",
      "4  2000        6115974486\n",
      "5  2010        6924282937\n"
     ]
    }
   ],
   "source": [
    "data = {\n",
    "    \"Year\": [1960, 1970, 1980, 1990, 2000, 2010],\n",
    "    \"Total Population\": [3034970564, 3684822701, 4436590356, 5282715991, 6115974486, 6924282937]\n",
    "}\n",
    "\n",
    "df_pop = pd.DataFrame(data)\n",
    "\n",
    "print(df_pop)"
   ],
   "metadata": {
    "collapsed": false,
    "ExecuteTime": {
     "end_time": "2024-03-15T15:37:14.767410Z",
     "start_time": "2024-03-15T15:37:14.761626Z"
    }
   },
   "id": "fa8010af0439263c",
   "execution_count": 129
  },
  {
   "cell_type": "markdown",
   "source": [],
   "metadata": {
    "collapsed": false
   },
   "id": "5a93b2ba002cb79"
  },
  {
   "cell_type": "code",
   "outputs": [
    {
     "data": {
      "text/plain": "      Total Population\nYear                  \n1960        3034970564\n1970        3684822701\n1980        4436590356\n1990        5282715991\n2000        6115974486\n2010        6924282937",
      "text/html": "<div>\n<style scoped>\n    .dataframe tbody tr th:only-of-type {\n        vertical-align: middle;\n    }\n\n    .dataframe tbody tr th {\n        vertical-align: top;\n    }\n\n    .dataframe thead th {\n        text-align: right;\n    }\n</style>\n<table border=\"1\" class=\"dataframe\">\n  <thead>\n    <tr style=\"text-align: right;\">\n      <th></th>\n      <th>Total Population</th>\n    </tr>\n    <tr>\n      <th>Year</th>\n      <th></th>\n    </tr>\n  </thead>\n  <tbody>\n    <tr>\n      <th>1960</th>\n      <td>3034970564</td>\n    </tr>\n    <tr>\n      <th>1970</th>\n      <td>3684822701</td>\n    </tr>\n    <tr>\n      <th>1980</th>\n      <td>4436590356</td>\n    </tr>\n    <tr>\n      <th>1990</th>\n      <td>5282715991</td>\n    </tr>\n    <tr>\n      <th>2000</th>\n      <td>6115974486</td>\n    </tr>\n    <tr>\n      <th>2010</th>\n      <td>6924282937</td>\n    </tr>\n  </tbody>\n</table>\n</div>"
     },
     "execution_count": 131,
     "metadata": {},
     "output_type": "execute_result"
    }
   ],
   "source": [
    "df_pop.set_index(\"Year\")"
   ],
   "metadata": {
    "collapsed": false,
    "ExecuteTime": {
     "end_time": "2024-03-15T15:37:22.210782Z",
     "start_time": "2024-03-15T15:37:22.202538Z"
    }
   },
   "id": "b7f5d78f0b132784",
   "execution_count": 131
  },
  {
   "cell_type": "code",
   "outputs": [
    {
     "data": {
      "text/plain": "      Total Population\nYear                  \n1960        3034970564\n1970        3684822701\n1980        4436590356\n1990        5282715991\n2000        6115974486\n2010        6924282937",
      "text/html": "<div>\n<style scoped>\n    .dataframe tbody tr th:only-of-type {\n        vertical-align: middle;\n    }\n\n    .dataframe tbody tr th {\n        vertical-align: top;\n    }\n\n    .dataframe thead th {\n        text-align: right;\n    }\n</style>\n<table border=\"1\" class=\"dataframe\">\n  <thead>\n    <tr style=\"text-align: right;\">\n      <th></th>\n      <th>Total Population</th>\n    </tr>\n    <tr>\n      <th>Year</th>\n      <th></th>\n    </tr>\n  </thead>\n  <tbody>\n    <tr>\n      <th>1960</th>\n      <td>3034970564</td>\n    </tr>\n    <tr>\n      <th>1970</th>\n      <td>3684822701</td>\n    </tr>\n    <tr>\n      <th>1980</th>\n      <td>4436590356</td>\n    </tr>\n    <tr>\n      <th>1990</th>\n      <td>5282715991</td>\n    </tr>\n    <tr>\n      <th>2000</th>\n      <td>6115974486</td>\n    </tr>\n    <tr>\n      <th>2010</th>\n      <td>6924282937</td>\n    </tr>\n  </tbody>\n</table>\n</div>"
     },
     "execution_count": 132,
     "metadata": {},
     "output_type": "execute_result"
    }
   ],
   "source": [
    "df_pop = df_pop.set_index(\"Year\")\n",
    "df_pop"
   ],
   "metadata": {
    "collapsed": false,
    "ExecuteTime": {
     "end_time": "2024-03-15T15:37:23.122855Z",
     "start_time": "2024-03-15T15:37:23.109809Z"
    }
   },
   "id": "94ed9be073417cfe",
   "execution_count": 132
  },
  {
   "cell_type": "code",
   "outputs": [
    {
     "data": {
      "text/plain": "Total Population    6115974486\nName: 2000, dtype: int64"
     },
     "execution_count": 133,
     "metadata": {},
     "output_type": "execute_result"
    }
   ],
   "source": [
    "df_pop.loc[2000]"
   ],
   "metadata": {
    "collapsed": false,
    "ExecuteTime": {
     "end_time": "2024-03-15T15:37:25.805087Z",
     "start_time": "2024-03-15T15:37:25.795416Z"
    }
   },
   "id": "db7701ab7b316816",
   "execution_count": 133
  },
  {
   "cell_type": "code",
   "outputs": [
    {
     "data": {
      "text/plain": "6115974486"
     },
     "execution_count": 134,
     "metadata": {},
     "output_type": "execute_result"
    }
   ],
   "source": [
    "df_pop.loc[2000, \"Total Population\"]"
   ],
   "metadata": {
    "collapsed": false,
    "ExecuteTime": {
     "end_time": "2024-03-15T15:37:26.768700Z",
     "start_time": "2024-03-15T15:37:26.759276Z"
    }
   },
   "id": "7576c6d0a29e941e",
   "execution_count": 134
  },
  {
   "cell_type": "code",
   "outputs": [
    {
     "data": {
      "text/plain": "Year                      2000\nTotal Population    6115974486\nName: 4, dtype: int64"
     },
     "execution_count": 143,
     "metadata": {},
     "output_type": "execute_result"
    }
   ],
   "source": [
    "df_pop.loc[4, \"Year\": \"Total Population\"]"
   ],
   "metadata": {
    "collapsed": false,
    "ExecuteTime": {
     "end_time": "2024-03-15T15:37:44.537733Z",
     "start_time": "2024-03-15T15:37:44.529985Z"
    }
   },
   "id": "7281358874e8a6d",
   "execution_count": 143
  },
  {
   "cell_type": "code",
   "outputs": [
    {
     "data": {
      "text/plain": "4436590356"
     },
     "execution_count": 144,
     "metadata": {},
     "output_type": "execute_result"
    }
   ],
   "source": [
    "df_pop.set_index(\"Year\").iloc[2, 0]"
   ],
   "metadata": {
    "collapsed": false,
    "ExecuteTime": {
     "end_time": "2024-03-15T15:37:51.144532Z",
     "start_time": "2024-03-15T15:37:51.138486Z"
    }
   },
   "id": "56634ace13b555be",
   "execution_count": 144
  },
  {
   "cell_type": "code",
   "outputs": [
    {
     "data": {
      "text/plain": "1960"
     },
     "execution_count": 142,
     "metadata": {},
     "output_type": "execute_result"
    }
   ],
   "source": [
    "df_pop.loc[0, \"Year\"]"
   ],
   "metadata": {
    "collapsed": false,
    "ExecuteTime": {
     "end_time": "2024-03-15T15:37:38.648599Z",
     "start_time": "2024-03-15T15:37:38.640100Z"
    }
   },
   "id": "8f19b36f9b58768c",
   "execution_count": 142
  },
  {
   "cell_type": "code",
   "outputs": [
    {
     "data": {
      "text/plain": "   Year  Total Population\n0  1960        3034970564\n1  1970        3684822701\n2  1980        4436590356\n3  1990        5282715991\n4  2000        6115974486\n5  2010        6924282937",
      "text/html": "<div>\n<style scoped>\n    .dataframe tbody tr th:only-of-type {\n        vertical-align: middle;\n    }\n\n    .dataframe tbody tr th {\n        vertical-align: top;\n    }\n\n    .dataframe thead th {\n        text-align: right;\n    }\n</style>\n<table border=\"1\" class=\"dataframe\">\n  <thead>\n    <tr style=\"text-align: right;\">\n      <th></th>\n      <th>Year</th>\n      <th>Total Population</th>\n    </tr>\n  </thead>\n  <tbody>\n    <tr>\n      <th>0</th>\n      <td>1960</td>\n      <td>3034970564</td>\n    </tr>\n    <tr>\n      <th>1</th>\n      <td>1970</td>\n      <td>3684822701</td>\n    </tr>\n    <tr>\n      <th>2</th>\n      <td>1980</td>\n      <td>4436590356</td>\n    </tr>\n    <tr>\n      <th>3</th>\n      <td>1990</td>\n      <td>5282715991</td>\n    </tr>\n    <tr>\n      <th>4</th>\n      <td>2000</td>\n      <td>6115974486</td>\n    </tr>\n    <tr>\n      <th>5</th>\n      <td>2010</td>\n      <td>6924282937</td>\n    </tr>\n  </tbody>\n</table>\n</div>"
     },
     "execution_count": 138,
     "metadata": {},
     "output_type": "execute_result"
    }
   ],
   "source": [
    "df_pop.reset_index()"
   ],
   "metadata": {
    "collapsed": false,
    "ExecuteTime": {
     "end_time": "2024-03-15T15:37:31.041029Z",
     "start_time": "2024-03-15T15:37:31.031730Z"
    }
   },
   "id": "41101f60c6bf9dea",
   "execution_count": 138
  },
  {
   "cell_type": "code",
   "outputs": [],
   "source": [
    "df_pop = df_pop.reset_index()"
   ],
   "metadata": {
    "collapsed": false,
    "ExecuteTime": {
     "end_time": "2024-03-15T15:37:54.714604Z",
     "start_time": "2024-03-15T15:37:54.708593Z"
    }
   },
   "id": "301fab215d542ac",
   "execution_count": 145
  },
  {
   "cell_type": "code",
   "outputs": [
    {
     "data": {
      "text/plain": "4"
     },
     "execution_count": 146,
     "metadata": {},
     "output_type": "execute_result"
    }
   ],
   "source": [
    "df_pop.iloc[4, 0]"
   ],
   "metadata": {
    "collapsed": false,
    "ExecuteTime": {
     "end_time": "2024-03-15T15:37:55.379867Z",
     "start_time": "2024-03-15T15:37:55.373777Z"
    }
   },
   "id": "e4833744e598d661",
   "execution_count": 146
  },
  {
   "cell_type": "code",
   "outputs": [
    {
     "data": {
      "text/plain": "index                        4\nYear                      2000\nTotal Population    6115974486\nName: 4, dtype: int64"
     },
     "execution_count": 147,
     "metadata": {},
     "output_type": "execute_result"
    }
   ],
   "source": [
    "df_pop.iloc[4]"
   ],
   "metadata": {
    "collapsed": false,
    "ExecuteTime": {
     "end_time": "2024-03-15T15:37:56.638195Z",
     "start_time": "2024-03-15T15:37:56.631042Z"
    }
   },
   "id": "184ea7607541dce9",
   "execution_count": 147
  },
  {
   "cell_type": "markdown",
   "source": [
    "## Visualizando as primeiras e últimas linhas\n",
    "\n",
    "Para visualizar as primeiras linhas, basta usar .head(). É possível também visualizar últimas linhas do dataframe usando .tail(). Por padrão, são exibidas 5 linhas, mas é possível escolher o número de linhas digitando o valor entre os parênteses."
   ],
   "metadata": {
    "collapsed": false
   },
   "id": "e3d08f9b7177c65a"
  },
  {
   "cell_type": "code",
   "outputs": [
    {
     "data": {
      "text/plain": "   index  Year  Total Population\n0      0  1960        3034970564\n1      1  1970        3684822701\n2      2  1980        4436590356",
      "text/html": "<div>\n<style scoped>\n    .dataframe tbody tr th:only-of-type {\n        vertical-align: middle;\n    }\n\n    .dataframe tbody tr th {\n        vertical-align: top;\n    }\n\n    .dataframe thead th {\n        text-align: right;\n    }\n</style>\n<table border=\"1\" class=\"dataframe\">\n  <thead>\n    <tr style=\"text-align: right;\">\n      <th></th>\n      <th>index</th>\n      <th>Year</th>\n      <th>Total Population</th>\n    </tr>\n  </thead>\n  <tbody>\n    <tr>\n      <th>0</th>\n      <td>0</td>\n      <td>1960</td>\n      <td>3034970564</td>\n    </tr>\n    <tr>\n      <th>1</th>\n      <td>1</td>\n      <td>1970</td>\n      <td>3684822701</td>\n    </tr>\n    <tr>\n      <th>2</th>\n      <td>2</td>\n      <td>1980</td>\n      <td>4436590356</td>\n    </tr>\n  </tbody>\n</table>\n</div>"
     },
     "execution_count": 148,
     "metadata": {},
     "output_type": "execute_result"
    }
   ],
   "source": [
    "df_pop.head(3)"
   ],
   "metadata": {
    "collapsed": false,
    "ExecuteTime": {
     "end_time": "2024-03-15T15:37:59.939617Z",
     "start_time": "2024-03-15T15:37:59.933316Z"
    }
   },
   "id": "1dc2f91888306b1f",
   "execution_count": 148
  },
  {
   "cell_type": "code",
   "outputs": [
    {
     "data": {
      "text/plain": "   index  Year  Total Population\n4      4  2000        6115974486\n5      5  2010        6924282937",
      "text/html": "<div>\n<style scoped>\n    .dataframe tbody tr th:only-of-type {\n        vertical-align: middle;\n    }\n\n    .dataframe tbody tr th {\n        vertical-align: top;\n    }\n\n    .dataframe thead th {\n        text-align: right;\n    }\n</style>\n<table border=\"1\" class=\"dataframe\">\n  <thead>\n    <tr style=\"text-align: right;\">\n      <th></th>\n      <th>index</th>\n      <th>Year</th>\n      <th>Total Population</th>\n    </tr>\n  </thead>\n  <tbody>\n    <tr>\n      <th>4</th>\n      <td>4</td>\n      <td>2000</td>\n      <td>6115974486</td>\n    </tr>\n    <tr>\n      <th>5</th>\n      <td>5</td>\n      <td>2010</td>\n      <td>6924282937</td>\n    </tr>\n  </tbody>\n</table>\n</div>"
     },
     "execution_count": 149,
     "metadata": {},
     "output_type": "execute_result"
    }
   ],
   "source": [
    "df_pop.tail(2)"
   ],
   "metadata": {
    "collapsed": false,
    "ExecuteTime": {
     "end_time": "2024-03-15T15:38:00.704591Z",
     "start_time": "2024-03-15T15:38:00.692539Z"
    }
   },
   "id": "94b6f3d983924471",
   "execution_count": 149
  },
  {
   "cell_type": "code",
   "outputs": [
    {
     "data": {
      "text/plain": "   index  Year  Total Population\n0      0  1960        3034970564\n1      1  1970        3684822701\n2      2  1980        4436590356\n3      3  1990        5282715991\n4      4  2000        6115974486",
      "text/html": "<div>\n<style scoped>\n    .dataframe tbody tr th:only-of-type {\n        vertical-align: middle;\n    }\n\n    .dataframe tbody tr th {\n        vertical-align: top;\n    }\n\n    .dataframe thead th {\n        text-align: right;\n    }\n</style>\n<table border=\"1\" class=\"dataframe\">\n  <thead>\n    <tr style=\"text-align: right;\">\n      <th></th>\n      <th>index</th>\n      <th>Year</th>\n      <th>Total Population</th>\n    </tr>\n  </thead>\n  <tbody>\n    <tr>\n      <th>0</th>\n      <td>0</td>\n      <td>1960</td>\n      <td>3034970564</td>\n    </tr>\n    <tr>\n      <th>1</th>\n      <td>1</td>\n      <td>1970</td>\n      <td>3684822701</td>\n    </tr>\n    <tr>\n      <th>2</th>\n      <td>2</td>\n      <td>1980</td>\n      <td>4436590356</td>\n    </tr>\n    <tr>\n      <th>3</th>\n      <td>3</td>\n      <td>1990</td>\n      <td>5282715991</td>\n    </tr>\n    <tr>\n      <th>4</th>\n      <td>4</td>\n      <td>2000</td>\n      <td>6115974486</td>\n    </tr>\n  </tbody>\n</table>\n</div>"
     },
     "execution_count": 150,
     "metadata": {},
     "output_type": "execute_result"
    }
   ],
   "source": [
    "df_pop.head()"
   ],
   "metadata": {
    "collapsed": false,
    "ExecuteTime": {
     "end_time": "2024-03-15T15:38:02.745421Z",
     "start_time": "2024-03-15T15:38:02.734262Z"
    }
   },
   "id": "24c83bf86aea0840",
   "execution_count": 150
  },
  {
   "cell_type": "code",
   "outputs": [],
   "source": [
    "?df_pop.head"
   ],
   "metadata": {
    "collapsed": false,
    "ExecuteTime": {
     "end_time": "2024-03-15T15:38:03.516959Z",
     "start_time": "2024-03-15T15:38:03.507854Z"
    }
   },
   "id": "6b35407356bbb2d1",
   "execution_count": 151
  },
  {
   "cell_type": "code",
   "outputs": [
    {
     "data": {
      "text/plain": "index                        5\nYear                      2010\nTotal Population    6924282937\nName: 5, dtype: int64"
     },
     "execution_count": 152,
     "metadata": {},
     "output_type": "execute_result"
    }
   ],
   "source": [
    "df_pop.loc[5]"
   ],
   "metadata": {
    "collapsed": false,
    "ExecuteTime": {
     "end_time": "2024-03-15T15:38:04.599691Z",
     "start_time": "2024-03-15T15:38:04.591820Z"
    }
   },
   "id": "d5ab60c94b8da49d",
   "execution_count": 152
  },
  {
   "cell_type": "markdown",
   "source": [
    "Dentro do pandas, ele chama as linhas e colunas individuais de **Séries**"
   ],
   "metadata": {
    "collapsed": false
   },
   "id": "3eedaa75f247c5e4"
  },
  {
   "cell_type": "code",
   "outputs": [
    {
     "data": {
      "text/plain": "pandas.core.series.Series"
     },
     "execution_count": 153,
     "metadata": {},
     "output_type": "execute_result"
    }
   ],
   "source": [
    "type(df_pop.loc[5])"
   ],
   "metadata": {
    "collapsed": false,
    "ExecuteTime": {
     "end_time": "2024-03-15T15:38:08.730788Z",
     "start_time": "2024-03-15T15:38:08.725411Z"
    }
   },
   "id": "12a31e0d8508bde5",
   "execution_count": 153
  },
  {
   "cell_type": "markdown",
   "source": [
    "# Criando novas colunas\n",
    "\n",
    "Para criar uma nova coluna, basta atribuir o valor no Dataframe como se estivesse adicionando uma nova chave em um dic:"
   ],
   "metadata": {
    "collapsed": false
   },
   "id": "19a624a26cda1be1"
  },
  {
   "cell_type": "code",
   "outputs": [
    {
     "data": {
      "text/plain": "   index  Year  Total Population Planet\n0      0  1960        3034970564  Earth\n1      1  1970        3684822701  Earth\n2      2  1980        4436590356  Earth\n3      3  1990        5282715991  Earth\n4      4  2000        6115974486  Earth\n5      5  2010        6924282937  Earth",
      "text/html": "<div>\n<style scoped>\n    .dataframe tbody tr th:only-of-type {\n        vertical-align: middle;\n    }\n\n    .dataframe tbody tr th {\n        vertical-align: top;\n    }\n\n    .dataframe thead th {\n        text-align: right;\n    }\n</style>\n<table border=\"1\" class=\"dataframe\">\n  <thead>\n    <tr style=\"text-align: right;\">\n      <th></th>\n      <th>index</th>\n      <th>Year</th>\n      <th>Total Population</th>\n      <th>Planet</th>\n    </tr>\n  </thead>\n  <tbody>\n    <tr>\n      <th>0</th>\n      <td>0</td>\n      <td>1960</td>\n      <td>3034970564</td>\n      <td>Earth</td>\n    </tr>\n    <tr>\n      <th>1</th>\n      <td>1</td>\n      <td>1970</td>\n      <td>3684822701</td>\n      <td>Earth</td>\n    </tr>\n    <tr>\n      <th>2</th>\n      <td>2</td>\n      <td>1980</td>\n      <td>4436590356</td>\n      <td>Earth</td>\n    </tr>\n    <tr>\n      <th>3</th>\n      <td>3</td>\n      <td>1990</td>\n      <td>5282715991</td>\n      <td>Earth</td>\n    </tr>\n    <tr>\n      <th>4</th>\n      <td>4</td>\n      <td>2000</td>\n      <td>6115974486</td>\n      <td>Earth</td>\n    </tr>\n    <tr>\n      <th>5</th>\n      <td>5</td>\n      <td>2010</td>\n      <td>6924282937</td>\n      <td>Earth</td>\n    </tr>\n  </tbody>\n</table>\n</div>"
     },
     "execution_count": 154,
     "metadata": {},
     "output_type": "execute_result"
    }
   ],
   "source": [
    "df_pop[\"Planet\"] = \"Earth\"\n",
    "df_pop"
   ],
   "metadata": {
    "collapsed": false,
    "ExecuteTime": {
     "end_time": "2024-03-15T15:38:12.382429Z",
     "start_time": "2024-03-15T15:38:12.373788Z"
    }
   },
   "id": "511fa19d5a1a2c4e",
   "execution_count": 154
  },
  {
   "cell_type": "markdown",
   "source": [
    "Desta maneira, todas as linhas possuem o mesmo valor. Se quiser atribuir um valor para cada linha, é necessário fazer uma lista com o mesmo tamanho do índice do Dataframe."
   ],
   "metadata": {
    "collapsed": false
   },
   "id": "c17208461ea7d22b"
  },
  {
   "cell_type": "code",
   "outputs": [
    {
     "data": {
      "text/plain": "   index  Year  Total Population Planet     Decade\n0      0  1960        3034970564  Earth  1951-1960\n1      1  1970        3684822701  Earth  1961-1970\n2      2  1980        4436590356  Earth  1971-1980\n3      3  1990        5282715991  Earth  1981-1990\n4      4  2000        6115974486  Earth  1991-2000\n5      5  2010        6924282937  Earth  2001-2010",
      "text/html": "<div>\n<style scoped>\n    .dataframe tbody tr th:only-of-type {\n        vertical-align: middle;\n    }\n\n    .dataframe tbody tr th {\n        vertical-align: top;\n    }\n\n    .dataframe thead th {\n        text-align: right;\n    }\n</style>\n<table border=\"1\" class=\"dataframe\">\n  <thead>\n    <tr style=\"text-align: right;\">\n      <th></th>\n      <th>index</th>\n      <th>Year</th>\n      <th>Total Population</th>\n      <th>Planet</th>\n      <th>Decade</th>\n    </tr>\n  </thead>\n  <tbody>\n    <tr>\n      <th>0</th>\n      <td>0</td>\n      <td>1960</td>\n      <td>3034970564</td>\n      <td>Earth</td>\n      <td>1951-1960</td>\n    </tr>\n    <tr>\n      <th>1</th>\n      <td>1</td>\n      <td>1970</td>\n      <td>3684822701</td>\n      <td>Earth</td>\n      <td>1961-1970</td>\n    </tr>\n    <tr>\n      <th>2</th>\n      <td>2</td>\n      <td>1980</td>\n      <td>4436590356</td>\n      <td>Earth</td>\n      <td>1971-1980</td>\n    </tr>\n    <tr>\n      <th>3</th>\n      <td>3</td>\n      <td>1990</td>\n      <td>5282715991</td>\n      <td>Earth</td>\n      <td>1981-1990</td>\n    </tr>\n    <tr>\n      <th>4</th>\n      <td>4</td>\n      <td>2000</td>\n      <td>6115974486</td>\n      <td>Earth</td>\n      <td>1991-2000</td>\n    </tr>\n    <tr>\n      <th>5</th>\n      <td>5</td>\n      <td>2010</td>\n      <td>6924282937</td>\n      <td>Earth</td>\n      <td>2001-2010</td>\n    </tr>\n  </tbody>\n</table>\n</div>"
     },
     "execution_count": 155,
     "metadata": {},
     "output_type": "execute_result"
    }
   ],
   "source": [
    "df_pop[\"Decade\"] = [\"1951-1960\", \"1961-1970\", \"1971-1980\", \"1981-1990\", \"1991-2000\", \"2001-2010\"]\n",
    "df_pop"
   ],
   "metadata": {
    "collapsed": false,
    "ExecuteTime": {
     "end_time": "2024-03-15T15:38:14.798280Z",
     "start_time": "2024-03-15T15:38:14.787433Z"
    }
   },
   "id": "d48a66a4f6cc1890",
   "execution_count": 155
  },
  {
   "cell_type": "markdown",
   "source": [
    "# Calculando com Colunas\n",
    "\n",
    "Geralmente quando estamos explorando os dados, para cada linha, queremos fazer cálculos com os valores das colunas.\n",
    "\n",
    "Podemos fazer isso de duas formas.\n",
    "\n",
    "Para exemplificar vamos calcular o ano anterior da coluna \"Year\""
   ],
   "metadata": {
    "collapsed": false
   },
   "id": "cf426665b78f40dc"
  },
  {
   "cell_type": "code",
   "outputs": [
    {
     "data": {
      "text/plain": "0    1959\n1    1969\n2    1979\n3    1989\n4    1999\n5    2009\nName: Year, dtype: int64"
     },
     "execution_count": 156,
     "metadata": {},
     "output_type": "execute_result"
    }
   ],
   "source": [
    "# é possível atribuir isso a uma coluna no dataframe, por exemplo:\n",
    "df_pop[\"Previous_Year\"] = df_pop[\"Year\"] - 1\n",
    "df_pop[\"Year\"] - 1"
   ],
   "metadata": {
    "collapsed": false,
    "ExecuteTime": {
     "end_time": "2024-03-15T15:38:17.552229Z",
     "start_time": "2024-03-15T15:38:17.542571Z"
    }
   },
   "id": "f73d0dfbf0787fd3",
   "execution_count": 156
  },
  {
   "cell_type": "code",
   "outputs": [
    {
     "data": {
      "text/plain": "   index  Year  Total Population Planet     Decade  Previous_Year\n0      0  1960        3034970564  Earth  1951-1960           1959\n1      1  1970        3684822701  Earth  1961-1970           1969\n2      2  1980        4436590356  Earth  1971-1980           1979\n3      3  1990        5282715991  Earth  1981-1990           1989\n4      4  2000        6115974486  Earth  1991-2000           1999\n5      5  2010        6924282937  Earth  2001-2010           2009",
      "text/html": "<div>\n<style scoped>\n    .dataframe tbody tr th:only-of-type {\n        vertical-align: middle;\n    }\n\n    .dataframe tbody tr th {\n        vertical-align: top;\n    }\n\n    .dataframe thead th {\n        text-align: right;\n    }\n</style>\n<table border=\"1\" class=\"dataframe\">\n  <thead>\n    <tr style=\"text-align: right;\">\n      <th></th>\n      <th>index</th>\n      <th>Year</th>\n      <th>Total Population</th>\n      <th>Planet</th>\n      <th>Decade</th>\n      <th>Previous_Year</th>\n    </tr>\n  </thead>\n  <tbody>\n    <tr>\n      <th>0</th>\n      <td>0</td>\n      <td>1960</td>\n      <td>3034970564</td>\n      <td>Earth</td>\n      <td>1951-1960</td>\n      <td>1959</td>\n    </tr>\n    <tr>\n      <th>1</th>\n      <td>1</td>\n      <td>1970</td>\n      <td>3684822701</td>\n      <td>Earth</td>\n      <td>1961-1970</td>\n      <td>1969</td>\n    </tr>\n    <tr>\n      <th>2</th>\n      <td>2</td>\n      <td>1980</td>\n      <td>4436590356</td>\n      <td>Earth</td>\n      <td>1971-1980</td>\n      <td>1979</td>\n    </tr>\n    <tr>\n      <th>3</th>\n      <td>3</td>\n      <td>1990</td>\n      <td>5282715991</td>\n      <td>Earth</td>\n      <td>1981-1990</td>\n      <td>1989</td>\n    </tr>\n    <tr>\n      <th>4</th>\n      <td>4</td>\n      <td>2000</td>\n      <td>6115974486</td>\n      <td>Earth</td>\n      <td>1991-2000</td>\n      <td>1999</td>\n    </tr>\n    <tr>\n      <th>5</th>\n      <td>5</td>\n      <td>2010</td>\n      <td>6924282937</td>\n      <td>Earth</td>\n      <td>2001-2010</td>\n      <td>2009</td>\n    </tr>\n  </tbody>\n</table>\n</div>"
     },
     "execution_count": 157,
     "metadata": {},
     "output_type": "execute_result"
    }
   ],
   "source": [
    "df_pop"
   ],
   "metadata": {
    "collapsed": false,
    "ExecuteTime": {
     "end_time": "2024-03-15T15:38:19.199947Z",
     "start_time": "2024-03-15T15:38:19.190012Z"
    }
   },
   "id": "540f18c20bfdaaef",
   "execution_count": 157
  },
  {
   "cell_type": "code",
   "outputs": [
    {
     "data": {
      "text/plain": "0    1959\n1    1969\n2    1979\n3    1989\n4    1999\n5    2009\nName: Year, dtype: int64"
     },
     "execution_count": 158,
     "metadata": {},
     "output_type": "execute_result"
    }
   ],
   "source": [
    "df_pop.eval(\"Year - 1\")"
   ],
   "metadata": {
    "collapsed": false,
    "ExecuteTime": {
     "end_time": "2024-03-15T15:38:19.807701Z",
     "start_time": "2024-03-15T15:38:19.799252Z"
    }
   },
   "id": "d9238156759bd03f",
   "execution_count": 158
  },
  {
   "cell_type": "code",
   "outputs": [
    {
     "data": {
      "text/plain": "0    3841599\n1    3880899\n2    3920399\n3    3960099\n4    3999999\n5    4040099\nName: Year, dtype: int64"
     },
     "execution_count": 159,
     "metadata": {},
     "output_type": "execute_result"
    }
   ],
   "source": [
    "df_pop.eval(\"Year ** 2 - 1\")"
   ],
   "metadata": {
    "collapsed": false,
    "ExecuteTime": {
     "end_time": "2024-03-15T15:38:21.622973Z",
     "start_time": "2024-03-15T15:38:21.612229Z"
    }
   },
   "id": "f83899600a09a6b3",
   "execution_count": 159
  },
  {
   "cell_type": "markdown",
   "source": [
    "A função ``eval`` é muito útil para fazer cálculos entre as colunas do dataframe. Também é possível atribuir o resultado a uma coluna no dataframe, usando a mesma sintaxe acima ou usar a sintaxe específica do ``eval``:"
   ],
   "metadata": {
    "collapsed": false
   },
   "id": "2eb48897cd359093"
  },
  {
   "cell_type": "code",
   "outputs": [],
   "source": [
    "df_pop = df_pop.eval(\"Previous_Year2 = Year - 1\")"
   ],
   "metadata": {
    "collapsed": false,
    "ExecuteTime": {
     "end_time": "2024-03-15T15:38:46.542326Z",
     "start_time": "2024-03-15T15:38:46.530657Z"
    }
   },
   "id": "a0f4d23add3eabaf",
   "execution_count": 160
  },
  {
   "cell_type": "code",
   "outputs": [
    {
     "data": {
      "text/plain": "   index  Year  Total Population Planet     Decade  Previous_Year  \\\n0      0  1960        3034970564  Earth  1951-1960           1959   \n1      1  1970        3684822701  Earth  1961-1970           1969   \n2      2  1980        4436590356  Earth  1971-1980           1979   \n3      3  1990        5282715991  Earth  1981-1990           1989   \n4      4  2000        6115974486  Earth  1991-2000           1999   \n5      5  2010        6924282937  Earth  2001-2010           2009   \n\n   Previous_Year2  \n0            1959  \n1            1969  \n2            1979  \n3            1989  \n4            1999  \n5            2009  ",
      "text/html": "<div>\n<style scoped>\n    .dataframe tbody tr th:only-of-type {\n        vertical-align: middle;\n    }\n\n    .dataframe tbody tr th {\n        vertical-align: top;\n    }\n\n    .dataframe thead th {\n        text-align: right;\n    }\n</style>\n<table border=\"1\" class=\"dataframe\">\n  <thead>\n    <tr style=\"text-align: right;\">\n      <th></th>\n      <th>index</th>\n      <th>Year</th>\n      <th>Total Population</th>\n      <th>Planet</th>\n      <th>Decade</th>\n      <th>Previous_Year</th>\n      <th>Previous_Year2</th>\n    </tr>\n  </thead>\n  <tbody>\n    <tr>\n      <th>0</th>\n      <td>0</td>\n      <td>1960</td>\n      <td>3034970564</td>\n      <td>Earth</td>\n      <td>1951-1960</td>\n      <td>1959</td>\n      <td>1959</td>\n    </tr>\n    <tr>\n      <th>1</th>\n      <td>1</td>\n      <td>1970</td>\n      <td>3684822701</td>\n      <td>Earth</td>\n      <td>1961-1970</td>\n      <td>1969</td>\n      <td>1969</td>\n    </tr>\n    <tr>\n      <th>2</th>\n      <td>2</td>\n      <td>1980</td>\n      <td>4436590356</td>\n      <td>Earth</td>\n      <td>1971-1980</td>\n      <td>1979</td>\n      <td>1979</td>\n    </tr>\n    <tr>\n      <th>3</th>\n      <td>3</td>\n      <td>1990</td>\n      <td>5282715991</td>\n      <td>Earth</td>\n      <td>1981-1990</td>\n      <td>1989</td>\n      <td>1989</td>\n    </tr>\n    <tr>\n      <th>4</th>\n      <td>4</td>\n      <td>2000</td>\n      <td>6115974486</td>\n      <td>Earth</td>\n      <td>1991-2000</td>\n      <td>1999</td>\n      <td>1999</td>\n    </tr>\n    <tr>\n      <th>5</th>\n      <td>5</td>\n      <td>2010</td>\n      <td>6924282937</td>\n      <td>Earth</td>\n      <td>2001-2010</td>\n      <td>2009</td>\n      <td>2009</td>\n    </tr>\n  </tbody>\n</table>\n</div>"
     },
     "execution_count": 161,
     "metadata": {},
     "output_type": "execute_result"
    }
   ],
   "source": [
    "df_pop"
   ],
   "metadata": {
    "collapsed": false,
    "ExecuteTime": {
     "end_time": "2024-03-15T15:38:47.798931Z",
     "start_time": "2024-03-15T15:38:47.787140Z"
    }
   },
   "id": "7542b724d564d1ab",
   "execution_count": 161
  },
  {
   "cell_type": "code",
   "outputs": [],
   "source": [
    "df_pop.eval(\"Previous_Year3 = Year - 1\", inplace=True)"
   ],
   "metadata": {
    "collapsed": false,
    "ExecuteTime": {
     "end_time": "2024-03-15T15:38:48.324668Z",
     "start_time": "2024-03-15T15:38:48.317407Z"
    }
   },
   "id": "bf17f84f83a34c1c",
   "execution_count": 162
  },
  {
   "cell_type": "code",
   "outputs": [
    {
     "data": {
      "text/plain": "   index  Year  Total Population Planet     Decade  Previous_Year  \\\n0      0  1960        3034970564  Earth  1951-1960           1959   \n1      1  1970        3684822701  Earth  1961-1970           1969   \n2      2  1980        4436590356  Earth  1971-1980           1979   \n3      3  1990        5282715991  Earth  1981-1990           1989   \n4      4  2000        6115974486  Earth  1991-2000           1999   \n5      5  2010        6924282937  Earth  2001-2010           2009   \n\n   Previous_Year2  Previous_Year3  \n0            1959            1959  \n1            1969            1969  \n2            1979            1979  \n3            1989            1989  \n4            1999            1999  \n5            2009            2009  ",
      "text/html": "<div>\n<style scoped>\n    .dataframe tbody tr th:only-of-type {\n        vertical-align: middle;\n    }\n\n    .dataframe tbody tr th {\n        vertical-align: top;\n    }\n\n    .dataframe thead th {\n        text-align: right;\n    }\n</style>\n<table border=\"1\" class=\"dataframe\">\n  <thead>\n    <tr style=\"text-align: right;\">\n      <th></th>\n      <th>index</th>\n      <th>Year</th>\n      <th>Total Population</th>\n      <th>Planet</th>\n      <th>Decade</th>\n      <th>Previous_Year</th>\n      <th>Previous_Year2</th>\n      <th>Previous_Year3</th>\n    </tr>\n  </thead>\n  <tbody>\n    <tr>\n      <th>0</th>\n      <td>0</td>\n      <td>1960</td>\n      <td>3034970564</td>\n      <td>Earth</td>\n      <td>1951-1960</td>\n      <td>1959</td>\n      <td>1959</td>\n      <td>1959</td>\n    </tr>\n    <tr>\n      <th>1</th>\n      <td>1</td>\n      <td>1970</td>\n      <td>3684822701</td>\n      <td>Earth</td>\n      <td>1961-1970</td>\n      <td>1969</td>\n      <td>1969</td>\n      <td>1969</td>\n    </tr>\n    <tr>\n      <th>2</th>\n      <td>2</td>\n      <td>1980</td>\n      <td>4436590356</td>\n      <td>Earth</td>\n      <td>1971-1980</td>\n      <td>1979</td>\n      <td>1979</td>\n      <td>1979</td>\n    </tr>\n    <tr>\n      <th>3</th>\n      <td>3</td>\n      <td>1990</td>\n      <td>5282715991</td>\n      <td>Earth</td>\n      <td>1981-1990</td>\n      <td>1989</td>\n      <td>1989</td>\n      <td>1989</td>\n    </tr>\n    <tr>\n      <th>4</th>\n      <td>4</td>\n      <td>2000</td>\n      <td>6115974486</td>\n      <td>Earth</td>\n      <td>1991-2000</td>\n      <td>1999</td>\n      <td>1999</td>\n      <td>1999</td>\n    </tr>\n    <tr>\n      <th>5</th>\n      <td>5</td>\n      <td>2010</td>\n      <td>6924282937</td>\n      <td>Earth</td>\n      <td>2001-2010</td>\n      <td>2009</td>\n      <td>2009</td>\n      <td>2009</td>\n    </tr>\n  </tbody>\n</table>\n</div>"
     },
     "execution_count": 163,
     "metadata": {},
     "output_type": "execute_result"
    }
   ],
   "source": [
    "df_pop"
   ],
   "metadata": {
    "collapsed": false,
    "ExecuteTime": {
     "end_time": "2024-03-15T15:38:49.101805Z",
     "start_time": "2024-03-15T15:38:49.085417Z"
    }
   },
   "id": "35668b6ba358376d",
   "execution_count": 163
  }
 ],
 "metadata": {
  "kernelspec": {
   "display_name": "Python 3",
   "language": "python",
   "name": "python3"
  },
  "language_info": {
   "codemirror_mode": {
    "name": "ipython",
    "version": 2
   },
   "file_extension": ".py",
   "mimetype": "text/x-python",
   "name": "python",
   "nbconvert_exporter": "python",
   "pygments_lexer": "ipython2",
   "version": "2.7.6"
  }
 },
 "nbformat": 4,
 "nbformat_minor": 5
}

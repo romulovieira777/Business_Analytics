{
 "cells": [
  {
   "cell_type": "code",
   "execution_count": 1,
   "id": "initial_id",
   "metadata": {
    "collapsed": true,
    "ExecuteTime": {
     "end_time": "2024-03-18T15:31:39.759309Z",
     "start_time": "2024-03-18T15:31:37.690075Z"
    }
   },
   "outputs": [],
   "source": [
    "import pandas as pd"
   ]
  },
  {
   "cell_type": "code",
   "outputs": [
    {
     "data": {
      "text/plain": "   Year   Total Population\n0  1960         3034970564\n1  1970         3684822701\n2  1980         4436590356\n3  1990         5282715991\n4  2000         6115974486\n5  2010         6924282937",
      "text/html": "<div>\n<style scoped>\n    .dataframe tbody tr th:only-of-type {\n        vertical-align: middle;\n    }\n\n    .dataframe tbody tr th {\n        vertical-align: top;\n    }\n\n    .dataframe thead th {\n        text-align: right;\n    }\n</style>\n<table border=\"1\" class=\"dataframe\">\n  <thead>\n    <tr style=\"text-align: right;\">\n      <th></th>\n      <th>Year</th>\n      <th>Total Population</th>\n    </tr>\n  </thead>\n  <tbody>\n    <tr>\n      <th>0</th>\n      <td>1960</td>\n      <td>3034970564</td>\n    </tr>\n    <tr>\n      <th>1</th>\n      <td>1970</td>\n      <td>3684822701</td>\n    </tr>\n    <tr>\n      <th>2</th>\n      <td>1980</td>\n      <td>4436590356</td>\n    </tr>\n    <tr>\n      <th>3</th>\n      <td>1990</td>\n      <td>5282715991</td>\n    </tr>\n    <tr>\n      <th>4</th>\n      <td>2000</td>\n      <td>6115974486</td>\n    </tr>\n    <tr>\n      <th>5</th>\n      <td>2010</td>\n      <td>6924282937</td>\n    </tr>\n  </tbody>\n</table>\n</div>"
     },
     "execution_count": 2,
     "metadata": {},
     "output_type": "execute_result"
    }
   ],
   "source": [
    "df_pop = pd.read_csv('../Database/world_population.csv')\n",
    "df_pop"
   ],
   "metadata": {
    "collapsed": false,
    "ExecuteTime": {
     "end_time": "2024-03-18T15:31:39.777590Z",
     "start_time": "2024-03-18T15:31:39.760427Z"
    }
   },
   "id": "46bbab7ac518f9e1",
   "execution_count": 2
  },
  {
   "cell_type": "markdown",
   "source": [
    "# Pandas and Numpy\n",
    "\n",
    "Pandas está integrado ao Numpy, por isso é possível fazer cálculos com algumas funções disponíveis em Numpy. Por exemplo: Soma, média e operações com os operadores universais (```+```, ```-```, ```*```, ```/```, ```**```, ```%```, etc)."
   ],
   "metadata": {
    "collapsed": false
   },
   "id": "518ca15121404890"
  },
  {
   "cell_type": "code",
   "outputs": [
    {
     "data": {
      "text/plain": "Year                 1.985000e+03\n Total Population    4.913226e+09\ndtype: float64"
     },
     "execution_count": 3,
     "metadata": {},
     "output_type": "execute_result"
    }
   ],
   "source": [
    "df_pop.mean()"
   ],
   "metadata": {
    "collapsed": false,
    "ExecuteTime": {
     "end_time": "2024-03-18T15:31:39.786529Z",
     "start_time": "2024-03-18T15:31:39.778637Z"
    }
   },
   "id": "ef1cbd995dfdbc21",
   "execution_count": 3
  },
  {
   "cell_type": "code",
   "outputs": [
    {
     "data": {
      "text/plain": "'string1string2'"
     },
     "execution_count": 4,
     "metadata": {},
     "output_type": "execute_result"
    }
   ],
   "source": [
    "\"string1\" + \"string2\""
   ],
   "metadata": {
    "collapsed": false,
    "ExecuteTime": {
     "end_time": "2024-03-18T15:31:39.803254Z",
     "start_time": "2024-03-18T15:31:39.790027Z"
    }
   },
   "id": "c9a1479ab284e426",
   "execution_count": 4
  },
  {
   "cell_type": "code",
   "outputs": [
    {
     "data": {
      "text/plain": "Year                       11910\n Total Population    29479357035\ndtype: int64"
     },
     "execution_count": 5,
     "metadata": {},
     "output_type": "execute_result"
    }
   ],
   "source": [
    "df_pop.sum()"
   ],
   "metadata": {
    "collapsed": false,
    "ExecuteTime": {
     "end_time": "2024-03-18T15:31:39.813082Z",
     "start_time": "2024-03-18T15:31:39.805574Z"
    }
   },
   "id": "4f8e1f6f7dc3e47a",
   "execution_count": 5
  },
  {
   "cell_type": "code",
   "outputs": [
    {
     "data": {
      "text/plain": "Year                 1.870829e+01\n Total Population    1.475905e+09\ndtype: float64"
     },
     "execution_count": 6,
     "metadata": {},
     "output_type": "execute_result"
    }
   ],
   "source": [
    "df_pop.std()"
   ],
   "metadata": {
    "collapsed": false,
    "ExecuteTime": {
     "end_time": "2024-03-18T15:31:39.825958Z",
     "start_time": "2024-03-18T15:31:39.816276Z"
    }
   },
   "id": "cef5ef539e722fe",
   "execution_count": 6
  },
  {
   "cell_type": "code",
   "outputs": [
    {
     "data": {
      "text/plain": "Year                       2010\n Total Population    6924282937\ndtype: int64"
     },
     "execution_count": 7,
     "metadata": {},
     "output_type": "execute_result"
    }
   ],
   "source": [
    "df_pop.max()"
   ],
   "metadata": {
    "collapsed": false,
    "ExecuteTime": {
     "end_time": "2024-03-18T15:31:39.836133Z",
     "start_time": "2024-03-18T15:31:39.828228Z"
    }
   },
   "id": "e1d450d83dd32f28",
   "execution_count": 7
  },
  {
   "cell_type": "code",
   "outputs": [],
   "source": [
    "meu_dct = {\n",
    "    \"x\": [1, None, 3, 4, None, 6, None, 8, None, 10],\n",
    "    \"x_quadrado\": [1, None, 9, 16, 25, None, 49, 64, None, 100],\n",
    "}\n",
    "\n",
    "meu_df = pd.DataFrame(meu_dct)"
   ],
   "metadata": {
    "collapsed": false,
    "ExecuteTime": {
     "end_time": "2024-03-18T15:31:39.851551Z",
     "start_time": "2024-03-18T15:31:39.838557Z"
    }
   },
   "id": "c5d0fe2bde8f5434",
   "execution_count": 8
  },
  {
   "cell_type": "code",
   "outputs": [
    {
     "data": {
      "text/plain": "      x  x_quadrado\n0   1.0         1.0\n1   NaN         NaN\n2   3.0         9.0\n3   4.0        16.0\n4   NaN        25.0\n5   6.0         NaN\n6   NaN        49.0\n7   8.0        64.0\n8   NaN         NaN\n9  10.0       100.0",
      "text/html": "<div>\n<style scoped>\n    .dataframe tbody tr th:only-of-type {\n        vertical-align: middle;\n    }\n\n    .dataframe tbody tr th {\n        vertical-align: top;\n    }\n\n    .dataframe thead th {\n        text-align: right;\n    }\n</style>\n<table border=\"1\" class=\"dataframe\">\n  <thead>\n    <tr style=\"text-align: right;\">\n      <th></th>\n      <th>x</th>\n      <th>x_quadrado</th>\n    </tr>\n  </thead>\n  <tbody>\n    <tr>\n      <th>0</th>\n      <td>1.0</td>\n      <td>1.0</td>\n    </tr>\n    <tr>\n      <th>1</th>\n      <td>NaN</td>\n      <td>NaN</td>\n    </tr>\n    <tr>\n      <th>2</th>\n      <td>3.0</td>\n      <td>9.0</td>\n    </tr>\n    <tr>\n      <th>3</th>\n      <td>4.0</td>\n      <td>16.0</td>\n    </tr>\n    <tr>\n      <th>4</th>\n      <td>NaN</td>\n      <td>25.0</td>\n    </tr>\n    <tr>\n      <th>5</th>\n      <td>6.0</td>\n      <td>NaN</td>\n    </tr>\n    <tr>\n      <th>6</th>\n      <td>NaN</td>\n      <td>49.0</td>\n    </tr>\n    <tr>\n      <th>7</th>\n      <td>8.0</td>\n      <td>64.0</td>\n    </tr>\n    <tr>\n      <th>8</th>\n      <td>NaN</td>\n      <td>NaN</td>\n    </tr>\n    <tr>\n      <th>9</th>\n      <td>10.0</td>\n      <td>100.0</td>\n    </tr>\n  </tbody>\n</table>\n</div>"
     },
     "execution_count": 9,
     "metadata": {},
     "output_type": "execute_result"
    }
   ],
   "source": [
    "meu_df"
   ],
   "metadata": {
    "collapsed": false,
    "ExecuteTime": {
     "end_time": "2024-03-18T15:31:39.867084Z",
     "start_time": "2024-03-18T15:31:39.853278Z"
    }
   },
   "id": "a2336eca264bd8f4",
   "execution_count": 9
  },
  {
   "cell_type": "code",
   "outputs": [
    {
     "data": {
      "text/plain": "      x  x_quadrado\n0   1.0         1.0\n2   3.0         9.0\n3   4.0        16.0\n4   NaN        25.0\n5   6.0         NaN\n6   NaN        49.0\n7   8.0        64.0\n9  10.0       100.0",
      "text/html": "<div>\n<style scoped>\n    .dataframe tbody tr th:only-of-type {\n        vertical-align: middle;\n    }\n\n    .dataframe tbody tr th {\n        vertical-align: top;\n    }\n\n    .dataframe thead th {\n        text-align: right;\n    }\n</style>\n<table border=\"1\" class=\"dataframe\">\n  <thead>\n    <tr style=\"text-align: right;\">\n      <th></th>\n      <th>x</th>\n      <th>x_quadrado</th>\n    </tr>\n  </thead>\n  <tbody>\n    <tr>\n      <th>0</th>\n      <td>1.0</td>\n      <td>1.0</td>\n    </tr>\n    <tr>\n      <th>2</th>\n      <td>3.0</td>\n      <td>9.0</td>\n    </tr>\n    <tr>\n      <th>3</th>\n      <td>4.0</td>\n      <td>16.0</td>\n    </tr>\n    <tr>\n      <th>4</th>\n      <td>NaN</td>\n      <td>25.0</td>\n    </tr>\n    <tr>\n      <th>5</th>\n      <td>6.0</td>\n      <td>NaN</td>\n    </tr>\n    <tr>\n      <th>6</th>\n      <td>NaN</td>\n      <td>49.0</td>\n    </tr>\n    <tr>\n      <th>7</th>\n      <td>8.0</td>\n      <td>64.0</td>\n    </tr>\n    <tr>\n      <th>9</th>\n      <td>10.0</td>\n      <td>100.0</td>\n    </tr>\n  </tbody>\n</table>\n</div>"
     },
     "execution_count": 10,
     "metadata": {},
     "output_type": "execute_result"
    }
   ],
   "source": [
    "meu_df.dropna(how=\"all\")"
   ],
   "metadata": {
    "collapsed": false,
    "ExecuteTime": {
     "end_time": "2024-03-18T15:31:39.880222Z",
     "start_time": "2024-03-18T15:31:39.870282Z"
    }
   },
   "id": "b378887ce41a8df2",
   "execution_count": 10
  },
  {
   "cell_type": "code",
   "outputs": [
    {
     "data": {
      "text/plain": "      x  x_quadrado\n0   1.0         1.0\n1  -1.0        -1.0\n2   3.0         9.0\n3   4.0        16.0\n4  -1.0        25.0\n5   6.0        -1.0\n6  -1.0        49.0\n7   8.0        64.0\n8  -1.0        -1.0\n9  10.0       100.0",
      "text/html": "<div>\n<style scoped>\n    .dataframe tbody tr th:only-of-type {\n        vertical-align: middle;\n    }\n\n    .dataframe tbody tr th {\n        vertical-align: top;\n    }\n\n    .dataframe thead th {\n        text-align: right;\n    }\n</style>\n<table border=\"1\" class=\"dataframe\">\n  <thead>\n    <tr style=\"text-align: right;\">\n      <th></th>\n      <th>x</th>\n      <th>x_quadrado</th>\n    </tr>\n  </thead>\n  <tbody>\n    <tr>\n      <th>0</th>\n      <td>1.0</td>\n      <td>1.0</td>\n    </tr>\n    <tr>\n      <th>1</th>\n      <td>-1.0</td>\n      <td>-1.0</td>\n    </tr>\n    <tr>\n      <th>2</th>\n      <td>3.0</td>\n      <td>9.0</td>\n    </tr>\n    <tr>\n      <th>3</th>\n      <td>4.0</td>\n      <td>16.0</td>\n    </tr>\n    <tr>\n      <th>4</th>\n      <td>-1.0</td>\n      <td>25.0</td>\n    </tr>\n    <tr>\n      <th>5</th>\n      <td>6.0</td>\n      <td>-1.0</td>\n    </tr>\n    <tr>\n      <th>6</th>\n      <td>-1.0</td>\n      <td>49.0</td>\n    </tr>\n    <tr>\n      <th>7</th>\n      <td>8.0</td>\n      <td>64.0</td>\n    </tr>\n    <tr>\n      <th>8</th>\n      <td>-1.0</td>\n      <td>-1.0</td>\n    </tr>\n    <tr>\n      <th>9</th>\n      <td>10.0</td>\n      <td>100.0</td>\n    </tr>\n  </tbody>\n</table>\n</div>"
     },
     "execution_count": 11,
     "metadata": {},
     "output_type": "execute_result"
    }
   ],
   "source": [
    "meu_df.fillna(-1)"
   ],
   "metadata": {
    "collapsed": false,
    "ExecuteTime": {
     "end_time": "2024-03-18T15:31:39.896723Z",
     "start_time": "2024-03-18T15:31:39.881394Z"
    }
   },
   "id": "eee0de1dfe7e3c77",
   "execution_count": 11
  },
  {
   "cell_type": "code",
   "outputs": [
    {
     "data": {
      "text/plain": "      x  x_quadrado\n0   1.0         1.0\n1  -5.0       -10.0\n2   3.0         9.0\n3   4.0        16.0\n4  -5.0        25.0\n5   6.0       -10.0\n6  -5.0        49.0\n7   8.0        64.0\n8  -5.0       -10.0\n9  10.0       100.0",
      "text/html": "<div>\n<style scoped>\n    .dataframe tbody tr th:only-of-type {\n        vertical-align: middle;\n    }\n\n    .dataframe tbody tr th {\n        vertical-align: top;\n    }\n\n    .dataframe thead th {\n        text-align: right;\n    }\n</style>\n<table border=\"1\" class=\"dataframe\">\n  <thead>\n    <tr style=\"text-align: right;\">\n      <th></th>\n      <th>x</th>\n      <th>x_quadrado</th>\n    </tr>\n  </thead>\n  <tbody>\n    <tr>\n      <th>0</th>\n      <td>1.0</td>\n      <td>1.0</td>\n    </tr>\n    <tr>\n      <th>1</th>\n      <td>-5.0</td>\n      <td>-10.0</td>\n    </tr>\n    <tr>\n      <th>2</th>\n      <td>3.0</td>\n      <td>9.0</td>\n    </tr>\n    <tr>\n      <th>3</th>\n      <td>4.0</td>\n      <td>16.0</td>\n    </tr>\n    <tr>\n      <th>4</th>\n      <td>-5.0</td>\n      <td>25.0</td>\n    </tr>\n    <tr>\n      <th>5</th>\n      <td>6.0</td>\n      <td>-10.0</td>\n    </tr>\n    <tr>\n      <th>6</th>\n      <td>-5.0</td>\n      <td>49.0</td>\n    </tr>\n    <tr>\n      <th>7</th>\n      <td>8.0</td>\n      <td>64.0</td>\n    </tr>\n    <tr>\n      <th>8</th>\n      <td>-5.0</td>\n      <td>-10.0</td>\n    </tr>\n    <tr>\n      <th>9</th>\n      <td>10.0</td>\n      <td>100.0</td>\n    </tr>\n  </tbody>\n</table>\n</div>"
     },
     "execution_count": 12,
     "metadata": {},
     "output_type": "execute_result"
    }
   ],
   "source": [
    "meu_df.fillna({\"x\": -5, \"x_quadrado\": -10})"
   ],
   "metadata": {
    "collapsed": false,
    "ExecuteTime": {
     "end_time": "2024-03-18T15:31:39.910298Z",
     "start_time": "2024-03-18T15:31:39.897802Z"
    }
   },
   "id": "831f559964670bdb",
   "execution_count": 12
  },
  {
   "cell_type": "markdown",
   "source": [
    "# Descrevendo um Dataframe\n",
    "\n",
    "O método ```.describe``` calcula a frequência, os valores máximos, mínimos, médios, desvio padrão e os quartis de cada coluna de dados númericos."
   ],
   "metadata": {
    "collapsed": false
   },
   "id": "a9bbb91769e07659"
  },
  {
   "cell_type": "code",
   "outputs": [],
   "source": [
    "df_baseball = pd.read_csv('../Database/baseball.csv')"
   ],
   "metadata": {
    "collapsed": false,
    "ExecuteTime": {
     "end_time": "2024-03-18T15:31:39.931742Z",
     "start_time": "2024-03-18T15:31:39.911462Z"
    }
   },
   "id": "8ebab084ac1c1904",
   "execution_count": 13
  },
  {
   "cell_type": "code",
   "outputs": [
    {
     "data": {
      "text/plain": "              Name  Team        Position  Height(inches)  Weight(pounds)  \\\n0    Adam_Donachie   BAL         Catcher              74             180   \n1        Paul_Bako   BAL         Catcher              74             215   \n2  Ramon_Hernandez   BAL         Catcher              72             210   \n3     Kevin_Millar   BAL   First_Baseman              72             210   \n4      Chris_Gomez   BAL   First_Baseman              73             188   \n\n     Age  \n0  22.90  \n1  34.69  \n2  30.78  \n3  35.43  \n4  35.71  ",
      "text/html": "<div>\n<style scoped>\n    .dataframe tbody tr th:only-of-type {\n        vertical-align: middle;\n    }\n\n    .dataframe tbody tr th {\n        vertical-align: top;\n    }\n\n    .dataframe thead th {\n        text-align: right;\n    }\n</style>\n<table border=\"1\" class=\"dataframe\">\n  <thead>\n    <tr style=\"text-align: right;\">\n      <th></th>\n      <th>Name</th>\n      <th>Team</th>\n      <th>Position</th>\n      <th>Height(inches)</th>\n      <th>Weight(pounds)</th>\n      <th>Age</th>\n    </tr>\n  </thead>\n  <tbody>\n    <tr>\n      <th>0</th>\n      <td>Adam_Donachie</td>\n      <td>BAL</td>\n      <td>Catcher</td>\n      <td>74</td>\n      <td>180</td>\n      <td>22.90</td>\n    </tr>\n    <tr>\n      <th>1</th>\n      <td>Paul_Bako</td>\n      <td>BAL</td>\n      <td>Catcher</td>\n      <td>74</td>\n      <td>215</td>\n      <td>34.69</td>\n    </tr>\n    <tr>\n      <th>2</th>\n      <td>Ramon_Hernandez</td>\n      <td>BAL</td>\n      <td>Catcher</td>\n      <td>72</td>\n      <td>210</td>\n      <td>30.78</td>\n    </tr>\n    <tr>\n      <th>3</th>\n      <td>Kevin_Millar</td>\n      <td>BAL</td>\n      <td>First_Baseman</td>\n      <td>72</td>\n      <td>210</td>\n      <td>35.43</td>\n    </tr>\n    <tr>\n      <th>4</th>\n      <td>Chris_Gomez</td>\n      <td>BAL</td>\n      <td>First_Baseman</td>\n      <td>73</td>\n      <td>188</td>\n      <td>35.71</td>\n    </tr>\n  </tbody>\n</table>\n</div>"
     },
     "execution_count": 14,
     "metadata": {},
     "output_type": "execute_result"
    }
   ],
   "source": [
    "df_baseball.head()"
   ],
   "metadata": {
    "collapsed": false,
    "ExecuteTime": {
     "end_time": "2024-03-18T15:31:39.947503Z",
     "start_time": "2024-03-18T15:31:39.932814Z"
    }
   },
   "id": "dde25a11242b1742",
   "execution_count": 14
  },
  {
   "cell_type": "code",
   "outputs": [
    {
     "data": {
      "text/plain": "       Height(inches)  Weight(pounds)        Age\ncount       27.000000       27.000000  27.000000\nmean        73.333333      195.814815  29.761481\nstd          2.572039       19.955792   4.511423\nmin         69.000000      160.000000  22.380000\n25%         71.500000      182.500000  26.580000\n50%         74.000000      189.000000  30.190000\n75%         74.500000      210.000000  33.745000\nmax         79.000000      231.000000  36.690000",
      "text/html": "<div>\n<style scoped>\n    .dataframe tbody tr th:only-of-type {\n        vertical-align: middle;\n    }\n\n    .dataframe tbody tr th {\n        vertical-align: top;\n    }\n\n    .dataframe thead th {\n        text-align: right;\n    }\n</style>\n<table border=\"1\" class=\"dataframe\">\n  <thead>\n    <tr style=\"text-align: right;\">\n      <th></th>\n      <th>Height(inches)</th>\n      <th>Weight(pounds)</th>\n      <th>Age</th>\n    </tr>\n  </thead>\n  <tbody>\n    <tr>\n      <th>count</th>\n      <td>27.000000</td>\n      <td>27.000000</td>\n      <td>27.000000</td>\n    </tr>\n    <tr>\n      <th>mean</th>\n      <td>73.333333</td>\n      <td>195.814815</td>\n      <td>29.761481</td>\n    </tr>\n    <tr>\n      <th>std</th>\n      <td>2.572039</td>\n      <td>19.955792</td>\n      <td>4.511423</td>\n    </tr>\n    <tr>\n      <th>min</th>\n      <td>69.000000</td>\n      <td>160.000000</td>\n      <td>22.380000</td>\n    </tr>\n    <tr>\n      <th>25%</th>\n      <td>71.500000</td>\n      <td>182.500000</td>\n      <td>26.580000</td>\n    </tr>\n    <tr>\n      <th>50%</th>\n      <td>74.000000</td>\n      <td>189.000000</td>\n      <td>30.190000</td>\n    </tr>\n    <tr>\n      <th>75%</th>\n      <td>74.500000</td>\n      <td>210.000000</td>\n      <td>33.745000</td>\n    </tr>\n    <tr>\n      <th>max</th>\n      <td>79.000000</td>\n      <td>231.000000</td>\n      <td>36.690000</td>\n    </tr>\n  </tbody>\n</table>\n</div>"
     },
     "execution_count": 15,
     "metadata": {},
     "output_type": "execute_result"
    }
   ],
   "source": [
    "df_baseball.describe()"
   ],
   "metadata": {
    "collapsed": false,
    "ExecuteTime": {
     "end_time": "2024-03-18T15:31:39.966559Z",
     "start_time": "2024-03-18T15:31:39.949780Z"
    }
   },
   "id": "94fa068a8f2f7a16",
   "execution_count": 15
  },
  {
   "cell_type": "markdown",
   "source": [
    "Também é possível visualizar percentils específicos."
   ],
   "metadata": {
    "collapsed": false
   },
   "id": "dfdc98a42146cf2c"
  },
  {
   "cell_type": "code",
   "outputs": [
    {
     "data": {
      "text/plain": "       Height(inches)  Weight(pounds)        Age\ncount       27.000000       27.000000  27.000000\nmean        73.333333      195.814815  29.761481\nstd          2.572039       19.955792   4.511423\nmin         69.000000      160.000000  22.380000\n16%         71.000000      180.000000  24.180800\n33%         72.580000      185.000000  27.764600\n50%         74.000000      189.000000  30.190000\n66%         74.000000      205.640000  31.352400\n82%         75.320000      216.280000  34.811600\nmax         79.000000      231.000000  36.690000",
      "text/html": "<div>\n<style scoped>\n    .dataframe tbody tr th:only-of-type {\n        vertical-align: middle;\n    }\n\n    .dataframe tbody tr th {\n        vertical-align: top;\n    }\n\n    .dataframe thead th {\n        text-align: right;\n    }\n</style>\n<table border=\"1\" class=\"dataframe\">\n  <thead>\n    <tr style=\"text-align: right;\">\n      <th></th>\n      <th>Height(inches)</th>\n      <th>Weight(pounds)</th>\n      <th>Age</th>\n    </tr>\n  </thead>\n  <tbody>\n    <tr>\n      <th>count</th>\n      <td>27.000000</td>\n      <td>27.000000</td>\n      <td>27.000000</td>\n    </tr>\n    <tr>\n      <th>mean</th>\n      <td>73.333333</td>\n      <td>195.814815</td>\n      <td>29.761481</td>\n    </tr>\n    <tr>\n      <th>std</th>\n      <td>2.572039</td>\n      <td>19.955792</td>\n      <td>4.511423</td>\n    </tr>\n    <tr>\n      <th>min</th>\n      <td>69.000000</td>\n      <td>160.000000</td>\n      <td>22.380000</td>\n    </tr>\n    <tr>\n      <th>16%</th>\n      <td>71.000000</td>\n      <td>180.000000</td>\n      <td>24.180800</td>\n    </tr>\n    <tr>\n      <th>33%</th>\n      <td>72.580000</td>\n      <td>185.000000</td>\n      <td>27.764600</td>\n    </tr>\n    <tr>\n      <th>50%</th>\n      <td>74.000000</td>\n      <td>189.000000</td>\n      <td>30.190000</td>\n    </tr>\n    <tr>\n      <th>66%</th>\n      <td>74.000000</td>\n      <td>205.640000</td>\n      <td>31.352400</td>\n    </tr>\n    <tr>\n      <th>82%</th>\n      <td>75.320000</td>\n      <td>216.280000</td>\n      <td>34.811600</td>\n    </tr>\n    <tr>\n      <th>max</th>\n      <td>79.000000</td>\n      <td>231.000000</td>\n      <td>36.690000</td>\n    </tr>\n  </tbody>\n</table>\n</div>"
     },
     "execution_count": 16,
     "metadata": {},
     "output_type": "execute_result"
    }
   ],
   "source": [
    "df_baseball.describe(percentiles=[.16, .33, .66, .82])"
   ],
   "metadata": {
    "collapsed": false,
    "ExecuteTime": {
     "end_time": "2024-03-18T15:31:39.987866Z",
     "start_time": "2024-03-18T15:31:39.968808Z"
    }
   },
   "id": "528ac23a639b822d",
   "execution_count": 16
  },
  {
   "cell_type": "markdown",
   "source": [
    "## Contagem de Valores"
   ],
   "metadata": {
    "collapsed": false
   },
   "id": "6a6065247e9e5938"
  },
  {
   "cell_type": "code",
   "outputs": [
    {
     "data": {
      "text/plain": "            Name  Team  Position  Height(inches)  Weight(pounds)    Age\n0  Adam_Donachie   BAL   Catcher              74             180  22.90\n1      Paul_Bako   BAL   Catcher              74             215  34.69",
      "text/html": "<div>\n<style scoped>\n    .dataframe tbody tr th:only-of-type {\n        vertical-align: middle;\n    }\n\n    .dataframe tbody tr th {\n        vertical-align: top;\n    }\n\n    .dataframe thead th {\n        text-align: right;\n    }\n</style>\n<table border=\"1\" class=\"dataframe\">\n  <thead>\n    <tr style=\"text-align: right;\">\n      <th></th>\n      <th>Name</th>\n      <th>Team</th>\n      <th>Position</th>\n      <th>Height(inches)</th>\n      <th>Weight(pounds)</th>\n      <th>Age</th>\n    </tr>\n  </thead>\n  <tbody>\n    <tr>\n      <th>0</th>\n      <td>Adam_Donachie</td>\n      <td>BAL</td>\n      <td>Catcher</td>\n      <td>74</td>\n      <td>180</td>\n      <td>22.90</td>\n    </tr>\n    <tr>\n      <th>1</th>\n      <td>Paul_Bako</td>\n      <td>BAL</td>\n      <td>Catcher</td>\n      <td>74</td>\n      <td>215</td>\n      <td>34.69</td>\n    </tr>\n  </tbody>\n</table>\n</div>"
     },
     "execution_count": 17,
     "metadata": {},
     "output_type": "execute_result"
    }
   ],
   "source": [
    "df_baseball.head(2)"
   ],
   "metadata": {
    "collapsed": false,
    "ExecuteTime": {
     "end_time": "2024-03-18T15:31:39.999895Z",
     "start_time": "2024-03-18T15:31:39.990110Z"
    }
   },
   "id": "630dc17c8976b647",
   "execution_count": 17
  },
  {
   "cell_type": "code",
   "outputs": [
    {
     "data": {
      "text/plain": "Position\nPitcher           12\nOutfielder         6\nCatcher            3\nFirst_Baseman      2\nThird_Baseman      2\nSecond_Baseman     1\nShortstop          1\nName: count, dtype: int64"
     },
     "execution_count": 18,
     "metadata": {},
     "output_type": "execute_result"
    }
   ],
   "source": [
    "df_baseball[\"Position\"].value_counts()"
   ],
   "metadata": {
    "collapsed": false,
    "ExecuteTime": {
     "end_time": "2024-03-18T15:31:40.015114Z",
     "start_time": "2024-03-18T15:31:40.001247Z"
    }
   },
   "id": "41679b4ca515a922",
   "execution_count": 18
  },
  {
   "cell_type": "code",
   "outputs": [
    {
     "data": {
      "text/plain": "Position\nPitcher           0.444444\nOutfielder        0.222222\nCatcher           0.111111\nFirst_Baseman     0.074074\nThird_Baseman     0.074074\nSecond_Baseman    0.037037\nShortstop         0.037037\nName: proportion, dtype: float64"
     },
     "execution_count": 19,
     "metadata": {},
     "output_type": "execute_result"
    }
   ],
   "source": [
    "df_baseball[\"Position\"].value_counts(normalize=True)"
   ],
   "metadata": {
    "collapsed": false,
    "ExecuteTime": {
     "end_time": "2024-03-18T15:31:40.029425Z",
     "start_time": "2024-03-18T15:31:40.016084Z"
    }
   },
   "id": "8ac366f6b42390f1",
   "execution_count": 19
  },
  {
   "cell_type": "code",
   "outputs": [
    {
     "data": {
      "text/plain": "     Name   Team  Position  Height(inches)  Weight(pounds)    Age\n0   False  False     False           False           False  False\n1   False  False     False           False           False  False\n2   False  False     False           False           False  False\n3   False  False     False           False           False  False\n4   False  False     False           False           False  False\n5   False  False     False           False           False  False\n6   False  False     False           False           False  False\n7   False  False     False           False           False  False\n8   False  False     False           False           False  False\n9   False  False     False           False           False  False\n10  False  False     False           False           False  False\n11  False  False     False           False           False  False\n12  False  False     False           False           False  False\n13  False  False     False           False           False  False\n14  False  False     False           False           False  False\n15  False  False     False           False           False  False\n16  False  False     False           False           False  False\n17  False  False     False           False           False  False\n18  False  False     False           False           False  False\n19  False  False     False           False           False  False\n20  False  False     False           False           False  False\n21  False  False     False           False           False  False\n22  False  False     False           False           False  False\n23  False  False     False           False           False  False\n24  False  False     False           False           False  False\n25  False  False     False           False           False  False\n26  False  False     False           False           False  False",
      "text/html": "<div>\n<style scoped>\n    .dataframe tbody tr th:only-of-type {\n        vertical-align: middle;\n    }\n\n    .dataframe tbody tr th {\n        vertical-align: top;\n    }\n\n    .dataframe thead th {\n        text-align: right;\n    }\n</style>\n<table border=\"1\" class=\"dataframe\">\n  <thead>\n    <tr style=\"text-align: right;\">\n      <th></th>\n      <th>Name</th>\n      <th>Team</th>\n      <th>Position</th>\n      <th>Height(inches)</th>\n      <th>Weight(pounds)</th>\n      <th>Age</th>\n    </tr>\n  </thead>\n  <tbody>\n    <tr>\n      <th>0</th>\n      <td>False</td>\n      <td>False</td>\n      <td>False</td>\n      <td>False</td>\n      <td>False</td>\n      <td>False</td>\n    </tr>\n    <tr>\n      <th>1</th>\n      <td>False</td>\n      <td>False</td>\n      <td>False</td>\n      <td>False</td>\n      <td>False</td>\n      <td>False</td>\n    </tr>\n    <tr>\n      <th>2</th>\n      <td>False</td>\n      <td>False</td>\n      <td>False</td>\n      <td>False</td>\n      <td>False</td>\n      <td>False</td>\n    </tr>\n    <tr>\n      <th>3</th>\n      <td>False</td>\n      <td>False</td>\n      <td>False</td>\n      <td>False</td>\n      <td>False</td>\n      <td>False</td>\n    </tr>\n    <tr>\n      <th>4</th>\n      <td>False</td>\n      <td>False</td>\n      <td>False</td>\n      <td>False</td>\n      <td>False</td>\n      <td>False</td>\n    </tr>\n    <tr>\n      <th>5</th>\n      <td>False</td>\n      <td>False</td>\n      <td>False</td>\n      <td>False</td>\n      <td>False</td>\n      <td>False</td>\n    </tr>\n    <tr>\n      <th>6</th>\n      <td>False</td>\n      <td>False</td>\n      <td>False</td>\n      <td>False</td>\n      <td>False</td>\n      <td>False</td>\n    </tr>\n    <tr>\n      <th>7</th>\n      <td>False</td>\n      <td>False</td>\n      <td>False</td>\n      <td>False</td>\n      <td>False</td>\n      <td>False</td>\n    </tr>\n    <tr>\n      <th>8</th>\n      <td>False</td>\n      <td>False</td>\n      <td>False</td>\n      <td>False</td>\n      <td>False</td>\n      <td>False</td>\n    </tr>\n    <tr>\n      <th>9</th>\n      <td>False</td>\n      <td>False</td>\n      <td>False</td>\n      <td>False</td>\n      <td>False</td>\n      <td>False</td>\n    </tr>\n    <tr>\n      <th>10</th>\n      <td>False</td>\n      <td>False</td>\n      <td>False</td>\n      <td>False</td>\n      <td>False</td>\n      <td>False</td>\n    </tr>\n    <tr>\n      <th>11</th>\n      <td>False</td>\n      <td>False</td>\n      <td>False</td>\n      <td>False</td>\n      <td>False</td>\n      <td>False</td>\n    </tr>\n    <tr>\n      <th>12</th>\n      <td>False</td>\n      <td>False</td>\n      <td>False</td>\n      <td>False</td>\n      <td>False</td>\n      <td>False</td>\n    </tr>\n    <tr>\n      <th>13</th>\n      <td>False</td>\n      <td>False</td>\n      <td>False</td>\n      <td>False</td>\n      <td>False</td>\n      <td>False</td>\n    </tr>\n    <tr>\n      <th>14</th>\n      <td>False</td>\n      <td>False</td>\n      <td>False</td>\n      <td>False</td>\n      <td>False</td>\n      <td>False</td>\n    </tr>\n    <tr>\n      <th>15</th>\n      <td>False</td>\n      <td>False</td>\n      <td>False</td>\n      <td>False</td>\n      <td>False</td>\n      <td>False</td>\n    </tr>\n    <tr>\n      <th>16</th>\n      <td>False</td>\n      <td>False</td>\n      <td>False</td>\n      <td>False</td>\n      <td>False</td>\n      <td>False</td>\n    </tr>\n    <tr>\n      <th>17</th>\n      <td>False</td>\n      <td>False</td>\n      <td>False</td>\n      <td>False</td>\n      <td>False</td>\n      <td>False</td>\n    </tr>\n    <tr>\n      <th>18</th>\n      <td>False</td>\n      <td>False</td>\n      <td>False</td>\n      <td>False</td>\n      <td>False</td>\n      <td>False</td>\n    </tr>\n    <tr>\n      <th>19</th>\n      <td>False</td>\n      <td>False</td>\n      <td>False</td>\n      <td>False</td>\n      <td>False</td>\n      <td>False</td>\n    </tr>\n    <tr>\n      <th>20</th>\n      <td>False</td>\n      <td>False</td>\n      <td>False</td>\n      <td>False</td>\n      <td>False</td>\n      <td>False</td>\n    </tr>\n    <tr>\n      <th>21</th>\n      <td>False</td>\n      <td>False</td>\n      <td>False</td>\n      <td>False</td>\n      <td>False</td>\n      <td>False</td>\n    </tr>\n    <tr>\n      <th>22</th>\n      <td>False</td>\n      <td>False</td>\n      <td>False</td>\n      <td>False</td>\n      <td>False</td>\n      <td>False</td>\n    </tr>\n    <tr>\n      <th>23</th>\n      <td>False</td>\n      <td>False</td>\n      <td>False</td>\n      <td>False</td>\n      <td>False</td>\n      <td>False</td>\n    </tr>\n    <tr>\n      <th>24</th>\n      <td>False</td>\n      <td>False</td>\n      <td>False</td>\n      <td>False</td>\n      <td>False</td>\n      <td>False</td>\n    </tr>\n    <tr>\n      <th>25</th>\n      <td>False</td>\n      <td>False</td>\n      <td>False</td>\n      <td>False</td>\n      <td>False</td>\n      <td>False</td>\n    </tr>\n    <tr>\n      <th>26</th>\n      <td>False</td>\n      <td>False</td>\n      <td>False</td>\n      <td>False</td>\n      <td>False</td>\n      <td>False</td>\n    </tr>\n  </tbody>\n</table>\n</div>"
     },
     "execution_count": 20,
     "metadata": {},
     "output_type": "execute_result"
    }
   ],
   "source": [
    "df_baseball.isnull()"
   ],
   "metadata": {
    "collapsed": false,
    "ExecuteTime": {
     "end_time": "2024-03-18T15:31:40.046496Z",
     "start_time": "2024-03-18T15:31:40.031384Z"
    }
   },
   "id": "f16bc9b079ff72a7",
   "execution_count": 20
  },
  {
   "cell_type": "code",
   "outputs": [
    {
     "data": {
      "text/plain": "Empty DataFrame\nColumns: [Name, Team, Position, Height(inches), Weight(pounds), Age]\nIndex: []",
      "text/html": "<div>\n<style scoped>\n    .dataframe tbody tr th:only-of-type {\n        vertical-align: middle;\n    }\n\n    .dataframe tbody tr th {\n        vertical-align: top;\n    }\n\n    .dataframe thead th {\n        text-align: right;\n    }\n</style>\n<table border=\"1\" class=\"dataframe\">\n  <thead>\n    <tr style=\"text-align: right;\">\n      <th></th>\n      <th>Name</th>\n      <th>Team</th>\n      <th>Position</th>\n      <th>Height(inches)</th>\n      <th>Weight(pounds)</th>\n      <th>Age</th>\n    </tr>\n  </thead>\n  <tbody>\n  </tbody>\n</table>\n</div>"
     },
     "execution_count": 21,
     "metadata": {},
     "output_type": "execute_result"
    }
   ],
   "source": [
    "df_baseball.loc[df_baseball[\"Weight(pounds)\"].isnull()]"
   ],
   "metadata": {
    "collapsed": false,
    "ExecuteTime": {
     "end_time": "2024-03-18T15:31:40.057969Z",
     "start_time": "2024-03-18T15:31:40.047622Z"
    }
   },
   "id": "d655d4cfae1b745",
   "execution_count": 21
  },
  {
   "cell_type": "markdown",
   "source": [
    "## Dados da Web\n",
    "\n",
    "É possível importar dados de arquivos na web com pd.read_csv.\n",
    "\n",
    "Obs.: No banco a necessidade de proxy limita essa funcionalidade, complicando um pouco mais o processo."
   ],
   "metadata": {
    "collapsed": false
   },
   "id": "f70a1618e5befe8f"
  },
  {
   "cell_type": "code",
   "outputs": [],
   "source": [
    "df = pd.read_csv('../Database/drinks.csv')"
   ],
   "metadata": {
    "collapsed": false,
    "ExecuteTime": {
     "end_time": "2024-03-18T15:31:40.068056Z",
     "start_time": "2024-03-18T15:31:40.059579Z"
    }
   },
   "id": "54880d12547d5866",
   "execution_count": 22
  },
  {
   "cell_type": "code",
   "outputs": [
    {
     "data": {
      "text/plain": "      country  beer_servings  wine_servings total_litres_of_pure_alcohol  \\\n190    Zambia             32             19                          2.5   \n191  Zimbabwe             64             18                          4.7   \n\n    continent  \n190        AF  \n191        AF  ",
      "text/html": "<div>\n<style scoped>\n    .dataframe tbody tr th:only-of-type {\n        vertical-align: middle;\n    }\n\n    .dataframe tbody tr th {\n        vertical-align: top;\n    }\n\n    .dataframe thead th {\n        text-align: right;\n    }\n</style>\n<table border=\"1\" class=\"dataframe\">\n  <thead>\n    <tr style=\"text-align: right;\">\n      <th></th>\n      <th>country</th>\n      <th>beer_servings</th>\n      <th>wine_servings</th>\n      <th>total_litres_of_pure_alcohol</th>\n      <th>continent</th>\n    </tr>\n  </thead>\n  <tbody>\n    <tr>\n      <th>190</th>\n      <td>Zambia</td>\n      <td>32</td>\n      <td>19</td>\n      <td>2.5</td>\n      <td>AF</td>\n    </tr>\n    <tr>\n      <th>191</th>\n      <td>Zimbabwe</td>\n      <td>64</td>\n      <td>18</td>\n      <td>4.7</td>\n      <td>AF</td>\n    </tr>\n  </tbody>\n</table>\n</div>"
     },
     "execution_count": 23,
     "metadata": {},
     "output_type": "execute_result"
    }
   ],
   "source": [
    "df.tail(2)"
   ],
   "metadata": {
    "collapsed": false,
    "ExecuteTime": {
     "end_time": "2024-03-18T15:31:40.086719Z",
     "start_time": "2024-03-18T15:31:40.069071Z"
    }
   },
   "id": "565601c5b910d8a6",
   "execution_count": 23
  },
  {
   "cell_type": "markdown",
   "source": [
    "# Sort Values\n",
    "\n",
    "Existem 2 métodos que podem ser usados para ordenar as linhas do dataframe.\n",
    "\n",
    "   - sort_index: usado para ordenar as linhas pelos valores do index\n",
    "   - sort_values: usado para ordenar as linhas pelos valores das colunas especificadas no parâmetro by"
   ],
   "metadata": {
    "collapsed": false
   },
   "id": "642cdb7045a89d32"
  },
  {
   "cell_type": "code",
   "outputs": [
    {
     "data": {
      "text/plain": "     beer_servings continent      country total_litres_of_pure_alcohol  \\\n0                0        AS  Afghanistan                          0.0   \n1               89        EU      Albania                          4.9   \n2               25        AF      Algeria                          0.7   \n3              245        EU      Andorra                         12.4   \n4              217        AF       Angola                          5.9   \n..             ...       ...          ...                          ...   \n187            333        SA    Venezuela                          7.7   \n188            111        AS      Vietnam                          2.0   \n189              6        AS        Yemen                          0.1   \n190             32        AF       Zambia                          2.5   \n191             64        AF     Zimbabwe                          4.7   \n\n     wine_servings  \n0                0  \n1               54  \n2               14  \n3              312  \n4               45  \n..             ...  \n187              3  \n188              1  \n189              0  \n190             19  \n191             18  \n\n[192 rows x 5 columns]",
      "text/html": "<div>\n<style scoped>\n    .dataframe tbody tr th:only-of-type {\n        vertical-align: middle;\n    }\n\n    .dataframe tbody tr th {\n        vertical-align: top;\n    }\n\n    .dataframe thead th {\n        text-align: right;\n    }\n</style>\n<table border=\"1\" class=\"dataframe\">\n  <thead>\n    <tr style=\"text-align: right;\">\n      <th></th>\n      <th>beer_servings</th>\n      <th>continent</th>\n      <th>country</th>\n      <th>total_litres_of_pure_alcohol</th>\n      <th>wine_servings</th>\n    </tr>\n  </thead>\n  <tbody>\n    <tr>\n      <th>0</th>\n      <td>0</td>\n      <td>AS</td>\n      <td>Afghanistan</td>\n      <td>0.0</td>\n      <td>0</td>\n    </tr>\n    <tr>\n      <th>1</th>\n      <td>89</td>\n      <td>EU</td>\n      <td>Albania</td>\n      <td>4.9</td>\n      <td>54</td>\n    </tr>\n    <tr>\n      <th>2</th>\n      <td>25</td>\n      <td>AF</td>\n      <td>Algeria</td>\n      <td>0.7</td>\n      <td>14</td>\n    </tr>\n    <tr>\n      <th>3</th>\n      <td>245</td>\n      <td>EU</td>\n      <td>Andorra</td>\n      <td>12.4</td>\n      <td>312</td>\n    </tr>\n    <tr>\n      <th>4</th>\n      <td>217</td>\n      <td>AF</td>\n      <td>Angola</td>\n      <td>5.9</td>\n      <td>45</td>\n    </tr>\n    <tr>\n      <th>...</th>\n      <td>...</td>\n      <td>...</td>\n      <td>...</td>\n      <td>...</td>\n      <td>...</td>\n    </tr>\n    <tr>\n      <th>187</th>\n      <td>333</td>\n      <td>SA</td>\n      <td>Venezuela</td>\n      <td>7.7</td>\n      <td>3</td>\n    </tr>\n    <tr>\n      <th>188</th>\n      <td>111</td>\n      <td>AS</td>\n      <td>Vietnam</td>\n      <td>2.0</td>\n      <td>1</td>\n    </tr>\n    <tr>\n      <th>189</th>\n      <td>6</td>\n      <td>AS</td>\n      <td>Yemen</td>\n      <td>0.1</td>\n      <td>0</td>\n    </tr>\n    <tr>\n      <th>190</th>\n      <td>32</td>\n      <td>AF</td>\n      <td>Zambia</td>\n      <td>2.5</td>\n      <td>19</td>\n    </tr>\n    <tr>\n      <th>191</th>\n      <td>64</td>\n      <td>AF</td>\n      <td>Zimbabwe</td>\n      <td>4.7</td>\n      <td>18</td>\n    </tr>\n  </tbody>\n</table>\n<p>192 rows × 5 columns</p>\n</div>"
     },
     "execution_count": 24,
     "metadata": {},
     "output_type": "execute_result"
    }
   ],
   "source": [
    "df.sort_index(axis=1)"
   ],
   "metadata": {
    "collapsed": false,
    "ExecuteTime": {
     "end_time": "2024-03-18T15:31:40.102225Z",
     "start_time": "2024-03-18T15:31:40.089360Z"
    }
   },
   "id": "d59398a95ddb2e03",
   "execution_count": 24
  },
  {
   "cell_type": "code",
   "outputs": [
    {
     "data": {
      "text/plain": "         country  beer_servings  wine_servings total_litres_of_pure_alcohol  \\\n0    Afghanistan              0              0                          0.0   \n1        Albania             89             54                          4.9   \n2        Algeria             25             14                          0.7   \n3        Andorra            245            312                         12.4   \n4         Angola            217             45                          5.9   \n..           ...            ...            ...                          ...   \n187    Venezuela            333              3                          7.7   \n188      Vietnam            111              1                          2.0   \n189        Yemen              6              0                          0.1   \n190       Zambia             32             19                          2.5   \n191     Zimbabwe             64             18                          4.7   \n\n    continent  \n0          AS  \n1          EU  \n2          AF  \n3          EU  \n4          AF  \n..        ...  \n187        SA  \n188        AS  \n189        AS  \n190        AF  \n191        AF  \n\n[192 rows x 5 columns]",
      "text/html": "<div>\n<style scoped>\n    .dataframe tbody tr th:only-of-type {\n        vertical-align: middle;\n    }\n\n    .dataframe tbody tr th {\n        vertical-align: top;\n    }\n\n    .dataframe thead th {\n        text-align: right;\n    }\n</style>\n<table border=\"1\" class=\"dataframe\">\n  <thead>\n    <tr style=\"text-align: right;\">\n      <th></th>\n      <th>country</th>\n      <th>beer_servings</th>\n      <th>wine_servings</th>\n      <th>total_litres_of_pure_alcohol</th>\n      <th>continent</th>\n    </tr>\n  </thead>\n  <tbody>\n    <tr>\n      <th>0</th>\n      <td>Afghanistan</td>\n      <td>0</td>\n      <td>0</td>\n      <td>0.0</td>\n      <td>AS</td>\n    </tr>\n    <tr>\n      <th>1</th>\n      <td>Albania</td>\n      <td>89</td>\n      <td>54</td>\n      <td>4.9</td>\n      <td>EU</td>\n    </tr>\n    <tr>\n      <th>2</th>\n      <td>Algeria</td>\n      <td>25</td>\n      <td>14</td>\n      <td>0.7</td>\n      <td>AF</td>\n    </tr>\n    <tr>\n      <th>3</th>\n      <td>Andorra</td>\n      <td>245</td>\n      <td>312</td>\n      <td>12.4</td>\n      <td>EU</td>\n    </tr>\n    <tr>\n      <th>4</th>\n      <td>Angola</td>\n      <td>217</td>\n      <td>45</td>\n      <td>5.9</td>\n      <td>AF</td>\n    </tr>\n    <tr>\n      <th>...</th>\n      <td>...</td>\n      <td>...</td>\n      <td>...</td>\n      <td>...</td>\n      <td>...</td>\n    </tr>\n    <tr>\n      <th>187</th>\n      <td>Venezuela</td>\n      <td>333</td>\n      <td>3</td>\n      <td>7.7</td>\n      <td>SA</td>\n    </tr>\n    <tr>\n      <th>188</th>\n      <td>Vietnam</td>\n      <td>111</td>\n      <td>1</td>\n      <td>2.0</td>\n      <td>AS</td>\n    </tr>\n    <tr>\n      <th>189</th>\n      <td>Yemen</td>\n      <td>6</td>\n      <td>0</td>\n      <td>0.1</td>\n      <td>AS</td>\n    </tr>\n    <tr>\n      <th>190</th>\n      <td>Zambia</td>\n      <td>32</td>\n      <td>19</td>\n      <td>2.5</td>\n      <td>AF</td>\n    </tr>\n    <tr>\n      <th>191</th>\n      <td>Zimbabwe</td>\n      <td>64</td>\n      <td>18</td>\n      <td>4.7</td>\n      <td>AF</td>\n    </tr>\n  </tbody>\n</table>\n<p>192 rows × 5 columns</p>\n</div>"
     },
     "execution_count": 25,
     "metadata": {},
     "output_type": "execute_result"
    }
   ],
   "source": [
    "df.sort_index()"
   ],
   "metadata": {
    "collapsed": false,
    "ExecuteTime": {
     "end_time": "2024-03-18T15:31:40.122074Z",
     "start_time": "2024-03-18T15:31:40.104476Z"
    }
   },
   "id": "cff5c6192528e807",
   "execution_count": 25
  },
  {
   "cell_type": "code",
   "outputs": [
    {
     "data": {
      "text/plain": "         country  beer_servings  wine_servings total_litres_of_pure_alcohol  \\\n0    Afghanistan              0              0                          0.0   \n1        Albania             89             54                          4.9   \n2        Algeria             25             14                          0.7   \n3        Andorra            245            312                         12.4   \n4         Angola            217             45                          5.9   \n..           ...            ...            ...                          ...   \n187    Venezuela            333              3                          7.7   \n188      Vietnam            111              1                          2.0   \n189        Yemen              6              0                          0.1   \n190       Zambia             32             19                          2.5   \n191     Zimbabwe             64             18                          4.7   \n\n    continent  \n0          AS  \n1          EU  \n2          AF  \n3          EU  \n4          AF  \n..        ...  \n187        SA  \n188        AS  \n189        AS  \n190        AF  \n191        AF  \n\n[192 rows x 5 columns]",
      "text/html": "<div>\n<style scoped>\n    .dataframe tbody tr th:only-of-type {\n        vertical-align: middle;\n    }\n\n    .dataframe tbody tr th {\n        vertical-align: top;\n    }\n\n    .dataframe thead th {\n        text-align: right;\n    }\n</style>\n<table border=\"1\" class=\"dataframe\">\n  <thead>\n    <tr style=\"text-align: right;\">\n      <th></th>\n      <th>country</th>\n      <th>beer_servings</th>\n      <th>wine_servings</th>\n      <th>total_litres_of_pure_alcohol</th>\n      <th>continent</th>\n    </tr>\n  </thead>\n  <tbody>\n    <tr>\n      <th>0</th>\n      <td>Afghanistan</td>\n      <td>0</td>\n      <td>0</td>\n      <td>0.0</td>\n      <td>AS</td>\n    </tr>\n    <tr>\n      <th>1</th>\n      <td>Albania</td>\n      <td>89</td>\n      <td>54</td>\n      <td>4.9</td>\n      <td>EU</td>\n    </tr>\n    <tr>\n      <th>2</th>\n      <td>Algeria</td>\n      <td>25</td>\n      <td>14</td>\n      <td>0.7</td>\n      <td>AF</td>\n    </tr>\n    <tr>\n      <th>3</th>\n      <td>Andorra</td>\n      <td>245</td>\n      <td>312</td>\n      <td>12.4</td>\n      <td>EU</td>\n    </tr>\n    <tr>\n      <th>4</th>\n      <td>Angola</td>\n      <td>217</td>\n      <td>45</td>\n      <td>5.9</td>\n      <td>AF</td>\n    </tr>\n    <tr>\n      <th>...</th>\n      <td>...</td>\n      <td>...</td>\n      <td>...</td>\n      <td>...</td>\n      <td>...</td>\n    </tr>\n    <tr>\n      <th>187</th>\n      <td>Venezuela</td>\n      <td>333</td>\n      <td>3</td>\n      <td>7.7</td>\n      <td>SA</td>\n    </tr>\n    <tr>\n      <th>188</th>\n      <td>Vietnam</td>\n      <td>111</td>\n      <td>1</td>\n      <td>2.0</td>\n      <td>AS</td>\n    </tr>\n    <tr>\n      <th>189</th>\n      <td>Yemen</td>\n      <td>6</td>\n      <td>0</td>\n      <td>0.1</td>\n      <td>AS</td>\n    </tr>\n    <tr>\n      <th>190</th>\n      <td>Zambia</td>\n      <td>32</td>\n      <td>19</td>\n      <td>2.5</td>\n      <td>AF</td>\n    </tr>\n    <tr>\n      <th>191</th>\n      <td>Zimbabwe</td>\n      <td>64</td>\n      <td>18</td>\n      <td>4.7</td>\n      <td>AF</td>\n    </tr>\n  </tbody>\n</table>\n<p>192 rows × 5 columns</p>\n</div>"
     },
     "execution_count": 26,
     "metadata": {},
     "output_type": "execute_result"
    }
   ],
   "source": [
    "df.sort_values(by=\"beer_servings\").sort_index()"
   ],
   "metadata": {
    "collapsed": false,
    "ExecuteTime": {
     "end_time": "2024-03-18T15:31:40.137168Z",
     "start_time": "2024-03-18T15:31:40.123782Z"
    }
   },
   "id": "da6b52a1454a5812",
   "execution_count": 26
  },
  {
   "cell_type": "code",
   "outputs": [
    {
     "data": {
      "text/plain": "         country  beer_servings  wine_servings total_litres_of_pure_alcohol  \\\n191     Zimbabwe             64             18                          4.7   \n190       Zambia             32             19                          2.5   \n189        Yemen              6              0                          0.1   \n188      Vietnam            111              1                          2.0   \n187    Venezuela            333              3                          7.7   \n..           ...            ...            ...                          ...   \n4         Angola            217             45                          5.9   \n3        Andorra            245            312                         12.4   \n2        Algeria             25             14                          0.7   \n1        Albania             89             54                          4.9   \n0    Afghanistan              0              0                          0.0   \n\n    continent  \n191        AF  \n190        AF  \n189        AS  \n188        AS  \n187        SA  \n..        ...  \n4          AF  \n3          EU  \n2          AF  \n1          EU  \n0          AS  \n\n[192 rows x 5 columns]",
      "text/html": "<div>\n<style scoped>\n    .dataframe tbody tr th:only-of-type {\n        vertical-align: middle;\n    }\n\n    .dataframe tbody tr th {\n        vertical-align: top;\n    }\n\n    .dataframe thead th {\n        text-align: right;\n    }\n</style>\n<table border=\"1\" class=\"dataframe\">\n  <thead>\n    <tr style=\"text-align: right;\">\n      <th></th>\n      <th>country</th>\n      <th>beer_servings</th>\n      <th>wine_servings</th>\n      <th>total_litres_of_pure_alcohol</th>\n      <th>continent</th>\n    </tr>\n  </thead>\n  <tbody>\n    <tr>\n      <th>191</th>\n      <td>Zimbabwe</td>\n      <td>64</td>\n      <td>18</td>\n      <td>4.7</td>\n      <td>AF</td>\n    </tr>\n    <tr>\n      <th>190</th>\n      <td>Zambia</td>\n      <td>32</td>\n      <td>19</td>\n      <td>2.5</td>\n      <td>AF</td>\n    </tr>\n    <tr>\n      <th>189</th>\n      <td>Yemen</td>\n      <td>6</td>\n      <td>0</td>\n      <td>0.1</td>\n      <td>AS</td>\n    </tr>\n    <tr>\n      <th>188</th>\n      <td>Vietnam</td>\n      <td>111</td>\n      <td>1</td>\n      <td>2.0</td>\n      <td>AS</td>\n    </tr>\n    <tr>\n      <th>187</th>\n      <td>Venezuela</td>\n      <td>333</td>\n      <td>3</td>\n      <td>7.7</td>\n      <td>SA</td>\n    </tr>\n    <tr>\n      <th>...</th>\n      <td>...</td>\n      <td>...</td>\n      <td>...</td>\n      <td>...</td>\n      <td>...</td>\n    </tr>\n    <tr>\n      <th>4</th>\n      <td>Angola</td>\n      <td>217</td>\n      <td>45</td>\n      <td>5.9</td>\n      <td>AF</td>\n    </tr>\n    <tr>\n      <th>3</th>\n      <td>Andorra</td>\n      <td>245</td>\n      <td>312</td>\n      <td>12.4</td>\n      <td>EU</td>\n    </tr>\n    <tr>\n      <th>2</th>\n      <td>Algeria</td>\n      <td>25</td>\n      <td>14</td>\n      <td>0.7</td>\n      <td>AF</td>\n    </tr>\n    <tr>\n      <th>1</th>\n      <td>Albania</td>\n      <td>89</td>\n      <td>54</td>\n      <td>4.9</td>\n      <td>EU</td>\n    </tr>\n    <tr>\n      <th>0</th>\n      <td>Afghanistan</td>\n      <td>0</td>\n      <td>0</td>\n      <td>0.0</td>\n      <td>AS</td>\n    </tr>\n  </tbody>\n</table>\n<p>192 rows × 5 columns</p>\n</div>"
     },
     "execution_count": 27,
     "metadata": {},
     "output_type": "execute_result"
    }
   ],
   "source": [
    "df.sort_index(axis=0, ascending=False)"
   ],
   "metadata": {
    "collapsed": false,
    "ExecuteTime": {
     "end_time": "2024-03-18T15:31:40.154494Z",
     "start_time": "2024-03-18T15:31:40.139607Z"
    }
   },
   "id": "c1b3a751f0839b2c",
   "execution_count": 27
  },
  {
   "cell_type": "code",
   "outputs": [
    {
     "data": {
      "text/plain": "            country  beer_servings  wine_servings  \\\n0       Afghanistan              0              0   \n158     South Sudan              0              0   \n156         Somalia              0              0   \n147    Saudi Arabia              0              0   \n145      San Marino              0              0   \n..              ...            ...            ...   \n133          Poland            343             56   \n63          Germany            346            175   \n60            Gabon            347             59   \n44   Czech Republic            361            134   \n115         Namibia            376              1   \n\n    total_litres_of_pure_alcohol continent  \n0                            0.0        AS  \n158                          2.2        AF  \n156                          0.0        AF  \n147                          0.1        AS  \n145                          0.0        EU  \n..                           ...       ...  \n133                         10.9        EU  \n63                          11.3        EU  \n60                           8.9        AF  \n44                          11.8        EU  \n115                          6.8        AF  \n\n[192 rows x 5 columns]",
      "text/html": "<div>\n<style scoped>\n    .dataframe tbody tr th:only-of-type {\n        vertical-align: middle;\n    }\n\n    .dataframe tbody tr th {\n        vertical-align: top;\n    }\n\n    .dataframe thead th {\n        text-align: right;\n    }\n</style>\n<table border=\"1\" class=\"dataframe\">\n  <thead>\n    <tr style=\"text-align: right;\">\n      <th></th>\n      <th>country</th>\n      <th>beer_servings</th>\n      <th>wine_servings</th>\n      <th>total_litres_of_pure_alcohol</th>\n      <th>continent</th>\n    </tr>\n  </thead>\n  <tbody>\n    <tr>\n      <th>0</th>\n      <td>Afghanistan</td>\n      <td>0</td>\n      <td>0</td>\n      <td>0.0</td>\n      <td>AS</td>\n    </tr>\n    <tr>\n      <th>158</th>\n      <td>South Sudan</td>\n      <td>0</td>\n      <td>0</td>\n      <td>2.2</td>\n      <td>AF</td>\n    </tr>\n    <tr>\n      <th>156</th>\n      <td>Somalia</td>\n      <td>0</td>\n      <td>0</td>\n      <td>0.0</td>\n      <td>AF</td>\n    </tr>\n    <tr>\n      <th>147</th>\n      <td>Saudi Arabia</td>\n      <td>0</td>\n      <td>0</td>\n      <td>0.1</td>\n      <td>AS</td>\n    </tr>\n    <tr>\n      <th>145</th>\n      <td>San Marino</td>\n      <td>0</td>\n      <td>0</td>\n      <td>0.0</td>\n      <td>EU</td>\n    </tr>\n    <tr>\n      <th>...</th>\n      <td>...</td>\n      <td>...</td>\n      <td>...</td>\n      <td>...</td>\n      <td>...</td>\n    </tr>\n    <tr>\n      <th>133</th>\n      <td>Poland</td>\n      <td>343</td>\n      <td>56</td>\n      <td>10.9</td>\n      <td>EU</td>\n    </tr>\n    <tr>\n      <th>63</th>\n      <td>Germany</td>\n      <td>346</td>\n      <td>175</td>\n      <td>11.3</td>\n      <td>EU</td>\n    </tr>\n    <tr>\n      <th>60</th>\n      <td>Gabon</td>\n      <td>347</td>\n      <td>59</td>\n      <td>8.9</td>\n      <td>AF</td>\n    </tr>\n    <tr>\n      <th>44</th>\n      <td>Czech Republic</td>\n      <td>361</td>\n      <td>134</td>\n      <td>11.8</td>\n      <td>EU</td>\n    </tr>\n    <tr>\n      <th>115</th>\n      <td>Namibia</td>\n      <td>376</td>\n      <td>1</td>\n      <td>6.8</td>\n      <td>AF</td>\n    </tr>\n  </tbody>\n</table>\n<p>192 rows × 5 columns</p>\n</div>"
     },
     "execution_count": 28,
     "metadata": {},
     "output_type": "execute_result"
    }
   ],
   "source": [
    "df.sort_values(by=\"beer_servings\")"
   ],
   "metadata": {
    "collapsed": false,
    "ExecuteTime": {
     "end_time": "2024-03-18T15:31:40.170011Z",
     "start_time": "2024-03-18T15:31:40.159538Z"
    }
   },
   "id": "8d78a9ddde4999e3",
   "execution_count": 28
  },
  {
   "cell_type": "code",
   "outputs": [
    {
     "data": {
      "text/plain": "country                         Costa Rica\nbeer_servings                          149\nwine_servings                           11\ntotal_litres_of_pure_alcohol           4.4\ncontinent                              NaN\nName: 40, dtype: object"
     },
     "execution_count": 29,
     "metadata": {},
     "output_type": "execute_result"
    }
   ],
   "source": [
    "df.loc[40]"
   ],
   "metadata": {
    "collapsed": false,
    "ExecuteTime": {
     "end_time": "2024-03-18T15:31:40.186931Z",
     "start_time": "2024-03-18T15:31:40.172211Z"
    }
   },
   "id": "c8cdc9e23a9d771d",
   "execution_count": 29
  },
  {
   "cell_type": "code",
   "outputs": [
    {
     "data": {
      "text/plain": "     index         country  beer_servings  wine_servings  \\\n0        0     Afghanistan              0              0   \n1      158     South Sudan              0              0   \n2      156         Somalia              0              0   \n3      147    Saudi Arabia              0              0   \n4      145      San Marino              0              0   \n..     ...             ...            ...            ...   \n187    133          Poland            343             56   \n188     63         Germany            346            175   \n189     60           Gabon            347             59   \n190     44  Czech Republic            361            134   \n191    115         Namibia            376              1   \n\n    total_litres_of_pure_alcohol continent  \n0                            0.0        AS  \n1                            2.2        AF  \n2                            0.0        AF  \n3                            0.1        AS  \n4                            0.0        EU  \n..                           ...       ...  \n187                         10.9        EU  \n188                         11.3        EU  \n189                          8.9        AF  \n190                         11.8        EU  \n191                          6.8        AF  \n\n[192 rows x 6 columns]",
      "text/html": "<div>\n<style scoped>\n    .dataframe tbody tr th:only-of-type {\n        vertical-align: middle;\n    }\n\n    .dataframe tbody tr th {\n        vertical-align: top;\n    }\n\n    .dataframe thead th {\n        text-align: right;\n    }\n</style>\n<table border=\"1\" class=\"dataframe\">\n  <thead>\n    <tr style=\"text-align: right;\">\n      <th></th>\n      <th>index</th>\n      <th>country</th>\n      <th>beer_servings</th>\n      <th>wine_servings</th>\n      <th>total_litres_of_pure_alcohol</th>\n      <th>continent</th>\n    </tr>\n  </thead>\n  <tbody>\n    <tr>\n      <th>0</th>\n      <td>0</td>\n      <td>Afghanistan</td>\n      <td>0</td>\n      <td>0</td>\n      <td>0.0</td>\n      <td>AS</td>\n    </tr>\n    <tr>\n      <th>1</th>\n      <td>158</td>\n      <td>South Sudan</td>\n      <td>0</td>\n      <td>0</td>\n      <td>2.2</td>\n      <td>AF</td>\n    </tr>\n    <tr>\n      <th>2</th>\n      <td>156</td>\n      <td>Somalia</td>\n      <td>0</td>\n      <td>0</td>\n      <td>0.0</td>\n      <td>AF</td>\n    </tr>\n    <tr>\n      <th>3</th>\n      <td>147</td>\n      <td>Saudi Arabia</td>\n      <td>0</td>\n      <td>0</td>\n      <td>0.1</td>\n      <td>AS</td>\n    </tr>\n    <tr>\n      <th>4</th>\n      <td>145</td>\n      <td>San Marino</td>\n      <td>0</td>\n      <td>0</td>\n      <td>0.0</td>\n      <td>EU</td>\n    </tr>\n    <tr>\n      <th>...</th>\n      <td>...</td>\n      <td>...</td>\n      <td>...</td>\n      <td>...</td>\n      <td>...</td>\n      <td>...</td>\n    </tr>\n    <tr>\n      <th>187</th>\n      <td>133</td>\n      <td>Poland</td>\n      <td>343</td>\n      <td>56</td>\n      <td>10.9</td>\n      <td>EU</td>\n    </tr>\n    <tr>\n      <th>188</th>\n      <td>63</td>\n      <td>Germany</td>\n      <td>346</td>\n      <td>175</td>\n      <td>11.3</td>\n      <td>EU</td>\n    </tr>\n    <tr>\n      <th>189</th>\n      <td>60</td>\n      <td>Gabon</td>\n      <td>347</td>\n      <td>59</td>\n      <td>8.9</td>\n      <td>AF</td>\n    </tr>\n    <tr>\n      <th>190</th>\n      <td>44</td>\n      <td>Czech Republic</td>\n      <td>361</td>\n      <td>134</td>\n      <td>11.8</td>\n      <td>EU</td>\n    </tr>\n    <tr>\n      <th>191</th>\n      <td>115</td>\n      <td>Namibia</td>\n      <td>376</td>\n      <td>1</td>\n      <td>6.8</td>\n      <td>AF</td>\n    </tr>\n  </tbody>\n</table>\n<p>192 rows × 6 columns</p>\n</div>"
     },
     "execution_count": 30,
     "metadata": {},
     "output_type": "execute_result"
    }
   ],
   "source": [
    "df.sort_values(by=\"beer_servings\").reset_index()"
   ],
   "metadata": {
    "collapsed": false,
    "ExecuteTime": {
     "end_time": "2024-03-18T15:31:40.202145Z",
     "start_time": "2024-03-18T15:31:40.189207Z"
    }
   },
   "id": "34174507d491d83f",
   "execution_count": 30
  },
  {
   "cell_type": "code",
   "outputs": [
    {
     "data": {
      "text/plain": "            country  beer_servings  wine_servings  \\\n0       Afghanistan              0              0   \n1       South Sudan              0              0   \n2           Somalia              0              0   \n3      Saudi Arabia              0              0   \n4        San Marino              0              0   \n..              ...            ...            ...   \n187          Poland            343             56   \n188         Germany            346            175   \n189           Gabon            347             59   \n190  Czech Republic            361            134   \n191         Namibia            376              1   \n\n    total_litres_of_pure_alcohol continent  \n0                            0.0        AS  \n1                            2.2        AF  \n2                            0.0        AF  \n3                            0.1        AS  \n4                            0.0        EU  \n..                           ...       ...  \n187                         10.9        EU  \n188                         11.3        EU  \n189                          8.9        AF  \n190                         11.8        EU  \n191                          6.8        AF  \n\n[192 rows x 5 columns]",
      "text/html": "<div>\n<style scoped>\n    .dataframe tbody tr th:only-of-type {\n        vertical-align: middle;\n    }\n\n    .dataframe tbody tr th {\n        vertical-align: top;\n    }\n\n    .dataframe thead th {\n        text-align: right;\n    }\n</style>\n<table border=\"1\" class=\"dataframe\">\n  <thead>\n    <tr style=\"text-align: right;\">\n      <th></th>\n      <th>country</th>\n      <th>beer_servings</th>\n      <th>wine_servings</th>\n      <th>total_litres_of_pure_alcohol</th>\n      <th>continent</th>\n    </tr>\n  </thead>\n  <tbody>\n    <tr>\n      <th>0</th>\n      <td>Afghanistan</td>\n      <td>0</td>\n      <td>0</td>\n      <td>0.0</td>\n      <td>AS</td>\n    </tr>\n    <tr>\n      <th>1</th>\n      <td>South Sudan</td>\n      <td>0</td>\n      <td>0</td>\n      <td>2.2</td>\n      <td>AF</td>\n    </tr>\n    <tr>\n      <th>2</th>\n      <td>Somalia</td>\n      <td>0</td>\n      <td>0</td>\n      <td>0.0</td>\n      <td>AF</td>\n    </tr>\n    <tr>\n      <th>3</th>\n      <td>Saudi Arabia</td>\n      <td>0</td>\n      <td>0</td>\n      <td>0.1</td>\n      <td>AS</td>\n    </tr>\n    <tr>\n      <th>4</th>\n      <td>San Marino</td>\n      <td>0</td>\n      <td>0</td>\n      <td>0.0</td>\n      <td>EU</td>\n    </tr>\n    <tr>\n      <th>...</th>\n      <td>...</td>\n      <td>...</td>\n      <td>...</td>\n      <td>...</td>\n      <td>...</td>\n    </tr>\n    <tr>\n      <th>187</th>\n      <td>Poland</td>\n      <td>343</td>\n      <td>56</td>\n      <td>10.9</td>\n      <td>EU</td>\n    </tr>\n    <tr>\n      <th>188</th>\n      <td>Germany</td>\n      <td>346</td>\n      <td>175</td>\n      <td>11.3</td>\n      <td>EU</td>\n    </tr>\n    <tr>\n      <th>189</th>\n      <td>Gabon</td>\n      <td>347</td>\n      <td>59</td>\n      <td>8.9</td>\n      <td>AF</td>\n    </tr>\n    <tr>\n      <th>190</th>\n      <td>Czech Republic</td>\n      <td>361</td>\n      <td>134</td>\n      <td>11.8</td>\n      <td>EU</td>\n    </tr>\n    <tr>\n      <th>191</th>\n      <td>Namibia</td>\n      <td>376</td>\n      <td>1</td>\n      <td>6.8</td>\n      <td>AF</td>\n    </tr>\n  </tbody>\n</table>\n<p>192 rows × 5 columns</p>\n</div>"
     },
     "execution_count": 31,
     "metadata": {},
     "output_type": "execute_result"
    }
   ],
   "source": [
    "df.sort_values(by=\"beer_servings\").reset_index(drop=True)"
   ],
   "metadata": {
    "collapsed": false,
    "ExecuteTime": {
     "end_time": "2024-03-18T15:31:40.222414Z",
     "start_time": "2024-03-18T15:31:40.203448Z"
    }
   },
   "id": "3f4888835739fb98",
   "execution_count": 31
  },
  {
   "cell_type": "markdown",
   "source": [
    "## Sample\n",
    "\n",
    "Crie uma amostra das linhas do dataframe."
   ],
   "metadata": {
    "collapsed": false
   },
   "id": "21e04a91006befed"
  },
  {
   "cell_type": "code",
   "outputs": [
    {
     "data": {
      "text/plain": "       country  beer_servings  wine_servings total_litres_of_pure_alcohol  \\\n107     Mexico            238              5                          5.5   \n190     Zambia             32             19                          2.5   \n135      Qatar              1              7                          0.9   \n23      Brazil            245             16                          7.2   \n96   Lithuania            343             56                         12.9   \n\n    continent  \n107       NaN  \n190        AF  \n135        AS  \n23         SA  \n96         EU  ",
      "text/html": "<div>\n<style scoped>\n    .dataframe tbody tr th:only-of-type {\n        vertical-align: middle;\n    }\n\n    .dataframe tbody tr th {\n        vertical-align: top;\n    }\n\n    .dataframe thead th {\n        text-align: right;\n    }\n</style>\n<table border=\"1\" class=\"dataframe\">\n  <thead>\n    <tr style=\"text-align: right;\">\n      <th></th>\n      <th>country</th>\n      <th>beer_servings</th>\n      <th>wine_servings</th>\n      <th>total_litres_of_pure_alcohol</th>\n      <th>continent</th>\n    </tr>\n  </thead>\n  <tbody>\n    <tr>\n      <th>107</th>\n      <td>Mexico</td>\n      <td>238</td>\n      <td>5</td>\n      <td>5.5</td>\n      <td>NaN</td>\n    </tr>\n    <tr>\n      <th>190</th>\n      <td>Zambia</td>\n      <td>32</td>\n      <td>19</td>\n      <td>2.5</td>\n      <td>AF</td>\n    </tr>\n    <tr>\n      <th>135</th>\n      <td>Qatar</td>\n      <td>1</td>\n      <td>7</td>\n      <td>0.9</td>\n      <td>AS</td>\n    </tr>\n    <tr>\n      <th>23</th>\n      <td>Brazil</td>\n      <td>245</td>\n      <td>16</td>\n      <td>7.2</td>\n      <td>SA</td>\n    </tr>\n    <tr>\n      <th>96</th>\n      <td>Lithuania</td>\n      <td>343</td>\n      <td>56</td>\n      <td>12.9</td>\n      <td>EU</td>\n    </tr>\n  </tbody>\n</table>\n</div>"
     },
     "execution_count": 32,
     "metadata": {},
     "output_type": "execute_result"
    }
   ],
   "source": [
    "df.sample(n=5)"
   ],
   "metadata": {
    "collapsed": false,
    "ExecuteTime": {
     "end_time": "2024-03-18T15:31:40.234802Z",
     "start_time": "2024-03-18T15:31:40.223508Z"
    }
   },
   "id": "cecb16767c013f4a",
   "execution_count": 32
  },
  {
   "cell_type": "markdown",
   "source": [
    "Note que, cada vez que a função é chamada, sempre serão linhas **diferentes.**"
   ],
   "metadata": {
    "collapsed": false
   },
   "id": "f5e0fc1bcdc8a2c1"
  },
  {
   "cell_type": "code",
   "outputs": [
    {
     "data": {
      "text/plain": "           country  beer_servings  wine_servings total_litres_of_pure_alcohol  \\\n11         Bahamas            122             51                          6.3   \n28   Cote d'Ivoire             37              7                          4.0   \n3          Andorra            245            312                         12.4   \n140         Rwanda             43              0                          6.8   \n38         Comoros              1              4                          0.1   \n\n    continent  \n11        NaN  \n28         AF  \n3          EU  \n140        AF  \n38         AF  ",
      "text/html": "<div>\n<style scoped>\n    .dataframe tbody tr th:only-of-type {\n        vertical-align: middle;\n    }\n\n    .dataframe tbody tr th {\n        vertical-align: top;\n    }\n\n    .dataframe thead th {\n        text-align: right;\n    }\n</style>\n<table border=\"1\" class=\"dataframe\">\n  <thead>\n    <tr style=\"text-align: right;\">\n      <th></th>\n      <th>country</th>\n      <th>beer_servings</th>\n      <th>wine_servings</th>\n      <th>total_litres_of_pure_alcohol</th>\n      <th>continent</th>\n    </tr>\n  </thead>\n  <tbody>\n    <tr>\n      <th>11</th>\n      <td>Bahamas</td>\n      <td>122</td>\n      <td>51</td>\n      <td>6.3</td>\n      <td>NaN</td>\n    </tr>\n    <tr>\n      <th>28</th>\n      <td>Cote d'Ivoire</td>\n      <td>37</td>\n      <td>7</td>\n      <td>4.0</td>\n      <td>AF</td>\n    </tr>\n    <tr>\n      <th>3</th>\n      <td>Andorra</td>\n      <td>245</td>\n      <td>312</td>\n      <td>12.4</td>\n      <td>EU</td>\n    </tr>\n    <tr>\n      <th>140</th>\n      <td>Rwanda</td>\n      <td>43</td>\n      <td>0</td>\n      <td>6.8</td>\n      <td>AF</td>\n    </tr>\n    <tr>\n      <th>38</th>\n      <td>Comoros</td>\n      <td>1</td>\n      <td>4</td>\n      <td>0.1</td>\n      <td>AF</td>\n    </tr>\n  </tbody>\n</table>\n</div>"
     },
     "execution_count": 33,
     "metadata": {},
     "output_type": "execute_result"
    }
   ],
   "source": [
    "df.sample(n=5, random_state=61658)"
   ],
   "metadata": {
    "collapsed": false,
    "ExecuteTime": {
     "end_time": "2024-03-18T15:31:40.249183Z",
     "start_time": "2024-03-18T15:31:40.236260Z"
    }
   },
   "id": "79acc418cac77de6",
   "execution_count": 33
  },
  {
   "cell_type": "code",
   "outputs": [
    {
     "data": {
      "text/plain": "                          country  beer_servings  wine_servings  \\\n45                       DR Congo             32              1   \n136                   South Korea            140             16   \n76                      Indonesia              5              0   \n143  St. Vincent & the Grenadines            120             11   \n113                    Mozambique             47              5   \n177                        Tuvalu              6              9   \n15                        Belarus            142             42   \n18                          Benin             34             13   \n16                        Belgium            295            212   \n9                         Austria            279            191   \n78                           Iraq              9              0   \n112                       Morocco             12             10   \n66                        Grenada            199             84   \n65                         Greece            133            218   \n153                      Slovakia            196            116   \n30                       Cambodia             57              1   \n145                    San Marino              0              0   \n69                  Guinea-Bissau             28             21   \n111                    Montenegro             31            128   \n\n    total_litres_of_pure_alcohol continent  \n45                           2.3        AF  \n136                          9.8        AS  \n76                           0.1        AS  \n143                          6.3       NaN  \n113                          1.3        AF  \n177                          1.0        OC  \n15                          14.4        EU  \n18                           1.1        AF  \n16                          10.5        EU  \n9                            9.7        EU  \n78                           0.2        AS  \n112                          0.5        AF  \n66                          11.9       NaN  \n65                           8.3        EU  \n153                         11.4        EU  \n30                           2.2        AS  \n145                          0.0        EU  \n69                           2.5        AF  \n111                          4.9        EU  ",
      "text/html": "<div>\n<style scoped>\n    .dataframe tbody tr th:only-of-type {\n        vertical-align: middle;\n    }\n\n    .dataframe tbody tr th {\n        vertical-align: top;\n    }\n\n    .dataframe thead th {\n        text-align: right;\n    }\n</style>\n<table border=\"1\" class=\"dataframe\">\n  <thead>\n    <tr style=\"text-align: right;\">\n      <th></th>\n      <th>country</th>\n      <th>beer_servings</th>\n      <th>wine_servings</th>\n      <th>total_litres_of_pure_alcohol</th>\n      <th>continent</th>\n    </tr>\n  </thead>\n  <tbody>\n    <tr>\n      <th>45</th>\n      <td>DR Congo</td>\n      <td>32</td>\n      <td>1</td>\n      <td>2.3</td>\n      <td>AF</td>\n    </tr>\n    <tr>\n      <th>136</th>\n      <td>South Korea</td>\n      <td>140</td>\n      <td>16</td>\n      <td>9.8</td>\n      <td>AS</td>\n    </tr>\n    <tr>\n      <th>76</th>\n      <td>Indonesia</td>\n      <td>5</td>\n      <td>0</td>\n      <td>0.1</td>\n      <td>AS</td>\n    </tr>\n    <tr>\n      <th>143</th>\n      <td>St. Vincent &amp; the Grenadines</td>\n      <td>120</td>\n      <td>11</td>\n      <td>6.3</td>\n      <td>NaN</td>\n    </tr>\n    <tr>\n      <th>113</th>\n      <td>Mozambique</td>\n      <td>47</td>\n      <td>5</td>\n      <td>1.3</td>\n      <td>AF</td>\n    </tr>\n    <tr>\n      <th>177</th>\n      <td>Tuvalu</td>\n      <td>6</td>\n      <td>9</td>\n      <td>1.0</td>\n      <td>OC</td>\n    </tr>\n    <tr>\n      <th>15</th>\n      <td>Belarus</td>\n      <td>142</td>\n      <td>42</td>\n      <td>14.4</td>\n      <td>EU</td>\n    </tr>\n    <tr>\n      <th>18</th>\n      <td>Benin</td>\n      <td>34</td>\n      <td>13</td>\n      <td>1.1</td>\n      <td>AF</td>\n    </tr>\n    <tr>\n      <th>16</th>\n      <td>Belgium</td>\n      <td>295</td>\n      <td>212</td>\n      <td>10.5</td>\n      <td>EU</td>\n    </tr>\n    <tr>\n      <th>9</th>\n      <td>Austria</td>\n      <td>279</td>\n      <td>191</td>\n      <td>9.7</td>\n      <td>EU</td>\n    </tr>\n    <tr>\n      <th>78</th>\n      <td>Iraq</td>\n      <td>9</td>\n      <td>0</td>\n      <td>0.2</td>\n      <td>AS</td>\n    </tr>\n    <tr>\n      <th>112</th>\n      <td>Morocco</td>\n      <td>12</td>\n      <td>10</td>\n      <td>0.5</td>\n      <td>AF</td>\n    </tr>\n    <tr>\n      <th>66</th>\n      <td>Grenada</td>\n      <td>199</td>\n      <td>84</td>\n      <td>11.9</td>\n      <td>NaN</td>\n    </tr>\n    <tr>\n      <th>65</th>\n      <td>Greece</td>\n      <td>133</td>\n      <td>218</td>\n      <td>8.3</td>\n      <td>EU</td>\n    </tr>\n    <tr>\n      <th>153</th>\n      <td>Slovakia</td>\n      <td>196</td>\n      <td>116</td>\n      <td>11.4</td>\n      <td>EU</td>\n    </tr>\n    <tr>\n      <th>30</th>\n      <td>Cambodia</td>\n      <td>57</td>\n      <td>1</td>\n      <td>2.2</td>\n      <td>AS</td>\n    </tr>\n    <tr>\n      <th>145</th>\n      <td>San Marino</td>\n      <td>0</td>\n      <td>0</td>\n      <td>0.0</td>\n      <td>EU</td>\n    </tr>\n    <tr>\n      <th>69</th>\n      <td>Guinea-Bissau</td>\n      <td>28</td>\n      <td>21</td>\n      <td>2.5</td>\n      <td>AF</td>\n    </tr>\n    <tr>\n      <th>111</th>\n      <td>Montenegro</td>\n      <td>31</td>\n      <td>128</td>\n      <td>4.9</td>\n      <td>EU</td>\n    </tr>\n  </tbody>\n</table>\n</div>"
     },
     "execution_count": 34,
     "metadata": {},
     "output_type": "execute_result"
    }
   ],
   "source": [
    "df.sample(frac=0.1, random_state=42)"
   ],
   "metadata": {
    "collapsed": false,
    "ExecuteTime": {
     "end_time": "2024-03-18T15:31:40.269435Z",
     "start_time": "2024-03-18T15:31:40.251398Z"
    }
   },
   "id": "a8b0047b405daa93",
   "execution_count": 34
  }
 ],
 "metadata": {
  "kernelspec": {
   "display_name": "Python 3",
   "language": "python",
   "name": "python3"
  },
  "language_info": {
   "codemirror_mode": {
    "name": "ipython",
    "version": 2
   },
   "file_extension": ".py",
   "mimetype": "text/x-python",
   "name": "python",
   "nbconvert_exporter": "python",
   "pygments_lexer": "ipython2",
   "version": "2.7.6"
  }
 },
 "nbformat": 4,
 "nbformat_minor": 5
}

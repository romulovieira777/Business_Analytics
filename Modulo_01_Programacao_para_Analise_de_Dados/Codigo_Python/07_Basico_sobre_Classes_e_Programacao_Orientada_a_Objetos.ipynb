{
 "cells": [
  {
   "cell_type": "markdown",
   "source": [
    "# Classes and Objects\n",
    "\n",
    "Para criar uma classe, é necessário usar a palavra ``class``. É possível criar métodos e variáveis nas classes. Para acessar as variáveis ou métodos da classe de dentro de um outro método da própria classe, basta usar a palavra ``self``. Sempre ao criar um método é necessário declarar o primeiro parâmetro como ``self``.\n",
    "\n",
    "Uso:\n",
    "\n",
    "```python\n",
    "class NomeClasse:\n",
    "    var = \"\"\n",
    "    \n",
    "    def __init__(self, param1):\n",
    "        #faz alguma coisa\n",
    "\n",
    "    def metodo1(self, param1):\n",
    "        # faz alguma coisa\n",
    "```\n",
    "\n",
    "Um exemplo de criação de uma classe em Python:"
   ],
   "metadata": {
    "collapsed": false
   },
   "id": "fc8084a6d594c830"
  },
  {
   "cell_type": "code",
   "outputs": [],
   "source": [
    "class Person:\n",
    "    departament = \"School of Information\" # uma variável da classe\n",
    "\n",
    "    def __init__(self, name=None):  # cria o método contrutor (este método é executado quando a classe é instanciada)\n",
    "        if name:\n",
    "            self.set_name = (name)\n",
    "\n",
    "    def set_name(self, new_name):   # cria um método da classe\n",
    "        self.name = new_name\n",
    "\n",
    "    def set_location(self, new_location):\n",
    "        self.location = new_location"
   ],
   "metadata": {
    "collapsed": false,
    "ExecuteTime": {
     "end_time": "2024-03-12T14:16:04.607633Z",
     "start_time": "2024-03-12T14:16:04.602391Z"
    }
   },
   "id": "8d7d93878297e522",
   "execution_count": 1
  },
  {
   "cell_type": "code",
   "outputs": [
    {
     "name": "stdout",
     "output_type": "stream",
     "text": [
      "Christopher Brooks live in Ann Arbor, MI, USA and works in the department School of Information\n",
      "Christopher Brooks live in Ann Arbor, MI, USA and works in the department School of Information\n"
     ]
    }
   ],
   "source": [
    "person = Person()   # criando o objeto (chamando o método construtor)\n",
    "person.set_name(\"Christopher Brooks\")  # chamando o método set_name\n",
    "person.set_location(\"Ann Arbor, MI, USA\")  # chamando o método set_location\n",
    "\n",
    "print(\"{} live in {} and works in the department {}\".format(person.name, person.location, person.departament))\n",
    "\n",
    "print(f\"{person.name} live in {person.location} and works in the department {person.departament}\")"
   ],
   "metadata": {
    "collapsed": false,
    "ExecuteTime": {
     "end_time": "2024-03-12T14:16:04.711705Z",
     "start_time": "2024-03-12T14:16:04.610085Z"
    }
   },
   "id": "93487686a88fd269",
   "execution_count": 2
  },
  {
   "cell_type": "markdown",
   "source": [
    "# Métodos\n",
    "\n",
    "Métodos são funções que pertecem a um objeto, por exemplo uma variável do tipo string ou list.\n",
    "\n",
    "Um exemplo é o método ``.append()``. Este método dos objetos do tipo lista é uma função que pode ser chamada de qualquer lista.\n",
    "\n",
    "\n",
    "## Métodos de String"
   ],
   "metadata": {
    "collapsed": false
   },
   "id": "f977791984a5520"
  },
  {
   "cell_type": "code",
   "outputs": [
    {
     "name": "stdout",
     "output_type": "stream",
     "text": [
      "ESTA É MINHA STRING\n",
      "esta é minha string\n",
      "2\n",
      "['Esta', 'é', 'minha', 'string']\n"
     ]
    }
   ],
   "source": [
    "minha_str = \"Esta é minha string\"\n",
    "\n",
    "print(minha_str.upper())  # transforma a string em maiúscula\n",
    "print(minha_str.lower())  # transforma a string em minúscula\n",
    "print(minha_str.count(\"a\"))  # conta quantas vezes a letra 'a' aparece na string\n",
    "print(minha_str.split())  # divide a string em uma lista de palavras"
   ],
   "metadata": {
    "collapsed": false,
    "ExecuteTime": {
     "end_time": "2024-03-12T14:16:04.724689Z",
     "start_time": "2024-03-12T14:16:04.715194Z"
    }
   },
   "id": "4609c43dbee8d7d2",
   "execution_count": 3
  }
 ],
 "metadata": {
  "kernelspec": {
   "display_name": "Python 3",
   "language": "python",
   "name": "python3"
  },
  "language_info": {
   "codemirror_mode": {
    "name": "ipython",
    "version": 2
   },
   "file_extension": ".py",
   "mimetype": "text/x-python",
   "name": "python",
   "nbconvert_exporter": "python",
   "pygments_lexer": "ipython2",
   "version": "2.7.6"
  }
 },
 "nbformat": 4,
 "nbformat_minor": 5
}

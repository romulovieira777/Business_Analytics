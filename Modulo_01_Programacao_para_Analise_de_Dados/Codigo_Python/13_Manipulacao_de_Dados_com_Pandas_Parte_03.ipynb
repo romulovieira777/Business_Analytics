{
 "cells": [
  {
   "cell_type": "markdown",
   "source": [
    "# Group By\n",
    "\n",
    "O método groupby é o primeiro passo para fazer algum tipo de agregação de dados."
   ],
   "metadata": {
    "collapsed": false
   },
   "id": "c74578a7305e19c7"
  },
  {
   "cell_type": "code",
   "outputs": [],
   "source": [],
   "metadata": {
    "collapsed": false
   },
   "id": "d20ebf107097a238"
  }
 ],
 "metadata": {
  "kernelspec": {
   "display_name": "Python 3",
   "language": "python",
   "name": "python3"
  },
  "language_info": {
   "codemirror_mode": {
    "name": "ipython",
    "version": 2
   },
   "file_extension": ".py",
   "mimetype": "text/x-python",
   "name": "python",
   "nbconvert_exporter": "python",
   "pygments_lexer": "ipython2",
   "version": "2.7.6"
  }
 },
 "nbformat": 4,
 "nbformat_minor": 5
}

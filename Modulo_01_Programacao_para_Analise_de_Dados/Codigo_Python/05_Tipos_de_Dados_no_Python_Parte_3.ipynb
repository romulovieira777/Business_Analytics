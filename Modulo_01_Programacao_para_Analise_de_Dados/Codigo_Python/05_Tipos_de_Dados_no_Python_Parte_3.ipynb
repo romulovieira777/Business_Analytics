{
 "cells": [
  {
   "cell_type": "markdown",
   "source": [
    "# Boolean\n",
    "\n",
    "Em programação muitas vezes precisamos saber se um valor é verdadeiro ou falso.\n",
    "\n",
    "Ao avaliarmos uma expressão em Python podemos receber uma de duas respostas: `True` ou `False`.\n",
    "\n",
    "Ao comparar dois valores a expressão é avaliada pelo Python e retorna uma resposta Boolean:"
   ],
   "metadata": {
    "collapsed": false
   },
   "id": "d52eca0b17021ae2"
  },
  {
   "cell_type": "code",
   "outputs": [
    {
     "name": "stdout",
     "output_type": "stream",
     "text": [
      "True\n",
      "False\n"
     ]
    }
   ],
   "source": [
    "print(True)\n",
    "print(False)\n",
    "a = True"
   ],
   "metadata": {
    "collapsed": false,
    "ExecuteTime": {
     "end_time": "2024-03-11T18:05:03.700374Z",
     "start_time": "2024-03-11T18:05:03.692929Z"
    }
   },
   "id": "1c5c89443185d13f",
   "execution_count": 1
  },
  {
   "cell_type": "code",
   "outputs": [
    {
     "name": "stdout",
     "output_type": "stream",
     "text": [
      "True\n"
     ]
    }
   ],
   "source": [
    "print(a)"
   ],
   "metadata": {
    "collapsed": false,
    "ExecuteTime": {
     "end_time": "2024-03-11T18:05:03.707300Z",
     "start_time": "2024-03-11T18:05:03.702176Z"
    }
   },
   "id": "113abdfd81197fce",
   "execution_count": 2
  },
  {
   "cell_type": "code",
   "outputs": [
    {
     "name": "stdout",
     "output_type": "stream",
     "text": [
      "5 é menor que 7\n"
     ]
    }
   ],
   "source": [
    "if 5 < 7:\n",
    "    print(\"5 é menor que 7\")"
   ],
   "metadata": {
    "collapsed": false,
    "ExecuteTime": {
     "end_time": "2024-03-11T18:05:03.715022Z",
     "start_time": "2024-03-11T18:05:03.709621Z"
    }
   },
   "id": "fca7e67eee52dd15",
   "execution_count": 3
  },
  {
   "cell_type": "code",
   "outputs": [
    {
     "name": "stdout",
     "output_type": "stream",
     "text": [
      "True\n"
     ]
    }
   ],
   "source": [
    "print(5 < 7)"
   ],
   "metadata": {
    "collapsed": false,
    "ExecuteTime": {
     "end_time": "2024-03-11T18:05:03.729786Z",
     "start_time": "2024-03-11T18:05:03.725650Z"
    }
   },
   "id": "a59dbef2b31805cc",
   "execution_count": 4
  },
  {
   "cell_type": "code",
   "outputs": [
    {
     "data": {
      "text/plain": "bool"
     },
     "execution_count": 5,
     "metadata": {},
     "output_type": "execute_result"
    }
   ],
   "source": [
    "type(5 < 7)"
   ],
   "metadata": {
    "collapsed": false,
    "ExecuteTime": {
     "end_time": "2024-03-11T18:05:03.755243Z",
     "start_time": "2024-03-11T18:05:03.748327Z"
    }
   },
   "id": "ac83d48c548b0859",
   "execution_count": 5
  },
  {
   "cell_type": "code",
   "outputs": [],
   "source": [
    "cond = 5 < 7"
   ],
   "metadata": {
    "collapsed": false,
    "ExecuteTime": {
     "end_time": "2024-03-11T18:05:03.844338Z",
     "start_time": "2024-03-11T18:05:03.839850Z"
    }
   },
   "id": "f71da063873d0d0",
   "execution_count": 6
  },
  {
   "cell_type": "code",
   "outputs": [
    {
     "name": "stdout",
     "output_type": "stream",
     "text": [
      "5 é menor que 7\n"
     ]
    }
   ],
   "source": [
    "if cond:\n",
    "    print(\"5 é menor que 7\")"
   ],
   "metadata": {
    "collapsed": false,
    "ExecuteTime": {
     "end_time": "2024-03-11T18:05:03.887292Z",
     "start_time": "2024-03-11T18:05:03.882648Z"
    }
   },
   "id": "8b9ad58fe6851028",
   "execution_count": 7
  },
  {
   "cell_type": "markdown",
   "source": [
    "# Operadores\n",
    "\n",
    "Operadores são usados para realizar operações entre variáveis e valores. Em Python os operadores são divididos da seguinte maneira:\n",
    "\n",
    "   - Operadores Aritméticos\n",
    "   - Operadores de Atribuição\n",
    "   - Operadores de Comparação\n",
    "   - Operadores Lógicos\n",
    "   - Operadores de Identidade\n",
    "   - Operadores de 'Pertencimento'\n",
    "   - Operadores Bit\n",
    "\n",
    "## Operadores Aritméticos\n",
    "\n",
    "Operadores aritméticos são usados com valores numéricos para realizar operações matemáticas comuns:\n",
    "\n",
    "   - Adição: `+`\n",
    "   - Subtração: `-`\n",
    "   - Multiplicação: `*`\n",
    "   - Divisão: `/`\n",
    "   - Módulo (resto da divisão inteira): `%`\n",
    "   - Exponenciação: `**`\n",
    "   - Divisão inteira: `//`"
   ],
   "metadata": {
    "collapsed": false
   },
   "id": "30f76720645f362d"
  },
  {
   "cell_type": "code",
   "outputs": [
    {
     "data": {
      "text/plain": "15"
     },
     "execution_count": 8,
     "metadata": {},
     "output_type": "execute_result"
    }
   ],
   "source": [
    "x = 10\n",
    "y = 5\n",
    "\n",
    "x + y"
   ],
   "metadata": {
    "collapsed": false,
    "ExecuteTime": {
     "end_time": "2024-03-11T18:05:03.934827Z",
     "start_time": "2024-03-11T18:05:03.927774Z"
    }
   },
   "id": "68fea8c5a08abdd4",
   "execution_count": 8
  },
  {
   "cell_type": "code",
   "outputs": [
    {
     "data": {
      "text/plain": "15"
     },
     "execution_count": 9,
     "metadata": {},
     "output_type": "execute_result"
    }
   ],
   "source": [
    "10 + 5"
   ],
   "metadata": {
    "collapsed": false,
    "ExecuteTime": {
     "end_time": "2024-03-11T18:05:03.968163Z",
     "start_time": "2024-03-11T18:05:03.962740Z"
    }
   },
   "id": "3b102f6c3a0d1f0e",
   "execution_count": 9
  },
  {
   "cell_type": "code",
   "outputs": [
    {
     "data": {
      "text/plain": "15"
     },
     "execution_count": 10,
     "metadata": {},
     "output_type": "execute_result"
    }
   ],
   "source": [
    "# x += 5\n",
    "x = x + 5\n",
    "x"
   ],
   "metadata": {
    "collapsed": false,
    "ExecuteTime": {
     "end_time": "2024-03-11T18:05:04.051033Z",
     "start_time": "2024-03-11T18:05:04.045683Z"
    }
   },
   "id": "53b91cf21cbb4364",
   "execution_count": 10
  },
  {
   "cell_type": "code",
   "outputs": [
    {
     "data": {
      "text/plain": "6.5"
     },
     "execution_count": 11,
     "metadata": {},
     "output_type": "execute_result"
    }
   ],
   "source": [
    "13 / 2"
   ],
   "metadata": {
    "collapsed": false,
    "ExecuteTime": {
     "end_time": "2024-03-11T18:05:04.158486Z",
     "start_time": "2024-03-11T18:05:04.152178Z"
    }
   },
   "id": "fdd18fc79f7128b",
   "execution_count": 11
  },
  {
   "cell_type": "code",
   "outputs": [
    {
     "data": {
      "text/plain": "6"
     },
     "execution_count": 12,
     "metadata": {},
     "output_type": "execute_result"
    }
   ],
   "source": [
    "13 // 2"
   ],
   "metadata": {
    "collapsed": false,
    "ExecuteTime": {
     "end_time": "2024-03-11T18:05:04.228481Z",
     "start_time": "2024-03-11T18:05:04.221568Z"
    }
   },
   "id": "6aeede671ea79d9f",
   "execution_count": 12
  },
  {
   "cell_type": "code",
   "outputs": [
    {
     "data": {
      "text/plain": "1"
     },
     "execution_count": 13,
     "metadata": {},
     "output_type": "execute_result"
    }
   ],
   "source": [
    "13 % 2"
   ],
   "metadata": {
    "collapsed": false,
    "ExecuteTime": {
     "end_time": "2024-03-11T18:05:04.267288Z",
     "start_time": "2024-03-11T18:05:04.261986Z"
    }
   },
   "id": "ab923d83733a9e8b",
   "execution_count": 13
  },
  {
   "cell_type": "code",
   "outputs": [
    {
     "data": {
      "text/plain": "12"
     },
     "execution_count": 14,
     "metadata": {},
     "output_type": "execute_result"
    }
   ],
   "source": [
    "25 // 2"
   ],
   "metadata": {
    "collapsed": false,
    "ExecuteTime": {
     "end_time": "2024-03-11T18:05:04.329586Z",
     "start_time": "2024-03-11T18:05:04.323346Z"
    }
   },
   "id": "24e7dd6104117da0",
   "execution_count": 14
  },
  {
   "cell_type": "code",
   "outputs": [
    {
     "data": {
      "text/plain": "7.0"
     },
     "execution_count": 15,
     "metadata": {},
     "output_type": "execute_result"
    }
   ],
   "source": [
    "14 / 2"
   ],
   "metadata": {
    "collapsed": false,
    "ExecuteTime": {
     "end_time": "2024-03-11T18:05:04.352315Z",
     "start_time": "2024-03-11T18:05:04.346920Z"
    }
   },
   "id": "8e2e9c9b82bdeee6",
   "execution_count": 15
  },
  {
   "cell_type": "code",
   "outputs": [
    {
     "data": {
      "text/plain": "7"
     },
     "execution_count": 16,
     "metadata": {},
     "output_type": "execute_result"
    }
   ],
   "source": [
    "14 // 2"
   ],
   "metadata": {
    "collapsed": false,
    "ExecuteTime": {
     "end_time": "2024-03-11T18:05:04.448784Z",
     "start_time": "2024-03-11T18:05:04.443501Z"
    }
   },
   "id": "d6ac6ac19bec9c1b",
   "execution_count": 16
  },
  {
   "cell_type": "code",
   "outputs": [
    {
     "name": "stdout",
     "output_type": "stream",
     "text": [
      "Hello World\n"
     ]
    }
   ],
   "source": [
    "#hello = \"Hello \" + \"World\"\n",
    "hello = \"Hello \" + \\\n",
    "    \"World\"\n",
    "print(hello)"
   ],
   "metadata": {
    "collapsed": false,
    "ExecuteTime": {
     "end_time": "2024-03-11T18:05:04.500516Z",
     "start_time": "2024-03-11T18:05:04.495601Z"
    }
   },
   "id": "60235dfe8d33e7e7",
   "execution_count": 17
  },
  {
   "cell_type": "code",
   "outputs": [
    {
     "data": {
      "text/plain": "25"
     },
     "execution_count": 18,
     "metadata": {},
     "output_type": "execute_result"
    }
   ],
   "source": [
    "5 ** 2"
   ],
   "metadata": {
    "collapsed": false,
    "ExecuteTime": {
     "end_time": "2024-03-11T18:05:04.575285Z",
     "start_time": "2024-03-11T18:05:04.568630Z"
    }
   },
   "id": "d6f46e783305fdf6",
   "execution_count": 18
  },
  {
   "cell_type": "code",
   "outputs": [
    {
     "data": {
      "text/plain": "2.0"
     },
     "execution_count": 19,
     "metadata": {},
     "output_type": "execute_result"
    }
   ],
   "source": [
    "4 ** (1/2)"
   ],
   "metadata": {
    "collapsed": false,
    "ExecuteTime": {
     "end_time": "2024-03-11T18:05:04.627627Z",
     "start_time": "2024-03-11T18:05:04.621913Z"
    }
   },
   "id": "e19be26778a8bc3a",
   "execution_count": 19
  },
  {
   "cell_type": "markdown",
   "source": [
    "## Operadores de Comparação\n",
    "\n",
    "São usados para comparar dois valores:\n",
    "\n",
    "   - Igual: `==`\n",
    "   - Diferente: `!=`\n",
    "   - Maior que: `>`\n",
    "   - Menor que: `<`\n",
    "   - Maior ou igual que: `>=`\n",
    "   - Menor ou igual que: `<=`"
   ],
   "metadata": {
    "collapsed": false
   },
   "id": "3209c30601545a36"
  },
  {
   "cell_type": "code",
   "outputs": [
    {
     "data": {
      "text/plain": "False"
     },
     "execution_count": 20,
     "metadata": {},
     "output_type": "execute_result"
    }
   ],
   "source": [
    "x = 10\n",
    "y = 5\n",
    "\n",
    "x == y"
   ],
   "metadata": {
    "collapsed": false,
    "ExecuteTime": {
     "end_time": "2024-03-11T18:05:04.736606Z",
     "start_time": "2024-03-11T18:05:04.731146Z"
    }
   },
   "id": "759f2c787e03333f",
   "execution_count": 20
  },
  {
   "cell_type": "code",
   "outputs": [
    {
     "data": {
      "text/plain": "True"
     },
     "execution_count": 21,
     "metadata": {},
     "output_type": "execute_result"
    }
   ],
   "source": [
    "\"Hello\" == \"Hello\""
   ],
   "metadata": {
    "collapsed": false,
    "ExecuteTime": {
     "end_time": "2024-03-11T18:05:04.756466Z",
     "start_time": "2024-03-11T18:05:04.750453Z"
    }
   },
   "id": "d4a80a57d13e0c1d",
   "execution_count": 21
  },
  {
   "cell_type": "code",
   "outputs": [
    {
     "data": {
      "text/plain": "True"
     },
     "execution_count": 22,
     "metadata": {},
     "output_type": "execute_result"
    }
   ],
   "source": [
    "x = 10\n",
    "y = 10\n",
    "\n",
    "x == y"
   ],
   "metadata": {
    "collapsed": false,
    "ExecuteTime": {
     "end_time": "2024-03-11T18:05:04.783374Z",
     "start_time": "2024-03-11T18:05:04.777587Z"
    }
   },
   "id": "f5eb5deac529a08d",
   "execution_count": 22
  },
  {
   "cell_type": "code",
   "outputs": [
    {
     "data": {
      "text/plain": "False"
     },
     "execution_count": 23,
     "metadata": {},
     "output_type": "execute_result"
    }
   ],
   "source": [
    "x > y"
   ],
   "metadata": {
    "collapsed": false,
    "ExecuteTime": {
     "end_time": "2024-03-11T18:05:04.854130Z",
     "start_time": "2024-03-11T18:05:04.849020Z"
    }
   },
   "id": "d9b9adae6e3e6c3b",
   "execution_count": 23
  },
  {
   "cell_type": "code",
   "outputs": [
    {
     "data": {
      "text/plain": "True"
     },
     "execution_count": 24,
     "metadata": {},
     "output_type": "execute_result"
    }
   ],
   "source": [
    "\"Zello\" > \"Hello\""
   ],
   "metadata": {
    "collapsed": false,
    "ExecuteTime": {
     "end_time": "2024-03-11T18:05:04.877739Z",
     "start_time": "2024-03-11T18:05:04.871129Z"
    }
   },
   "id": "1304d7e67e728b97",
   "execution_count": 24
  },
  {
   "cell_type": "markdown",
   "source": [
    "## Operadores Lógicos\n",
    "\n",
    "São usadis para combinar duas afirmações\n",
    "\n",
    "   - **and**: Retorna True se ambas as declarações são verdadeiras\n",
    "   - **or**: Retorna True se ao menos uma das declarações é verdadeira\n",
    "   - **not**: Retorna o inverso. Se a declaração é verdadeira retorna False, se é falsa retorna True"
   ],
   "metadata": {
    "collapsed": false
   },
   "id": "7221b3feba736ddc"
  },
  {
   "cell_type": "code",
   "outputs": [
    {
     "data": {
      "text/plain": "False"
     },
     "execution_count": 25,
     "metadata": {},
     "output_type": "execute_result"
    }
   ],
   "source": [
    "x = 8\n",
    "\n",
    "x > 5 and x < 10 and x < 6"
   ],
   "metadata": {
    "collapsed": false,
    "ExecuteTime": {
     "end_time": "2024-03-11T18:05:04.965605Z",
     "start_time": "2024-03-11T18:05:04.959180Z"
    }
   },
   "id": "ede9422f9a1f7f6b",
   "execution_count": 25
  },
  {
   "cell_type": "code",
   "outputs": [
    {
     "data": {
      "text/plain": "False"
     },
     "execution_count": 26,
     "metadata": {},
     "output_type": "execute_result"
    }
   ],
   "source": [
    "x < 5"
   ],
   "metadata": {
    "collapsed": false,
    "ExecuteTime": {
     "end_time": "2024-03-11T18:05:05.015313Z",
     "start_time": "2024-03-11T18:05:05.009270Z"
    }
   },
   "id": "a60123aeaa1db67f",
   "execution_count": 26
  },
  {
   "cell_type": "code",
   "outputs": [
    {
     "data": {
      "text/plain": "True"
     },
     "execution_count": 27,
     "metadata": {},
     "output_type": "execute_result"
    }
   ],
   "source": [
    "x < 10"
   ],
   "metadata": {
    "collapsed": false,
    "ExecuteTime": {
     "end_time": "2024-03-11T18:05:05.085946Z",
     "start_time": "2024-03-11T18:05:05.080241Z"
    }
   },
   "id": "4036922f28742b19",
   "execution_count": 27
  },
  {
   "cell_type": "code",
   "outputs": [
    {
     "data": {
      "text/plain": "True"
     },
     "execution_count": 28,
     "metadata": {},
     "output_type": "execute_result"
    }
   ],
   "source": [
    "x < 5 or x < 10"
   ],
   "metadata": {
    "collapsed": false,
    "ExecuteTime": {
     "end_time": "2024-03-11T18:05:05.157955Z",
     "start_time": "2024-03-11T18:05:05.150827Z"
    }
   },
   "id": "e647a1c98e8e994b",
   "execution_count": 28
  },
  {
   "cell_type": "code",
   "outputs": [
    {
     "data": {
      "text/plain": "False"
     },
     "execution_count": 29,
     "metadata": {},
     "output_type": "execute_result"
    }
   ],
   "source": [
    "not (x < 10)"
   ],
   "metadata": {
    "collapsed": false,
    "ExecuteTime": {
     "end_time": "2024-03-11T18:05:05.258988Z",
     "start_time": "2024-03-11T18:05:05.252588Z"
    }
   },
   "id": "8cfb2b2a0eaa51a",
   "execution_count": 29
  },
  {
   "cell_type": "markdown",
   "source": [
    "## Operadores de Pertencimento\n",
    "\n",
    "É usado para verificar se um objeto pertence a uma lista. Por exemplo, podemos utilizar para ver se um caracter está em uma String.\n",
    "\n",
    "   - **in**: Retorna True se o objeto especificado está presente na lista\n",
    "   - **not in**: Retorna True se objeto especificado não está presente na lista"
   ],
   "metadata": {
    "collapsed": false
   },
   "id": "93252a4b1f03dcfe"
  },
  {
   "cell_type": "code",
   "outputs": [
    {
     "data": {
      "text/plain": "False"
     },
     "execution_count": 30,
     "metadata": {},
     "output_type": "execute_result"
    }
   ],
   "source": [
    "x = \"Hello World\"\n",
    "\n",
    "\"Hello\" not in x"
   ],
   "metadata": {
    "collapsed": false,
    "ExecuteTime": {
     "end_time": "2024-03-11T18:05:05.286127Z",
     "start_time": "2024-03-11T18:05:05.280593Z"
    }
   },
   "id": "cd93ed159c303d8a",
   "execution_count": 30
  },
  {
   "cell_type": "code",
   "outputs": [
    {
     "name": "stdout",
     "output_type": "stream",
     "text": [
      "0\n",
      "1\n",
      "2\n"
     ]
    }
   ],
   "source": [
    "for i in range(3):\n",
    "    print(i)"
   ],
   "metadata": {
    "collapsed": false,
    "ExecuteTime": {
     "end_time": "2024-03-11T18:05:05.362447Z",
     "start_time": "2024-03-11T18:05:05.357701Z"
    }
   },
   "id": "f6a7538577b0a7ce",
   "execution_count": 31
  },
  {
   "cell_type": "markdown",
   "source": [
    "# Coleções (Arrays)\n",
    "\n",
    "Existem quatro tipos de coleções de objetos em Python:\n",
    "\n",
    "   - **List** é uma coleção ordenada e que pode ser modificada. Permite itens duplicados.\n",
    "   - **Tuple** é uma coleção ordenada e imutável. Permite itens duplicados.\n",
    "   - **Set** é uma coleção que não é ordenada e que não tem índice. Não permite itens duplicados.\n",
    "   - **Dictionary** é uma coleção não ordenada, mutável e indexada. Não permite itens duplicados.\n",
    "\n",
    "Quando escolhemos um tipo de coleção é importante entendermos quais são suas propriedades. Escolher o tipo correto de estrutura de dados significa manter o significado das informações e pode melhorar a eficiência e a segurança.\n",
    "\n",
    "## Listas\n",
    "\n",
    "Coleção ordenada e que pode ser modificada. Permite itens duplicados.\n",
    "\n",
    "Para acessar itens em uma lista utilizamos o índice entre colchetes."
   ],
   "metadata": {
    "collapsed": false
   },
   "id": "5ebd957884b2e983"
  },
  {
   "cell_type": "code",
   "outputs": [
    {
     "data": {
      "text/plain": "'banana'"
     },
     "execution_count": 32,
     "metadata": {},
     "output_type": "execute_result"
    }
   ],
   "source": [
    "firstlist = [\"maça\", \"banana\", \"caju\"]\n",
    "firstlist[1]"
   ],
   "metadata": {
    "collapsed": false,
    "ExecuteTime": {
     "end_time": "2024-03-11T18:05:05.382407Z",
     "start_time": "2024-03-11T18:05:05.377083Z"
    }
   },
   "id": "6aba19255c400739",
   "execution_count": 32
  },
  {
   "cell_type": "markdown",
   "source": [
    "Para alterar o valor em uma posição da lista basta passarmos o nome da lista e o índice que queremos alterar entre colchetes. Em seguida atribuímos o novo valor com o sinal de igual"
   ],
   "metadata": {
    "collapsed": false
   },
   "id": "bd9583cde7b1975e"
  },
  {
   "cell_type": "code",
   "outputs": [
    {
     "data": {
      "text/plain": "['pessego', 'banana', 'caju']"
     },
     "execution_count": 33,
     "metadata": {},
     "output_type": "execute_result"
    }
   ],
   "source": [
    "firstlist[0] = \"pessego\"\n",
    "firstlist"
   ],
   "metadata": {
    "collapsed": false,
    "ExecuteTime": {
     "end_time": "2024-03-11T18:05:05.402518Z",
     "start_time": "2024-03-11T18:05:05.396922Z"
    }
   },
   "id": "2bbf3166fe9c5f3e",
   "execution_count": 33
  },
  {
   "cell_type": "markdown",
   "source": [
    "Para adicionar um item a uma lista podemos fazer das seguintes formas:"
   ],
   "metadata": {
    "collapsed": false
   },
   "id": "466e28b772f8845a"
  },
  {
   "cell_type": "code",
   "outputs": [
    {
     "data": {
      "text/plain": "['pessego', 'banana', 'caju', 'laranja']"
     },
     "execution_count": 34,
     "metadata": {},
     "output_type": "execute_result"
    }
   ],
   "source": [
    "firstlist.append(\"laranja\")\n",
    "firstlist"
   ],
   "metadata": {
    "collapsed": false,
    "ExecuteTime": {
     "end_time": "2024-03-11T18:05:05.496906Z",
     "start_time": "2024-03-11T18:05:05.491277Z"
    }
   },
   "id": "e457416fbae82c93",
   "execution_count": 34
  },
  {
   "cell_type": "code",
   "outputs": [
    {
     "data": {
      "text/plain": "['pessego', 'pera', 'banana', 'caju', 'laranja']"
     },
     "execution_count": 35,
     "metadata": {},
     "output_type": "execute_result"
    }
   ],
   "source": [
    "firstlist.insert(1, \"pera\")\n",
    "firstlist"
   ],
   "metadata": {
    "collapsed": false,
    "ExecuteTime": {
     "end_time": "2024-03-11T18:05:05.521190Z",
     "start_time": "2024-03-11T18:05:05.515504Z"
    }
   },
   "id": "ba0eba5a018c121e",
   "execution_count": 35
  },
  {
   "cell_type": "markdown",
   "source": [
    "Já para remover um item podemos utilizar as funções `remove()`, ou `pop()` ou a palavra chave `del`."
   ],
   "metadata": {
    "collapsed": false
   },
   "id": "f0e70e2c7c75573d"
  },
  {
   "cell_type": "code",
   "outputs": [
    {
     "data": {
      "text/plain": "['pessego', 'pera', 'banana', 'caju']"
     },
     "execution_count": 36,
     "metadata": {},
     "output_type": "execute_result"
    }
   ],
   "source": [
    "firstlist.remove(\"laranja\")\n",
    "firstlist"
   ],
   "metadata": {
    "collapsed": false,
    "ExecuteTime": {
     "end_time": "2024-03-11T18:05:05.611892Z",
     "start_time": "2024-03-11T18:05:05.606365Z"
    }
   },
   "id": "89d5387d049cda77",
   "execution_count": 36
  },
  {
   "cell_type": "markdown",
   "source": [
    "## Combinando duas listas\n",
    "\n",
    "Entre as várias formas de combinar duas listas, as mais simples são utilizar o operador de adição `+` ou a função `extend()`. M"
   ],
   "metadata": {
    "collapsed": false
   },
   "id": "17491cfb2c39e273"
  },
  {
   "cell_type": "code",
   "outputs": [
    {
     "name": "stdout",
     "output_type": "stream",
     "text": [
      "['a', 'b', 'c', 1, 2, 3]\n"
     ]
    }
   ],
   "source": [
    "list1 = [\"a\", \"b\" , \"c\"]\n",
    "list2 = [1, 2, 3]\n",
    "\n",
    "list3 = list1 + list2\n",
    "print(list3)"
   ],
   "metadata": {
    "collapsed": false,
    "ExecuteTime": {
     "end_time": "2024-03-11T18:05:05.699818Z",
     "start_time": "2024-03-11T18:05:05.695115Z"
    }
   },
   "id": "1e46b5fcab8ff84f",
   "execution_count": 37
  },
  {
   "cell_type": "markdown",
   "source": [
    "## Tuplas\n",
    "\n",
    "Com odito antes, uma tupla é uma coleção de itens ordenada e **imutável**. Em Python as tuplas são escritas com parênteses."
   ],
   "metadata": {
    "collapsed": false
   },
   "id": "6ca9fe4aa8e1ec05"
  },
  {
   "cell_type": "code",
   "outputs": [
    {
     "name": "stdout",
     "output_type": "stream",
     "text": [
      "('maça', 'banana', 'pera')\n"
     ]
    }
   ],
   "source": [
    "thistuple = (\"maça\", \"banana\", \"pera\")\n",
    "print(thistuple)"
   ],
   "metadata": {
    "collapsed": false,
    "ExecuteTime": {
     "end_time": "2024-03-11T18:05:05.751453Z",
     "start_time": "2024-03-11T18:05:05.747593Z"
    }
   },
   "id": "3327c3fbb1d37542",
   "execution_count": 38
  },
  {
   "cell_type": "markdown",
   "source": [
    "Para acessar os itens em uma tupla utilizamos o índice do item que queremos entre colchetes da mesma forma como fazemos com as listas ou com as Strings."
   ],
   "metadata": {
    "collapsed": false
   },
   "id": "5ab280fd0bc7c1a3"
  },
  {
   "cell_type": "code",
   "outputs": [
    {
     "name": "stdout",
     "output_type": "stream",
     "text": [
      "maça\n"
     ]
    }
   ],
   "source": [
    "print(thistuple[0])"
   ],
   "metadata": {
    "collapsed": false,
    "ExecuteTime": {
     "end_time": "2024-03-11T18:05:05.834184Z",
     "start_time": "2024-03-11T18:05:05.829882Z"
    }
   },
   "id": "8b95afcb37b6c413",
   "execution_count": 39
  },
  {
   "cell_type": "markdown",
   "source": [
    "Assim como com as listas também é possível acessar um intervalo de valores especificando uma posição de início e uma posição de fim para o intervalo. Quando especificamos um intervalo o valor retornado será uma nova tupla contendo apenas os itens especificados."
   ],
   "metadata": {
    "collapsed": false
   },
   "id": "5b0b72c907fe4061"
  },
  {
   "cell_type": "code",
   "outputs": [
    {
     "name": "stdout",
     "output_type": "stream",
     "text": [
      "('pera', 'laranja', 'kiwi')\n"
     ]
    }
   ],
   "source": [
    "thistuple = (\"maça\", \"banana\", \"pera\", \"laranja\", \"kiwi\", \"melão\", \"manga\")\n",
    "print(thistuple[2:5])"
   ],
   "metadata": {
    "collapsed": false,
    "ExecuteTime": {
     "end_time": "2024-03-11T18:05:05.873777Z",
     "start_time": "2024-03-11T18:05:05.869776Z"
    }
   },
   "id": "685ed4632c9b35b0",
   "execution_count": 40
  },
  {
   "cell_type": "markdown",
   "source": [
    "## Sets\n",
    "\n",
    "Um set (conjunto) é uma coleção de itens não ordenados e não indexados. Para definir um set em Python utilizamos chaves:"
   ],
   "metadata": {
    "collapsed": false
   },
   "id": "f3d1a4d7b9b7e8f6"
  },
  {
   "cell_type": "code",
   "outputs": [
    {
     "name": "stdout",
     "output_type": "stream",
     "text": [
      "{'pera', 'maça', 'banana'}\n"
     ]
    }
   ],
   "source": [
    "# thisset = {\"maça\", \"banana\", \"pera\"}\n",
    "thisset = set([\"maça\", \"banana\", \"pera\"])\n",
    "\n",
    "# Sets não são ordenados, por isso não se pode ter certeza da ordem em que os itens irão acontecer\n",
    "print(thisset)"
   ],
   "metadata": {
    "collapsed": false,
    "ExecuteTime": {
     "end_time": "2024-03-11T18:05:05.949927Z",
     "start_time": "2024-03-11T18:05:05.945021Z"
    }
   },
   "id": "52419fbfac7c94c6",
   "execution_count": 41
  },
  {
   "cell_type": "markdown",
   "source": [
    "Por definição não é possível acessar um item de um set como fazemos com as listas ou com as tuplas, isso porque um set não possui ordenação e não é indexado.\n",
    "\n",
    "Entretanto, podemos iterar sobre um set utilizandso estruturas de repetição, como o loop for que veremos em detalhes mais a frente"
   ],
   "metadata": {
    "collapsed": false
   },
   "id": "b9cdc77fcf3ba859"
  },
  {
   "cell_type": "code",
   "outputs": [
    {
     "name": "stdout",
     "output_type": "stream",
     "text": [
      "pera\n",
      "maça\n",
      "banana\n"
     ]
    }
   ],
   "source": [
    "thisset = {\"maça\", \"banana\", \"pera\"}\n",
    "\n",
    "for x in thisset:\n",
    "    print(x)"
   ],
   "metadata": {
    "collapsed": false,
    "ExecuteTime": {
     "end_time": "2024-03-11T18:05:06.007850Z",
     "start_time": "2024-03-11T18:05:06.002937Z"
    }
   },
   "id": "428f48237de7e508",
   "execution_count": 42
  },
  {
   "cell_type": "code",
   "outputs": [
    {
     "name": "stdout",
     "output_type": "stream",
     "text": [
      "{'Nome1', 'Nome3', 'Nome2'}\n"
     ]
    }
   ],
   "source": [
    "thisset = set([\"Nome1\", \"Nome2\", \"Nome3\"])\n",
    "print(thisset)"
   ],
   "metadata": {
    "collapsed": false,
    "ExecuteTime": {
     "end_time": "2024-03-11T18:05:06.074972Z",
     "start_time": "2024-03-11T18:05:06.070860Z"
    }
   },
   "id": "20c752d1763ffbd",
   "execution_count": 43
  },
  {
   "cell_type": "markdown",
   "source": [
    "Uma vez criado não é possível alterar os itens de um set. Porém podemos adicionar novos items utilizando os métodos `add()` e `update()`:\n",
    "\n",
    "Além de adicionar itens também é possível remover itens de um set com os métodos `remove()`, `discard()` e `pop()`.\n",
    "\n",
    "Além dessa há ainda vérias outras operações que podem ser feitas sobre sets, vale a pena pesquisar sobre elas.\n",
    "\n",
    "\n",
    "## Dicionários\n",
    "\n",
    "Um dicionário é uma coleçlão não ordenada, mutável e indexada. Em Python os dicionários são escritos entre chaves e cada item é composto por um par chave-valor.\n",
    "\n",
    "Exemplo de um dicionário:"
   ],
   "metadata": {
    "collapsed": false
   },
   "id": "ed6ecda5b5bc12b1"
  },
  {
   "cell_type": "code",
   "outputs": [
    {
     "name": "stdout",
     "output_type": "stream",
     "text": [
      "{'marca': 'Ford', 'modelo': 'Mustang', 'ano': [1964, 1965]}\n"
     ]
    }
   ],
   "source": [
    "thisdict = {\n",
    "    \"marca\": \"Ford\",\n",
    "    \"modelo\": \"Mustang\",\n",
    "    \"ano\": [1964, 1965]\n",
    "}\n",
    "\n",
    "print(thisdict)"
   ],
   "metadata": {
    "collapsed": false,
    "ExecuteTime": {
     "end_time": "2024-03-11T18:05:06.109159Z",
     "start_time": "2024-03-11T18:05:06.104067Z"
    }
   },
   "id": "ac0461fb5cdeb237",
   "execution_count": 44
  },
  {
   "cell_type": "markdown",
   "source": [
    "Os itens em um dicionário podem ser acessados via o nome da chave dentro de colchetes, parecido como que fazemos para acessar itens nas listas e tuplas. Também é possível usar o método `get()`."
   ],
   "metadata": {
    "collapsed": false
   },
   "id": "ed66d93a31ffc0f1"
  },
  {
   "cell_type": "code",
   "outputs": [
    {
     "name": "stdout",
     "output_type": "stream",
     "text": [
      "Mustang\n"
     ]
    }
   ],
   "source": [
    "x = thisdict[\"modelo\"]\n",
    "print(x)"
   ],
   "metadata": {
    "collapsed": false,
    "ExecuteTime": {
     "end_time": "2024-03-11T18:05:06.189719Z",
     "start_time": "2024-03-11T18:05:06.185966Z"
    }
   },
   "id": "6325cb9d8d4432bb",
   "execution_count": 45
  },
  {
   "cell_type": "code",
   "outputs": [
    {
     "ename": "KeyError",
     "evalue": "'modelo antigo'",
     "output_type": "error",
     "traceback": [
      "\u001B[1;31m---------------------------------------------------------------------------\u001B[0m",
      "\u001B[1;31mKeyError\u001B[0m                                  Traceback (most recent call last)",
      "Cell \u001B[1;32mIn[46], line 1\u001B[0m\n\u001B[1;32m----> 1\u001B[0m x \u001B[38;5;241m=\u001B[39m \u001B[43mthisdict\u001B[49m\u001B[43m[\u001B[49m\u001B[38;5;124;43m\"\u001B[39;49m\u001B[38;5;124;43mmodelo antigo\u001B[39;49m\u001B[38;5;124;43m\"\u001B[39;49m\u001B[43m]\u001B[49m\n",
      "\u001B[1;31mKeyError\u001B[0m: 'modelo antigo'"
     ]
    }
   ],
   "source": [
    "x = thisdict[\"modelo antigo\"]"
   ],
   "metadata": {
    "collapsed": false,
    "ExecuteTime": {
     "end_time": "2024-03-11T18:05:06.600120Z",
     "start_time": "2024-03-11T18:05:06.231831Z"
    }
   },
   "id": "9dee75bf2c6a81ae",
   "execution_count": 46
  },
  {
   "cell_type": "code",
   "outputs": [
    {
     "name": "stdout",
     "output_type": "stream",
     "text": [
      "False\n"
     ]
    }
   ],
   "source": [
    "x = thisdict.get(\"modelo antigo\", False)\n",
    "print(x)"
   ],
   "metadata": {
    "collapsed": false,
    "ExecuteTime": {
     "end_time": "2024-03-11T18:05:41.101787Z",
     "start_time": "2024-03-11T18:05:41.097809Z"
    }
   },
   "id": "593dbdea8de3350e",
   "execution_count": 47
  },
  {
   "cell_type": "markdown",
   "source": [
    "Para alterar os valores de um dicionário podemos especificar um item identificando o nome da sua chave. A ideia é muito similar com o que fazemos nas listas, só que ao invés de termos a posição de um item entre colchetes, temos a chave:"
   ],
   "metadata": {
    "collapsed": false
   },
   "id": "891f77b4abf32213"
  },
  {
   "cell_type": "code",
   "outputs": [
    {
     "name": "stdout",
     "output_type": "stream",
     "text": [
      "{'marca': 'Ford', 'modelo': 'Mustang', 'ano': 2019}\n"
     ]
    }
   ],
   "source": [
    "thisdict = {\n",
    "    \"marca\": \"Ford\",\n",
    "    \"modelo\": \"Mustang\",\n",
    "    \"ano\": 1964\n",
    "}\n",
    "\n",
    "thisdict[\"ano\"] = 2019\n",
    "\n",
    "print(thisdict)"
   ],
   "metadata": {
    "collapsed": false,
    "ExecuteTime": {
     "end_time": "2024-03-11T18:05:45.594899Z",
     "start_time": "2024-03-11T18:05:45.590521Z"
    }
   },
   "id": "1d7d9c0a980c443d",
   "execution_count": 48
  },
  {
   "cell_type": "code",
   "outputs": [
    {
     "name": "stdout",
     "output_type": "stream",
     "text": [
      "{'marca': 'Ford', 'modelo': 'Mustang'}\n"
     ]
    }
   ],
   "source": [
    "del thisdict[\"ano\"]\n",
    "print(thisdict)"
   ],
   "metadata": {
    "collapsed": false,
    "ExecuteTime": {
     "end_time": "2024-03-11T18:05:46.416162Z",
     "start_time": "2024-03-11T18:05:46.412146Z"
    }
   },
   "id": "888cb3c9e993b131",
   "execution_count": 49
  },
  {
   "cell_type": "code",
   "outputs": [
    {
     "data": {
      "text/plain": "False"
     },
     "execution_count": 50,
     "metadata": {},
     "output_type": "execute_result"
    }
   ],
   "source": [
    "\"ano\" in thisdict"
   ],
   "metadata": {
    "collapsed": false,
    "ExecuteTime": {
     "end_time": "2024-03-11T18:05:47.390101Z",
     "start_time": "2024-03-11T18:05:47.384883Z"
    }
   },
   "id": "f3edf694cf588ade",
   "execution_count": 50
  },
  {
   "cell_type": "markdown",
   "source": [
    "Dicionários tem ainda várias funções para checar se uma chave existe em um dicionário, ``in``, adicionar itens, remover itens e checar o comprimento do dicionário.\n",
    "\n",
    "Um outro ponto que deve se ter em mente é o conceito de dicionário aninhados: um dicionário que contém vários outros dicionários."
   ],
   "metadata": {
    "collapsed": false
   },
   "id": "757b1e918de72372"
  },
  {
   "cell_type": "code",
   "outputs": [],
   "source": [
    "child1 = {\n",
    "    \"nome\": \"Emil\",\n",
    "    \"ano\": 2004\n",
    "}\n",
    "\n",
    "child2 = {\n",
    "    \"nome\": \"Tobias\",\n",
    "    \"ano\": 2007\n",
    "}\n",
    "\n",
    "child3 = {\n",
    "    \"nome\": \"Linus\",\n",
    "    \"ano\": 2011\n",
    "}\n",
    "\n",
    "myfamily = {\n",
    "    \"child1\": child1,\n",
    "    \"child2\": child2,\n",
    "    \"child3\": child3\n",
    "}"
   ],
   "metadata": {
    "collapsed": false,
    "ExecuteTime": {
     "end_time": "2024-03-11T18:05:49.360920Z",
     "start_time": "2024-03-11T18:05:49.355968Z"
    }
   },
   "id": "7b22e00f1b565108",
   "execution_count": 51
  },
  {
   "cell_type": "code",
   "outputs": [
    {
     "data": {
      "text/plain": "{'child1': {'nome': 'Emil', 'ano': 2004},\n 'child2': {'nome': 'Tobias', 'ano': 2007},\n 'child3': {'nome': 'Linus', 'ano': 2011}}"
     },
     "execution_count": 52,
     "metadata": {},
     "output_type": "execute_result"
    }
   ],
   "source": [
    "myfamily"
   ],
   "metadata": {
    "collapsed": false,
    "ExecuteTime": {
     "end_time": "2024-03-11T18:05:50.924392Z",
     "start_time": "2024-03-11T18:05:50.918417Z"
    }
   },
   "id": "f2a9de5d11a14dfd",
   "execution_count": 52
  },
  {
   "cell_type": "code",
   "outputs": [
    {
     "data": {
      "text/plain": "2004"
     },
     "execution_count": 53,
     "metadata": {},
     "output_type": "execute_result"
    }
   ],
   "source": [
    "myfamily[\"child1\"][\"ano\"]"
   ],
   "metadata": {
    "collapsed": false,
    "ExecuteTime": {
     "end_time": "2024-03-11T18:05:51.584761Z",
     "start_time": "2024-03-11T18:05:51.576390Z"
    }
   },
   "id": "dbc81dd0cab50e5e",
   "execution_count": 53
  },
  {
   "cell_type": "code",
   "outputs": [
    {
     "data": {
      "text/plain": "'child1'"
     },
     "execution_count": 54,
     "metadata": {},
     "output_type": "execute_result"
    }
   ],
   "source": [
    "list(myfamily.keys())[0]"
   ],
   "metadata": {
    "collapsed": false,
    "ExecuteTime": {
     "end_time": "2024-03-11T18:05:54.468086Z",
     "start_time": "2024-03-11T18:05:54.463100Z"
    }
   },
   "id": "e78b63d2b1861de0",
   "execution_count": 54
  },
  {
   "cell_type": "markdown",
   "source": [
    "Uma última observação sobre dicionários. Eles são uma das formas mais utilizadas pelos cientistas de dados no Itaú para trabalharem com dados. Dominar essa estrutura de dados é fundamental para se conseguir extrair o máximo de bibliotecas de manipulação de banco de dados para ciência de dados, como Pandas, que veremos mais a frente nesse curso. Portanto, vale a pena pesquisar um pouco mais a fundo sobre os dicionários."
   ],
   "metadata": {
    "collapsed": false
   },
   "id": "37e5522fb6a2953a"
  }
 ],
 "metadata": {
  "kernelspec": {
   "display_name": "Python 3",
   "language": "python",
   "name": "python3"
  },
  "language_info": {
   "codemirror_mode": {
    "name": "ipython",
    "version": 2
   },
   "file_extension": ".py",
   "mimetype": "text/x-python",
   "name": "python",
   "nbconvert_exporter": "python",
   "pygments_lexer": "ipython2",
   "version": "2.7.6"
  }
 },
 "nbformat": 4,
 "nbformat_minor": 5
}

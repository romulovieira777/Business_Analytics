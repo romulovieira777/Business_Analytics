{
 "cells": [
  {
   "cell_type": "markdown",
   "id": "cb62fa3446ef5721",
   "metadata": {
    "collapsed": false,
    "jupyter": {
     "outputs_hidden": false
    }
   },
   "source": [
    "## Variáveis\n",
    "\n",
    "Variáveis podem ser entendidas como uma caixa para armazenar informações. Em Python não existe um comando para declarar uma variável. Uma variável é criada no momento em que um valort é atribuido a ela:"
   ]
  },
  {
   "cell_type": "code",
   "execution_count": null,
   "id": "7abaa910c921486a",
   "metadata": {
    "collapsed": false,
    "is_executing": true,
    "jupyter": {
     "outputs_hidden": false
    }
   },
   "outputs": [],
   "source": [
    "x = 5\n",
    "y = \"John\""
   ]
  },
  {
   "cell_type": "code",
   "execution_count": null,
   "id": "51ab8875db17c1a6",
   "metadata": {
    "collapsed": false,
    "jupyter": {
     "outputs_hidden": false
    }
   },
   "outputs": [],
   "source": [
    "print(x)\n",
    "print(y)"
   ]
  },
  {
   "cell_type": "code",
   "execution_count": null,
   "id": "226fff9f-ac2b-4595-9626-dec99e62c6b5",
   "metadata": {},
   "outputs": [],
   "source": [
    "x   # não vai exibir o x\n",
    "y   # apenas a última linha é exibida no output da célula se o comando for apenas uma variável"
   ]
  },
  {
   "cell_type": "code",
   "execution_count": null,
   "id": "c68f4be3-e727-4c84-80cf-6cca8352ef89",
   "metadata": {},
   "outputs": [],
   "source": [
    "x"
   ]
  },
  {
   "cell_type": "code",
   "execution_count": null,
   "id": "9a3d7eb7-6b5d-4c7c-bb59-91f493c8b152",
   "metadata": {},
   "outputs": [],
   "source": [
    "y"
   ]
  },
  {
   "cell_type": "markdown",
   "id": "abf000f8-c594-4140-81ac-8c69ddc5f8e2",
   "metadata": {},
   "source": [
    "Ao receber um novo valor, a variável descarta o valor que estava armazenado anteriormente. O novo valor não precisa ter o mesmo tipo."
   ]
  },
  {
   "cell_type": "code",
   "execution_count": null,
   "id": "74b7c51f-b9d1-400c-ba97-bea5f636d1af",
   "metadata": {},
   "outputs": [],
   "source": [
    "x = 4    # x armazena um valor do tipo inteiro\n",
    "x = \"Sally\"    # é criada uma nova variável x, agora com valor string\n",
    "print(x)"
   ]
  },
  {
   "cell_type": "code",
   "execution_count": null,
   "id": "ba179bec-a369-4054-a18f-bb2bf8f078f0",
   "metadata": {},
   "outputs": [],
   "source": [
    "# Python é case-sensitive\n",
    "i = 4\n",
    "I = 5\n",
    "\n",
    "print(i)\n",
    "print(I)"
   ]
  }
 ],
 "metadata": {
  "kernelspec": {
   "display_name": "Python 3 (ipykernel)",
   "language": "python",
   "name": "python3"
  },
  "language_info": {
   "codemirror_mode": {
    "name": "ipython",
    "version": 3
   },
   "file_extension": ".py",
   "mimetype": "text/x-python",
   "name": "python",
   "nbconvert_exporter": "python",
   "pygments_lexer": "ipython3",
   "version": "3.12.1"
  }
 },
 "nbformat": 4,
 "nbformat_minor": 5
}

{
 "cells": [
  {
   "cell_type": "markdown",
   "source": [
    "# 5. Considere o DataFrame df abaixo com a biblioteca pandas:\n",
    "\n",
    "import pandas as pd\n",
    "\n",
    "data = {\n",
    "    “Nome”: [“Ana”, “Bruno”, “Carlos”, “Diana”], \n",
    "    “Idade”: [23, 34, 45, 26], \n",
    "    “Cidade”: [“Lisboa”, “Porto”, “Coimbra”, “Faro”] \n",
    "}\n",
    "\n",
    "df = pd.DataFrame(data)\n",
    "\n",
    "Como você selecionaria a coluna \"Idade\" de um DataFrame chamado df?\n",
    "\n",
    "a) df\n",
    "\n",
    "b) df(Idade)\n",
    "\n",
    "c) df[\"Idade\"]\n",
    "\n",
    "d) Idade{df}"
   ],
   "metadata": {
    "collapsed": false
   },
   "id": "f7ddbfd9f954f484"
  },
  {
   "cell_type": "code",
   "outputs": [],
   "source": [
    "import pandas as pd"
   ],
   "metadata": {
    "collapsed": false,
    "ExecuteTime": {
     "end_time": "2024-03-25T17:57:49.016408Z",
     "start_time": "2024-03-25T17:57:48.455513Z"
    }
   },
   "id": "43a3ead68e10b4a8",
   "execution_count": 1
  },
  {
   "cell_type": "code",
   "outputs": [],
   "source": [
    "data = {\n",
    "    \"Nome\": [\"Ana\", \"Bruno\", \"Carlos\", \"Diana\"], \n",
    "    \"Idade\": [23, 34, 45, 26], \n",
    "    \"Cidade\": [\"Lisboa\", \"Porto\", \"Coimbra\", \"Faro\"] \n",
    "}"
   ],
   "metadata": {
    "collapsed": false,
    "ExecuteTime": {
     "end_time": "2024-03-25T17:57:57.270469Z",
     "start_time": "2024-03-25T17:57:57.266027Z"
    }
   },
   "id": "7431aa148048a279",
   "execution_count": 2
  },
  {
   "cell_type": "code",
   "outputs": [],
   "source": [
    "df = pd.DataFrame(data)"
   ],
   "metadata": {
    "collapsed": false,
    "ExecuteTime": {
     "end_time": "2024-03-25T17:57:59.272776Z",
     "start_time": "2024-03-25T17:57:59.268802Z"
    }
   },
   "id": "9095808809ed1ec6",
   "execution_count": 3
  },
  {
   "cell_type": "code",
   "outputs": [
    {
     "data": {
      "text/plain": "0    23\n1    34\n2    45\n3    26\nName: Idade, dtype: int64"
     },
     "execution_count": 4,
     "metadata": {},
     "output_type": "execute_result"
    }
   ],
   "source": [
    "df[\"Idade\"]"
   ],
   "metadata": {
    "collapsed": false,
    "ExecuteTime": {
     "end_time": "2024-03-25T17:58:07.864362Z",
     "start_time": "2024-03-25T17:58:07.854867Z"
    }
   },
   "id": "df52787a362a4587",
   "execution_count": 4
  }
 ],
 "metadata": {
  "kernelspec": {
   "display_name": "Python 3",
   "language": "python",
   "name": "python3"
  },
  "language_info": {
   "codemirror_mode": {
    "name": "ipython",
    "version": 2
   },
   "file_extension": ".py",
   "mimetype": "text/x-python",
   "name": "python",
   "nbconvert_exporter": "python",
   "pygments_lexer": "ipython2",
   "version": "2.7.6"
  }
 },
 "nbformat": 4,
 "nbformat_minor": 5
}

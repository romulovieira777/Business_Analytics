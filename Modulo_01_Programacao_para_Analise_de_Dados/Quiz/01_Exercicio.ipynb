{
 "cells": [
  {
   "cell_type": "markdown",
   "source": [
    "# 1. Considere o DataFrame df abaixo criado com a biblioteca pandas:\n",
    "\n",
    "import pandas as pd\n",
    "\n",
    "data = {\n",
    "    \"Nome\": [\"Ana\", \"Bruno\", \"Carlos\", \"Diana\"],\n",
    "    \"Idade\": [23, 34, 45, 26],\n",
    "    \"Cidade\": [\"Lisboa\", \"Porto\", \"Coimbra\", \"Faro\"]\n",
    "}\n",
    "\n",
    "df = pd.DataFrame(data)\n",
    "\n",
    "Qual linha de código filtra o DataFrame df para incluir apenas as entradas onde a coluna \"Idade\" é maior que 30?"
   ],
   "metadata": {
    "collapsed": false
   },
   "id": "c4a1ca728d98e82f"
  },
  {
   "cell_type": "code",
   "execution_count": 1,
   "id": "initial_id",
   "metadata": {
    "collapsed": true,
    "ExecuteTime": {
     "end_time": "2024-03-25T17:45:57.199027Z",
     "start_time": "2024-03-25T17:45:55.785592Z"
    }
   },
   "outputs": [],
   "source": [
    "import pandas as pd"
   ]
  },
  {
   "cell_type": "code",
   "outputs": [],
   "source": [
    "data = {\n",
    "    \"Nome\": [\"Ana\", \"Bruno\", \"Carlos\", \"Diana\"],\n",
    "    \"Idade\": [23, 34, 45, 26],\n",
    "    \"Cidade\": [\"Lisboa\", \"Porto\", \"Coimbra\", \"Faro\"]\n",
    "}"
   ],
   "metadata": {
    "collapsed": false,
    "ExecuteTime": {
     "end_time": "2024-03-25T17:45:59.718101Z",
     "start_time": "2024-03-25T17:45:59.713426Z"
    }
   },
   "id": "81a8bc6461c3110c",
   "execution_count": 2
  },
  {
   "cell_type": "code",
   "outputs": [],
   "source": [
    "df = pd.DataFrame(data)"
   ],
   "metadata": {
    "collapsed": false,
    "ExecuteTime": {
     "end_time": "2024-03-25T17:46:04.045872Z",
     "start_time": "2024-03-25T17:46:04.040144Z"
    }
   },
   "id": "31bd3ba80fc2843d",
   "execution_count": 3
  },
  {
   "cell_type": "code",
   "outputs": [
    {
     "data": {
      "text/plain": "     Nome  Idade   Cidade\n1   Bruno     34    Porto\n2  Carlos     45  Coimbra",
      "text/html": "<div>\n<style scoped>\n    .dataframe tbody tr th:only-of-type {\n        vertical-align: middle;\n    }\n\n    .dataframe tbody tr th {\n        vertical-align: top;\n    }\n\n    .dataframe thead th {\n        text-align: right;\n    }\n</style>\n<table border=\"1\" class=\"dataframe\">\n  <thead>\n    <tr style=\"text-align: right;\">\n      <th></th>\n      <th>Nome</th>\n      <th>Idade</th>\n      <th>Cidade</th>\n    </tr>\n  </thead>\n  <tbody>\n    <tr>\n      <th>1</th>\n      <td>Bruno</td>\n      <td>34</td>\n      <td>Porto</td>\n    </tr>\n    <tr>\n      <th>2</th>\n      <td>Carlos</td>\n      <td>45</td>\n      <td>Coimbra</td>\n    </tr>\n  </tbody>\n</table>\n</div>"
     },
     "execution_count": 4,
     "metadata": {},
     "output_type": "execute_result"
    }
   ],
   "source": [
    "df[df[\"Idade\"] > 30]"
   ],
   "metadata": {
    "collapsed": false,
    "ExecuteTime": {
     "end_time": "2024-03-25T17:46:07.952950Z",
     "start_time": "2024-03-25T17:46:07.933271Z"
    }
   },
   "id": "5c17bc00dce3a058",
   "execution_count": 4
  }
 ],
 "metadata": {
  "kernelspec": {
   "display_name": "Python 3",
   "language": "python",
   "name": "python3"
  },
  "language_info": {
   "codemirror_mode": {
    "name": "ipython",
    "version": 2
   },
   "file_extension": ".py",
   "mimetype": "text/x-python",
   "name": "python",
   "nbconvert_exporter": "python",
   "pygments_lexer": "ipython2",
   "version": "2.7.6"
  }
 },
 "nbformat": 4,
 "nbformat_minor": 5
}

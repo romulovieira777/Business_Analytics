{
 "cells": [
  {
   "cell_type": "markdown",
   "source": [
    "# 9. No contexto da programação em Python, qual é o caractere usado para iniciar um comentário de uma única linha em Python?\n",
    "\n",
    "a) /\n",
    "\n",
    "b) ==\n",
    "\n",
    "c) A=2\n",
    "\n",
    "d) #"
   ],
   "metadata": {
    "collapsed": false
   },
   "id": "23b09fbf5459be99"
  },
  {
   "cell_type": "markdown",
   "source": [
    "## Resposta: \n",
    "\n",
    "d) #"
   ],
   "metadata": {
    "collapsed": false
   },
   "id": "76cf96bb0078421c"
  }
 ],
 "metadata": {
  "kernelspec": {
   "display_name": "Python 3",
   "language": "python",
   "name": "python3"
  },
  "language_info": {
   "codemirror_mode": {
    "name": "ipython",
    "version": 2
   },
   "file_extension": ".py",
   "mimetype": "text/x-python",
   "name": "python",
   "nbconvert_exporter": "python",
   "pygments_lexer": "ipython2",
   "version": "2.7.6"
  }
 },
 "nbformat": 4,
 "nbformat_minor": 5
}

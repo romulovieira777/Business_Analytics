{
 "cells": [
  {
   "cell_type": "markdown",
   "source": [
    "# 6. Qual método do Pandas é usado para obter um resumo estatístico rápido de um DataFrame chamado df?\n",
    "\n",
    "a) df.describe()\n",
    "\n",
    "b) df.isna()\n",
    "\n",
    "c) df.head()\n",
    "\n",
    "d) df.mean()"
   ],
   "metadata": {
    "collapsed": false
   },
   "id": "15f4f959fe945a76"
  },
  {
   "cell_type": "markdown",
   "source": [
    "**Resposta:** \n",
    "\n",
    "a) df.describe()**"
   ],
   "metadata": {
    "collapsed": false
   },
   "id": "17814d50a8551561"
  },
  {
   "cell_type": "code",
   "outputs": [],
   "source": [
    "import pandas as pd"
   ],
   "metadata": {
    "collapsed": false,
    "ExecuteTime": {
     "end_time": "2024-03-25T18:00:18.175855Z",
     "start_time": "2024-03-25T18:00:17.636310Z"
    }
   },
   "id": "9a0a7a9cdc202ab1",
   "execution_count": 1
  },
  {
   "cell_type": "code",
   "outputs": [],
   "source": [
    "data = {\n",
    "    \"Nome\": [\"Ana\", \"Bruno\", \"Carlos\", \"Diana\"], \n",
    "    \"Idade\": [23, 34, 45, 26], \n",
    "    \"Cidade\": [\"Lisboa\", \"Porto\", \"Coimbra\", \"Faro\"] \n",
    "}"
   ],
   "metadata": {
    "collapsed": false,
    "ExecuteTime": {
     "end_time": "2024-03-25T18:00:27.775597Z",
     "start_time": "2024-03-25T18:00:27.769220Z"
    }
   },
   "id": "2924c8d1c324403",
   "execution_count": 2
  },
  {
   "cell_type": "code",
   "outputs": [],
   "source": [
    "df = pd.DataFrame(data)"
   ],
   "metadata": {
    "collapsed": false,
    "ExecuteTime": {
     "end_time": "2024-03-25T18:00:29.730674Z",
     "start_time": "2024-03-25T18:00:29.725966Z"
    }
   },
   "id": "b8e23b92411c9512",
   "execution_count": 3
  },
  {
   "cell_type": "code",
   "outputs": [
    {
     "data": {
      "text/plain": "           Idade\ncount   4.000000\nmean   32.000000\nstd     9.831921\nmin    23.000000\n25%    25.250000\n50%    30.000000\n75%    36.750000\nmax    45.000000",
      "text/html": "<div>\n<style scoped>\n    .dataframe tbody tr th:only-of-type {\n        vertical-align: middle;\n    }\n\n    .dataframe tbody tr th {\n        vertical-align: top;\n    }\n\n    .dataframe thead th {\n        text-align: right;\n    }\n</style>\n<table border=\"1\" class=\"dataframe\">\n  <thead>\n    <tr style=\"text-align: right;\">\n      <th></th>\n      <th>Idade</th>\n    </tr>\n  </thead>\n  <tbody>\n    <tr>\n      <th>count</th>\n      <td>4.000000</td>\n    </tr>\n    <tr>\n      <th>mean</th>\n      <td>32.000000</td>\n    </tr>\n    <tr>\n      <th>std</th>\n      <td>9.831921</td>\n    </tr>\n    <tr>\n      <th>min</th>\n      <td>23.000000</td>\n    </tr>\n    <tr>\n      <th>25%</th>\n      <td>25.250000</td>\n    </tr>\n    <tr>\n      <th>50%</th>\n      <td>30.000000</td>\n    </tr>\n    <tr>\n      <th>75%</th>\n      <td>36.750000</td>\n    </tr>\n    <tr>\n      <th>max</th>\n      <td>45.000000</td>\n    </tr>\n  </tbody>\n</table>\n</div>"
     },
     "execution_count": 4,
     "metadata": {},
     "output_type": "execute_result"
    }
   ],
   "source": [
    "df.describe()"
   ],
   "metadata": {
    "collapsed": false,
    "ExecuteTime": {
     "end_time": "2024-03-25T18:00:31.377587Z",
     "start_time": "2024-03-25T18:00:31.361461Z"
    }
   },
   "id": "26cbade18cf6e48d",
   "execution_count": 4
  }
 ],
 "metadata": {
  "kernelspec": {
   "display_name": "Python 3",
   "language": "python",
   "name": "python3"
  },
  "language_info": {
   "codemirror_mode": {
    "name": "ipython",
    "version": 2
   },
   "file_extension": ".py",
   "mimetype": "text/x-python",
   "name": "python",
   "nbconvert_exporter": "python",
   "pygments_lexer": "ipython2",
   "version": "2.7.6"
  }
 },
 "nbformat": 4,
 "nbformat_minor": 5
}

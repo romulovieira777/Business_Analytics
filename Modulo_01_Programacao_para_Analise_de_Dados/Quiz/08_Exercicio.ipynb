{
 "cells": [
  {
   "cell_type": "markdown",
   "source": [
    "# 8. No contexto da programação em Python, qual das seguintes opções é considerado como um nome inválido de uma variável?\n",
    "\n",
    "a) Nome\n",
    "\n",
    "b) _name\n",
    "\n",
    "c) 100-x\n",
    "\n",
    "d) a"
   ],
   "metadata": {
    "collapsed": false
   },
   "id": "29ba41122770c3e2"
  },
  {
   "cell_type": "markdown",
   "source": [
    "## Resposta: \n",
    "\n",
    "c) 100-x"
   ],
   "metadata": {
    "collapsed": false
   },
   "id": "3496734b95dd6c66"
  }
 ],
 "metadata": {
  "kernelspec": {
   "display_name": "Python 3",
   "language": "python",
   "name": "python3"
  },
  "language_info": {
   "codemirror_mode": {
    "name": "ipython",
    "version": 2
   },
   "file_extension": ".py",
   "mimetype": "text/x-python",
   "name": "python",
   "nbconvert_exporter": "python",
   "pygments_lexer": "ipython2",
   "version": "2.7.6"
  }
 },
 "nbformat": 4,
 "nbformat_minor": 5
}

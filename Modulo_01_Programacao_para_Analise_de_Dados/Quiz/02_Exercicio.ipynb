{
 "cells": [
  {
   "cell_type": "markdown",
   "source": [
    "# 2. Qual das seguintes linguagens de programação é usada para gerenciamento e consultas em banco de dados relacionais?\n",
    "\n",
    "Python\n",
    "Pyspark\n",
    "SQL\n",
    "Sagemaker"
   ],
   "metadata": {
    "collapsed": false
   },
   "id": "9c729c3fdce216c6"
  },
  {
   "cell_type": "markdown",
   "source": [
    "**SQL**"
   ],
   "metadata": {
    "collapsed": false
   },
   "id": "e3c2d495b5608004"
  }
 ],
 "metadata": {
  "kernelspec": {
   "display_name": "Python 3",
   "language": "python",
   "name": "python3"
  },
  "language_info": {
   "codemirror_mode": {
    "name": "ipython",
    "version": 2
   },
   "file_extension": ".py",
   "mimetype": "text/x-python",
   "name": "python",
   "nbconvert_exporter": "python",
   "pygments_lexer": "ipython2",
   "version": "2.7.6"
  }
 },
 "nbformat": 4,
 "nbformat_minor": 5
}

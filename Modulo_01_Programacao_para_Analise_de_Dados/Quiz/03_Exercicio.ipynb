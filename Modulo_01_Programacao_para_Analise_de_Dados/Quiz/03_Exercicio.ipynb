{
 "cells": [
  {
   "cell_type": "markdown",
   "source": [
    "# 3. Qual dos seguintes comandos SQL precisamos usar para vincular duas tabelas relacionais com base em algum atributo comum?\n",
    "\n",
    "UNION\n",
    "GROUP BY\n",
    "JOIN\n",
    "HAVING"
   ],
   "metadata": {
    "collapsed": false
   },
   "id": "189b6551cd8c9446"
  },
  {
   "cell_type": "markdown",
   "source": [
    "**JOIN**"
   ],
   "metadata": {
    "collapsed": false
   },
   "id": "6ca260636762ddbe"
  }
 ],
 "metadata": {
  "kernelspec": {
   "display_name": "Python 3",
   "language": "python",
   "name": "python3"
  },
  "language_info": {
   "codemirror_mode": {
    "name": "ipython",
    "version": 2
   },
   "file_extension": ".py",
   "mimetype": "text/x-python",
   "name": "python",
   "nbconvert_exporter": "python",
   "pygments_lexer": "ipython2",
   "version": "2.7.6"
  }
 },
 "nbformat": 4,
 "nbformat_minor": 5
}

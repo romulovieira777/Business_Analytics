{
 "cells": [
  {
   "cell_type": "markdown",
   "source": [
    "# 7. Qual das sguintes instruções SQL selecionará todas as colunas de uma tabela chamada \"Clientes\"?\n",
    "\n",
    "a) SELECT * FROM Clientes;\n",
    "\n",
    "b) SELECT Clientes FROM *;\n",
    "\n",
    "c) SELECT [ALL] FROM Clientes;\n",
    "\n",
    "d) SELECT Clientes.*;"
   ],
   "metadata": {
    "collapsed": false
   },
   "id": "34e22c30aceddb73"
  },
  {
   "cell_type": "markdown",
   "source": [
    "## Resposta: \n",
    "\n",
    "a) SELECT * FROM Clientes;"
   ],
   "metadata": {
    "collapsed": false
   },
   "id": "4e5979d3e0086565"
  }
 ],
 "metadata": {
  "kernelspec": {
   "display_name": "Python 3",
   "language": "python",
   "name": "python3"
  },
  "language_info": {
   "codemirror_mode": {
    "name": "ipython",
    "version": 2
   },
   "file_extension": ".py",
   "mimetype": "text/x-python",
   "name": "python",
   "nbconvert_exporter": "python",
   "pygments_lexer": "ipython2",
   "version": "2.7.6"
  }
 },
 "nbformat": 4,
 "nbformat_minor": 5
}

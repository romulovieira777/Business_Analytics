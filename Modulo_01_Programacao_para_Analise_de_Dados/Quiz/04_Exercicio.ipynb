{
 "cells": [
  {
   "cell_type": "markdown",
   "source": [
    "# 4. Selecione a alternativa que descreve corretamente quais bibliotecas Python são apropriadas para as respectivas finalidades de análise de dados?\n",
    "\n",
    "a) Matplotlib para manipulação de dados, Numpy para análise estatística e Pandas para visualização de dados.\n",
    " \n",
    "b) Pandas para manipulação de dados, Matplotlib para análise de dados e Numpy para visualização de dados.\n",
    "\n",
    "c) Pandas para manipulação e análise de dados tabulares, Numpy para análise estatística de dados e Matplotlib para visualização de dados.\n"
   ],
   "metadata": {
    "collapsed": false
   },
   "id": "8f261f2cc28947b8"
  },
  {
   "cell_type": "markdown",
   "source": [
    "**c) Pandas para manipulação e análise de dados tabulares, Numpy para análise estatística de dados e Matplotlib para visualização de dados.**"
   ],
   "metadata": {
    "collapsed": false
   },
   "id": "d7ca24384cef57fa"
  }
 ],
 "metadata": {
  "kernelspec": {
   "display_name": "Python 3",
   "language": "python",
   "name": "python3"
  },
  "language_info": {
   "codemirror_mode": {
    "name": "ipython",
    "version": 2
   },
   "file_extension": ".py",
   "mimetype": "text/x-python",
   "name": "python",
   "nbconvert_exporter": "python",
   "pygments_lexer": "ipython2",
   "version": "2.7.6"
  }
 },
 "nbformat": 4,
 "nbformat_minor": 5
}
